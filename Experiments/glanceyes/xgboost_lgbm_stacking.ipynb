{
 "cells": [
  {
   "cell_type": "code",
   "execution_count": 554,
   "metadata": {
    "collapsed": true
   },
   "outputs": [],
   "source": [
    "import pandas as pd\n",
    "import os\n",
    "import random\n",
    "import numpy as np"
   ]
  },
  {
   "cell_type": "code",
   "execution_count": 555,
   "outputs": [],
   "source": [
    "data_dir = '/opt/ml/input/data'\n",
    "train_data_path = os.path.join(data_dir, 'train_data.csv')\n",
    "train_df = pd.read_csv(train_data_path)"
   ],
   "metadata": {
    "collapsed": false,
    "pycharm": {
     "name": "#%%\n"
    }
   }
  },
  {
   "cell_type": "code",
   "execution_count": 556,
   "outputs": [],
   "source": [
    "def feature_engineering(df):\n",
    "    #유저별 시퀀스를 고려하기 위해 아래와 같이 정렬\n",
    "    df.sort_values(by=['userID','Timestamp'], inplace=True)\n",
    "\n",
    "    #유저들의 문제 풀이수, 정답 수, 정답률을 시간순으로 누적해서 계산\n",
    "    df['user_correct_answer'] = df.groupby('userID')['answerCode'].transform(lambda x: x.cumsum().shift(1))\n",
    "    df['user_total_answer'] = df.groupby('userID')['answerCode'].cumcount()\n",
    "    df['user_acc'] = df['user_correct_answer']/df['user_total_answer']\n",
    "\n",
    "    # testId와 KnowledgeTag의 전체 정답률은 한번에 계산\n",
    "    # 아래 데이터는 제출용 데이터셋에 대해서도 재사용\n",
    "    correct_t = df.groupby(['testId'])['answerCode'].agg(['mean', 'sum'])\n",
    "    correct_t.columns = [\"test_mean\", 'test_sum']\n",
    "    correct_k = df.groupby(['KnowledgeTag'])['answerCode'].agg(['mean', 'sum'])\n",
    "    correct_k.columns = [\"tag_mean\", 'tag_sum']\n",
    "\n",
    "    correct_a = df.groupby(['assessmentItemID'])['answerCode'].agg(['mean', 'sum'])\n",
    "    correct_a.columns = ['item_mean', 'item_sum']\n",
    "\n",
    "    df = pd.merge(df, correct_t, on=['testId'], how=\"left\")\n",
    "    df = pd.merge(df, correct_k, on=['KnowledgeTag'], how=\"left\")\n",
    "    df = pd.merge(df, correct_a, on=['assessmentItemID'], how=\"left\")\n",
    "\n",
    "    return df"
   ],
   "metadata": {
    "collapsed": false,
    "pycharm": {
     "name": "#%%\n"
    }
   }
  },
  {
   "cell_type": "code",
   "execution_count": 557,
   "outputs": [
    {
     "data": {
      "text/plain": "         userID assessmentItemID      testId  answerCode            Timestamp  \\\n0             0       A060001001  A060000001           1  2020-03-24 00:17:11   \n1             0       A060001002  A060000001           1  2020-03-24 00:17:14   \n2             0       A060001003  A060000001           1  2020-03-24 00:17:22   \n3             0       A060001004  A060000001           1  2020-03-24 00:17:29   \n4             0       A060001005  A060000001           1  2020-03-24 00:17:36   \n...         ...              ...         ...         ...                  ...   \n2266581    7441       A030071005  A030000071           0  2020-06-05 06:50:21   \n2266582    7441       A040165001  A040000165           1  2020-08-21 01:06:39   \n2266583    7441       A040165002  A040000165           1  2020-08-21 01:06:50   \n2266584    7441       A040165003  A040000165           1  2020-08-21 01:07:36   \n2266585    7441       A040165004  A040000165           1  2020-08-21 01:08:49   \n\n         KnowledgeTag  user_correct_answer  user_total_answer  user_acc  \\\n0                7224                  NaN                  0       NaN   \n1                7225                  1.0                  1  1.000000   \n2                7225                  2.0                  2  1.000000   \n3                7225                  3.0                  3  1.000000   \n4                7225                  4.0                  4  1.000000   \n...               ...                  ...                ...       ...   \n2266581           438                  1.0                  4  0.250000   \n2266582          8836                  1.0                  5  0.200000   \n2266583          8836                  2.0                  6  0.333333   \n2266584          8836                  3.0                  7  0.428571   \n2266585          8836                  4.0                  8  0.500000   \n\n         test_mean  test_sum  tag_mean  tag_sum  item_mean  item_sum  \n0         0.947683      1268  0.955022      637   0.982063       219  \n1         0.947683      1268  0.913187     3040   0.964126       215  \n2         0.947683      1268  0.913187     3040   0.910314       203  \n3         0.947683      1268  0.913187     3040   0.968610       216  \n4         0.947683      1268  0.913187     3040   0.941704       210  \n...            ...       ...       ...      ...        ...       ...  \n2266581   0.662590       921  0.689706     2814   0.435252       121  \n2266582   0.655109       718  0.697874     2199   0.649635       178  \n2266583   0.655109       718  0.697874     2199   0.635036       174  \n2266584   0.655109       718  0.697874     2199   0.791971       217  \n2266585   0.655109       718  0.697874     2199   0.543796       149  \n\n[2266586 rows x 15 columns]",
      "text/html": "<div>\n<style scoped>\n    .dataframe tbody tr th:only-of-type {\n        vertical-align: middle;\n    }\n\n    .dataframe tbody tr th {\n        vertical-align: top;\n    }\n\n    .dataframe thead th {\n        text-align: right;\n    }\n</style>\n<table border=\"1\" class=\"dataframe\">\n  <thead>\n    <tr style=\"text-align: right;\">\n      <th></th>\n      <th>userID</th>\n      <th>assessmentItemID</th>\n      <th>testId</th>\n      <th>answerCode</th>\n      <th>Timestamp</th>\n      <th>KnowledgeTag</th>\n      <th>user_correct_answer</th>\n      <th>user_total_answer</th>\n      <th>user_acc</th>\n      <th>test_mean</th>\n      <th>test_sum</th>\n      <th>tag_mean</th>\n      <th>tag_sum</th>\n      <th>item_mean</th>\n      <th>item_sum</th>\n    </tr>\n  </thead>\n  <tbody>\n    <tr>\n      <th>0</th>\n      <td>0</td>\n      <td>A060001001</td>\n      <td>A060000001</td>\n      <td>1</td>\n      <td>2020-03-24 00:17:11</td>\n      <td>7224</td>\n      <td>NaN</td>\n      <td>0</td>\n      <td>NaN</td>\n      <td>0.947683</td>\n      <td>1268</td>\n      <td>0.955022</td>\n      <td>637</td>\n      <td>0.982063</td>\n      <td>219</td>\n    </tr>\n    <tr>\n      <th>1</th>\n      <td>0</td>\n      <td>A060001002</td>\n      <td>A060000001</td>\n      <td>1</td>\n      <td>2020-03-24 00:17:14</td>\n      <td>7225</td>\n      <td>1.0</td>\n      <td>1</td>\n      <td>1.000000</td>\n      <td>0.947683</td>\n      <td>1268</td>\n      <td>0.913187</td>\n      <td>3040</td>\n      <td>0.964126</td>\n      <td>215</td>\n    </tr>\n    <tr>\n      <th>2</th>\n      <td>0</td>\n      <td>A060001003</td>\n      <td>A060000001</td>\n      <td>1</td>\n      <td>2020-03-24 00:17:22</td>\n      <td>7225</td>\n      <td>2.0</td>\n      <td>2</td>\n      <td>1.000000</td>\n      <td>0.947683</td>\n      <td>1268</td>\n      <td>0.913187</td>\n      <td>3040</td>\n      <td>0.910314</td>\n      <td>203</td>\n    </tr>\n    <tr>\n      <th>3</th>\n      <td>0</td>\n      <td>A060001004</td>\n      <td>A060000001</td>\n      <td>1</td>\n      <td>2020-03-24 00:17:29</td>\n      <td>7225</td>\n      <td>3.0</td>\n      <td>3</td>\n      <td>1.000000</td>\n      <td>0.947683</td>\n      <td>1268</td>\n      <td>0.913187</td>\n      <td>3040</td>\n      <td>0.968610</td>\n      <td>216</td>\n    </tr>\n    <tr>\n      <th>4</th>\n      <td>0</td>\n      <td>A060001005</td>\n      <td>A060000001</td>\n      <td>1</td>\n      <td>2020-03-24 00:17:36</td>\n      <td>7225</td>\n      <td>4.0</td>\n      <td>4</td>\n      <td>1.000000</td>\n      <td>0.947683</td>\n      <td>1268</td>\n      <td>0.913187</td>\n      <td>3040</td>\n      <td>0.941704</td>\n      <td>210</td>\n    </tr>\n    <tr>\n      <th>...</th>\n      <td>...</td>\n      <td>...</td>\n      <td>...</td>\n      <td>...</td>\n      <td>...</td>\n      <td>...</td>\n      <td>...</td>\n      <td>...</td>\n      <td>...</td>\n      <td>...</td>\n      <td>...</td>\n      <td>...</td>\n      <td>...</td>\n      <td>...</td>\n      <td>...</td>\n    </tr>\n    <tr>\n      <th>2266581</th>\n      <td>7441</td>\n      <td>A030071005</td>\n      <td>A030000071</td>\n      <td>0</td>\n      <td>2020-06-05 06:50:21</td>\n      <td>438</td>\n      <td>1.0</td>\n      <td>4</td>\n      <td>0.250000</td>\n      <td>0.662590</td>\n      <td>921</td>\n      <td>0.689706</td>\n      <td>2814</td>\n      <td>0.435252</td>\n      <td>121</td>\n    </tr>\n    <tr>\n      <th>2266582</th>\n      <td>7441</td>\n      <td>A040165001</td>\n      <td>A040000165</td>\n      <td>1</td>\n      <td>2020-08-21 01:06:39</td>\n      <td>8836</td>\n      <td>1.0</td>\n      <td>5</td>\n      <td>0.200000</td>\n      <td>0.655109</td>\n      <td>718</td>\n      <td>0.697874</td>\n      <td>2199</td>\n      <td>0.649635</td>\n      <td>178</td>\n    </tr>\n    <tr>\n      <th>2266583</th>\n      <td>7441</td>\n      <td>A040165002</td>\n      <td>A040000165</td>\n      <td>1</td>\n      <td>2020-08-21 01:06:50</td>\n      <td>8836</td>\n      <td>2.0</td>\n      <td>6</td>\n      <td>0.333333</td>\n      <td>0.655109</td>\n      <td>718</td>\n      <td>0.697874</td>\n      <td>2199</td>\n      <td>0.635036</td>\n      <td>174</td>\n    </tr>\n    <tr>\n      <th>2266584</th>\n      <td>7441</td>\n      <td>A040165003</td>\n      <td>A040000165</td>\n      <td>1</td>\n      <td>2020-08-21 01:07:36</td>\n      <td>8836</td>\n      <td>3.0</td>\n      <td>7</td>\n      <td>0.428571</td>\n      <td>0.655109</td>\n      <td>718</td>\n      <td>0.697874</td>\n      <td>2199</td>\n      <td>0.791971</td>\n      <td>217</td>\n    </tr>\n    <tr>\n      <th>2266585</th>\n      <td>7441</td>\n      <td>A040165004</td>\n      <td>A040000165</td>\n      <td>1</td>\n      <td>2020-08-21 01:08:49</td>\n      <td>8836</td>\n      <td>4.0</td>\n      <td>8</td>\n      <td>0.500000</td>\n      <td>0.655109</td>\n      <td>718</td>\n      <td>0.697874</td>\n      <td>2199</td>\n      <td>0.543796</td>\n      <td>149</td>\n    </tr>\n  </tbody>\n</table>\n<p>2266586 rows × 15 columns</p>\n</div>"
     },
     "execution_count": 557,
     "metadata": {},
     "output_type": "execute_result"
    }
   ],
   "source": [
    "df = feature_engineering(train_df)\n",
    "df"
   ],
   "metadata": {
    "collapsed": false,
    "pycharm": {
     "name": "#%%\n"
    }
   }
  },
  {
   "cell_type": "code",
   "execution_count": 558,
   "outputs": [],
   "source": [
    "from sklearn.preprocessing import LabelEncoder\n",
    "from datetime import datetime\n",
    "import time\n",
    "asset_dir = '/opt/ml/input/code/asset'\n",
    "\n",
    "def convert_time(s):\n",
    "    timestamp = time.mktime(\n",
    "        datetime.strptime(s, \"%Y-%m-%d %H:%M:%S\").timetuple()\n",
    "    )\n",
    "    return int(timestamp)\n",
    "\n",
    "def preprocessing(df, is_train=True):\n",
    "    category_columns = [\"assessmentItemID\", \"testId\", \"KnowledgeTag\"]\n",
    "\n",
    "    if not os.path.exists(asset_dir):\n",
    "        os.makedirs(asset_dir)\n",
    "\n",
    "    for column in category_columns:\n",
    "        label_encoder = LabelEncoder()\n",
    "        if is_train:\n",
    "            unique_values = df[column].unique().tolist() + [\"unknown\"]\n",
    "            label_encoder.fit(unique_values)\n",
    "            label_encoder_path = os.path.join(asset_dir, column + \"_classes.npy\")\n",
    "            np.save(label_encoder_path, label_encoder.classes_)\n",
    "        else:\n",
    "            label_encoder_path = os.path.join(asset_dir, column + \"_classes.npy\")\n",
    "            label_encoder.classes_ = np.load(label_encoder_path)\n",
    "\n",
    "            df[column] = df[column].apply(\n",
    "                lambda x: x if str(x) in label_encoder.classes_ else \"unknown\"\n",
    "            )\n",
    "\n",
    "        df[column] = df[column].astype(str)\n",
    "        df[column] = label_encoder.transform(df[column])\n",
    "\n",
    "    df[\"Timestamp\"] = df[\"Timestamp\"].apply(convert_time)\n",
    "\n",
    "    return df"
   ],
   "metadata": {
    "collapsed": false,
    "pycharm": {
     "name": "#%%\n"
    }
   }
  },
  {
   "cell_type": "code",
   "execution_count": 559,
   "outputs": [],
   "source": [
    "df = preprocessing(df, is_train=True)"
   ],
   "metadata": {
    "collapsed": false,
    "pycharm": {
     "name": "#%%\n"
    }
   }
  },
  {
   "cell_type": "code",
   "execution_count": 560,
   "outputs": [],
   "source": [
    "df = df.sort_values(['userID', 'Timestamp'])"
   ],
   "metadata": {
    "collapsed": false,
    "pycharm": {
     "name": "#%%\n"
    }
   }
  },
  {
   "cell_type": "code",
   "execution_count": 561,
   "outputs": [],
   "source": [
    "df['diff'] = df.sort_values(['userID', 'Timestamp']).groupby('userID')['Timestamp'].diff()"
   ],
   "metadata": {
    "collapsed": false,
    "pycharm": {
     "name": "#%%\n"
    }
   }
  },
  {
   "cell_type": "code",
   "execution_count": 562,
   "outputs": [],
   "source": [
    "diff_df = df['diff']\n",
    "diff_df.fillna(-1, inplace=True)\n",
    "idx = df[df['diff'] >= 600].index\n",
    "df.loc[idx, 'diff'] = 600"
   ],
   "metadata": {
    "collapsed": false,
    "pycharm": {
     "name": "#%%\n"
    }
   }
  },
  {
   "cell_type": "code",
   "execution_count": 563,
   "outputs": [],
   "source": [
    "temp = df[df['diff'] >= 0]\n",
    "diff_group_by_knowledgeTag = temp.groupby(['KnowledgeTag'])['diff'].agg(['mean'])\n",
    "diff_group_by_knowledgeTag.columns = ['diffMean']\n",
    "df = pd.merge(df, diff_group_by_knowledgeTag, on=['KnowledgeTag'], how='left')"
   ],
   "metadata": {
    "collapsed": false,
    "pycharm": {
     "name": "#%%\n"
    }
   }
  },
  {
   "cell_type": "code",
   "execution_count": 564,
   "outputs": [],
   "source": [
    "random.seed(42)\n",
    "\n",
    "def custom_train_test_split(df, ratio=0.7):\n",
    "    # unique한 값들의 등장 횟수를 묶어서 리스트로 만들어준다.\n",
    "    users = list(zip(df['userID'].value_counts().index, df['userID'].value_counts()))\n",
    "    random.shuffle(users)\n",
    "\n",
    "    max_train_data_len = ratio * len(df)\n",
    "    sum_of_train_data = 0\n",
    "    user_ids = []\n",
    "\n",
    "    # train 데이터 셋을 랜덤으로 섞어서 합이 비율 이하가 되도록 선정한다.\n",
    "    for user_id, count in users:\n",
    "        sum_of_train_data += count\n",
    "        if max_train_data_len < sum_of_train_data:\n",
    "            break\n",
    "        user_ids.append(user_id)\n",
    "\n",
    "    train = df[df['userID'].isin(user_ids)]\n",
    "    test = df[df['userID'].isin(user_ids) == False]\n",
    "\n",
    "    # test데이터셋은 각 유저의 마지막 interaction만 추출\n",
    "    # test = test[test['userID'] != test['userID'].shift(-1)]\n",
    "\n",
    "    return train, test"
   ],
   "metadata": {
    "collapsed": false,
    "pycharm": {
     "name": "#%%\n"
    }
   }
  },
  {
   "cell_type": "code",
   "execution_count": 565,
   "outputs": [
    {
     "data": {
      "text/plain": "         userID  assessmentItemID  testId  answerCode   Timestamp  \\\n0             0              5354     975           1  1585009031   \n1             0              5355     975           1  1585009034   \n2             0              5356     975           1  1585009042   \n3             0              5357     975           1  1585009049   \n4             0              5358     975           1  1585009056   \n...         ...               ...     ...         ...         ...   \n2266581    7441              2373     456           0  1591339821   \n2266582    7441              3909     748           1  1597971999   \n2266583    7441              3910     748           1  1597972010   \n2266584    7441              3911     748           1  1597972056   \n2266585    7441              3912     748           1  1597972129   \n\n         KnowledgeTag  user_correct_answer  user_total_answer  user_acc  \\\n0                 618                  NaN                  0       NaN   \n1                 619                  1.0                  1  1.000000   \n2                 619                  2.0                  2  1.000000   \n3                 619                  3.0                  3  1.000000   \n4                 619                  4.0                  4  1.000000   \n...               ...                  ...                ...       ...   \n2266581           375                  1.0                  4  0.250000   \n2266582           784                  1.0                  5  0.200000   \n2266583           784                  2.0                  6  0.333333   \n2266584           784                  3.0                  7  0.428571   \n2266585           784                  4.0                  8  0.500000   \n\n         test_mean  test_sum  tag_mean  tag_sum  item_mean  item_sum   diff  \\\n0         0.947683      1268  0.955022      637   0.982063       219   -1.0   \n1         0.947683      1268  0.913187     3040   0.964126       215    3.0   \n2         0.947683      1268  0.913187     3040   0.910314       203    8.0   \n3         0.947683      1268  0.913187     3040   0.968610       216    7.0   \n4         0.947683      1268  0.913187     3040   0.941704       210    7.0   \n...            ...       ...       ...      ...        ...       ...    ...   \n2266581   0.662590       921  0.689706     2814   0.435252       121   24.0   \n2266582   0.655109       718  0.697874     2199   0.649635       178  600.0   \n2266583   0.655109       718  0.697874     2199   0.635036       174   11.0   \n2266584   0.655109       718  0.697874     2199   0.791971       217   46.0   \n2266585   0.655109       718  0.697874     2199   0.543796       149   73.0   \n\n           diffMean  \n0        345.923228  \n1         59.008799  \n2         59.008799  \n3         59.008799  \n4         59.008799  \n...             ...  \n2266581  160.096973  \n2266582  162.502079  \n2266583  162.502079  \n2266584  162.502079  \n2266585  162.502079  \n\n[2266586 rows x 17 columns]",
      "text/html": "<div>\n<style scoped>\n    .dataframe tbody tr th:only-of-type {\n        vertical-align: middle;\n    }\n\n    .dataframe tbody tr th {\n        vertical-align: top;\n    }\n\n    .dataframe thead th {\n        text-align: right;\n    }\n</style>\n<table border=\"1\" class=\"dataframe\">\n  <thead>\n    <tr style=\"text-align: right;\">\n      <th></th>\n      <th>userID</th>\n      <th>assessmentItemID</th>\n      <th>testId</th>\n      <th>answerCode</th>\n      <th>Timestamp</th>\n      <th>KnowledgeTag</th>\n      <th>user_correct_answer</th>\n      <th>user_total_answer</th>\n      <th>user_acc</th>\n      <th>test_mean</th>\n      <th>test_sum</th>\n      <th>tag_mean</th>\n      <th>tag_sum</th>\n      <th>item_mean</th>\n      <th>item_sum</th>\n      <th>diff</th>\n      <th>diffMean</th>\n    </tr>\n  </thead>\n  <tbody>\n    <tr>\n      <th>0</th>\n      <td>0</td>\n      <td>5354</td>\n      <td>975</td>\n      <td>1</td>\n      <td>1585009031</td>\n      <td>618</td>\n      <td>NaN</td>\n      <td>0</td>\n      <td>NaN</td>\n      <td>0.947683</td>\n      <td>1268</td>\n      <td>0.955022</td>\n      <td>637</td>\n      <td>0.982063</td>\n      <td>219</td>\n      <td>-1.0</td>\n      <td>345.923228</td>\n    </tr>\n    <tr>\n      <th>1</th>\n      <td>0</td>\n      <td>5355</td>\n      <td>975</td>\n      <td>1</td>\n      <td>1585009034</td>\n      <td>619</td>\n      <td>1.0</td>\n      <td>1</td>\n      <td>1.000000</td>\n      <td>0.947683</td>\n      <td>1268</td>\n      <td>0.913187</td>\n      <td>3040</td>\n      <td>0.964126</td>\n      <td>215</td>\n      <td>3.0</td>\n      <td>59.008799</td>\n    </tr>\n    <tr>\n      <th>2</th>\n      <td>0</td>\n      <td>5356</td>\n      <td>975</td>\n      <td>1</td>\n      <td>1585009042</td>\n      <td>619</td>\n      <td>2.0</td>\n      <td>2</td>\n      <td>1.000000</td>\n      <td>0.947683</td>\n      <td>1268</td>\n      <td>0.913187</td>\n      <td>3040</td>\n      <td>0.910314</td>\n      <td>203</td>\n      <td>8.0</td>\n      <td>59.008799</td>\n    </tr>\n    <tr>\n      <th>3</th>\n      <td>0</td>\n      <td>5357</td>\n      <td>975</td>\n      <td>1</td>\n      <td>1585009049</td>\n      <td>619</td>\n      <td>3.0</td>\n      <td>3</td>\n      <td>1.000000</td>\n      <td>0.947683</td>\n      <td>1268</td>\n      <td>0.913187</td>\n      <td>3040</td>\n      <td>0.968610</td>\n      <td>216</td>\n      <td>7.0</td>\n      <td>59.008799</td>\n    </tr>\n    <tr>\n      <th>4</th>\n      <td>0</td>\n      <td>5358</td>\n      <td>975</td>\n      <td>1</td>\n      <td>1585009056</td>\n      <td>619</td>\n      <td>4.0</td>\n      <td>4</td>\n      <td>1.000000</td>\n      <td>0.947683</td>\n      <td>1268</td>\n      <td>0.913187</td>\n      <td>3040</td>\n      <td>0.941704</td>\n      <td>210</td>\n      <td>7.0</td>\n      <td>59.008799</td>\n    </tr>\n    <tr>\n      <th>...</th>\n      <td>...</td>\n      <td>...</td>\n      <td>...</td>\n      <td>...</td>\n      <td>...</td>\n      <td>...</td>\n      <td>...</td>\n      <td>...</td>\n      <td>...</td>\n      <td>...</td>\n      <td>...</td>\n      <td>...</td>\n      <td>...</td>\n      <td>...</td>\n      <td>...</td>\n      <td>...</td>\n      <td>...</td>\n    </tr>\n    <tr>\n      <th>2266581</th>\n      <td>7441</td>\n      <td>2373</td>\n      <td>456</td>\n      <td>0</td>\n      <td>1591339821</td>\n      <td>375</td>\n      <td>1.0</td>\n      <td>4</td>\n      <td>0.250000</td>\n      <td>0.662590</td>\n      <td>921</td>\n      <td>0.689706</td>\n      <td>2814</td>\n      <td>0.435252</td>\n      <td>121</td>\n      <td>24.0</td>\n      <td>160.096973</td>\n    </tr>\n    <tr>\n      <th>2266582</th>\n      <td>7441</td>\n      <td>3909</td>\n      <td>748</td>\n      <td>1</td>\n      <td>1597971999</td>\n      <td>784</td>\n      <td>1.0</td>\n      <td>5</td>\n      <td>0.200000</td>\n      <td>0.655109</td>\n      <td>718</td>\n      <td>0.697874</td>\n      <td>2199</td>\n      <td>0.649635</td>\n      <td>178</td>\n      <td>600.0</td>\n      <td>162.502079</td>\n    </tr>\n    <tr>\n      <th>2266583</th>\n      <td>7441</td>\n      <td>3910</td>\n      <td>748</td>\n      <td>1</td>\n      <td>1597972010</td>\n      <td>784</td>\n      <td>2.0</td>\n      <td>6</td>\n      <td>0.333333</td>\n      <td>0.655109</td>\n      <td>718</td>\n      <td>0.697874</td>\n      <td>2199</td>\n      <td>0.635036</td>\n      <td>174</td>\n      <td>11.0</td>\n      <td>162.502079</td>\n    </tr>\n    <tr>\n      <th>2266584</th>\n      <td>7441</td>\n      <td>3911</td>\n      <td>748</td>\n      <td>1</td>\n      <td>1597972056</td>\n      <td>784</td>\n      <td>3.0</td>\n      <td>7</td>\n      <td>0.428571</td>\n      <td>0.655109</td>\n      <td>718</td>\n      <td>0.697874</td>\n      <td>2199</td>\n      <td>0.791971</td>\n      <td>217</td>\n      <td>46.0</td>\n      <td>162.502079</td>\n    </tr>\n    <tr>\n      <th>2266585</th>\n      <td>7441</td>\n      <td>3912</td>\n      <td>748</td>\n      <td>1</td>\n      <td>1597972129</td>\n      <td>784</td>\n      <td>4.0</td>\n      <td>8</td>\n      <td>0.500000</td>\n      <td>0.655109</td>\n      <td>718</td>\n      <td>0.697874</td>\n      <td>2199</td>\n      <td>0.543796</td>\n      <td>149</td>\n      <td>73.0</td>\n      <td>162.502079</td>\n    </tr>\n  </tbody>\n</table>\n<p>2266586 rows × 17 columns</p>\n</div>"
     },
     "execution_count": 565,
     "metadata": {},
     "output_type": "execute_result"
    }
   ],
   "source": [
    "df"
   ],
   "metadata": {
    "collapsed": false,
    "pycharm": {
     "name": "#%%\n"
    }
   }
  },
  {
   "cell_type": "code",
   "execution_count": 566,
   "outputs": [],
   "source": [
    "df['user_correct_answer'].fillna(0, inplace=True)"
   ],
   "metadata": {
    "collapsed": false,
    "pycharm": {
     "name": "#%%\n"
    }
   }
  },
  {
   "cell_type": "code",
   "execution_count": 567,
   "outputs": [
    {
     "data": {
      "text/plain": "         userID  assessmentItemID  testId  answerCode   Timestamp  \\\n0             0              5354     975           1  1585009031   \n1             0              5355     975           1  1585009034   \n2             0              5356     975           1  1585009042   \n3             0              5357     975           1  1585009049   \n4             0              5358     975           1  1585009056   \n...         ...               ...     ...         ...         ...   \n2266581    7441              2373     456           0  1591339821   \n2266582    7441              3909     748           1  1597971999   \n2266583    7441              3910     748           1  1597972010   \n2266584    7441              3911     748           1  1597972056   \n2266585    7441              3912     748           1  1597972129   \n\n         KnowledgeTag  user_correct_answer  user_total_answer  user_acc  \\\n0                 618                  0.0                  0       NaN   \n1                 619                  1.0                  1  1.000000   \n2                 619                  2.0                  2  1.000000   \n3                 619                  3.0                  3  1.000000   \n4                 619                  4.0                  4  1.000000   \n...               ...                  ...                ...       ...   \n2266581           375                  1.0                  4  0.250000   \n2266582           784                  1.0                  5  0.200000   \n2266583           784                  2.0                  6  0.333333   \n2266584           784                  3.0                  7  0.428571   \n2266585           784                  4.0                  8  0.500000   \n\n         test_mean  test_sum  tag_mean  tag_sum  item_mean  item_sum   diff  \\\n0         0.947683      1268  0.955022      637   0.982063       219   -1.0   \n1         0.947683      1268  0.913187     3040   0.964126       215    3.0   \n2         0.947683      1268  0.913187     3040   0.910314       203    8.0   \n3         0.947683      1268  0.913187     3040   0.968610       216    7.0   \n4         0.947683      1268  0.913187     3040   0.941704       210    7.0   \n...            ...       ...       ...      ...        ...       ...    ...   \n2266581   0.662590       921  0.689706     2814   0.435252       121   24.0   \n2266582   0.655109       718  0.697874     2199   0.649635       178  600.0   \n2266583   0.655109       718  0.697874     2199   0.635036       174   11.0   \n2266584   0.655109       718  0.697874     2199   0.791971       217   46.0   \n2266585   0.655109       718  0.697874     2199   0.543796       149   73.0   \n\n           diffMean  \n0        345.923228  \n1         59.008799  \n2         59.008799  \n3         59.008799  \n4         59.008799  \n...             ...  \n2266581  160.096973  \n2266582  162.502079  \n2266583  162.502079  \n2266584  162.502079  \n2266585  162.502079  \n\n[2266586 rows x 17 columns]",
      "text/html": "<div>\n<style scoped>\n    .dataframe tbody tr th:only-of-type {\n        vertical-align: middle;\n    }\n\n    .dataframe tbody tr th {\n        vertical-align: top;\n    }\n\n    .dataframe thead th {\n        text-align: right;\n    }\n</style>\n<table border=\"1\" class=\"dataframe\">\n  <thead>\n    <tr style=\"text-align: right;\">\n      <th></th>\n      <th>userID</th>\n      <th>assessmentItemID</th>\n      <th>testId</th>\n      <th>answerCode</th>\n      <th>Timestamp</th>\n      <th>KnowledgeTag</th>\n      <th>user_correct_answer</th>\n      <th>user_total_answer</th>\n      <th>user_acc</th>\n      <th>test_mean</th>\n      <th>test_sum</th>\n      <th>tag_mean</th>\n      <th>tag_sum</th>\n      <th>item_mean</th>\n      <th>item_sum</th>\n      <th>diff</th>\n      <th>diffMean</th>\n    </tr>\n  </thead>\n  <tbody>\n    <tr>\n      <th>0</th>\n      <td>0</td>\n      <td>5354</td>\n      <td>975</td>\n      <td>1</td>\n      <td>1585009031</td>\n      <td>618</td>\n      <td>0.0</td>\n      <td>0</td>\n      <td>NaN</td>\n      <td>0.947683</td>\n      <td>1268</td>\n      <td>0.955022</td>\n      <td>637</td>\n      <td>0.982063</td>\n      <td>219</td>\n      <td>-1.0</td>\n      <td>345.923228</td>\n    </tr>\n    <tr>\n      <th>1</th>\n      <td>0</td>\n      <td>5355</td>\n      <td>975</td>\n      <td>1</td>\n      <td>1585009034</td>\n      <td>619</td>\n      <td>1.0</td>\n      <td>1</td>\n      <td>1.000000</td>\n      <td>0.947683</td>\n      <td>1268</td>\n      <td>0.913187</td>\n      <td>3040</td>\n      <td>0.964126</td>\n      <td>215</td>\n      <td>3.0</td>\n      <td>59.008799</td>\n    </tr>\n    <tr>\n      <th>2</th>\n      <td>0</td>\n      <td>5356</td>\n      <td>975</td>\n      <td>1</td>\n      <td>1585009042</td>\n      <td>619</td>\n      <td>2.0</td>\n      <td>2</td>\n      <td>1.000000</td>\n      <td>0.947683</td>\n      <td>1268</td>\n      <td>0.913187</td>\n      <td>3040</td>\n      <td>0.910314</td>\n      <td>203</td>\n      <td>8.0</td>\n      <td>59.008799</td>\n    </tr>\n    <tr>\n      <th>3</th>\n      <td>0</td>\n      <td>5357</td>\n      <td>975</td>\n      <td>1</td>\n      <td>1585009049</td>\n      <td>619</td>\n      <td>3.0</td>\n      <td>3</td>\n      <td>1.000000</td>\n      <td>0.947683</td>\n      <td>1268</td>\n      <td>0.913187</td>\n      <td>3040</td>\n      <td>0.968610</td>\n      <td>216</td>\n      <td>7.0</td>\n      <td>59.008799</td>\n    </tr>\n    <tr>\n      <th>4</th>\n      <td>0</td>\n      <td>5358</td>\n      <td>975</td>\n      <td>1</td>\n      <td>1585009056</td>\n      <td>619</td>\n      <td>4.0</td>\n      <td>4</td>\n      <td>1.000000</td>\n      <td>0.947683</td>\n      <td>1268</td>\n      <td>0.913187</td>\n      <td>3040</td>\n      <td>0.941704</td>\n      <td>210</td>\n      <td>7.0</td>\n      <td>59.008799</td>\n    </tr>\n    <tr>\n      <th>...</th>\n      <td>...</td>\n      <td>...</td>\n      <td>...</td>\n      <td>...</td>\n      <td>...</td>\n      <td>...</td>\n      <td>...</td>\n      <td>...</td>\n      <td>...</td>\n      <td>...</td>\n      <td>...</td>\n      <td>...</td>\n      <td>...</td>\n      <td>...</td>\n      <td>...</td>\n      <td>...</td>\n      <td>...</td>\n    </tr>\n    <tr>\n      <th>2266581</th>\n      <td>7441</td>\n      <td>2373</td>\n      <td>456</td>\n      <td>0</td>\n      <td>1591339821</td>\n      <td>375</td>\n      <td>1.0</td>\n      <td>4</td>\n      <td>0.250000</td>\n      <td>0.662590</td>\n      <td>921</td>\n      <td>0.689706</td>\n      <td>2814</td>\n      <td>0.435252</td>\n      <td>121</td>\n      <td>24.0</td>\n      <td>160.096973</td>\n    </tr>\n    <tr>\n      <th>2266582</th>\n      <td>7441</td>\n      <td>3909</td>\n      <td>748</td>\n      <td>1</td>\n      <td>1597971999</td>\n      <td>784</td>\n      <td>1.0</td>\n      <td>5</td>\n      <td>0.200000</td>\n      <td>0.655109</td>\n      <td>718</td>\n      <td>0.697874</td>\n      <td>2199</td>\n      <td>0.649635</td>\n      <td>178</td>\n      <td>600.0</td>\n      <td>162.502079</td>\n    </tr>\n    <tr>\n      <th>2266583</th>\n      <td>7441</td>\n      <td>3910</td>\n      <td>748</td>\n      <td>1</td>\n      <td>1597972010</td>\n      <td>784</td>\n      <td>2.0</td>\n      <td>6</td>\n      <td>0.333333</td>\n      <td>0.655109</td>\n      <td>718</td>\n      <td>0.697874</td>\n      <td>2199</td>\n      <td>0.635036</td>\n      <td>174</td>\n      <td>11.0</td>\n      <td>162.502079</td>\n    </tr>\n    <tr>\n      <th>2266584</th>\n      <td>7441</td>\n      <td>3911</td>\n      <td>748</td>\n      <td>1</td>\n      <td>1597972056</td>\n      <td>784</td>\n      <td>3.0</td>\n      <td>7</td>\n      <td>0.428571</td>\n      <td>0.655109</td>\n      <td>718</td>\n      <td>0.697874</td>\n      <td>2199</td>\n      <td>0.791971</td>\n      <td>217</td>\n      <td>46.0</td>\n      <td>162.502079</td>\n    </tr>\n    <tr>\n      <th>2266585</th>\n      <td>7441</td>\n      <td>3912</td>\n      <td>748</td>\n      <td>1</td>\n      <td>1597972129</td>\n      <td>784</td>\n      <td>4.0</td>\n      <td>8</td>\n      <td>0.500000</td>\n      <td>0.655109</td>\n      <td>718</td>\n      <td>0.697874</td>\n      <td>2199</td>\n      <td>0.543796</td>\n      <td>149</td>\n      <td>73.0</td>\n      <td>162.502079</td>\n    </tr>\n  </tbody>\n</table>\n<p>2266586 rows × 17 columns</p>\n</div>"
     },
     "execution_count": 567,
     "metadata": {},
     "output_type": "execute_result"
    }
   ],
   "source": [
    "df"
   ],
   "metadata": {
    "collapsed": false,
    "pycharm": {
     "name": "#%%\n"
    }
   }
  },
  {
   "cell_type": "code",
   "execution_count": 568,
   "outputs": [
    {
     "data": {
      "text/plain": "Index(['userID', 'assessmentItemID', 'testId', 'answerCode', 'Timestamp',\n       'KnowledgeTag', 'user_correct_answer', 'user_total_answer', 'user_acc',\n       'test_mean', 'test_sum', 'tag_mean', 'tag_sum', 'item_mean', 'item_sum',\n       'diff', 'diffMean'],\n      dtype='object')"
     },
     "execution_count": 568,
     "metadata": {},
     "output_type": "execute_result"
    }
   ],
   "source": [
    "df.columns"
   ],
   "metadata": {
    "collapsed": false,
    "pycharm": {
     "name": "#%%\n"
    }
   }
  },
  {
   "cell_type": "code",
   "execution_count": 569,
   "outputs": [],
   "source": [
    "train, test = custom_train_test_split(df)\n",
    "\n",
    "features = ['KnowledgeTag', 'user_correct_answer', 'user_acc',\n",
    "            'test_mean', 'test_sum', 'tag_mean', 'Timestamp', 'diff', 'diffMean', 'item_mean']"
   ],
   "metadata": {
    "collapsed": false,
    "pycharm": {
     "name": "#%%\n"
    }
   }
  },
  {
   "cell_type": "code",
   "execution_count": 570,
   "outputs": [],
   "source": [
    "y_train = train['answerCode']\n",
    "train = train.drop('answerCode', axis=1)\n",
    "train.fillna(0, axis=1, inplace=True)\n",
    "\n",
    "y_test = test['answerCode']\n",
    "test = test.drop('answerCode', axis=1)\n",
    "test.fillna(0, axis=1, inplace=True)"
   ],
   "metadata": {
    "collapsed": false,
    "pycharm": {
     "name": "#%%\n"
    }
   }
  },
  {
   "cell_type": "code",
   "execution_count": 571,
   "outputs": [],
   "source": [
    "from sklearn.preprocessing import MinMaxScaler\n",
    "\n",
    "features_for_scaling = ['user_correct_answer', 'Timestamp', 'test_sum']\n",
    "\n",
    "for feature in features_for_scaling:\n",
    "    temp_scaler = MinMaxScaler()\n",
    "    train[feature] = temp_scaler.fit_transform(train[feature].values.reshape(-1, 1))\n",
    "    test[feature] = temp_scaler.transform(test[feature].values.reshape(-1, 1))"
   ],
   "metadata": {
    "collapsed": false,
    "pycharm": {
     "name": "#%%\n"
    }
   }
  },
  {
   "cell_type": "code",
   "execution_count": 572,
   "outputs": [
    {
     "data": {
      "text/plain": "         userID  assessmentItemID  testId  Timestamp  KnowledgeTag  \\\n745         1.0            3122.0   596.0   0.014725         179.0   \n746         1.0            3123.0   596.0   0.014731         179.0   \n747         1.0            3124.0   596.0   0.014732         178.0   \n748         1.0            3125.0   596.0   0.014735         178.0   \n749         1.0            3126.0   596.0   0.014742         178.0   \n...         ...               ...     ...        ...           ...   \n2266572  7440.0            3047.0   582.0   0.809380         175.0   \n2266573  7440.0            3048.0   582.0   0.809382         175.0   \n2266574  7440.0            3049.0   582.0   0.809383         175.0   \n2266575  7440.0            3050.0   582.0   0.809383         175.0   \n2266576  7440.0            3051.0   582.0   0.809383         175.0   \n\n         user_correct_answer  user_total_answer  user_acc  test_mean  \\\n745                 0.000000                0.0  0.000000   0.595472   \n746                 0.000674                1.0  1.000000   0.595472   \n747                 0.001348                2.0  1.000000   0.595472   \n748                 0.002022                3.0  1.000000   0.595472   \n749                 0.002695                4.0  1.000000   0.595472   \n...                      ...                ...       ...        ...   \n2266572             0.003369               10.0  0.500000   0.738462   \n2266573             0.004043               11.0  0.545455   0.738462   \n2266574             0.004043               12.0  0.500000   0.738462   \n2266575             0.004043               13.0  0.461538   0.738462   \n2266576             0.004043               14.0  0.428571   0.738462   \n\n         test_sum  tag_mean  tag_sum  item_mean  item_sum   diff    diffMean  \n745      0.270648  0.616900    971.0   0.800000     212.0   -1.0  245.954282  \n746      0.270648  0.616900    971.0   0.615094     163.0  183.0  245.954282  \n747      0.270648  0.570962   1050.0   0.781132     207.0   43.0  136.552890  \n748      0.270648  0.570962   1050.0   0.381132     101.0  104.0  136.552890  \n749      0.270648  0.570962   1050.0   0.400000     106.0  212.0  136.552890  \n...           ...       ...      ...        ...       ...    ...         ...  \n2266572  0.355564  0.749632   2039.0   0.893773     244.0  600.0  149.561785  \n2266573  0.355564  0.749632   2039.0   0.472527     129.0   61.0  149.561785  \n2266574  0.355564  0.749632   2039.0   0.901099     246.0   29.0  149.561785  \n2266575  0.355564  0.749632   2039.0   0.838828     229.0    2.0  149.561785  \n2266576  0.355564  0.749632   2039.0   0.586081     160.0    3.0  149.561785  \n\n[1586157 rows x 16 columns]",
      "text/html": "<div>\n<style scoped>\n    .dataframe tbody tr th:only-of-type {\n        vertical-align: middle;\n    }\n\n    .dataframe tbody tr th {\n        vertical-align: top;\n    }\n\n    .dataframe thead th {\n        text-align: right;\n    }\n</style>\n<table border=\"1\" class=\"dataframe\">\n  <thead>\n    <tr style=\"text-align: right;\">\n      <th></th>\n      <th>userID</th>\n      <th>assessmentItemID</th>\n      <th>testId</th>\n      <th>Timestamp</th>\n      <th>KnowledgeTag</th>\n      <th>user_correct_answer</th>\n      <th>user_total_answer</th>\n      <th>user_acc</th>\n      <th>test_mean</th>\n      <th>test_sum</th>\n      <th>tag_mean</th>\n      <th>tag_sum</th>\n      <th>item_mean</th>\n      <th>item_sum</th>\n      <th>diff</th>\n      <th>diffMean</th>\n    </tr>\n  </thead>\n  <tbody>\n    <tr>\n      <th>745</th>\n      <td>1.0</td>\n      <td>3122.0</td>\n      <td>596.0</td>\n      <td>0.014725</td>\n      <td>179.0</td>\n      <td>0.000000</td>\n      <td>0.0</td>\n      <td>0.000000</td>\n      <td>0.595472</td>\n      <td>0.270648</td>\n      <td>0.616900</td>\n      <td>971.0</td>\n      <td>0.800000</td>\n      <td>212.0</td>\n      <td>-1.0</td>\n      <td>245.954282</td>\n    </tr>\n    <tr>\n      <th>746</th>\n      <td>1.0</td>\n      <td>3123.0</td>\n      <td>596.0</td>\n      <td>0.014731</td>\n      <td>179.0</td>\n      <td>0.000674</td>\n      <td>1.0</td>\n      <td>1.000000</td>\n      <td>0.595472</td>\n      <td>0.270648</td>\n      <td>0.616900</td>\n      <td>971.0</td>\n      <td>0.615094</td>\n      <td>163.0</td>\n      <td>183.0</td>\n      <td>245.954282</td>\n    </tr>\n    <tr>\n      <th>747</th>\n      <td>1.0</td>\n      <td>3124.0</td>\n      <td>596.0</td>\n      <td>0.014732</td>\n      <td>178.0</td>\n      <td>0.001348</td>\n      <td>2.0</td>\n      <td>1.000000</td>\n      <td>0.595472</td>\n      <td>0.270648</td>\n      <td>0.570962</td>\n      <td>1050.0</td>\n      <td>0.781132</td>\n      <td>207.0</td>\n      <td>43.0</td>\n      <td>136.552890</td>\n    </tr>\n    <tr>\n      <th>748</th>\n      <td>1.0</td>\n      <td>3125.0</td>\n      <td>596.0</td>\n      <td>0.014735</td>\n      <td>178.0</td>\n      <td>0.002022</td>\n      <td>3.0</td>\n      <td>1.000000</td>\n      <td>0.595472</td>\n      <td>0.270648</td>\n      <td>0.570962</td>\n      <td>1050.0</td>\n      <td>0.381132</td>\n      <td>101.0</td>\n      <td>104.0</td>\n      <td>136.552890</td>\n    </tr>\n    <tr>\n      <th>749</th>\n      <td>1.0</td>\n      <td>3126.0</td>\n      <td>596.0</td>\n      <td>0.014742</td>\n      <td>178.0</td>\n      <td>0.002695</td>\n      <td>4.0</td>\n      <td>1.000000</td>\n      <td>0.595472</td>\n      <td>0.270648</td>\n      <td>0.570962</td>\n      <td>1050.0</td>\n      <td>0.400000</td>\n      <td>106.0</td>\n      <td>212.0</td>\n      <td>136.552890</td>\n    </tr>\n    <tr>\n      <th>...</th>\n      <td>...</td>\n      <td>...</td>\n      <td>...</td>\n      <td>...</td>\n      <td>...</td>\n      <td>...</td>\n      <td>...</td>\n      <td>...</td>\n      <td>...</td>\n      <td>...</td>\n      <td>...</td>\n      <td>...</td>\n      <td>...</td>\n      <td>...</td>\n      <td>...</td>\n      <td>...</td>\n    </tr>\n    <tr>\n      <th>2266572</th>\n      <td>7440.0</td>\n      <td>3047.0</td>\n      <td>582.0</td>\n      <td>0.809380</td>\n      <td>175.0</td>\n      <td>0.003369</td>\n      <td>10.0</td>\n      <td>0.500000</td>\n      <td>0.738462</td>\n      <td>0.355564</td>\n      <td>0.749632</td>\n      <td>2039.0</td>\n      <td>0.893773</td>\n      <td>244.0</td>\n      <td>600.0</td>\n      <td>149.561785</td>\n    </tr>\n    <tr>\n      <th>2266573</th>\n      <td>7440.0</td>\n      <td>3048.0</td>\n      <td>582.0</td>\n      <td>0.809382</td>\n      <td>175.0</td>\n      <td>0.004043</td>\n      <td>11.0</td>\n      <td>0.545455</td>\n      <td>0.738462</td>\n      <td>0.355564</td>\n      <td>0.749632</td>\n      <td>2039.0</td>\n      <td>0.472527</td>\n      <td>129.0</td>\n      <td>61.0</td>\n      <td>149.561785</td>\n    </tr>\n    <tr>\n      <th>2266574</th>\n      <td>7440.0</td>\n      <td>3049.0</td>\n      <td>582.0</td>\n      <td>0.809383</td>\n      <td>175.0</td>\n      <td>0.004043</td>\n      <td>12.0</td>\n      <td>0.500000</td>\n      <td>0.738462</td>\n      <td>0.355564</td>\n      <td>0.749632</td>\n      <td>2039.0</td>\n      <td>0.901099</td>\n      <td>246.0</td>\n      <td>29.0</td>\n      <td>149.561785</td>\n    </tr>\n    <tr>\n      <th>2266575</th>\n      <td>7440.0</td>\n      <td>3050.0</td>\n      <td>582.0</td>\n      <td>0.809383</td>\n      <td>175.0</td>\n      <td>0.004043</td>\n      <td>13.0</td>\n      <td>0.461538</td>\n      <td>0.738462</td>\n      <td>0.355564</td>\n      <td>0.749632</td>\n      <td>2039.0</td>\n      <td>0.838828</td>\n      <td>229.0</td>\n      <td>2.0</td>\n      <td>149.561785</td>\n    </tr>\n    <tr>\n      <th>2266576</th>\n      <td>7440.0</td>\n      <td>3051.0</td>\n      <td>582.0</td>\n      <td>0.809383</td>\n      <td>175.0</td>\n      <td>0.004043</td>\n      <td>14.0</td>\n      <td>0.428571</td>\n      <td>0.738462</td>\n      <td>0.355564</td>\n      <td>0.749632</td>\n      <td>2039.0</td>\n      <td>0.586081</td>\n      <td>160.0</td>\n      <td>3.0</td>\n      <td>149.561785</td>\n    </tr>\n  </tbody>\n</table>\n<p>1586157 rows × 16 columns</p>\n</div>"
     },
     "execution_count": 572,
     "metadata": {},
     "output_type": "execute_result"
    }
   ],
   "source": [
    "train"
   ],
   "metadata": {
    "collapsed": false,
    "pycharm": {
     "name": "#%%\n"
    }
   }
  },
  {
   "cell_type": "code",
   "execution_count": 573,
   "outputs": [
    {
     "name": "stdout",
     "output_type": "stream",
     "text": [
      "<class 'pandas.core.frame.DataFrame'>\n",
      "Int64Index: 1586157 entries, 745 to 2266576\n",
      "Data columns (total 16 columns):\n",
      " #   Column               Non-Null Count    Dtype  \n",
      "---  ------               --------------    -----  \n",
      " 0   userID               1586157 non-null  float64\n",
      " 1   assessmentItemID     1586157 non-null  float64\n",
      " 2   testId               1586157 non-null  float64\n",
      " 3   Timestamp            1586157 non-null  float64\n",
      " 4   KnowledgeTag         1586157 non-null  float64\n",
      " 5   user_correct_answer  1586157 non-null  float64\n",
      " 6   user_total_answer    1586157 non-null  float64\n",
      " 7   user_acc             1586157 non-null  float64\n",
      " 8   test_mean            1586157 non-null  float64\n",
      " 9   test_sum             1586157 non-null  float64\n",
      " 10  tag_mean             1586157 non-null  float64\n",
      " 11  tag_sum              1586157 non-null  float64\n",
      " 12  item_mean            1586157 non-null  float64\n",
      " 13  item_sum             1586157 non-null  float64\n",
      " 14  diff                 1586157 non-null  float64\n",
      " 15  diffMean             1586157 non-null  float64\n",
      "dtypes: float64(16)\n",
      "memory usage: 205.7 MB\n"
     ]
    }
   ],
   "source": [
    "train.info()"
   ],
   "metadata": {
    "collapsed": false,
    "pycharm": {
     "name": "#%%\n"
    }
   }
  },
  {
   "cell_type": "code",
   "execution_count": 574,
   "outputs": [],
   "source": [
    "from sklearn.preprocessing import MinMaxScaler\n",
    "\n",
    "#diff_scalar = MinMaxScaler()\n",
    "#train['mean'] = diff_scalar.fit_transform(train['mean'].values.reshape(-1, 1))\n",
    "#test['mean'] = diff_scalar.transform(test['mean'].values.reshape(-1, 1))\n",
    "\n",
    "user_total_scaler = MinMaxScaler()\n",
    "train['user_total_answer'] = user_total_scaler.fit_transform(train['user_total_answer'].values.reshape(-1, 1))\n",
    "test['user_total_answer'] = user_total_scaler.transform(test['user_total_answer'].values.reshape(-1, 1))\n",
    "\n",
    "user_correct_scalar = MinMaxScaler()\n",
    "train['user_correct_answer'] = user_correct_scalar.fit_transform(train['user_correct_answer'].values.reshape(-1, 1))\n",
    "test['user_correct_answer'] = user_correct_scalar.transform(test['user_correct_answer'].values.reshape(-1, 1))\n",
    "\n",
    "tmestamp_scalar = MinMaxScaler()\n",
    "train['Timestamp'] = tmestamp_scalar.fit_transform(train['Timestamp'].values.reshape(-1, 1))\n",
    "test['Timestamp'] = tmestamp_scalar.transform(test['Timestamp'].values.reshape(-1, 1))\n",
    "\n",
    "test_sum_scalar = MinMaxScaler()\n",
    "train['test_sum'] = test_sum_scalar.fit_transform(train['test_sum'].values.reshape(-1, 1))\n",
    "test['test_sum'] = test_sum_scalar.transform(test['test_sum'].values.reshape(-1, 1))\n",
    "\n",
    "tag_sum_scalar = MinMaxScaler()\n",
    "train['tag_sum'] = tag_sum_scalar.fit_transform(train['tag_sum'].values.reshape(-1, 1))\n",
    "test['tag_sum'] = tag_sum_scalar.transform(test['tag_sum'].values.reshape(-1, 1))"
   ],
   "metadata": {
    "collapsed": false,
    "pycharm": {
     "name": "#%%\n"
    }
   }
  },
  {
   "cell_type": "markdown",
   "source": [
    "LightGBM"
   ],
   "metadata": {
    "collapsed": false,
    "pycharm": {
     "name": "#%% md\n"
    }
   }
  },
  {
   "cell_type": "code",
   "execution_count": 575,
   "outputs": [],
   "source": [
    "import lightgbm\n",
    "from sklearn.metrics import roc_auc_score, accuracy_score\n",
    "import numpy as np\n",
    "\n",
    "lightgbm_train = lightgbm.Dataset(train[features], y_train)\n",
    "lightgbm_test = lightgbm.Dataset(test[features], y_test)"
   ],
   "metadata": {
    "collapsed": false,
    "pycharm": {
     "name": "#%%\n"
    }
   }
  },
  {
   "cell_type": "code",
   "execution_count": 576,
   "outputs": [],
   "source": [
    "def train_lightgbm():\n",
    "    model = lightgbm.train(\n",
    "        {'objective': 'binary'},\n",
    "        lightgbm_train,\n",
    "        valid_sets=[lightgbm_train, lightgbm_test],\n",
    "        verbose_eval=100,\n",
    "        num_boost_round=2500,\n",
    "        early_stopping_rounds=100\n",
    "    )\n",
    "\n",
    "    preds = model.predict(test[features])\n",
    "    acc = accuracy_score(y_test, np.where(preds >= 0.5, 1, 0))\n",
    "    auc = roc_auc_score(y_test, preds)\n",
    "\n",
    "    print(f'Valid AUC: {auc} / Valid ACC: {acc}\\n')\n",
    "    return model"
   ],
   "metadata": {
    "collapsed": false,
    "pycharm": {
     "name": "#%%\n"
    }
   }
  },
  {
   "cell_type": "code",
   "execution_count": 577,
   "outputs": [
    {
     "name": "stderr",
     "output_type": "stream",
     "text": [
      "/opt/conda/lib/python3.8/site-packages/lightgbm/engine.py:181: UserWarning: 'early_stopping_rounds' argument is deprecated and will be removed in a future release of LightGBM. Pass 'early_stopping()' callback via 'callbacks' argument instead.\n",
      "  _log_warning(\"'early_stopping_rounds' argument is deprecated and will be removed in a future release of LightGBM. \"\n",
      "/opt/conda/lib/python3.8/site-packages/lightgbm/engine.py:239: UserWarning: 'verbose_eval' argument is deprecated and will be removed in a future release of LightGBM. Pass 'log_evaluation()' callback via 'callbacks' argument instead.\n",
      "  _log_warning(\"'verbose_eval' argument is deprecated and will be removed in a future release of LightGBM. \"\n"
     ]
    },
    {
     "name": "stdout",
     "output_type": "stream",
     "text": [
      "[LightGBM] [Info] Number of positive: 1039565, number of negative: 546592\n",
      "[LightGBM] [Warning] Auto-choosing row-wise multi-threading, the overhead of testing was 0.009975 seconds.\n",
      "You can set `force_row_wise=true` to remove the overhead.\n",
      "And if memory is not enough, you can set `force_col_wise=true`.\n",
      "[LightGBM] [Info] Total Bins 2547\n",
      "[LightGBM] [Info] Number of data points in the train set: 1586157, number of used features: 10\n",
      "[LightGBM] [Info] [binary:BoostFromScore]: pavg=0.655399 -> initscore=0.642855\n",
      "[LightGBM] [Info] Start training from score 0.642855\n",
      "Training until validation scores don't improve for 100 rounds\n",
      "[100]\ttraining's binary_logloss: 0.475565\tvalid_1's binary_logloss: 0.480616\n",
      "[200]\ttraining's binary_logloss: 0.472526\tvalid_1's binary_logloss: 0.479367\n",
      "[300]\ttraining's binary_logloss: 0.470382\tvalid_1's binary_logloss: 0.478875\n",
      "[400]\ttraining's binary_logloss: 0.468347\tvalid_1's binary_logloss: 0.478581\n",
      "[500]\ttraining's binary_logloss: 0.46659\tvalid_1's binary_logloss: 0.478469\n",
      "[600]\ttraining's binary_logloss: 0.464991\tvalid_1's binary_logloss: 0.478355\n",
      "[700]\ttraining's binary_logloss: 0.463313\tvalid_1's binary_logloss: 0.478271\n",
      "[800]\ttraining's binary_logloss: 0.4617\tvalid_1's binary_logloss: 0.478163\n",
      "[900]\ttraining's binary_logloss: 0.460158\tvalid_1's binary_logloss: 0.478128\n",
      "[1000]\ttraining's binary_logloss: 0.458611\tvalid_1's binary_logloss: 0.478061\n",
      "[1100]\ttraining's binary_logloss: 0.45708\tvalid_1's binary_logloss: 0.477874\n",
      "[1200]\ttraining's binary_logloss: 0.455676\tvalid_1's binary_logloss: 0.477766\n",
      "[1300]\ttraining's binary_logloss: 0.454382\tvalid_1's binary_logloss: 0.477744\n",
      "Early stopping, best iteration is:\n",
      "[1294]\ttraining's binary_logloss: 0.454469\tvalid_1's binary_logloss: 0.477739\n",
      "Valid AUC: 0.825441141750568 / Valid ACC: 0.7764586753357073\n",
      "\n"
     ]
    }
   ],
   "source": [
    "model = train_lightgbm()"
   ],
   "metadata": {
    "collapsed": false,
    "pycharm": {
     "name": "#%%\n"
    }
   }
  },
  {
   "cell_type": "code",
   "execution_count": 578,
   "outputs": [],
   "source": [
    "lgbm_train_preds = model.predict(train[features])\n",
    "lgbm_valid_preds = model.predict(test[features])"
   ],
   "metadata": {
    "collapsed": false,
    "pycharm": {
     "name": "#%%\n"
    }
   }
  },
  {
   "cell_type": "code",
   "execution_count": 579,
   "outputs": [
    {
     "name": "stdout",
     "output_type": "stream",
     "text": [
      "[0]\tvalidation_0-auc:0.81534\n",
      "[1]\tvalidation_0-auc:0.81824\n",
      "[2]\tvalidation_0-auc:0.81947\n",
      "[3]\tvalidation_0-auc:0.82023\n",
      "[4]\tvalidation_0-auc:0.82077\n",
      "[5]\tvalidation_0-auc:0.82117\n",
      "[6]\tvalidation_0-auc:0.82150\n",
      "[7]\tvalidation_0-auc:0.82173\n",
      "[8]\tvalidation_0-auc:0.82198\n",
      "[9]\tvalidation_0-auc:0.82220\n",
      "[10]\tvalidation_0-auc:0.82241\n",
      "[11]\tvalidation_0-auc:0.82256\n",
      "[12]\tvalidation_0-auc:0.82271\n",
      "[13]\tvalidation_0-auc:0.82288\n",
      "[14]\tvalidation_0-auc:0.82301\n",
      "[15]\tvalidation_0-auc:0.82313\n",
      "[16]\tvalidation_0-auc:0.82325\n",
      "[17]\tvalidation_0-auc:0.82334\n",
      "[18]\tvalidation_0-auc:0.82344\n",
      "[19]\tvalidation_0-auc:0.82349\n",
      "[20]\tvalidation_0-auc:0.82362\n",
      "[21]\tvalidation_0-auc:0.82371\n",
      "[22]\tvalidation_0-auc:0.82381\n",
      "[23]\tvalidation_0-auc:0.82390\n",
      "[24]\tvalidation_0-auc:0.82402\n",
      "[25]\tvalidation_0-auc:0.82408\n",
      "[26]\tvalidation_0-auc:0.82415\n",
      "[27]\tvalidation_0-auc:0.82424\n",
      "[28]\tvalidation_0-auc:0.82431\n",
      "[29]\tvalidation_0-auc:0.82435\n",
      "[30]\tvalidation_0-auc:0.82442\n",
      "[31]\tvalidation_0-auc:0.82445\n",
      "[32]\tvalidation_0-auc:0.82451\n",
      "[33]\tvalidation_0-auc:0.82458\n",
      "[34]\tvalidation_0-auc:0.82462\n",
      "[35]\tvalidation_0-auc:0.82468\n",
      "[36]\tvalidation_0-auc:0.82471\n",
      "[37]\tvalidation_0-auc:0.82476\n",
      "[38]\tvalidation_0-auc:0.82480\n",
      "[39]\tvalidation_0-auc:0.82485\n",
      "[40]\tvalidation_0-auc:0.82488\n",
      "[41]\tvalidation_0-auc:0.82492\n",
      "[42]\tvalidation_0-auc:0.82496\n",
      "[43]\tvalidation_0-auc:0.82499\n",
      "[44]\tvalidation_0-auc:0.82503\n",
      "[45]\tvalidation_0-auc:0.82505\n",
      "[46]\tvalidation_0-auc:0.82507\n",
      "[47]\tvalidation_0-auc:0.82513\n",
      "[48]\tvalidation_0-auc:0.82516\n",
      "[49]\tvalidation_0-auc:0.82515\n",
      "[50]\tvalidation_0-auc:0.82518\n",
      "[51]\tvalidation_0-auc:0.82518\n",
      "[52]\tvalidation_0-auc:0.82518\n",
      "[53]\tvalidation_0-auc:0.82517\n",
      "[54]\tvalidation_0-auc:0.82517\n",
      "[55]\tvalidation_0-auc:0.82517\n",
      "[56]\tvalidation_0-auc:0.82518\n",
      "[57]\tvalidation_0-auc:0.82520\n",
      "[58]\tvalidation_0-auc:0.82522\n",
      "[59]\tvalidation_0-auc:0.82522\n",
      "[60]\tvalidation_0-auc:0.82521\n",
      "[61]\tvalidation_0-auc:0.82527\n",
      "[62]\tvalidation_0-auc:0.82527\n",
      "[63]\tvalidation_0-auc:0.82526\n",
      "[64]\tvalidation_0-auc:0.82526\n",
      "[65]\tvalidation_0-auc:0.82527\n",
      "[66]\tvalidation_0-auc:0.82528\n",
      "[67]\tvalidation_0-auc:0.82526\n",
      "[68]\tvalidation_0-auc:0.82529\n",
      "[69]\tvalidation_0-auc:0.82530\n",
      "[70]\tvalidation_0-auc:0.82529\n",
      "[71]\tvalidation_0-auc:0.82528\n",
      "[72]\tvalidation_0-auc:0.82529\n",
      "[73]\tvalidation_0-auc:0.82528\n",
      "[74]\tvalidation_0-auc:0.82529\n",
      "[75]\tvalidation_0-auc:0.82528\n",
      "[76]\tvalidation_0-auc:0.82529\n",
      "[77]\tvalidation_0-auc:0.82531\n",
      "[78]\tvalidation_0-auc:0.82532\n",
      "[79]\tvalidation_0-auc:0.82532\n",
      "[80]\tvalidation_0-auc:0.82532\n",
      "[81]\tvalidation_0-auc:0.82531\n",
      "[82]\tvalidation_0-auc:0.82532\n",
      "[83]\tvalidation_0-auc:0.82532\n",
      "[84]\tvalidation_0-auc:0.82531\n",
      "[85]\tvalidation_0-auc:0.82530\n",
      "[86]\tvalidation_0-auc:0.82530\n",
      "[87]\tvalidation_0-auc:0.82530\n",
      "[88]\tvalidation_0-auc:0.82529\n",
      "[89]\tvalidation_0-auc:0.82531\n",
      "[90]\tvalidation_0-auc:0.82532\n",
      "[91]\tvalidation_0-auc:0.82531\n",
      "[92]\tvalidation_0-auc:0.82530\n",
      "[93]\tvalidation_0-auc:0.82528\n",
      "[94]\tvalidation_0-auc:0.82528\n",
      "[95]\tvalidation_0-auc:0.82528\n",
      "[96]\tvalidation_0-auc:0.82527\n",
      "[97]\tvalidation_0-auc:0.82526\n",
      "[98]\tvalidation_0-auc:0.82526\n",
      "[99]\tvalidation_0-auc:0.82525\n",
      "[100]\tvalidation_0-auc:0.82524\n",
      "[101]\tvalidation_0-auc:0.82524\n",
      "[102]\tvalidation_0-auc:0.82523\n",
      "[103]\tvalidation_0-auc:0.82522\n",
      "[104]\tvalidation_0-auc:0.82523\n",
      "[105]\tvalidation_0-auc:0.82521\n",
      "[106]\tvalidation_0-auc:0.82521\n",
      "[107]\tvalidation_0-auc:0.82520\n",
      "[108]\tvalidation_0-auc:0.82520\n",
      "[109]\tvalidation_0-auc:0.82520\n",
      "[110]\tvalidation_0-auc:0.82520\n",
      "[111]\tvalidation_0-auc:0.82518\n",
      "[112]\tvalidation_0-auc:0.82517\n",
      "[113]\tvalidation_0-auc:0.82516\n",
      "[114]\tvalidation_0-auc:0.82515\n",
      "[115]\tvalidation_0-auc:0.82515\n",
      "[116]\tvalidation_0-auc:0.82515\n",
      "[117]\tvalidation_0-auc:0.82514\n",
      "[118]\tvalidation_0-auc:0.82514\n",
      "[119]\tvalidation_0-auc:0.82514\n",
      "[120]\tvalidation_0-auc:0.82512\n",
      "[121]\tvalidation_0-auc:0.82512\n",
      "[122]\tvalidation_0-auc:0.82512\n",
      "[123]\tvalidation_0-auc:0.82511\n",
      "[124]\tvalidation_0-auc:0.82511\n",
      "[125]\tvalidation_0-auc:0.82511\n",
      "[126]\tvalidation_0-auc:0.82510\n",
      "[127]\tvalidation_0-auc:0.82509\n",
      "[128]\tvalidation_0-auc:0.82507\n",
      "[129]\tvalidation_0-auc:0.82507\n",
      "[130]\tvalidation_0-auc:0.82507\n",
      "[131]\tvalidation_0-auc:0.82507\n",
      "[132]\tvalidation_0-auc:0.82507\n",
      "[133]\tvalidation_0-auc:0.82506\n",
      "[134]\tvalidation_0-auc:0.82506\n",
      "[135]\tvalidation_0-auc:0.82504\n",
      "[136]\tvalidation_0-auc:0.82504\n",
      "[137]\tvalidation_0-auc:0.82503\n",
      "[138]\tvalidation_0-auc:0.82503\n",
      "[139]\tvalidation_0-auc:0.82503\n",
      "[140]\tvalidation_0-auc:0.82503\n",
      "[141]\tvalidation_0-auc:0.82503\n",
      "[142]\tvalidation_0-auc:0.82502\n",
      "[143]\tvalidation_0-auc:0.82502\n",
      "[144]\tvalidation_0-auc:0.82501\n",
      "[145]\tvalidation_0-auc:0.82501\n",
      "[146]\tvalidation_0-auc:0.82500\n",
      "[147]\tvalidation_0-auc:0.82500\n",
      "[148]\tvalidation_0-auc:0.82500\n",
      "[149]\tvalidation_0-auc:0.82499\n",
      "[150]\tvalidation_0-auc:0.82498\n",
      "[151]\tvalidation_0-auc:0.82498\n",
      "[152]\tvalidation_0-auc:0.82495\n",
      "[153]\tvalidation_0-auc:0.82495\n",
      "[154]\tvalidation_0-auc:0.82494\n",
      "[155]\tvalidation_0-auc:0.82493\n",
      "[156]\tvalidation_0-auc:0.82493\n",
      "[157]\tvalidation_0-auc:0.82492\n",
      "[158]\tvalidation_0-auc:0.82492\n",
      "[159]\tvalidation_0-auc:0.82491\n",
      "[160]\tvalidation_0-auc:0.82492\n",
      "[161]\tvalidation_0-auc:0.82491\n",
      "[162]\tvalidation_0-auc:0.82492\n",
      "[163]\tvalidation_0-auc:0.82491\n",
      "[164]\tvalidation_0-auc:0.82492\n",
      "[165]\tvalidation_0-auc:0.82492\n",
      "[166]\tvalidation_0-auc:0.82492\n",
      "[167]\tvalidation_0-auc:0.82491\n",
      "[168]\tvalidation_0-auc:0.82491\n",
      "[169]\tvalidation_0-auc:0.82490\n",
      "[170]\tvalidation_0-auc:0.82490\n",
      "[171]\tvalidation_0-auc:0.82488\n",
      "[172]\tvalidation_0-auc:0.82487\n",
      "[173]\tvalidation_0-auc:0.82487\n",
      "[174]\tvalidation_0-auc:0.82487\n",
      "[175]\tvalidation_0-auc:0.82487\n",
      "[176]\tvalidation_0-auc:0.82486\n",
      "[177]\tvalidation_0-auc:0.82486\n"
     ]
    },
    {
     "data": {
      "text/plain": "XGBClassifier(base_score=0.5, booster='gbtree', callbacks=None,\n              colsample_bylevel=1, colsample_bynode=1, colsample_bytree=1,\n              early_stopping_rounds=100, enable_categorical=False,\n              eval_metric='auc', gamma=0, gpu_id=-1, grow_policy='depthwise',\n              importance_type=None, interaction_constraints='',\n              learning_rate=0.1, max_bin=256, max_cat_to_onehot=4,\n              max_delta_step=0, max_depth=12, max_leaves=5, min_child_weight=1,\n              missing=nan, monotone_constraints='()', n_estimators=800,\n              n_jobs=0, num_parallel_tree=1, predictor='auto', random_state=0,\n              reg_alpha=0, reg_lambda=1, ...)"
     },
     "execution_count": 579,
     "metadata": {},
     "output_type": "execute_result"
    }
   ],
   "source": [
    "import xgboost as xgb\n",
    "from xgboost import XGBClassifier\n",
    "\n",
    "params = {\n",
    "    'learning_rate': 0.1,\n",
    "    'objective': 'binary:logistic',\n",
    "    'min_child_weight': 1,\n",
    "    'eval_metric': 'auc',\n",
    "    'n_estimators': 800,\n",
    "    'early_stopping_rounds': 100,\n",
    "    'max_depth': 12,\n",
    "    'max_leaves':5,\n",
    "}\n",
    "\n",
    "xg = XGBClassifier(**params)\n",
    "\n",
    "xg.fit(train[features], y_train, eval_set=[(test[features], y_test)])"
   ],
   "metadata": {
    "collapsed": false,
    "pycharm": {
     "name": "#%%\n"
    }
   }
  },
  {
   "cell_type": "code",
   "execution_count": 580,
   "outputs": [],
   "source": [
    "xg_train_preds = xg.predict_proba(train[features])\n",
    "xg_valid_preds = xg.predict_proba(test[features])"
   ],
   "metadata": {
    "collapsed": false,
    "pycharm": {
     "name": "#%%\n"
    }
   }
  },
  {
   "cell_type": "markdown",
   "source": [
    "## Catboost 앙상블"
   ],
   "metadata": {
    "collapsed": false,
    "pycharm": {
     "name": "#%% md\n"
    }
   }
  },
  {
   "cell_type": "code",
   "execution_count": 581,
   "outputs": [],
   "source": [
    "train_data_path = os.path.join(data_dir, 'train_data.csv')\n",
    "test_data_path = os.path.join(data_dir, 'test_data.csv')\n",
    "train_df_for_catboost = pd.read_csv(train_data_path)\n",
    "test_df_for_catboost = pd.read_csv(test_data_path)"
   ],
   "metadata": {
    "collapsed": false,
    "pycharm": {
     "name": "#%%\n"
    }
   }
  },
  {
   "cell_type": "code",
   "execution_count": 582,
   "outputs": [],
   "source": [
    "# # train과 test 데이터셋은 사용자 별로 묶어서 분리를 해주어야함\n",
    "# random.seed(42)\n",
    "# def custom_train_test_split_for_catboost(df, ratio=0.7, split=True):\n",
    "#\n",
    "#     users = list(zip(df['userID'].value_counts().index, df['userID'].value_counts()))\n",
    "#     random.shuffle(users)\n",
    "#\n",
    "#     max_train_data_len = ratio*len(df)\n",
    "#     sum_of_train_data = 0\n",
    "#     user_ids =[]\n",
    "#\n",
    "#     for user_id, count in users:\n",
    "#         sum_of_train_data += count\n",
    "#         if max_train_data_len < sum_of_train_data:\n",
    "#             break\n",
    "#         user_ids.append(user_id)\n",
    "#\n",
    "#\n",
    "#     train = df[df['userID'].isin(user_ids)]\n",
    "#     test = df[df['userID'].isin(user_ids) == False]\n",
    "#\n",
    "#     #test데이터셋은 각 유저의 마지막 interaction만 추출\n",
    "#     test = test[test['userID'] != test['userID'].shift(-1)]\n",
    "#     return train, test"
   ],
   "metadata": {
    "collapsed": false,
    "pycharm": {
     "name": "#%%\n"
    }
   }
  },
  {
   "cell_type": "code",
   "execution_count": 583,
   "outputs": [],
   "source": [
    "# def feature_engineering_for_catboost(df):\n",
    "#     scaler= MinMaxScaler()\n",
    "#\n",
    "#     df[\"Timestamp\"] = df[\"Timestamp\"].apply(convert_time)\n",
    "#\n",
    "#     # --- diff\n",
    "#     # df['diff'] = df.sort_values(['userID','Timestamp']).groupby('userID')['Timestamp'].diff(periods=1).apply(abs)\n",
    "#     df['diff'] = df.sort_values(['userID','Timestamp']).groupby('userID')['Timestamp'].diff()\n",
    "#\n",
    "#     # nan은 -1\n",
    "#     # 600(10분) 이상이면 다 600\n",
    "#     df['diff'].fillna(-1, inplace=True)\n",
    "#     idx = df[df['diff'] >= 600].index\n",
    "#     df.loc[idx, 'diff'] = 600\n",
    "#\n",
    "#     # # --- mean 태그별 문제 풀이 평균 시간\n",
    "#     tmp= df[df['diff']>=0]\n",
    "#     correct_k= tmp.groupby(['KnowledgeTag'])['diff'].agg(['mean'])\n",
    "#     df= pd.merge(df, correct_k, on=['KnowledgeTag'], how= 'left')\n",
    "#     df['mean']= scaler.fit_transform(df['mean'].values.reshape(-1, 1)).reshape(-1) # minmax scaling\n",
    "#\n",
    "#\n",
    "#     # --- before_tag 이전 태그 문제 풀이 여부\n",
    "#     df2= df.sort_values(['userID','KnowledgeTag','Timestamp'])\n",
    "#     df2.reset_index(inplace=True, drop=True)\n",
    "#     df2['cumsum']= df2.groupby(['userID','KnowledgeTag'])['answerCode'].cumsum()\n",
    "#     df2['temp']= 1\n",
    "#     df2['seq']= df2.groupby(['userID','KnowledgeTag'])['temp'].cumsum()\n",
    "#     df2.drop(['temp'], axis=1, inplace=True)\n",
    "#     df2['cumsum'] -= df2['answerCode']\n",
    "#\n",
    "#     df2['seq'] -= 1\n",
    "#     df2['before_tag']= df2['cumsum']/df2['seq']\n",
    "#\n",
    "#     tag_avg= dict(df2.groupby(['KnowledgeTag'])['answerCode'].mean())\n",
    "#     def match_avg(x):\n",
    "#         if x>1:\n",
    "#             return tag_avg[x]\n",
    "#         else:\n",
    "#             return x\n",
    "#\n",
    "#     df2['before_tag'].fillna(df2.KnowledgeTag, inplace=True)\n",
    "#     df2['before_tag']= df2['before_tag'].apply(match_avg)\n",
    "#     df2.loc[df2[df2['before_tag'] >= 0.5].index,'before_tag'] = 1\n",
    "#     df2.loc[df2[df2['before_tag'] < 0.5].index,'before_tag'] = 0\n",
    "#\n",
    "#     df= pd.merge(df2[['userID','assessmentItemID','Timestamp','before_tag']],df, on=['userID','assessmentItemID','Timestamp'])\n",
    "#\n",
    "#     # # --- user_correct_answer\n",
    "#     df2= df.sort_values(by=['userID','Timestamp'])\n",
    "#     df2['user_correct_answer'] = df2.groupby('userID')['answerCode'].transform(lambda x: x.cumsum().shift(1))\n",
    "#     df2['user_correct_answer'].fillna(0)\n",
    "#\n",
    "#     # # --- user_acc\n",
    "#     df2['user_total_answer'] = df2.groupby('userID')['answerCode'].cumcount()\n",
    "#     df2['user_acc'] = df2['user_correct_answer']/df2['user_total_answer']\n",
    "#\n",
    "#     df2['user_correct_answer']= scaler.fit_transform(df2['user_correct_answer'].values.reshape(-1, 1)).reshape(-1)\n",
    "#\n",
    "#     # # test mean, sum\n",
    "#     correct_t = df2.groupby(['testId'])['answerCode'].agg(['mean', 'sum'])\n",
    "#     correct_t.columns = [\"test_mean\", 'test_sum']\n",
    "#     df2 = pd.merge(df2, correct_t, on=['testId'], how=\"left\")\n",
    "#     df2['test_mean']= scaler.fit_transform(df2['test_mean'].values.reshape(-1,1)).reshape(-1)\n",
    "#     df2['test_sum']= scaler.fit_transform(df2['test_sum'].values.reshape(-1,1)).reshape(-1)\n",
    "#\n",
    "#     df= pd.merge(df2[['userID','assessmentItemID','Timestamp','user_correct_answer', 'user_acc', 'test_mean', 'test_sum']],df, on=['userID','assessmentItemID','Timestamp'])\n",
    "#\n",
    "#     # # --- test_seq\n",
    "#     df2= df.sort_values(['userID','testId','Timestamp'])\n",
    "#     df2.reset_index(inplace=True, drop=True)\n",
    "#     df2['test_seq']= df2.groupby(['userID','testId']).cumcount()\n",
    "#     # self.args.num_test_seq= df2['test_seq'].max()+2 # 개수 + 패딩\n",
    "#     df= pd.merge(df2[['userID','assessmentItemID','Timestamp','test_seq']], df, on=['userID','assessmentItemID','Timestamp'])\n",
    "#\n",
    "#     # # --- Timestamp 스케일링\n",
    "#     df['Timestamp']= scaler.fit_transform(df['Timestamp'].values.reshape(-1,1)).reshape(-1)\n",
    "#\n",
    "#     df['item']= df['assessmentItemID']\n",
    "#\n",
    "#     return df"
   ],
   "metadata": {
    "collapsed": false,
    "pycharm": {
     "name": "#%%\n"
    }
   }
  },
  {
   "cell_type": "code",
   "execution_count": 584,
   "outputs": [],
   "source": [
    "# train_df_cb = feature_engineering(train_df_for_catboost)"
   ],
   "metadata": {
    "collapsed": false,
    "pycharm": {
     "name": "#%%\n"
    }
   }
  },
  {
   "cell_type": "code",
   "execution_count": 585,
   "outputs": [],
   "source": [
    "# train_df_cb"
   ],
   "metadata": {
    "collapsed": false,
    "pycharm": {
     "name": "#%%\n"
    }
   }
  },
  {
   "cell_type": "code",
   "execution_count": 586,
   "outputs": [],
   "source": [
    "test_df_cb = feature_engineering(test_df_for_catboost)"
   ],
   "metadata": {
    "collapsed": false,
    "pycharm": {
     "name": "#%%\n"
    }
   }
  },
  {
   "cell_type": "code",
   "execution_count": 587,
   "outputs": [
    {
     "data": {
      "text/plain": "        userID assessmentItemID      testId  answerCode            Timestamp  \\\n0            3       A050023001  A050000023           1  2020-01-09 10:56:31   \n1            3       A050023002  A050000023           1  2020-01-09 10:56:57   \n2            3       A050023003  A050000023           0  2020-01-09 10:58:31   \n3            3       A050023004  A050000023           0  2020-01-09 10:58:36   \n4            3       A050023006  A050000023           0  2020-01-09 10:58:43   \n...        ...              ...         ...         ...                  ...   \n260109    7439       A040130001  A040000130           0  2020-10-14 23:07:23   \n260110    7439       A040130002  A040000130           1  2020-10-14 23:07:41   \n260111    7439       A040130003  A040000130           1  2020-10-14 23:08:02   \n260112    7439       A040130004  A040000130           1  2020-10-14 23:09:31   \n260113    7439       A040130005  A040000130          -1  2020-10-14 23:10:03   \n\n        KnowledgeTag  user_correct_answer  user_total_answer  user_acc  \\\n0               2626                  NaN                  0       NaN   \n1               2626                  1.0                  1  1.000000   \n2               2625                  2.0                  2  1.000000   \n3               2625                  2.0                  3  0.666667   \n4               2623                  2.0                  4  0.500000   \n...              ...                  ...                ...       ...   \n260109          8832                  8.0                 11  0.727273   \n260110          8832                  8.0                 12  0.666667   \n260111          8244                  9.0                 13  0.692308   \n260112          8244                 10.0                 14  0.714286   \n260113          8832                 11.0                 15  0.733333   \n\n        test_mean  test_sum  tag_mean  tag_sum  item_mean  item_sum  \n0        0.473214       106  0.587097       91   0.750000        24  \n1        0.473214       106  0.587097       91   0.562500        18  \n2        0.473214       106  0.588517      123   0.343750        11  \n3        0.473214       106  0.588517      123   0.500000        16  \n4        0.473214       106  0.581986      252   0.281250         9  \n...           ...       ...       ...      ...        ...       ...  \n260109   0.604762       127  0.584848      193   0.380952        16  \n260110   0.604762       127  0.584848      193   0.523810        22  \n260111   0.604762       127  0.725490      111   0.761905        32  \n260112   0.604762       127  0.725490      111   0.857143        36  \n260113   0.604762       127  0.584848      193   0.500000        21  \n\n[260114 rows x 15 columns]",
      "text/html": "<div>\n<style scoped>\n    .dataframe tbody tr th:only-of-type {\n        vertical-align: middle;\n    }\n\n    .dataframe tbody tr th {\n        vertical-align: top;\n    }\n\n    .dataframe thead th {\n        text-align: right;\n    }\n</style>\n<table border=\"1\" class=\"dataframe\">\n  <thead>\n    <tr style=\"text-align: right;\">\n      <th></th>\n      <th>userID</th>\n      <th>assessmentItemID</th>\n      <th>testId</th>\n      <th>answerCode</th>\n      <th>Timestamp</th>\n      <th>KnowledgeTag</th>\n      <th>user_correct_answer</th>\n      <th>user_total_answer</th>\n      <th>user_acc</th>\n      <th>test_mean</th>\n      <th>test_sum</th>\n      <th>tag_mean</th>\n      <th>tag_sum</th>\n      <th>item_mean</th>\n      <th>item_sum</th>\n    </tr>\n  </thead>\n  <tbody>\n    <tr>\n      <th>0</th>\n      <td>3</td>\n      <td>A050023001</td>\n      <td>A050000023</td>\n      <td>1</td>\n      <td>2020-01-09 10:56:31</td>\n      <td>2626</td>\n      <td>NaN</td>\n      <td>0</td>\n      <td>NaN</td>\n      <td>0.473214</td>\n      <td>106</td>\n      <td>0.587097</td>\n      <td>91</td>\n      <td>0.750000</td>\n      <td>24</td>\n    </tr>\n    <tr>\n      <th>1</th>\n      <td>3</td>\n      <td>A050023002</td>\n      <td>A050000023</td>\n      <td>1</td>\n      <td>2020-01-09 10:56:57</td>\n      <td>2626</td>\n      <td>1.0</td>\n      <td>1</td>\n      <td>1.000000</td>\n      <td>0.473214</td>\n      <td>106</td>\n      <td>0.587097</td>\n      <td>91</td>\n      <td>0.562500</td>\n      <td>18</td>\n    </tr>\n    <tr>\n      <th>2</th>\n      <td>3</td>\n      <td>A050023003</td>\n      <td>A050000023</td>\n      <td>0</td>\n      <td>2020-01-09 10:58:31</td>\n      <td>2625</td>\n      <td>2.0</td>\n      <td>2</td>\n      <td>1.000000</td>\n      <td>0.473214</td>\n      <td>106</td>\n      <td>0.588517</td>\n      <td>123</td>\n      <td>0.343750</td>\n      <td>11</td>\n    </tr>\n    <tr>\n      <th>3</th>\n      <td>3</td>\n      <td>A050023004</td>\n      <td>A050000023</td>\n      <td>0</td>\n      <td>2020-01-09 10:58:36</td>\n      <td>2625</td>\n      <td>2.0</td>\n      <td>3</td>\n      <td>0.666667</td>\n      <td>0.473214</td>\n      <td>106</td>\n      <td>0.588517</td>\n      <td>123</td>\n      <td>0.500000</td>\n      <td>16</td>\n    </tr>\n    <tr>\n      <th>4</th>\n      <td>3</td>\n      <td>A050023006</td>\n      <td>A050000023</td>\n      <td>0</td>\n      <td>2020-01-09 10:58:43</td>\n      <td>2623</td>\n      <td>2.0</td>\n      <td>4</td>\n      <td>0.500000</td>\n      <td>0.473214</td>\n      <td>106</td>\n      <td>0.581986</td>\n      <td>252</td>\n      <td>0.281250</td>\n      <td>9</td>\n    </tr>\n    <tr>\n      <th>...</th>\n      <td>...</td>\n      <td>...</td>\n      <td>...</td>\n      <td>...</td>\n      <td>...</td>\n      <td>...</td>\n      <td>...</td>\n      <td>...</td>\n      <td>...</td>\n      <td>...</td>\n      <td>...</td>\n      <td>...</td>\n      <td>...</td>\n      <td>...</td>\n      <td>...</td>\n    </tr>\n    <tr>\n      <th>260109</th>\n      <td>7439</td>\n      <td>A040130001</td>\n      <td>A040000130</td>\n      <td>0</td>\n      <td>2020-10-14 23:07:23</td>\n      <td>8832</td>\n      <td>8.0</td>\n      <td>11</td>\n      <td>0.727273</td>\n      <td>0.604762</td>\n      <td>127</td>\n      <td>0.584848</td>\n      <td>193</td>\n      <td>0.380952</td>\n      <td>16</td>\n    </tr>\n    <tr>\n      <th>260110</th>\n      <td>7439</td>\n      <td>A040130002</td>\n      <td>A040000130</td>\n      <td>1</td>\n      <td>2020-10-14 23:07:41</td>\n      <td>8832</td>\n      <td>8.0</td>\n      <td>12</td>\n      <td>0.666667</td>\n      <td>0.604762</td>\n      <td>127</td>\n      <td>0.584848</td>\n      <td>193</td>\n      <td>0.523810</td>\n      <td>22</td>\n    </tr>\n    <tr>\n      <th>260111</th>\n      <td>7439</td>\n      <td>A040130003</td>\n      <td>A040000130</td>\n      <td>1</td>\n      <td>2020-10-14 23:08:02</td>\n      <td>8244</td>\n      <td>9.0</td>\n      <td>13</td>\n      <td>0.692308</td>\n      <td>0.604762</td>\n      <td>127</td>\n      <td>0.725490</td>\n      <td>111</td>\n      <td>0.761905</td>\n      <td>32</td>\n    </tr>\n    <tr>\n      <th>260112</th>\n      <td>7439</td>\n      <td>A040130004</td>\n      <td>A040000130</td>\n      <td>1</td>\n      <td>2020-10-14 23:09:31</td>\n      <td>8244</td>\n      <td>10.0</td>\n      <td>14</td>\n      <td>0.714286</td>\n      <td>0.604762</td>\n      <td>127</td>\n      <td>0.725490</td>\n      <td>111</td>\n      <td>0.857143</td>\n      <td>36</td>\n    </tr>\n    <tr>\n      <th>260113</th>\n      <td>7439</td>\n      <td>A040130005</td>\n      <td>A040000130</td>\n      <td>-1</td>\n      <td>2020-10-14 23:10:03</td>\n      <td>8832</td>\n      <td>11.0</td>\n      <td>15</td>\n      <td>0.733333</td>\n      <td>0.604762</td>\n      <td>127</td>\n      <td>0.584848</td>\n      <td>193</td>\n      <td>0.500000</td>\n      <td>21</td>\n    </tr>\n  </tbody>\n</table>\n<p>260114 rows × 15 columns</p>\n</div>"
     },
     "execution_count": 587,
     "metadata": {},
     "output_type": "execute_result"
    }
   ],
   "source": [
    "test_df_cb"
   ],
   "metadata": {
    "collapsed": false,
    "pycharm": {
     "name": "#%%\n"
    }
   }
  },
  {
   "cell_type": "code",
   "execution_count": 588,
   "outputs": [],
   "source": [
    "inference_cb = test_df_cb.loc[test_df_cb['answerCode'] == -1]"
   ],
   "metadata": {
    "collapsed": false,
    "pycharm": {
     "name": "#%%\n"
    }
   }
  },
  {
   "cell_type": "code",
   "execution_count": 589,
   "outputs": [
    {
     "data": {
      "text/plain": "        userID assessmentItemID      testId  answerCode            Timestamp  \\\n1035         3       A050133008  A050000133          -1  2020-10-26 13:13:57   \n1706         4       A070146008  A070000146          -1  2020-12-27 02:47:54   \n3023        13       A070111008  A070000111          -1  2020-12-27 04:35:09   \n4283        17       A090064006  A090000064          -1  2020-10-30 05:48:37   \n4670        26       A060135007  A060000135          -1  2020-10-23 11:44:18   \n...        ...              ...         ...         ...                  ...   \n260052    7395       A040122005  A040000122          -1  2020-09-08 02:05:20   \n260067    7404       A030111005  A030000111          -1  2020-10-13 09:49:18   \n260082    7416       A050193004  A050000193          -1  2020-10-04 02:44:41   \n260097    7417       A050193004  A050000193          -1  2020-09-06 13:09:15   \n260113    7439       A040130005  A040000130          -1  2020-10-14 23:10:03   \n\n        KnowledgeTag  user_correct_answer  user_total_answer  user_acc  \\\n1035            5289                717.0               1035  0.692754   \n1706            9080                465.0                670  0.694030   \n3023            9660                915.0               1316  0.695289   \n4283            2611               1031.0               1259  0.818904   \n4670            1422                293.0                386  0.759067   \n...              ...                  ...                ...       ...   \n260052         10615                  7.0                 23  0.304348   \n260067          7636                  7.0                 14  0.500000   \n260082         10402                  7.0                 14  0.500000   \n260097         10402                  2.0                 14  0.142857   \n260113          8832                 11.0                 15  0.733333   \n\n        test_mean  test_sum  tag_mean  tag_sum  item_mean  item_sum  \n1035     0.661765        90  0.542662      159   0.470588         8  \n1706     0.740385        77  0.565693      155   0.153846         2  \n3023     0.417857       117  0.446753      172   0.285714        10  \n4283     0.625000        30  0.514286       36   0.250000         2  \n4670     0.678571       133  0.602767      305   0.321429         9  \n...           ...       ...       ...      ...        ...       ...  \n260052   0.753846       147  0.654902      167   0.358974        14  \n260067   0.866667       156  0.834661      419   0.861111        31  \n260082   0.750000        75  0.792517      233   0.760000        19  \n260097   0.750000        75  0.792517      233   0.760000        19  \n260113   0.604762       127  0.584848      193   0.500000        21  \n\n[744 rows x 15 columns]",
      "text/html": "<div>\n<style scoped>\n    .dataframe tbody tr th:only-of-type {\n        vertical-align: middle;\n    }\n\n    .dataframe tbody tr th {\n        vertical-align: top;\n    }\n\n    .dataframe thead th {\n        text-align: right;\n    }\n</style>\n<table border=\"1\" class=\"dataframe\">\n  <thead>\n    <tr style=\"text-align: right;\">\n      <th></th>\n      <th>userID</th>\n      <th>assessmentItemID</th>\n      <th>testId</th>\n      <th>answerCode</th>\n      <th>Timestamp</th>\n      <th>KnowledgeTag</th>\n      <th>user_correct_answer</th>\n      <th>user_total_answer</th>\n      <th>user_acc</th>\n      <th>test_mean</th>\n      <th>test_sum</th>\n      <th>tag_mean</th>\n      <th>tag_sum</th>\n      <th>item_mean</th>\n      <th>item_sum</th>\n    </tr>\n  </thead>\n  <tbody>\n    <tr>\n      <th>1035</th>\n      <td>3</td>\n      <td>A050133008</td>\n      <td>A050000133</td>\n      <td>-1</td>\n      <td>2020-10-26 13:13:57</td>\n      <td>5289</td>\n      <td>717.0</td>\n      <td>1035</td>\n      <td>0.692754</td>\n      <td>0.661765</td>\n      <td>90</td>\n      <td>0.542662</td>\n      <td>159</td>\n      <td>0.470588</td>\n      <td>8</td>\n    </tr>\n    <tr>\n      <th>1706</th>\n      <td>4</td>\n      <td>A070146008</td>\n      <td>A070000146</td>\n      <td>-1</td>\n      <td>2020-12-27 02:47:54</td>\n      <td>9080</td>\n      <td>465.0</td>\n      <td>670</td>\n      <td>0.694030</td>\n      <td>0.740385</td>\n      <td>77</td>\n      <td>0.565693</td>\n      <td>155</td>\n      <td>0.153846</td>\n      <td>2</td>\n    </tr>\n    <tr>\n      <th>3023</th>\n      <td>13</td>\n      <td>A070111008</td>\n      <td>A070000111</td>\n      <td>-1</td>\n      <td>2020-12-27 04:35:09</td>\n      <td>9660</td>\n      <td>915.0</td>\n      <td>1316</td>\n      <td>0.695289</td>\n      <td>0.417857</td>\n      <td>117</td>\n      <td>0.446753</td>\n      <td>172</td>\n      <td>0.285714</td>\n      <td>10</td>\n    </tr>\n    <tr>\n      <th>4283</th>\n      <td>17</td>\n      <td>A090064006</td>\n      <td>A090000064</td>\n      <td>-1</td>\n      <td>2020-10-30 05:48:37</td>\n      <td>2611</td>\n      <td>1031.0</td>\n      <td>1259</td>\n      <td>0.818904</td>\n      <td>0.625000</td>\n      <td>30</td>\n      <td>0.514286</td>\n      <td>36</td>\n      <td>0.250000</td>\n      <td>2</td>\n    </tr>\n    <tr>\n      <th>4670</th>\n      <td>26</td>\n      <td>A060135007</td>\n      <td>A060000135</td>\n      <td>-1</td>\n      <td>2020-10-23 11:44:18</td>\n      <td>1422</td>\n      <td>293.0</td>\n      <td>386</td>\n      <td>0.759067</td>\n      <td>0.678571</td>\n      <td>133</td>\n      <td>0.602767</td>\n      <td>305</td>\n      <td>0.321429</td>\n      <td>9</td>\n    </tr>\n    <tr>\n      <th>...</th>\n      <td>...</td>\n      <td>...</td>\n      <td>...</td>\n      <td>...</td>\n      <td>...</td>\n      <td>...</td>\n      <td>...</td>\n      <td>...</td>\n      <td>...</td>\n      <td>...</td>\n      <td>...</td>\n      <td>...</td>\n      <td>...</td>\n      <td>...</td>\n      <td>...</td>\n    </tr>\n    <tr>\n      <th>260052</th>\n      <td>7395</td>\n      <td>A040122005</td>\n      <td>A040000122</td>\n      <td>-1</td>\n      <td>2020-09-08 02:05:20</td>\n      <td>10615</td>\n      <td>7.0</td>\n      <td>23</td>\n      <td>0.304348</td>\n      <td>0.753846</td>\n      <td>147</td>\n      <td>0.654902</td>\n      <td>167</td>\n      <td>0.358974</td>\n      <td>14</td>\n    </tr>\n    <tr>\n      <th>260067</th>\n      <td>7404</td>\n      <td>A030111005</td>\n      <td>A030000111</td>\n      <td>-1</td>\n      <td>2020-10-13 09:49:18</td>\n      <td>7636</td>\n      <td>7.0</td>\n      <td>14</td>\n      <td>0.500000</td>\n      <td>0.866667</td>\n      <td>156</td>\n      <td>0.834661</td>\n      <td>419</td>\n      <td>0.861111</td>\n      <td>31</td>\n    </tr>\n    <tr>\n      <th>260082</th>\n      <td>7416</td>\n      <td>A050193004</td>\n      <td>A050000193</td>\n      <td>-1</td>\n      <td>2020-10-04 02:44:41</td>\n      <td>10402</td>\n      <td>7.0</td>\n      <td>14</td>\n      <td>0.500000</td>\n      <td>0.750000</td>\n      <td>75</td>\n      <td>0.792517</td>\n      <td>233</td>\n      <td>0.760000</td>\n      <td>19</td>\n    </tr>\n    <tr>\n      <th>260097</th>\n      <td>7417</td>\n      <td>A050193004</td>\n      <td>A050000193</td>\n      <td>-1</td>\n      <td>2020-09-06 13:09:15</td>\n      <td>10402</td>\n      <td>2.0</td>\n      <td>14</td>\n      <td>0.142857</td>\n      <td>0.750000</td>\n      <td>75</td>\n      <td>0.792517</td>\n      <td>233</td>\n      <td>0.760000</td>\n      <td>19</td>\n    </tr>\n    <tr>\n      <th>260113</th>\n      <td>7439</td>\n      <td>A040130005</td>\n      <td>A040000130</td>\n      <td>-1</td>\n      <td>2020-10-14 23:10:03</td>\n      <td>8832</td>\n      <td>11.0</td>\n      <td>15</td>\n      <td>0.733333</td>\n      <td>0.604762</td>\n      <td>127</td>\n      <td>0.584848</td>\n      <td>193</td>\n      <td>0.500000</td>\n      <td>21</td>\n    </tr>\n  </tbody>\n</table>\n<p>744 rows × 15 columns</p>\n</div>"
     },
     "execution_count": 589,
     "metadata": {},
     "output_type": "execute_result"
    }
   ],
   "source": [
    "inference_cb"
   ],
   "metadata": {
    "collapsed": false,
    "pycharm": {
     "name": "#%%\n"
    }
   }
  },
  {
   "cell_type": "code",
   "execution_count": 590,
   "outputs": [],
   "source": [
    "train_cb, test_cb = custom_train_test_split(df)"
   ],
   "metadata": {
    "collapsed": false,
    "pycharm": {
     "name": "#%%\n"
    }
   }
  },
  {
   "cell_type": "code",
   "execution_count": 591,
   "outputs": [
    {
     "ename": "KeyError",
     "evalue": "\"['test_seq', 'before_tag'] not in index\"",
     "output_type": "error",
     "traceback": [
      "\u001B[0;31m---------------------------------------------------------------------------\u001B[0m",
      "\u001B[0;31mKeyError\u001B[0m                                  Traceback (most recent call last)",
      "Input \u001B[0;32mIn [591]\u001B[0m, in \u001B[0;36m<cell line: 2>\u001B[0;34m()\u001B[0m\n\u001B[1;32m      1\u001B[0m categorical_cols \u001B[38;5;241m=\u001B[39m  [\u001B[38;5;124m'\u001B[39m\u001B[38;5;124massessmentItemID\u001B[39m\u001B[38;5;124m'\u001B[39m, \u001B[38;5;124m'\u001B[39m\u001B[38;5;124mtestId\u001B[39m\u001B[38;5;124m'\u001B[39m, \u001B[38;5;124m'\u001B[39m\u001B[38;5;124mbefore_tag\u001B[39m\u001B[38;5;124m'\u001B[39m]\n\u001B[0;32m----> 2\u001B[0m train_cb \u001B[38;5;241m=\u001B[39m \u001B[43mtrain_cb\u001B[49m\u001B[43m[\u001B[49m\u001B[43m[\u001B[49m\u001B[38;5;124;43m'\u001B[39;49m\u001B[38;5;124;43massessmentItemID\u001B[39;49m\u001B[38;5;124;43m'\u001B[39;49m\u001B[43m,\u001B[49m\u001B[43m \u001B[49m\u001B[38;5;124;43m'\u001B[39;49m\u001B[38;5;124;43mtestId\u001B[39;49m\u001B[38;5;124;43m'\u001B[39;49m\u001B[43m,\u001B[49m\u001B[43m \u001B[49m\u001B[38;5;124;43m'\u001B[39;49m\u001B[38;5;124;43manswerCode\u001B[39;49m\u001B[38;5;124;43m'\u001B[39;49m\u001B[43m,\u001B[49m\u001B[43m \u001B[49m\u001B[38;5;124;43m'\u001B[39;49m\u001B[38;5;124;43mtest_seq\u001B[39;49m\u001B[38;5;124;43m'\u001B[39;49m\u001B[43m,\u001B[49m\u001B[38;5;124;43m'\u001B[39;49m\u001B[38;5;124;43muser_correct_answer\u001B[39;49m\u001B[38;5;124;43m'\u001B[39;49m\u001B[43m,\u001B[49m\u001B[43m \u001B[49m\u001B[38;5;124;43m'\u001B[39;49m\u001B[38;5;124;43muser_acc\u001B[39;49m\u001B[38;5;124;43m'\u001B[39;49m\u001B[43m,\u001B[49m\n\u001B[1;32m      3\u001B[0m \u001B[43m                \u001B[49m\u001B[38;5;124;43m'\u001B[39;49m\u001B[38;5;124;43mtest_mean\u001B[39;49m\u001B[38;5;124;43m'\u001B[39;49m\u001B[43m,\u001B[49m\u001B[43m \u001B[49m\u001B[38;5;124;43m'\u001B[39;49m\u001B[38;5;124;43mbefore_tag\u001B[39;49m\u001B[38;5;124;43m'\u001B[39;49m\u001B[43m,\u001B[49m\u001B[43m \u001B[49m\u001B[38;5;124;43m'\u001B[39;49m\u001B[38;5;124;43mdiff\u001B[39;49m\u001B[38;5;124;43m'\u001B[39;49m\u001B[43m]\u001B[49m\u001B[43m]\u001B[49m\n\u001B[1;32m      4\u001B[0m train_cb[categorical_cols] \u001B[38;5;241m=\u001B[39m train_cb[categorical_cols]\u001B[38;5;241m.\u001B[39mfillna(\u001B[38;5;124m\"\u001B[39m\u001B[38;5;124m\"\u001B[39m)\n\u001B[1;32m      5\u001B[0m train_cb[\u001B[38;5;124m'\u001B[39m\u001B[38;5;124mdiff\u001B[39m\u001B[38;5;124m'\u001B[39m] \u001B[38;5;241m=\u001B[39m train_cb[\u001B[38;5;124m'\u001B[39m\u001B[38;5;124mdiff\u001B[39m\u001B[38;5;124m'\u001B[39m]\u001B[38;5;241m.\u001B[39mastype(\u001B[38;5;28mint\u001B[39m)\n",
      "File \u001B[0;32m/opt/conda/lib/python3.8/site-packages/pandas/core/frame.py:3511\u001B[0m, in \u001B[0;36mDataFrame.__getitem__\u001B[0;34m(self, key)\u001B[0m\n\u001B[1;32m   3509\u001B[0m     \u001B[38;5;28;01mif\u001B[39;00m is_iterator(key):\n\u001B[1;32m   3510\u001B[0m         key \u001B[38;5;241m=\u001B[39m \u001B[38;5;28mlist\u001B[39m(key)\n\u001B[0;32m-> 3511\u001B[0m     indexer \u001B[38;5;241m=\u001B[39m \u001B[38;5;28;43mself\u001B[39;49m\u001B[38;5;241;43m.\u001B[39;49m\u001B[43mcolumns\u001B[49m\u001B[38;5;241;43m.\u001B[39;49m\u001B[43m_get_indexer_strict\u001B[49m\u001B[43m(\u001B[49m\u001B[43mkey\u001B[49m\u001B[43m,\u001B[49m\u001B[43m \u001B[49m\u001B[38;5;124;43m\"\u001B[39;49m\u001B[38;5;124;43mcolumns\u001B[39;49m\u001B[38;5;124;43m\"\u001B[39;49m\u001B[43m)\u001B[49m[\u001B[38;5;241m1\u001B[39m]\n\u001B[1;32m   3513\u001B[0m \u001B[38;5;66;03m# take() does not accept boolean indexers\u001B[39;00m\n\u001B[1;32m   3514\u001B[0m \u001B[38;5;28;01mif\u001B[39;00m \u001B[38;5;28mgetattr\u001B[39m(indexer, \u001B[38;5;124m\"\u001B[39m\u001B[38;5;124mdtype\u001B[39m\u001B[38;5;124m\"\u001B[39m, \u001B[38;5;28;01mNone\u001B[39;00m) \u001B[38;5;241m==\u001B[39m \u001B[38;5;28mbool\u001B[39m:\n",
      "File \u001B[0;32m/opt/conda/lib/python3.8/site-packages/pandas/core/indexes/base.py:5782\u001B[0m, in \u001B[0;36mIndex._get_indexer_strict\u001B[0;34m(self, key, axis_name)\u001B[0m\n\u001B[1;32m   5779\u001B[0m \u001B[38;5;28;01melse\u001B[39;00m:\n\u001B[1;32m   5780\u001B[0m     keyarr, indexer, new_indexer \u001B[38;5;241m=\u001B[39m \u001B[38;5;28mself\u001B[39m\u001B[38;5;241m.\u001B[39m_reindex_non_unique(keyarr)\n\u001B[0;32m-> 5782\u001B[0m \u001B[38;5;28;43mself\u001B[39;49m\u001B[38;5;241;43m.\u001B[39;49m\u001B[43m_raise_if_missing\u001B[49m\u001B[43m(\u001B[49m\u001B[43mkeyarr\u001B[49m\u001B[43m,\u001B[49m\u001B[43m \u001B[49m\u001B[43mindexer\u001B[49m\u001B[43m,\u001B[49m\u001B[43m \u001B[49m\u001B[43maxis_name\u001B[49m\u001B[43m)\u001B[49m\n\u001B[1;32m   5784\u001B[0m keyarr \u001B[38;5;241m=\u001B[39m \u001B[38;5;28mself\u001B[39m\u001B[38;5;241m.\u001B[39mtake(indexer)\n\u001B[1;32m   5785\u001B[0m \u001B[38;5;28;01mif\u001B[39;00m \u001B[38;5;28misinstance\u001B[39m(key, Index):\n\u001B[1;32m   5786\u001B[0m     \u001B[38;5;66;03m# GH 42790 - Preserve name from an Index\u001B[39;00m\n",
      "File \u001B[0;32m/opt/conda/lib/python3.8/site-packages/pandas/core/indexes/base.py:5845\u001B[0m, in \u001B[0;36mIndex._raise_if_missing\u001B[0;34m(self, key, indexer, axis_name)\u001B[0m\n\u001B[1;32m   5842\u001B[0m     \u001B[38;5;28;01mraise\u001B[39;00m \u001B[38;5;167;01mKeyError\u001B[39;00m(\u001B[38;5;124mf\u001B[39m\u001B[38;5;124m\"\u001B[39m\u001B[38;5;124mNone of [\u001B[39m\u001B[38;5;132;01m{\u001B[39;00mkey\u001B[38;5;132;01m}\u001B[39;00m\u001B[38;5;124m] are in the [\u001B[39m\u001B[38;5;132;01m{\u001B[39;00maxis_name\u001B[38;5;132;01m}\u001B[39;00m\u001B[38;5;124m]\u001B[39m\u001B[38;5;124m\"\u001B[39m)\n\u001B[1;32m   5844\u001B[0m not_found \u001B[38;5;241m=\u001B[39m \u001B[38;5;28mlist\u001B[39m(ensure_index(key)[missing_mask\u001B[38;5;241m.\u001B[39mnonzero()[\u001B[38;5;241m0\u001B[39m]]\u001B[38;5;241m.\u001B[39munique())\n\u001B[0;32m-> 5845\u001B[0m \u001B[38;5;28;01mraise\u001B[39;00m \u001B[38;5;167;01mKeyError\u001B[39;00m(\u001B[38;5;124mf\u001B[39m\u001B[38;5;124m\"\u001B[39m\u001B[38;5;132;01m{\u001B[39;00mnot_found\u001B[38;5;132;01m}\u001B[39;00m\u001B[38;5;124m not in index\u001B[39m\u001B[38;5;124m\"\u001B[39m)\n",
      "\u001B[0;31mKeyError\u001B[0m: \"['test_seq', 'before_tag'] not in index\""
     ]
    }
   ],
   "source": [
    "categorical_cols =  ['assessmentItemID', 'testId', 'before_tag']\n",
    "train_cb = train_cb[['assessmentItemID', 'testId', 'answerCode', 'test_seq','user_correct_answer', 'user_acc',\n",
    "                'test_mean', 'before_tag', 'diff']]\n",
    "train_cb[categorical_cols] = train_cb[categorical_cols].fillna(\"\")\n",
    "train_cb['diff'] = train_cb['diff'].astype(int)\n",
    "train_cb['before_tag'] = train_cb['before_tag'].astype(int)\n",
    "train_cb"
   ],
   "metadata": {
    "collapsed": false,
    "pycharm": {
     "name": "#%%\n"
    }
   }
  },
  {
   "cell_type": "code",
   "execution_count": null,
   "outputs": [],
   "source": [
    "from catboost import CatBoostClassifier, Pool\n",
    "\n",
    "TARGET_COL = 'answerCode'\n",
    "X_train_cb = train_cb.drop([TARGET_COL],axis=1)\n",
    "y_train_cb = train_cb[TARGET_COL]\n",
    "\n",
    "train_pool = Pool(data=X_train_cb, label = y_train_cb, cat_features=categorical_cols)"
   ],
   "metadata": {
    "collapsed": false,
    "pycharm": {
     "name": "#%%\n"
    }
   }
  },
  {
   "cell_type": "code",
   "execution_count": null,
   "outputs": [],
   "source": [
    "categorical_cols =  ['assessmentItemID', 'testId', 'before_tag']\n",
    "test_cb = test_cb[['assessmentItemID', 'testId', 'answerCode', 'test_seq','user_correct_answer', 'user_acc',\n",
    "                'test_mean', 'before_tag', 'diff']]\n",
    "test_cb[categorical_cols] = test_cb[categorical_cols].fillna(\"\")\n",
    "test_cb['diff'] = test_cb['diff'].astype(int)\n",
    "test_cb['before_tag'] = test_cb['before_tag'].astype(int)"
   ],
   "metadata": {
    "collapsed": false,
    "pycharm": {
     "name": "#%%\n"
    }
   }
  },
  {
   "cell_type": "code",
   "execution_count": null,
   "outputs": [],
   "source": [
    "TARGET_COL = 'answerCode'\n",
    "X_test_cb = test_cb.drop([TARGET_COL],axis=1)\n",
    "y_test_cb = test_cb[TARGET_COL]\n",
    "\n",
    "test_pool = Pool(data=X_test_cb,label=y_test_cb,cat_features=categorical_cols)"
   ],
   "metadata": {
    "collapsed": false,
    "pycharm": {
     "name": "#%%\n"
    }
   }
  },
  {
   "cell_type": "code",
   "execution_count": null,
   "outputs": [],
   "source": [
    "categorical_cols =  ['assessmentItemID', 'testId', 'before_tag']\n",
    "inference_cb = inference_cb[['assessmentItemID', 'testId', 'answerCode', 'test_seq','user_correct_answer', 'user_acc',\n",
    "                'test_mean', 'before_tag', 'diff']]\n",
    "inference_cb[categorical_cols] = inference_cb[categorical_cols].fillna(\"\")\n",
    "inference_cb['diff'] = inference_cb['diff'].astype(int)\n",
    "# inference[['before_tag', 'diff']] = inference[['before_tag', 'diff']].astype(int)\n",
    "inference_cb['before_tag'] = inference_cb['before_tag'].astype(int)\n",
    "# inference.drop(columns=['Timestamp'], inplace=True)\n",
    "\n",
    "TARGET_COL = 'answerCode'\n",
    "X_infer_cb = inference_cb.drop([TARGET_COL],axis=1)\n",
    "y_infer_cb = inference_cb[TARGET_COL]\n",
    "\n",
    "infer_pool = Pool(data=X_infer_cb,label = y_infer_cb,cat_features=categorical_cols)"
   ],
   "metadata": {
    "collapsed": false,
    "pycharm": {
     "name": "#%%\n"
    }
   }
  },
  {
   "cell_type": "code",
   "execution_count": null,
   "outputs": [],
   "source": [
    "params = {'iterations':5000,\n",
    "          'random_seed':63,\n",
    "          'learning_rate':0.01,\n",
    "          # 'max_depth' : 10,\n",
    "          'eval_metric' : 'AUC',\n",
    "          # 'objective' : 'CrossEntropy',\n",
    "          'loss_function':'CrossEntropy',\n",
    "          # 'custom_metric':['Logloss','AUC'],##, '\n",
    "          'early_stopping_rounds':100,\n",
    "          'use_best_model': True,\n",
    "          'task_type':\"GPU\",\n",
    "        #   'bagging_temperature':1,\n",
    "          'verbose':100}"
   ],
   "metadata": {
    "collapsed": false,
    "pycharm": {
     "name": "#%%\n"
    }
   }
  },
  {
   "cell_type": "code",
   "execution_count": null,
   "outputs": [],
   "source": [
    "model_basic = CatBoostClassifier(**params)#,learning_rate=0.1, task_type=\"GPU\",)\n",
    "# model_basic = CatBoostClassifier(verbose=50)#,learning_rate=0.1, task_type=\"GPU\",)\n",
    "model_basic.fit(train_pool, eval_set=test_pool, use_best_model=True)\n",
    "print(model_basic.get_best_score())"
   ],
   "metadata": {
    "collapsed": false,
    "pycharm": {
     "name": "#%%\n"
    }
   }
  },
  {
   "cell_type": "code",
   "execution_count": null,
   "outputs": [],
   "source": [
    "from matplotlib import pyplot as plt\n",
    "plt.figure(figsize=(20,10))\n",
    "\n",
    "importances = pd.Series(model_basic.feature_importances_, index = train_pool.get_feature_names())\n",
    "importances = importances.sort_values()\n",
    "importances.plot(kind = \"barh\")\n",
    "plt.title(\"importance in the CBClassifier Model\")\n",
    "\n",
    "plt.show()"
   ],
   "metadata": {
    "collapsed": false,
    "pycharm": {
     "name": "#%%\n"
    }
   }
  },
  {
   "cell_type": "code",
   "execution_count": null,
   "outputs": [],
   "source": [
    "print(\"train ACC :\", model_basic.score(train_pool))\n",
    "print(\"test ACC :\", model_basic.score(test_pool))\n",
    "\n",
    "pred = model_basic.predict_proba(test_pool)[:,1]\n",
    "print(\"test AUC :\", roc_auc_score(y_test_cb, pred))"
   ],
   "metadata": {
    "collapsed": false,
    "pycharm": {
     "name": "#%%\n"
    }
   }
  },
  {
   "cell_type": "code",
   "execution_count": null,
   "outputs": [],
   "source": [
    "print(\"test set 평균, 최대값, 최소값\")\n",
    "print(pred.mean())\n",
    "print(pred.max())\n",
    "print(pred.min())"
   ],
   "metadata": {
    "collapsed": false,
    "pycharm": {
     "name": "#%%\n"
    }
   }
  },
  {
   "cell_type": "code",
   "execution_count": null,
   "outputs": [],
   "source": [
    "cb_train_preds = model_basic.predict_proba(train_pool)[:,-1]\n",
    "cb_valid_preds = model_basic.predict_proba(test_pool)[:,-1]"
   ],
   "metadata": {
    "collapsed": false,
    "pycharm": {
     "name": "#%%\n"
    }
   }
  },
  {
   "cell_type": "code",
   "execution_count": null,
   "outputs": [],
   "source": [
    "# inference\n",
    "infer_cbc = model_basic.predict_proba(infer_pool)[:,1]\n",
    "infer_cbc[:10]"
   ],
   "metadata": {
    "collapsed": false,
    "pycharm": {
     "name": "#%%\n"
    }
   }
  },
  {
   "cell_type": "code",
   "execution_count": null,
   "outputs": [],
   "source": [
    "len(infer_cbc)"
   ],
   "metadata": {
    "collapsed": false,
    "pycharm": {
     "name": "#%%\n"
    }
   }
  },
  {
   "cell_type": "code",
   "execution_count": null,
   "outputs": [],
   "source": [
    "print(\"infer set 평균, 최대값, 최소값\")\n",
    "print(infer_cbc.mean())\n",
    "print(infer_cbc.max())\n",
    "print(infer_cbc.min())"
   ],
   "metadata": {
    "collapsed": false,
    "pycharm": {
     "name": "#%%\n"
    }
   }
  },
  {
   "cell_type": "code",
   "execution_count": null,
   "outputs": [],
   "source": [
    "output = pd.DataFrame({\"id\":range(744), 'prediction':infer_cbc})\n",
    "output"
   ],
   "metadata": {
    "collapsed": false,
    "pycharm": {
     "name": "#%%\n"
    }
   }
  },
  {
   "cell_type": "code",
   "execution_count": null,
   "outputs": [],
   "source": [
    "output.to_csv(\"cbc_fe_all4.csv\", index=False)\n",
    "print(\"output 저장.\")"
   ],
   "metadata": {
    "collapsed": false,
    "pycharm": {
     "name": "#%%\n"
    }
   }
  },
  {
   "cell_type": "markdown",
   "source": [
    "## Stacking과 Meta Model 사용"
   ],
   "metadata": {
    "collapsed": false,
    "pycharm": {
     "name": "#%% md\n"
    }
   }
  },
  {
   "cell_type": "code",
   "execution_count": 592,
   "outputs": [],
   "source": [
    "lgbm_train_acc = accuracy_score(y_train, np.where(lgbm_train_preds >= 0.5, 1, 0))\n",
    "lgbm_train_auc = roc_auc_score(y_train, lgbm_train_preds)\n",
    "\n",
    "lgbm_valid_acc = accuracy_score(y_test, np.where(lgbm_valid_preds >= 0.5, 1, 0))\n",
    "lgbm_valid_auc = roc_auc_score(y_test, lgbm_valid_preds)\n",
    "\n",
    "xg_train_preds = xg_train_preds[:,-1]\n",
    "xg_valid_preds = xg_valid_preds[:,-1]\n",
    "\n",
    "xgboost_train_acc = accuracy_score(y_train, np.where(xg_train_preds >= 0.5, 1, 0))\n",
    "xgboost_train_auc = roc_auc_score(y_train, xg_train_preds)\n",
    "\n",
    "xgboost_valid_acc = accuracy_score(y_test, np.where(xg_valid_preds >= 0.5, 1, 0))\n",
    "xgboost_valid_auc = roc_auc_score(y_test, xg_valid_preds)\n",
    "\n",
    "# catboost_train_acc = accuracy_score(y_train_cb, np.where(cb_train_preds >= 0.5, 1, 0))\n",
    "# catboost_train_auc = roc_auc_score(y_train_cb, cb_train_preds)\n",
    "#\n",
    "# catboost_valid_acc = accuracy_score(y_test_cb, np.where(cb_valid_preds >= 0.5, 1, 0))\n",
    "# catboost_valid_auc = roc_auc_score(y_test_cb, cb_valid_preds)"
   ],
   "metadata": {
    "collapsed": false,
    "pycharm": {
     "name": "#%%\n"
    }
   }
  },
  {
   "cell_type": "code",
   "execution_count": 593,
   "outputs": [],
   "source": [
    "from sklearn.linear_model import LogisticRegression\n",
    "from sklearn.naive_bayes import GaussianNB\n",
    "from sklearn.tree import DecisionTreeClassifier\n",
    "\n",
    "ensemble_train = pd.DataFrame()\n",
    "ensemble_train['lightgbm'] = lgbm_train_preds\n",
    "ensemble_train['xgboost'] = xg_train_preds\n",
    "# ensemble_train['catboost'] = cb_train_preds\n",
    "\n",
    "meta_model = GaussianNB()\n",
    "meta_model.fit(ensemble_train, y_train)\n",
    "\n",
    "meta_train_pred = meta_model.predict_proba(ensemble_train)\n",
    "meta_train_pred = meta_train_pred[:,-1]\n",
    "\n",
    "meta_train_acc = accuracy_score(y_train, np.where(meta_train_pred >= 0.5, 1, 0))\n",
    "meta_train_auc = roc_auc_score(y_train, meta_train_pred)"
   ],
   "metadata": {
    "collapsed": false,
    "pycharm": {
     "name": "#%%\n"
    }
   }
  },
  {
   "cell_type": "code",
   "execution_count": 594,
   "outputs": [],
   "source": [
    "ensemble_valid = pd.DataFrame()\n",
    "ensemble_valid['lightgbm'] = lgbm_valid_preds\n",
    "ensemble_valid['xgboost'] = xg_valid_preds\n",
    "# ensemble_valid['catboost'] = cb_valid_preds\n",
    "\n",
    "meta_valid_pred = meta_model.predict_proba(ensemble_valid)\n",
    "meta_valid_pred = meta_valid_pred[:,-1]\n",
    "meta_valid_acc = accuracy_score(y_test, np.where(meta_valid_pred >= 0.5, 1, 0))\n",
    "meta_valid_auc = roc_auc_score(y_test, meta_valid_pred)"
   ],
   "metadata": {
    "collapsed": false,
    "pycharm": {
     "name": "#%%\n"
    }
   }
  },
  {
   "cell_type": "code",
   "execution_count": 595,
   "outputs": [],
   "source": [
    "# 앙상블 기존 방법: 가중 합\n",
    "# train_ensem = (ensemble_train.lightgbm + ensemble_train.xgboost + ensemble_train.catboost)/2\n",
    "train_ensem = (ensemble_train.lightgbm + ensemble_train.xgboost)/2\n",
    "ensem_train_acc = accuracy_score(y_train, np.where(train_ensem >= 0.5, 1, 0))\n",
    "ensem_train_auc = roc_auc_score(y_train, train_ensem)\n",
    "\n",
    "# valid_ensem = (ensemble_valid.lightgbm + ensemble_valid.xgboost + ensemble_valid.catboost)/2\n",
    "valid_ensem = (ensemble_valid.lightgbm + ensemble_valid.xgboost)/2\n",
    "ensem_valid_acc = accuracy_score(y_test, np.where(valid_ensem >= 0.5, 1, 0))\n",
    "ensem_valid_auc = roc_auc_score(y_test, valid_ensem)"
   ],
   "metadata": {
    "collapsed": false,
    "pycharm": {
     "name": "#%%\n"
    }
   }
  },
  {
   "cell_type": "code",
   "execution_count": 596,
   "outputs": [
    {
     "name": "stdout",
     "output_type": "stream",
     "text": [
      "TRAIN LGBM AUC : 0.8435949562103464 ACC : 0.7879768522283733\n",
      "VALID LGBM AUC : 0.825441141750568 ACC : 0.7764586753357073\n",
      "\n",
      "TRAIN XGBOOST AUC : 0.8603065456885014 ACC : 0.798779692048139\n",
      "VALID XGBOOST AUC : 0.8253224427676324 ACC : 0.7764645539799157\n",
      "\n",
      "TRAIN META AUC : 0.8537903732638416 ACC : 0.7933962400947699\n",
      "VALID META AUC : 0.8263644130435972 ACC : 0.7754093373445282\n",
      "\n",
      "TRAIN ENSEM_5 AUC : 0.8532725119653202 ACC : 0.7939327569717247\n",
      "VALID ENSEM_5 AUC : 0.826379132888058 ACC : 0.7769980409418176\n"
     ]
    }
   ],
   "source": [
    "print(f'TRAIN LGBM AUC : {lgbm_train_auc} ACC : {lgbm_train_acc}')\n",
    "print(f'VALID LGBM AUC : {lgbm_valid_auc} ACC : {lgbm_valid_acc}\\n')\n",
    "\n",
    "print(f'TRAIN XGBOOST AUC : {xgboost_train_auc} ACC : {xgboost_train_acc}')\n",
    "print(f'VALID XGBOOST AUC : {xgboost_valid_auc} ACC : {xgboost_valid_acc}\\n')\n",
    "\n",
    "print(f'TRAIN META AUC : {meta_train_auc} ACC : {meta_train_acc}')\n",
    "print(f'VALID META AUC : {meta_valid_auc} ACC : {meta_valid_acc}\\n')\n",
    "\n",
    "print(f'TRAIN ENSEM_5 AUC : {ensem_train_auc} ACC : {ensem_train_acc}')\n",
    "print(f'VALID ENSEM_5 AUC : {ensem_valid_auc} ACC : {ensem_valid_acc}')"
   ],
   "metadata": {
    "collapsed": false,
    "pycharm": {
     "name": "#%%\n"
    }
   }
  },
  {
   "cell_type": "code",
   "execution_count": 597,
   "outputs": [],
   "source": [
    "# LOAD TESTDATA\n",
    "test_csv_file_path = os.path.join(data_dir, 'test_data.csv')\n",
    "test_df = pd.read_csv(test_csv_file_path)\n",
    "\n",
    "# FEATURE ENGINEERING\n",
    "test_df = feature_engineering(test_df)\n",
    "test_df = preprocessing(test_df, is_train=False)\n",
    "\n",
    "test_df = test_df.sort_values(['userID', 'Timestamp'])\n",
    "\n",
    "# diff: nan은 -1 , 600(10분) 이상이면 다 600\n",
    "test_df['diff'] = test_df.sort_values(['userID','Timestamp']).groupby('userID')['Timestamp'].diff()#periods=-1).apply(abs)\n",
    "test_df['diff'].fillna(-1, inplace=True)\n",
    "idx = test_df[test_df['diff'] >= 600].index\n",
    "test_df.loc[idx, 'diff'] = 600\n",
    "\n",
    "tmp = test_df[test_df['diff'] >= 0]\n",
    "correct_k = tmp.groupby(['KnowledgeTag'])['diff'].agg(['mean'])\n",
    "correct_k.columns = ['diffMean']\n",
    "test_df = pd.merge(test_df, correct_k, on=['KnowledgeTag'], how=\"left\")\n",
    "\n",
    "# min max scalar\n",
    "# test_df['mean'] = diff_scalar.transform(test_df['mean'].values.reshape(-1, 1))\n",
    "test_df['user_total_answer'] = user_total_scaler.transform(test_df['user_total_answer'].values.reshape(-1, 1))\n",
    "test_df['user_correct_answer'] = user_correct_scalar.transform(test_df['user_correct_answer'].values.reshape(-1, 1))\n",
    "test_df['Timestamp'] = tmestamp_scalar.transform(test_df['Timestamp'].values.reshape(-1, 1))\n",
    "test_df['test_sum'] = test_sum_scalar.transform(test_df['test_sum'].values.reshape(-1, 1))\n",
    "test_df['tag_sum'] = tag_sum_scalar.transform(test_df['tag_sum'].values.reshape(-1, 1))\n",
    "\n",
    "# LEAVE LAST INTERACTION ONLY\n",
    "test_df = test_df[test_df['userID'] != test_df['userID'].shift(-1)]\n",
    "\n",
    "# DROP ANSWERCODE\n",
    "test_df = test_df.drop(['answerCode'], axis=1)\n",
    "test_df.fillna(0, axis=1, inplace=True)"
   ],
   "metadata": {
    "collapsed": false,
    "pycharm": {
     "name": "#%%\n"
    }
   }
  },
  {
   "cell_type": "code",
   "execution_count": 600,
   "outputs": [],
   "source": [
    "lgbm_test_preds = model.predict(test_df[features])\n",
    "xg_test_preds = xg.predict_proba(test_df[features])\n",
    "xg_test_preds = xg_test_preds[:,-1]\n",
    "\n",
    "## valid\n",
    "ensem_test = pd.DataFrame()\n",
    "ensem_test['lgbm'] = lgbm_test_preds\n",
    "ensem_test['xg'] =  xg_test_preds\n",
    "\n",
    "# meta_test_pred = meta_model.predict_proba(ensem_test)\n",
    "# meta_test_pred = meta_test_pred[:,-1]\n",
    "meta_test_pred = (lgbm_test_preds + xg_test_preds) / 2"
   ],
   "metadata": {
    "collapsed": false,
    "pycharm": {
     "name": "#%%\n"
    }
   }
  },
  {
   "cell_type": "code",
   "execution_count": 601,
   "outputs": [
    {
     "name": "stdout",
     "output_type": "stream",
     "text": [
      "writing prediction : output/lgbm/meta_xg_lgbm.csv\n"
     ]
    }
   ],
   "source": [
    "# SAVE OUTPUT\n",
    "output_dir = 'output/lgbm/'\n",
    "write_path = os.path.join(output_dir, \"meta_xg_lgbm.csv\")\n",
    "if not os.path.exists(output_dir):\n",
    "    os.makedirs(output_dir)\n",
    "with open(write_path, 'w', encoding='utf8') as w:\n",
    "    print(\"writing prediction : {}\".format(write_path))\n",
    "    w.write(\"id,prediction\\n\")\n",
    "    for id, p in enumerate(meta_test_pred):\n",
    "        w.write('{},{}\\n'.format(id,p))"
   ],
   "metadata": {
    "collapsed": false,
    "pycharm": {
     "name": "#%%\n"
    }
   }
  },
  {
   "cell_type": "code",
   "execution_count": null,
   "outputs": [],
   "source": [],
   "metadata": {
    "collapsed": false,
    "pycharm": {
     "name": "#%%\n"
    }
   }
  }
 ],
 "metadata": {
  "kernelspec": {
   "display_name": "Python 3",
   "language": "python",
   "name": "python3"
  },
  "language_info": {
   "codemirror_mode": {
    "name": "ipython",
    "version": 2
   },
   "file_extension": ".py",
   "mimetype": "text/x-python",
   "name": "python",
   "nbconvert_exporter": "python",
   "pygments_lexer": "ipython2",
   "version": "2.7.6"
  }
 },
 "nbformat": 4,
 "nbformat_minor": 0
}