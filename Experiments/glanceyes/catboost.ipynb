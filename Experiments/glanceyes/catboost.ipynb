{
 "cells": [
  {
   "cell_type": "code",
   "execution_count": 580,
   "metadata": {
    "collapsed": true
   },
   "outputs": [],
   "source": [
    "import pandas as pd\n",
    "import numpy as np\n",
    "from sklearn.metrics import roc_auc_score\n",
    "from sklearn.metrics import accuracy_score\n",
    "import os\n",
    "import random\n",
    "from sklearn.preprocessing import LabelEncoder\n",
    "from sklearn.preprocessing import MinMaxScaler\n",
    "import pickle\n",
    "import time\n",
    "from datetime import datetime\n",
    "from catboost import CatBoostClassifier, Pool\n",
    "import matplotlib.pyplot as plt"
   ]
  },
  {
   "cell_type": "code",
   "execution_count": 581,
   "outputs": [],
   "source": [
    "train_df = pd.read_csv(\"/opt/ml/input/data/train_data.csv\")\n",
    "test_df = pd.read_csv(\"/opt/ml/input/data/test_data.csv\")"
   ],
   "metadata": {
    "collapsed": false,
    "pycharm": {
     "name": "#%%\n"
    }
   }
  },
  {
   "cell_type": "code",
   "execution_count": 582,
   "outputs": [
    {
     "data": {
      "text/plain": "         userID assessmentItemID      testId  answerCode            Timestamp  \\\n0             0       A060001001  A060000001           1  2020-03-24 00:17:11   \n1             0       A060001002  A060000001           1  2020-03-24 00:17:14   \n2             0       A060001003  A060000001           1  2020-03-24 00:17:22   \n3             0       A060001004  A060000001           1  2020-03-24 00:17:29   \n4             0       A060001005  A060000001           1  2020-03-24 00:17:36   \n...         ...              ...         ...         ...                  ...   \n2266581    7441       A030071005  A030000071           0  2020-06-05 06:50:21   \n2266582    7441       A040165001  A040000165           1  2020-08-21 01:06:39   \n2266583    7441       A040165002  A040000165           1  2020-08-21 01:06:50   \n2266584    7441       A040165003  A040000165           1  2020-08-21 01:07:36   \n2266585    7441       A040165004  A040000165           1  2020-08-21 01:08:49   \n\n         KnowledgeTag  \n0                7224  \n1                7225  \n2                7225  \n3                7225  \n4                7225  \n...               ...  \n2266581           438  \n2266582          8836  \n2266583          8836  \n2266584          8836  \n2266585          8836  \n\n[2266586 rows x 6 columns]",
      "text/html": "<div>\n<style scoped>\n    .dataframe tbody tr th:only-of-type {\n        vertical-align: middle;\n    }\n\n    .dataframe tbody tr th {\n        vertical-align: top;\n    }\n\n    .dataframe thead th {\n        text-align: right;\n    }\n</style>\n<table border=\"1\" class=\"dataframe\">\n  <thead>\n    <tr style=\"text-align: right;\">\n      <th></th>\n      <th>userID</th>\n      <th>assessmentItemID</th>\n      <th>testId</th>\n      <th>answerCode</th>\n      <th>Timestamp</th>\n      <th>KnowledgeTag</th>\n    </tr>\n  </thead>\n  <tbody>\n    <tr>\n      <th>0</th>\n      <td>0</td>\n      <td>A060001001</td>\n      <td>A060000001</td>\n      <td>1</td>\n      <td>2020-03-24 00:17:11</td>\n      <td>7224</td>\n    </tr>\n    <tr>\n      <th>1</th>\n      <td>0</td>\n      <td>A060001002</td>\n      <td>A060000001</td>\n      <td>1</td>\n      <td>2020-03-24 00:17:14</td>\n      <td>7225</td>\n    </tr>\n    <tr>\n      <th>2</th>\n      <td>0</td>\n      <td>A060001003</td>\n      <td>A060000001</td>\n      <td>1</td>\n      <td>2020-03-24 00:17:22</td>\n      <td>7225</td>\n    </tr>\n    <tr>\n      <th>3</th>\n      <td>0</td>\n      <td>A060001004</td>\n      <td>A060000001</td>\n      <td>1</td>\n      <td>2020-03-24 00:17:29</td>\n      <td>7225</td>\n    </tr>\n    <tr>\n      <th>4</th>\n      <td>0</td>\n      <td>A060001005</td>\n      <td>A060000001</td>\n      <td>1</td>\n      <td>2020-03-24 00:17:36</td>\n      <td>7225</td>\n    </tr>\n    <tr>\n      <th>...</th>\n      <td>...</td>\n      <td>...</td>\n      <td>...</td>\n      <td>...</td>\n      <td>...</td>\n      <td>...</td>\n    </tr>\n    <tr>\n      <th>2266581</th>\n      <td>7441</td>\n      <td>A030071005</td>\n      <td>A030000071</td>\n      <td>0</td>\n      <td>2020-06-05 06:50:21</td>\n      <td>438</td>\n    </tr>\n    <tr>\n      <th>2266582</th>\n      <td>7441</td>\n      <td>A040165001</td>\n      <td>A040000165</td>\n      <td>1</td>\n      <td>2020-08-21 01:06:39</td>\n      <td>8836</td>\n    </tr>\n    <tr>\n      <th>2266583</th>\n      <td>7441</td>\n      <td>A040165002</td>\n      <td>A040000165</td>\n      <td>1</td>\n      <td>2020-08-21 01:06:50</td>\n      <td>8836</td>\n    </tr>\n    <tr>\n      <th>2266584</th>\n      <td>7441</td>\n      <td>A040165003</td>\n      <td>A040000165</td>\n      <td>1</td>\n      <td>2020-08-21 01:07:36</td>\n      <td>8836</td>\n    </tr>\n    <tr>\n      <th>2266585</th>\n      <td>7441</td>\n      <td>A040165004</td>\n      <td>A040000165</td>\n      <td>1</td>\n      <td>2020-08-21 01:08:49</td>\n      <td>8836</td>\n    </tr>\n  </tbody>\n</table>\n<p>2266586 rows × 6 columns</p>\n</div>"
     },
     "execution_count": 582,
     "metadata": {},
     "output_type": "execute_result"
    }
   ],
   "source": [
    "train_df"
   ],
   "metadata": {
    "collapsed": false,
    "pycharm": {
     "name": "#%%\n"
    }
   }
  },
  {
   "cell_type": "code",
   "execution_count": 583,
   "outputs": [],
   "source": [
    "def add_user_recent_acc(train_df, shift_size=5):\n",
    "    train_df = train_df.sort_values(by=['userID'])\n",
    "    train_df_temp = train_df.copy()\n",
    "\n",
    "    # 새롭게 이력이 시작되는 유저 구함\n",
    "    user_start_pos = train_df['userID'].diff() > 0\n",
    "    train_df_temp['previous_answer_count'] = train_df_temp.groupby('userID')['answerCode'].cumsum().shift(fill_value=0)\n",
    "    train_df_temp['shift_previous_answer_count'] = train_df_temp.groupby('userID')['answerCode'].cumsum().shift(fill_value=0)\n",
    "    train_df_temp.loc[user_start_pos, ['previous_answer_count', 'shift_previous_answer_count']] = 0\n",
    "    train_df_temp['shift_previous_answer_count'] = train_df_temp['shift_previous_answer_count'].shift(shift_size)\n",
    "    train_df_temp['temp'] = len(train_df_temp) * [1]\n",
    "    train_df_temp['previous_problem_count'] = train_df_temp.groupby('userID')['temp'].cumsum().shift(fill_value=0)\n",
    "    train_df_temp['previous_problem_count'] = train_df_temp['previous_problem_count'].apply(lambda x: shift_size if x > shift_size else x)\n",
    "    train_df_temp.loc[user_start_pos, ['previous_problem_count']] = 0\n",
    "\n",
    "    train_df_temp['shift_previous_answer_count'] = train_df_temp.apply(lambda x: 0 if x['previous_problem_count'] < shift_size else x['shift_previous_answer_count'], axis=1)\n",
    "    train_df_temp['count'] = train_df_temp['previous_answer_count'] - train_df_temp['shift_previous_answer_count']\n",
    "    train_df['user_recent_acc'] = (train_df_temp['count'] / train_df_temp['previous_problem_count']).fillna(0)\n",
    "    return train_df"
   ],
   "metadata": {
    "collapsed": false,
    "pycharm": {
     "name": "#%%\n"
    }
   }
  },
  {
   "cell_type": "code",
   "execution_count": 584,
   "outputs": [],
   "source": [
    "# make sum_rel_point, 'item_ans_rate' feature 사용\n",
    "def fill_rel_point(df):\n",
    "    arr = np.zeros(len(df))\n",
    "    start_idx = 0\n",
    "\n",
    "    for i in range(len(df)):\n",
    "        row = df.iloc[i, :].copy()\n",
    "        answer = row['answerCode']\n",
    "        item_ans_rate = row['item_ans_rate']\n",
    "\n",
    "        if answer == 1:\n",
    "            arr[i] = 1 - item_ans_rate\n",
    "        elif answer == 0:\n",
    "            arr[i] = - item_ans_rate\n",
    "        elif answer == -1:\n",
    "\n",
    "            avg_rel_point = np.mean(arr[start_idx : i])\n",
    "            start_idx = i + 1\n",
    "            arr[i] = avg_rel_point\n",
    "\n",
    "    df['rel_point'] = pd.Series(arr)\n",
    "    return df\n",
    "\n",
    "def sum_point(df):\n",
    "    grouped = df.groupby('userID')['rel_point']\n",
    "    arr = np.zeros(len(df))\n",
    "    start_idx = 0\n",
    "    cnt = 0\n",
    "    for _, group in grouped:\n",
    "        cnt += 1\n",
    "        point_sum = group.iloc[:len(group)-1].sum()\n",
    "        arr[start_idx:start_idx+len(group)] = point_sum\n",
    "        start_idx = start_idx + len(group)\n",
    "\n",
    "    df['sum_rel_point'] = pd.Series(arr)\n",
    "    return df"
   ],
   "metadata": {
    "collapsed": false,
    "pycharm": {
     "name": "#%%\n"
    }
   }
  },
  {
   "cell_type": "code",
   "execution_count": 585,
   "outputs": [],
   "source": [
    "def add_user_test_exp(df):\n",
    "    # 유저가 해당 시험을 풀어본 경험이 있는지\n",
    "    df = df.sort_values(by=['userID', 'Timestamp']).reset_index(drop=True)\n",
    "\n",
    "    df[\"user_test_exp\"] = df.groupby([\"userID\", \"testId\"])['testId'].cumcount()\n",
    "    df['user_test_exp'] = df[\"user_test_exp\"].apply(lambda x : 1 if x > 0 else 0)\n",
    "    return df"
   ],
   "metadata": {
    "collapsed": false,
    "pycharm": {
     "name": "#%%\n"
    }
   }
  },
  {
   "cell_type": "code",
   "execution_count": 586,
   "outputs": [],
   "source": [
    "train_df = add_user_recent_acc(train_df)\n",
    "test_df = add_user_recent_acc(test_df)"
   ],
   "metadata": {
    "collapsed": false,
    "pycharm": {
     "name": "#%%\n"
    }
   }
  },
  {
   "cell_type": "code",
   "execution_count": 587,
   "outputs": [],
   "source": [
    "# train_df = add_user_problem_exp(train_df)\n",
    "# test_df = add_user_problem_exp(test_df)"
   ],
   "metadata": {
    "collapsed": false,
    "pycharm": {
     "name": "#%%\n"
    }
   }
  },
  {
   "cell_type": "code",
   "execution_count": 588,
   "outputs": [],
   "source": [
    "# train_df = add_user_test_exp(train_df)\n",
    "# test_df = add_user_test_exp(test_df)"
   ],
   "metadata": {
    "collapsed": false,
    "pycharm": {
     "name": "#%%\n"
    }
   }
  },
  {
   "cell_type": "code",
   "execution_count": 589,
   "outputs": [],
   "source": [
    "# train_df"
   ],
   "metadata": {
    "collapsed": false,
    "pycharm": {
     "name": "#%%\n"
    }
   }
  },
  {
   "cell_type": "code",
   "execution_count": 590,
   "outputs": [],
   "source": [
    "# train과 test 데이터셋은 사용자 별로 묶어서 분리를 해주어야함\n",
    "random.seed(42)\n",
    "def custom_train_test_split(df, ratio=0.8):\n",
    "\n",
    "    users = list(zip(df['userID'].value_counts().index, df['userID'].value_counts()))\n",
    "    random.shuffle(users)\n",
    "\n",
    "    max_train_data_len = ratio * len(df)\n",
    "    sum_of_train_data = 0\n",
    "    user_ids =[]\n",
    "\n",
    "    for user_id, count in users:\n",
    "        sum_of_train_data += count\n",
    "        if max_train_data_len < sum_of_train_data:\n",
    "            break\n",
    "        user_ids.append(user_id)\n",
    "\n",
    "\n",
    "    train = df[df['userID'].isin(user_ids)]\n",
    "    test = df[df['userID'].isin(user_ids) == False]\n",
    "\n",
    "    #test데이터셋은 각 유저의 마지막 interaction만 추출\n",
    "    test = test[test['userID'] != test['userID'].shift(-1)]\n",
    "    return train, test"
   ],
   "metadata": {
    "collapsed": false,
    "pycharm": {
     "name": "#%%\n"
    }
   }
  },
  {
   "cell_type": "code",
   "execution_count": 591,
   "outputs": [],
   "source": [
    "def feature_engineering(df):\n",
    "    scaler= MinMaxScaler()\n",
    "    def convert_time(s):\n",
    "        timestamp = time.mktime(\n",
    "            datetime.strptime(s, \"%Y-%m-%d %H:%M:%S\").timetuple()\n",
    "        )\n",
    "        return int(timestamp)\n",
    "\n",
    "    df[\"Timestamp\"] = df[\"Timestamp\"].apply(convert_time)\n",
    "\n",
    "    # --- diff\n",
    "    # df['diff'] = df.sort_values(['userID','Timestamp']).groupby('userID')['Timestamp'].diff(periods=1).apply(abs)\n",
    "    df['diff'] = df.sort_values(['userID','Timestamp']).groupby('userID')['Timestamp'].diff()\n",
    "\n",
    "    # nan은 -1\n",
    "    # 600(10분) 이상이면 다 600\n",
    "    df['diff'].fillna(-1, inplace=True)\n",
    "    idx = df[df['diff'] >= 600].index\n",
    "    df.loc[idx, 'diff'] = 600\n",
    "\n",
    "    # # --- mean 태그별 문제 풀이 평균 시간\n",
    "    tmp= df[df['diff']>=0]\n",
    "    correct_k= tmp.groupby(['KnowledgeTag'])['diff'].agg(['mean'])\n",
    "    df= pd.merge(df, correct_k, on=['KnowledgeTag'], how= 'left')\n",
    "    # df['mean']= scaler.fit_transform(df['mean'].values.reshape(-1, 1)).reshape(-1) # minmax scaling\n",
    "\n",
    "\n",
    "    # --- before_tag 이전 태그 문제 풀이 여부\n",
    "    df2= df.sort_values(['userID','KnowledgeTag','Timestamp'])\n",
    "    df2.reset_index(inplace=True, drop=True)\n",
    "    df2['cumsum']= df2.groupby(['userID','KnowledgeTag'])['answerCode'].cumsum()\n",
    "    df2['temp']= 1\n",
    "    df2['seq']= df2.groupby(['userID','KnowledgeTag'])['temp'].cumsum()\n",
    "    df2.drop(['temp'], axis=1, inplace=True)\n",
    "    df2['cumsum'] -= df2['answerCode']\n",
    "\n",
    "    df2['seq'] -= 1\n",
    "    df2['before_tag']= df2['cumsum']/df2['seq']\n",
    "\n",
    "    tag_avg= dict(df2.groupby(['KnowledgeTag'])['answerCode'].mean())\n",
    "    def match_avg(x):\n",
    "        if x>1:\n",
    "            return tag_avg[x]\n",
    "        else:\n",
    "            return x\n",
    "\n",
    "    df2['before_tag'].fillna(df2.KnowledgeTag, inplace=True)\n",
    "    df2['before_tag']= df2['before_tag'].apply(match_avg)\n",
    "    df2.loc[df2[df2['before_tag'] >= 0.5].index,'before_tag'] = 1\n",
    "    df2.loc[df2[df2['before_tag'] < 0.5].index,'before_tag'] = 0\n",
    "\n",
    "    df= pd.merge(df2[['userID','assessmentItemID','Timestamp','before_tag']],df, on=['userID','assessmentItemID','Timestamp'])\n",
    "\n",
    "    # # --- user_correct_answer\n",
    "    df2= df.sort_values(by=['userID','Timestamp'])\n",
    "    df2['user_correct_answer'] = df2.groupby('userID')['answerCode'].transform(lambda x: x.cumsum().shift(1))\n",
    "    df2['user_correct_answer'].fillna(0)\n",
    "\n",
    "    # # --- user_acc\n",
    "    df2['user_total_answer'] = df2.groupby('userID')['answerCode'].cumcount()\n",
    "    df2['user_acc'] = df2['user_correct_answer']/df2['user_total_answer']\n",
    "\n",
    "    # df2['user_correct_answer']= scaler.fit_transform(df2['user_correct_answer'].values.reshape(-1, 1)).reshape(-1)\n",
    "\n",
    "    # # test mean, sum\n",
    "    correct_t = df2.groupby(['testId'])['answerCode'].agg(['mean', 'sum'])\n",
    "    correct_t.columns = [\"test_mean\", 'test_sum']\n",
    "    df2 = pd.merge(df2, correct_t, on=['testId'], how=\"left\")\n",
    "    # df2['test_mean']= scaler.fit_transform(df2['test_mean'].values.reshape(-1,1)).reshape(-1)\n",
    "    # df2['test_sum']= scaler.fit_transform(df2['test_sum'].values.reshape(-1,1)).reshape(-1)\n",
    "\n",
    "    df= pd.merge(df2[['userID','assessmentItemID','Timestamp','user_correct_answer', 'user_acc', 'test_mean', 'test_sum']],df, on=['userID','assessmentItemID','Timestamp'])\n",
    "\n",
    "    # # --- test_seq\n",
    "    df2= df.sort_values(['userID','testId','Timestamp'])\n",
    "    df2.reset_index(inplace=True, drop=True)\n",
    "    df2['test_seq']= df2.groupby(['userID','testId']).cumcount()\n",
    "    # self.args.num_test_seq= df2['test_seq'].max()+2 # 개수 + 패딩\n",
    "    df= pd.merge(df2[['userID','assessmentItemID','Timestamp','test_seq']], df, on=['userID','assessmentItemID','Timestamp'])\n",
    "\n",
    "    # # --- Timestamp 스케일링\n",
    "    # df['Timestamp']= scaler.fit_transform(df['Timestamp'].values.reshape(-1,1)).reshape(-1)\n",
    "\n",
    "    df['item']= df['assessmentItemID']\n",
    "\n",
    "    def percentile(s):\n",
    "        return np.sum(s) / len(s)\n",
    "    prob_groupby = df.groupby('assessmentItemID').agg({\n",
    "    'userID': 'count',\n",
    "    'answerCode': percentile})\n",
    "    num_mean= prob_groupby.userID.mean()\n",
    "\n",
    "    knowledgetags = df.KnowledgeTag\n",
    "    knowledgetag_stroke = np.zeros(knowledgetags.shape)\n",
    "\n",
    "    for i, k in enumerate(knowledgetags):\n",
    "        if i == 0:\n",
    "            continue\n",
    "\n",
    "        if k == knowledgetags[i-1]:\n",
    "            knowledgetag_stroke[i] = knowledgetag_stroke[i-1] + 1\n",
    "\n",
    "    df['knowledgetag_stroke'] = knowledgetag_stroke\n",
    "\n",
    "    return df\n",
    "\n",
    "    # # 태그 유형별 정답률\n",
    "    # din_tag= np.load('/opt/ml/input/data/din_tag.npy')\n",
    "    # in_tag= np.load('/opt/ml/input/data/in_tag.npy')\n",
    "\n",
    "    # tag= df[['assessmentItemID','KnowledgeTag']]\n",
    "    # tag= tag.drop_duplicates('assessmentItemID', keep='first')\n",
    "    # prob_groupby= pd.merge(prob_groupby, tag, on='assessmentItemID', how='right')\n",
    "\n",
    "    # up_avg= prob_groupby[prob_groupby.userID >= num_mean]\n",
    "    # down_avg= prob_groupby[prob_groupby.userID < num_mean]\n",
    "\n",
    "    # up_avg1= pd.DataFrame(up_avg.groupby('KnowledgeTag').agg({'answerCode':'mean'}))\n",
    "    # up_avg1.reset_index(inplace=True)\n",
    "    # up_avg1.rename({'answerCode':'tagAr'}, axis=1, inplace=True)\n",
    "    # down_avg1= pd.DataFrame(down_avg.groupby('KnowledgeTag').agg({'answerCode':'mean'}))\n",
    "    # down_avg1.reset_index(inplace=True)\n",
    "    # down_avg1.rename({'answerCode':'tagAr'}, axis=1, inplace=True)\n",
    "\n",
    "    # # ## 로그 스케일링\n",
    "    # up_avg1.loc[up_avg1[up_avg1.KnowledgeTag.isin(in_tag)].index,'tagAr']=up_avg1[up_avg1.KnowledgeTag.isin(in_tag)]['tagAr'].apply(np.log1p)\n",
    "    # down_avg1.loc[down_avg1[down_avg1.KnowledgeTag.isin(din_tag)].index,'tagAr']=down_avg1[down_avg1.KnowledgeTag.isin(din_tag)]['tagAr'].apply(np.log1p)\n",
    "\n",
    "    # new_up_avg= pd.merge(up_avg, up_avg1,on='KnowledgeTag')\n",
    "    # new_down_avg= pd.merge(down_avg, down_avg1,on='KnowledgeTag')\n",
    "\n",
    "    # new_down_avg.tagAr *=new_down_avg.userID/1000\n",
    "    # new_down_avg.tagAr *=new_down_avg.userID/1000\n",
    "\n",
    "    # new_= pd.concat([new_up_avg, new_down_avg], axis=0)\n",
    "    # df= pd.merge(new_[['assessmentItemID','KnowledgeTag']], df, on=['assessmentItemID','KnowledgeTag'], how='left')"
   ],
   "metadata": {
    "collapsed": false,
    "pycharm": {
     "name": "#%%\n"
    }
   }
  },
  {
   "cell_type": "code",
   "execution_count": 592,
   "outputs": [],
   "source": [
    "from sklearn.preprocessing import MinMaxScaler\n",
    "\n",
    "def scaling(df, ms=None, tms=None, ts=None, tss=None, is_train=True):\n",
    "\n",
    "    if is_train:\n",
    "        mean_scaler = MinMaxScaler()\n",
    "        test_mean_scalar = MinMaxScaler()\n",
    "        tmestamp_scalar = MinMaxScaler()\n",
    "        test_sum_scalar = MinMaxScaler()\n",
    "\n",
    "        df['mean'] = mean_scaler.fit_transform(df['mean'].values.reshape(-1, 1))\n",
    "        df['test_mean'] = test_mean_scalar.fit_transform(df['test_mean'].values.reshape(-1, 1))\n",
    "        df['Timestamp'] = tmestamp_scalar.fit_transform(df['Timestamp'].values.reshape(-1, 1))\n",
    "        df['test_sum'] = test_sum_scalar.fit_transform(df['test_sum'].values.reshape(-1, 1))\n",
    "\n",
    "        return mean_scaler, test_mean_scalar, tmestamp_scalar, test_sum_scalar, df\n",
    "\n",
    "    else:\n",
    "        df['mean'] = ms.transform(df['mean'].values.reshape(-1, 1))\n",
    "        df['test_mean'] = tms.transform(df['test_mean'].values.reshape(-1, 1))\n",
    "        df['Timestamp'] = ts.transform(df['Timestamp'].values.reshape(-1, 1))\n",
    "        df['test_sum'] = tss.transform(df['test_sum'].values.reshape(-1, 1))\n",
    "\n",
    "        return df"
   ],
   "metadata": {
    "collapsed": false,
    "pycharm": {
     "name": "#%%\n"
    }
   }
  },
  {
   "cell_type": "code",
   "execution_count": 593,
   "outputs": [],
   "source": [
    "train_df_fe = feature_engineering(train_df)"
   ],
   "metadata": {
    "collapsed": false,
    "pycharm": {
     "name": "#%%\n"
    }
   }
  },
  {
   "cell_type": "code",
   "execution_count": 594,
   "outputs": [
    {
     "data": {
      "text/plain": "         userID assessmentItemID   Timestamp  test_seq  user_correct_answer  \\\n0             0       A020172001  1602414407         0                359.0   \n1             0       A020172002  1602414416         1                360.0   \n2             0       A020172003  1602414433         2                361.0   \n3             0       A020172004  1602414466         3                362.0   \n4             0       A020172005  1602414500         4                363.0   \n...         ...              ...         ...       ...                  ...   \n2266581    7441       A030071005  1591339821         4                  1.0   \n2266582    7441       A040165001  1597971999         0                  1.0   \n2266583    7441       A040165002  1597972010         1                  2.0   \n2266584    7441       A040165003  1597972056         2                  3.0   \n2266585    7441       A040165004  1597972129         3                  4.0   \n\n         user_acc  test_mean  test_sum  before_tag      testId  answerCode  \\\n0        0.614726   0.581573       991         1.0  A020000172           1   \n1        0.615385   0.581573       991         1.0  A020000172           1   \n2        0.616041   0.581573       991         1.0  A020000172           1   \n3        0.616695   0.581573       991         1.0  A020000172           1   \n4        0.617347   0.581573       991         1.0  A020000172           0   \n...           ...        ...       ...         ...         ...         ...   \n2266581  0.250000   0.662590       921         0.0  A030000071           0   \n2266582  0.200000   0.655109       718         1.0  A040000165           1   \n2266583  0.333333   0.655109       718         1.0  A040000165           1   \n2266584  0.428571   0.655109       718         1.0  A040000165           1   \n2266585  0.500000   0.655109       718         1.0  A040000165           1   \n\n         KnowledgeTag  user_recent_acc   diff        mean        item  \\\n0                8132              0.6  600.0  168.459953  A020172001   \n1                8132              0.8    9.0  168.459953  A020172002   \n2                8132              0.8   17.0  168.459953  A020172003   \n3                8132              1.0   33.0  168.459953  A020172004   \n4                8132              1.0   34.0  168.459953  A020172005   \n...               ...              ...    ...         ...         ...   \n2266581           438              0.4   24.0  160.095250  A030071005   \n2266582          8836              0.2  600.0  162.502079  A040165001   \n2266583          8836              0.4   11.0  162.502079  A040165002   \n2266584          8836              0.0   46.0  162.502079  A040165003   \n2266585          8836              0.6   73.0  162.502079  A040165004   \n\n         knowledgetag_stroke  \n0                        0.0  \n1                        1.0  \n2                        2.0  \n3                        3.0  \n4                        4.0  \n...                      ...  \n2266581                  4.0  \n2266582                  0.0  \n2266583                  1.0  \n2266584                  2.0  \n2266585                  3.0  \n\n[2266586 rows x 17 columns]",
      "text/html": "<div>\n<style scoped>\n    .dataframe tbody tr th:only-of-type {\n        vertical-align: middle;\n    }\n\n    .dataframe tbody tr th {\n        vertical-align: top;\n    }\n\n    .dataframe thead th {\n        text-align: right;\n    }\n</style>\n<table border=\"1\" class=\"dataframe\">\n  <thead>\n    <tr style=\"text-align: right;\">\n      <th></th>\n      <th>userID</th>\n      <th>assessmentItemID</th>\n      <th>Timestamp</th>\n      <th>test_seq</th>\n      <th>user_correct_answer</th>\n      <th>user_acc</th>\n      <th>test_mean</th>\n      <th>test_sum</th>\n      <th>before_tag</th>\n      <th>testId</th>\n      <th>answerCode</th>\n      <th>KnowledgeTag</th>\n      <th>user_recent_acc</th>\n      <th>diff</th>\n      <th>mean</th>\n      <th>item</th>\n      <th>knowledgetag_stroke</th>\n    </tr>\n  </thead>\n  <tbody>\n    <tr>\n      <th>0</th>\n      <td>0</td>\n      <td>A020172001</td>\n      <td>1602414407</td>\n      <td>0</td>\n      <td>359.0</td>\n      <td>0.614726</td>\n      <td>0.581573</td>\n      <td>991</td>\n      <td>1.0</td>\n      <td>A020000172</td>\n      <td>1</td>\n      <td>8132</td>\n      <td>0.6</td>\n      <td>600.0</td>\n      <td>168.459953</td>\n      <td>A020172001</td>\n      <td>0.0</td>\n    </tr>\n    <tr>\n      <th>1</th>\n      <td>0</td>\n      <td>A020172002</td>\n      <td>1602414416</td>\n      <td>1</td>\n      <td>360.0</td>\n      <td>0.615385</td>\n      <td>0.581573</td>\n      <td>991</td>\n      <td>1.0</td>\n      <td>A020000172</td>\n      <td>1</td>\n      <td>8132</td>\n      <td>0.8</td>\n      <td>9.0</td>\n      <td>168.459953</td>\n      <td>A020172002</td>\n      <td>1.0</td>\n    </tr>\n    <tr>\n      <th>2</th>\n      <td>0</td>\n      <td>A020172003</td>\n      <td>1602414433</td>\n      <td>2</td>\n      <td>361.0</td>\n      <td>0.616041</td>\n      <td>0.581573</td>\n      <td>991</td>\n      <td>1.0</td>\n      <td>A020000172</td>\n      <td>1</td>\n      <td>8132</td>\n      <td>0.8</td>\n      <td>17.0</td>\n      <td>168.459953</td>\n      <td>A020172003</td>\n      <td>2.0</td>\n    </tr>\n    <tr>\n      <th>3</th>\n      <td>0</td>\n      <td>A020172004</td>\n      <td>1602414466</td>\n      <td>3</td>\n      <td>362.0</td>\n      <td>0.616695</td>\n      <td>0.581573</td>\n      <td>991</td>\n      <td>1.0</td>\n      <td>A020000172</td>\n      <td>1</td>\n      <td>8132</td>\n      <td>1.0</td>\n      <td>33.0</td>\n      <td>168.459953</td>\n      <td>A020172004</td>\n      <td>3.0</td>\n    </tr>\n    <tr>\n      <th>4</th>\n      <td>0</td>\n      <td>A020172005</td>\n      <td>1602414500</td>\n      <td>4</td>\n      <td>363.0</td>\n      <td>0.617347</td>\n      <td>0.581573</td>\n      <td>991</td>\n      <td>1.0</td>\n      <td>A020000172</td>\n      <td>0</td>\n      <td>8132</td>\n      <td>1.0</td>\n      <td>34.0</td>\n      <td>168.459953</td>\n      <td>A020172005</td>\n      <td>4.0</td>\n    </tr>\n    <tr>\n      <th>...</th>\n      <td>...</td>\n      <td>...</td>\n      <td>...</td>\n      <td>...</td>\n      <td>...</td>\n      <td>...</td>\n      <td>...</td>\n      <td>...</td>\n      <td>...</td>\n      <td>...</td>\n      <td>...</td>\n      <td>...</td>\n      <td>...</td>\n      <td>...</td>\n      <td>...</td>\n      <td>...</td>\n      <td>...</td>\n    </tr>\n    <tr>\n      <th>2266581</th>\n      <td>7441</td>\n      <td>A030071005</td>\n      <td>1591339821</td>\n      <td>4</td>\n      <td>1.0</td>\n      <td>0.250000</td>\n      <td>0.662590</td>\n      <td>921</td>\n      <td>0.0</td>\n      <td>A030000071</td>\n      <td>0</td>\n      <td>438</td>\n      <td>0.4</td>\n      <td>24.0</td>\n      <td>160.095250</td>\n      <td>A030071005</td>\n      <td>4.0</td>\n    </tr>\n    <tr>\n      <th>2266582</th>\n      <td>7441</td>\n      <td>A040165001</td>\n      <td>1597971999</td>\n      <td>0</td>\n      <td>1.0</td>\n      <td>0.200000</td>\n      <td>0.655109</td>\n      <td>718</td>\n      <td>1.0</td>\n      <td>A040000165</td>\n      <td>1</td>\n      <td>8836</td>\n      <td>0.2</td>\n      <td>600.0</td>\n      <td>162.502079</td>\n      <td>A040165001</td>\n      <td>0.0</td>\n    </tr>\n    <tr>\n      <th>2266583</th>\n      <td>7441</td>\n      <td>A040165002</td>\n      <td>1597972010</td>\n      <td>1</td>\n      <td>2.0</td>\n      <td>0.333333</td>\n      <td>0.655109</td>\n      <td>718</td>\n      <td>1.0</td>\n      <td>A040000165</td>\n      <td>1</td>\n      <td>8836</td>\n      <td>0.4</td>\n      <td>11.0</td>\n      <td>162.502079</td>\n      <td>A040165002</td>\n      <td>1.0</td>\n    </tr>\n    <tr>\n      <th>2266584</th>\n      <td>7441</td>\n      <td>A040165003</td>\n      <td>1597972056</td>\n      <td>2</td>\n      <td>3.0</td>\n      <td>0.428571</td>\n      <td>0.655109</td>\n      <td>718</td>\n      <td>1.0</td>\n      <td>A040000165</td>\n      <td>1</td>\n      <td>8836</td>\n      <td>0.0</td>\n      <td>46.0</td>\n      <td>162.502079</td>\n      <td>A040165003</td>\n      <td>2.0</td>\n    </tr>\n    <tr>\n      <th>2266585</th>\n      <td>7441</td>\n      <td>A040165004</td>\n      <td>1597972129</td>\n      <td>3</td>\n      <td>4.0</td>\n      <td>0.500000</td>\n      <td>0.655109</td>\n      <td>718</td>\n      <td>1.0</td>\n      <td>A040000165</td>\n      <td>1</td>\n      <td>8836</td>\n      <td>0.6</td>\n      <td>73.0</td>\n      <td>162.502079</td>\n      <td>A040165004</td>\n      <td>3.0</td>\n    </tr>\n  </tbody>\n</table>\n<p>2266586 rows × 17 columns</p>\n</div>"
     },
     "execution_count": 594,
     "metadata": {},
     "output_type": "execute_result"
    }
   ],
   "source": [
    "train_df_fe"
   ],
   "metadata": {
    "collapsed": false,
    "pycharm": {
     "name": "#%%\n"
    }
   }
  },
  {
   "cell_type": "code",
   "execution_count": 595,
   "outputs": [
    {
     "data": {
      "text/plain": "        userID assessmentItemID   Timestamp  test_seq  user_correct_answer  \\\n0            3       A020001001  1583974749         0                152.0   \n1            3       A020001002  1583974765         1                153.0   \n2            3       A020001003  1583974774         2                154.0   \n3            3       A020001004  1583974819         3                155.0   \n4            3       A020001005  1583974873         4                156.0   \n...        ...              ...         ...       ...                  ...   \n260109    7439       A040197002  1597995317         1                  5.0   \n260110    7439       A040197003  1597995371         2                  6.0   \n260111    7439       A040197004  1597995541         3                  7.0   \n260112    7439       A040197005  1597995580         4                  7.0   \n260113    7439       A040197006  1597995585         5                  7.0   \n\n        user_acc  test_mean  test_sum  before_tag      testId  answerCode  \\\n0       0.734300   0.751515       124         1.0  A020000001           1   \n1       0.735577   0.751515       124         1.0  A020000001           1   \n2       0.736842   0.751515       124         1.0  A020000001           1   \n3       0.738095   0.751515       124         1.0  A020000001           1   \n4       0.739336   0.751515       124         1.0  A020000001           0   \n...          ...        ...       ...         ...         ...         ...   \n260109  0.833333   0.744792       143         1.0  A040000197           1   \n260110  0.857143   0.744792       143         1.0  A040000197           1   \n260111  0.875000   0.744792       143         1.0  A040000197           0   \n260112  0.777778   0.744792       143         1.0  A040000197           0   \n260113  0.700000   0.744792       143         1.0  A040000197           1   \n\n        KnowledgeTag  user_recent_acc   diff        mean        item  \\\n0               7916         0.800000  600.0  154.753982  A020001001   \n1               7916         0.800000   16.0  154.753982  A020001002   \n2               7916         0.800000    9.0  154.753982  A020001003   \n3               7916         0.800000   45.0  154.753982  A020001004   \n4               7916         0.800000   54.0  154.753982  A020001005   \n...              ...              ...    ...         ...         ...   \n260109          2132         1.000000   11.0  137.909561  A040197002   \n260110          2132         0.400000   54.0  137.909561  A040197003   \n260111          2132         0.600000  170.0  137.909561  A040197004   \n260112          2132         0.750000   39.0  137.909561  A040197005   \n260113          2132         0.666667    5.0  137.909561  A040197006   \n\n        knowledgetag_stroke  \n0                       0.0  \n1                       1.0  \n2                       2.0  \n3                       3.0  \n4                       4.0  \n...                     ...  \n260109                  1.0  \n260110                  2.0  \n260111                  3.0  \n260112                  4.0  \n260113                  5.0  \n\n[260114 rows x 17 columns]",
      "text/html": "<div>\n<style scoped>\n    .dataframe tbody tr th:only-of-type {\n        vertical-align: middle;\n    }\n\n    .dataframe tbody tr th {\n        vertical-align: top;\n    }\n\n    .dataframe thead th {\n        text-align: right;\n    }\n</style>\n<table border=\"1\" class=\"dataframe\">\n  <thead>\n    <tr style=\"text-align: right;\">\n      <th></th>\n      <th>userID</th>\n      <th>assessmentItemID</th>\n      <th>Timestamp</th>\n      <th>test_seq</th>\n      <th>user_correct_answer</th>\n      <th>user_acc</th>\n      <th>test_mean</th>\n      <th>test_sum</th>\n      <th>before_tag</th>\n      <th>testId</th>\n      <th>answerCode</th>\n      <th>KnowledgeTag</th>\n      <th>user_recent_acc</th>\n      <th>diff</th>\n      <th>mean</th>\n      <th>item</th>\n      <th>knowledgetag_stroke</th>\n    </tr>\n  </thead>\n  <tbody>\n    <tr>\n      <th>0</th>\n      <td>3</td>\n      <td>A020001001</td>\n      <td>1583974749</td>\n      <td>0</td>\n      <td>152.0</td>\n      <td>0.734300</td>\n      <td>0.751515</td>\n      <td>124</td>\n      <td>1.0</td>\n      <td>A020000001</td>\n      <td>1</td>\n      <td>7916</td>\n      <td>0.800000</td>\n      <td>600.0</td>\n      <td>154.753982</td>\n      <td>A020001001</td>\n      <td>0.0</td>\n    </tr>\n    <tr>\n      <th>1</th>\n      <td>3</td>\n      <td>A020001002</td>\n      <td>1583974765</td>\n      <td>1</td>\n      <td>153.0</td>\n      <td>0.735577</td>\n      <td>0.751515</td>\n      <td>124</td>\n      <td>1.0</td>\n      <td>A020000001</td>\n      <td>1</td>\n      <td>7916</td>\n      <td>0.800000</td>\n      <td>16.0</td>\n      <td>154.753982</td>\n      <td>A020001002</td>\n      <td>1.0</td>\n    </tr>\n    <tr>\n      <th>2</th>\n      <td>3</td>\n      <td>A020001003</td>\n      <td>1583974774</td>\n      <td>2</td>\n      <td>154.0</td>\n      <td>0.736842</td>\n      <td>0.751515</td>\n      <td>124</td>\n      <td>1.0</td>\n      <td>A020000001</td>\n      <td>1</td>\n      <td>7916</td>\n      <td>0.800000</td>\n      <td>9.0</td>\n      <td>154.753982</td>\n      <td>A020001003</td>\n      <td>2.0</td>\n    </tr>\n    <tr>\n      <th>3</th>\n      <td>3</td>\n      <td>A020001004</td>\n      <td>1583974819</td>\n      <td>3</td>\n      <td>155.0</td>\n      <td>0.738095</td>\n      <td>0.751515</td>\n      <td>124</td>\n      <td>1.0</td>\n      <td>A020000001</td>\n      <td>1</td>\n      <td>7916</td>\n      <td>0.800000</td>\n      <td>45.0</td>\n      <td>154.753982</td>\n      <td>A020001004</td>\n      <td>3.0</td>\n    </tr>\n    <tr>\n      <th>4</th>\n      <td>3</td>\n      <td>A020001005</td>\n      <td>1583974873</td>\n      <td>4</td>\n      <td>156.0</td>\n      <td>0.739336</td>\n      <td>0.751515</td>\n      <td>124</td>\n      <td>1.0</td>\n      <td>A020000001</td>\n      <td>0</td>\n      <td>7916</td>\n      <td>0.800000</td>\n      <td>54.0</td>\n      <td>154.753982</td>\n      <td>A020001005</td>\n      <td>4.0</td>\n    </tr>\n    <tr>\n      <th>...</th>\n      <td>...</td>\n      <td>...</td>\n      <td>...</td>\n      <td>...</td>\n      <td>...</td>\n      <td>...</td>\n      <td>...</td>\n      <td>...</td>\n      <td>...</td>\n      <td>...</td>\n      <td>...</td>\n      <td>...</td>\n      <td>...</td>\n      <td>...</td>\n      <td>...</td>\n      <td>...</td>\n      <td>...</td>\n    </tr>\n    <tr>\n      <th>260109</th>\n      <td>7439</td>\n      <td>A040197002</td>\n      <td>1597995317</td>\n      <td>1</td>\n      <td>5.0</td>\n      <td>0.833333</td>\n      <td>0.744792</td>\n      <td>143</td>\n      <td>1.0</td>\n      <td>A040000197</td>\n      <td>1</td>\n      <td>2132</td>\n      <td>1.000000</td>\n      <td>11.0</td>\n      <td>137.909561</td>\n      <td>A040197002</td>\n      <td>1.0</td>\n    </tr>\n    <tr>\n      <th>260110</th>\n      <td>7439</td>\n      <td>A040197003</td>\n      <td>1597995371</td>\n      <td>2</td>\n      <td>6.0</td>\n      <td>0.857143</td>\n      <td>0.744792</td>\n      <td>143</td>\n      <td>1.0</td>\n      <td>A040000197</td>\n      <td>1</td>\n      <td>2132</td>\n      <td>0.400000</td>\n      <td>54.0</td>\n      <td>137.909561</td>\n      <td>A040197003</td>\n      <td>2.0</td>\n    </tr>\n    <tr>\n      <th>260111</th>\n      <td>7439</td>\n      <td>A040197004</td>\n      <td>1597995541</td>\n      <td>3</td>\n      <td>7.0</td>\n      <td>0.875000</td>\n      <td>0.744792</td>\n      <td>143</td>\n      <td>1.0</td>\n      <td>A040000197</td>\n      <td>0</td>\n      <td>2132</td>\n      <td>0.600000</td>\n      <td>170.0</td>\n      <td>137.909561</td>\n      <td>A040197004</td>\n      <td>3.0</td>\n    </tr>\n    <tr>\n      <th>260112</th>\n      <td>7439</td>\n      <td>A040197005</td>\n      <td>1597995580</td>\n      <td>4</td>\n      <td>7.0</td>\n      <td>0.777778</td>\n      <td>0.744792</td>\n      <td>143</td>\n      <td>1.0</td>\n      <td>A040000197</td>\n      <td>0</td>\n      <td>2132</td>\n      <td>0.750000</td>\n      <td>39.0</td>\n      <td>137.909561</td>\n      <td>A040197005</td>\n      <td>4.0</td>\n    </tr>\n    <tr>\n      <th>260113</th>\n      <td>7439</td>\n      <td>A040197006</td>\n      <td>1597995585</td>\n      <td>5</td>\n      <td>7.0</td>\n      <td>0.700000</td>\n      <td>0.744792</td>\n      <td>143</td>\n      <td>1.0</td>\n      <td>A040000197</td>\n      <td>1</td>\n      <td>2132</td>\n      <td>0.666667</td>\n      <td>5.0</td>\n      <td>137.909561</td>\n      <td>A040197006</td>\n      <td>5.0</td>\n    </tr>\n  </tbody>\n</table>\n<p>260114 rows × 17 columns</p>\n</div>"
     },
     "execution_count": 595,
     "metadata": {},
     "output_type": "execute_result"
    }
   ],
   "source": [
    "test_df_fe = feature_engineering(test_df)\n",
    "test_df_fe"
   ],
   "metadata": {
    "collapsed": false,
    "pycharm": {
     "name": "#%%\n"
    }
   }
  },
  {
   "cell_type": "code",
   "execution_count": 596,
   "outputs": [
    {
     "data": {
      "text/plain": "        userID assessmentItemID   Timestamp  test_seq  user_correct_answer  \\\n981          3       A050133008  1603718037         7                717.0   \n1706         4       A070146008  1609037274         7                465.0   \n2965        13       A070111008  1609043709         7                915.0   \n4269        17       A090064006  1604036917         5               1031.0   \n4661        26       A060135007  1603453458         6                293.0   \n...        ...              ...         ...       ...                  ...   \n260043    7395       A040122005  1599530720         4                  7.0   \n260062    7404       A030111005  1602582558         4                  7.0   \n260076    7416       A050193004  1601779481         3                  7.0   \n260097    7417       A050193004  1599397755         3                  2.0   \n260107    7439       A040130005  1602717003         4                 11.0   \n\n        user_acc  test_mean  test_sum  before_tag      testId  answerCode  \\\n981     0.692754   0.661765        90         1.0  A050000133          -1   \n1706    0.694030   0.740385        77         1.0  A070000146          -1   \n2965    0.695289   0.417857       117         0.0  A070000111          -1   \n4269    0.818904   0.625000        30         1.0  A090000064          -1   \n4661    0.759067   0.678571       133         1.0  A060000135          -1   \n...          ...        ...       ...         ...         ...         ...   \n260043  0.304348   0.753846       147         0.0  A040000122          -1   \n260062  0.500000   0.866667       156         1.0  A030000111          -1   \n260076  0.500000   0.750000        75         1.0  A050000193          -1   \n260097  0.142857   0.750000        75         1.0  A050000193          -1   \n260107  0.733333   0.604762       127         1.0  A040000130          -1   \n\n        KnowledgeTag  user_recent_acc   diff        mean        item  \\\n981             5289              0.8   46.0  155.505119  A050133008   \n1706            9080              0.8   23.0   70.113139  A070146008   \n2965            9660              0.8    8.0   56.877922  A070111008   \n4269            2611              1.0   75.0  126.514286  A090064006   \n4661            1422              0.8   17.0  152.871542  A060135007   \n...              ...              ...    ...         ...         ...   \n260043         10615              0.0    2.0  138.070588  A040122005   \n260062          7636              0.0  107.0  154.634731  A030111005   \n260076         10402              0.4   24.0  141.636054  A050193004   \n260097         10402              0.0   21.0  141.636054  A050193004   \n260107          8832              1.0   32.0  228.672727  A040130005   \n\n        knowledgetag_stroke  \n981                     1.0  \n1706                    1.0  \n2965                    3.0  \n4269                    5.0  \n4661                    6.0  \n...                     ...  \n260043                  0.0  \n260062                  4.0  \n260076                  3.0  \n260097                  3.0  \n260107                  0.0  \n\n[744 rows x 17 columns]",
      "text/html": "<div>\n<style scoped>\n    .dataframe tbody tr th:only-of-type {\n        vertical-align: middle;\n    }\n\n    .dataframe tbody tr th {\n        vertical-align: top;\n    }\n\n    .dataframe thead th {\n        text-align: right;\n    }\n</style>\n<table border=\"1\" class=\"dataframe\">\n  <thead>\n    <tr style=\"text-align: right;\">\n      <th></th>\n      <th>userID</th>\n      <th>assessmentItemID</th>\n      <th>Timestamp</th>\n      <th>test_seq</th>\n      <th>user_correct_answer</th>\n      <th>user_acc</th>\n      <th>test_mean</th>\n      <th>test_sum</th>\n      <th>before_tag</th>\n      <th>testId</th>\n      <th>answerCode</th>\n      <th>KnowledgeTag</th>\n      <th>user_recent_acc</th>\n      <th>diff</th>\n      <th>mean</th>\n      <th>item</th>\n      <th>knowledgetag_stroke</th>\n    </tr>\n  </thead>\n  <tbody>\n    <tr>\n      <th>981</th>\n      <td>3</td>\n      <td>A050133008</td>\n      <td>1603718037</td>\n      <td>7</td>\n      <td>717.0</td>\n      <td>0.692754</td>\n      <td>0.661765</td>\n      <td>90</td>\n      <td>1.0</td>\n      <td>A050000133</td>\n      <td>-1</td>\n      <td>5289</td>\n      <td>0.8</td>\n      <td>46.0</td>\n      <td>155.505119</td>\n      <td>A050133008</td>\n      <td>1.0</td>\n    </tr>\n    <tr>\n      <th>1706</th>\n      <td>4</td>\n      <td>A070146008</td>\n      <td>1609037274</td>\n      <td>7</td>\n      <td>465.0</td>\n      <td>0.694030</td>\n      <td>0.740385</td>\n      <td>77</td>\n      <td>1.0</td>\n      <td>A070000146</td>\n      <td>-1</td>\n      <td>9080</td>\n      <td>0.8</td>\n      <td>23.0</td>\n      <td>70.113139</td>\n      <td>A070146008</td>\n      <td>1.0</td>\n    </tr>\n    <tr>\n      <th>2965</th>\n      <td>13</td>\n      <td>A070111008</td>\n      <td>1609043709</td>\n      <td>7</td>\n      <td>915.0</td>\n      <td>0.695289</td>\n      <td>0.417857</td>\n      <td>117</td>\n      <td>0.0</td>\n      <td>A070000111</td>\n      <td>-1</td>\n      <td>9660</td>\n      <td>0.8</td>\n      <td>8.0</td>\n      <td>56.877922</td>\n      <td>A070111008</td>\n      <td>3.0</td>\n    </tr>\n    <tr>\n      <th>4269</th>\n      <td>17</td>\n      <td>A090064006</td>\n      <td>1604036917</td>\n      <td>5</td>\n      <td>1031.0</td>\n      <td>0.818904</td>\n      <td>0.625000</td>\n      <td>30</td>\n      <td>1.0</td>\n      <td>A090000064</td>\n      <td>-1</td>\n      <td>2611</td>\n      <td>1.0</td>\n      <td>75.0</td>\n      <td>126.514286</td>\n      <td>A090064006</td>\n      <td>5.0</td>\n    </tr>\n    <tr>\n      <th>4661</th>\n      <td>26</td>\n      <td>A060135007</td>\n      <td>1603453458</td>\n      <td>6</td>\n      <td>293.0</td>\n      <td>0.759067</td>\n      <td>0.678571</td>\n      <td>133</td>\n      <td>1.0</td>\n      <td>A060000135</td>\n      <td>-1</td>\n      <td>1422</td>\n      <td>0.8</td>\n      <td>17.0</td>\n      <td>152.871542</td>\n      <td>A060135007</td>\n      <td>6.0</td>\n    </tr>\n    <tr>\n      <th>...</th>\n      <td>...</td>\n      <td>...</td>\n      <td>...</td>\n      <td>...</td>\n      <td>...</td>\n      <td>...</td>\n      <td>...</td>\n      <td>...</td>\n      <td>...</td>\n      <td>...</td>\n      <td>...</td>\n      <td>...</td>\n      <td>...</td>\n      <td>...</td>\n      <td>...</td>\n      <td>...</td>\n      <td>...</td>\n    </tr>\n    <tr>\n      <th>260043</th>\n      <td>7395</td>\n      <td>A040122005</td>\n      <td>1599530720</td>\n      <td>4</td>\n      <td>7.0</td>\n      <td>0.304348</td>\n      <td>0.753846</td>\n      <td>147</td>\n      <td>0.0</td>\n      <td>A040000122</td>\n      <td>-1</td>\n      <td>10615</td>\n      <td>0.0</td>\n      <td>2.0</td>\n      <td>138.070588</td>\n      <td>A040122005</td>\n      <td>0.0</td>\n    </tr>\n    <tr>\n      <th>260062</th>\n      <td>7404</td>\n      <td>A030111005</td>\n      <td>1602582558</td>\n      <td>4</td>\n      <td>7.0</td>\n      <td>0.500000</td>\n      <td>0.866667</td>\n      <td>156</td>\n      <td>1.0</td>\n      <td>A030000111</td>\n      <td>-1</td>\n      <td>7636</td>\n      <td>0.0</td>\n      <td>107.0</td>\n      <td>154.634731</td>\n      <td>A030111005</td>\n      <td>4.0</td>\n    </tr>\n    <tr>\n      <th>260076</th>\n      <td>7416</td>\n      <td>A050193004</td>\n      <td>1601779481</td>\n      <td>3</td>\n      <td>7.0</td>\n      <td>0.500000</td>\n      <td>0.750000</td>\n      <td>75</td>\n      <td>1.0</td>\n      <td>A050000193</td>\n      <td>-1</td>\n      <td>10402</td>\n      <td>0.4</td>\n      <td>24.0</td>\n      <td>141.636054</td>\n      <td>A050193004</td>\n      <td>3.0</td>\n    </tr>\n    <tr>\n      <th>260097</th>\n      <td>7417</td>\n      <td>A050193004</td>\n      <td>1599397755</td>\n      <td>3</td>\n      <td>2.0</td>\n      <td>0.142857</td>\n      <td>0.750000</td>\n      <td>75</td>\n      <td>1.0</td>\n      <td>A050000193</td>\n      <td>-1</td>\n      <td>10402</td>\n      <td>0.0</td>\n      <td>21.0</td>\n      <td>141.636054</td>\n      <td>A050193004</td>\n      <td>3.0</td>\n    </tr>\n    <tr>\n      <th>260107</th>\n      <td>7439</td>\n      <td>A040130005</td>\n      <td>1602717003</td>\n      <td>4</td>\n      <td>11.0</td>\n      <td>0.733333</td>\n      <td>0.604762</td>\n      <td>127</td>\n      <td>1.0</td>\n      <td>A040000130</td>\n      <td>-1</td>\n      <td>8832</td>\n      <td>1.0</td>\n      <td>32.0</td>\n      <td>228.672727</td>\n      <td>A040130005</td>\n      <td>0.0</td>\n    </tr>\n  </tbody>\n</table>\n<p>744 rows × 17 columns</p>\n</div>"
     },
     "execution_count": 596,
     "metadata": {},
     "output_type": "execute_result"
    }
   ],
   "source": [
    "inference = test_df_fe.loc[test_df_fe['answerCode'] == -1]\n",
    "inference"
   ],
   "metadata": {
    "collapsed": false,
    "pycharm": {
     "name": "#%%\n"
    }
   }
  },
  {
   "cell_type": "code",
   "execution_count": 597,
   "outputs": [
    {
     "data": {
      "text/plain": "        userID assessmentItemID   Timestamp  test_seq  user_correct_answer  \\\n0            3       A020001001  1583974749         0                152.0   \n1            3       A020001002  1583974765         1                153.0   \n2            3       A020001003  1583974774         2                154.0   \n3            3       A020001004  1583974819         3                155.0   \n4            3       A020001005  1583974873         4                156.0   \n...        ...              ...         ...       ...                  ...   \n260109    7439       A040197002  1597995317         1                  5.0   \n260110    7439       A040197003  1597995371         2                  6.0   \n260111    7439       A040197004  1597995541         3                  7.0   \n260112    7439       A040197005  1597995580         4                  7.0   \n260113    7439       A040197006  1597995585         5                  7.0   \n\n        user_acc  test_mean  test_sum  before_tag      testId  answerCode  \\\n0       0.734300   0.751515       124         1.0  A020000001           1   \n1       0.735577   0.751515       124         1.0  A020000001           1   \n2       0.736842   0.751515       124         1.0  A020000001           1   \n3       0.738095   0.751515       124         1.0  A020000001           1   \n4       0.739336   0.751515       124         1.0  A020000001           0   \n...          ...        ...       ...         ...         ...         ...   \n260109  0.833333   0.744792       143         1.0  A040000197           1   \n260110  0.857143   0.744792       143         1.0  A040000197           1   \n260111  0.875000   0.744792       143         1.0  A040000197           0   \n260112  0.777778   0.744792       143         1.0  A040000197           0   \n260113  0.700000   0.744792       143         1.0  A040000197           1   \n\n        KnowledgeTag  user_recent_acc   diff        mean        item  \\\n0               7916         0.800000  600.0  154.753982  A020001001   \n1               7916         0.800000   16.0  154.753982  A020001002   \n2               7916         0.800000    9.0  154.753982  A020001003   \n3               7916         0.800000   45.0  154.753982  A020001004   \n4               7916         0.800000   54.0  154.753982  A020001005   \n...              ...              ...    ...         ...         ...   \n260109          2132         1.000000   11.0  137.909561  A040197002   \n260110          2132         0.400000   54.0  137.909561  A040197003   \n260111          2132         0.600000  170.0  137.909561  A040197004   \n260112          2132         0.750000   39.0  137.909561  A040197005   \n260113          2132         0.666667    5.0  137.909561  A040197006   \n\n        knowledgetag_stroke  \n0                       0.0  \n1                       1.0  \n2                       2.0  \n3                       3.0  \n4                       4.0  \n...                     ...  \n260109                  1.0  \n260110                  2.0  \n260111                  3.0  \n260112                  4.0  \n260113                  5.0  \n\n[259370 rows x 17 columns]",
      "text/html": "<div>\n<style scoped>\n    .dataframe tbody tr th:only-of-type {\n        vertical-align: middle;\n    }\n\n    .dataframe tbody tr th {\n        vertical-align: top;\n    }\n\n    .dataframe thead th {\n        text-align: right;\n    }\n</style>\n<table border=\"1\" class=\"dataframe\">\n  <thead>\n    <tr style=\"text-align: right;\">\n      <th></th>\n      <th>userID</th>\n      <th>assessmentItemID</th>\n      <th>Timestamp</th>\n      <th>test_seq</th>\n      <th>user_correct_answer</th>\n      <th>user_acc</th>\n      <th>test_mean</th>\n      <th>test_sum</th>\n      <th>before_tag</th>\n      <th>testId</th>\n      <th>answerCode</th>\n      <th>KnowledgeTag</th>\n      <th>user_recent_acc</th>\n      <th>diff</th>\n      <th>mean</th>\n      <th>item</th>\n      <th>knowledgetag_stroke</th>\n    </tr>\n  </thead>\n  <tbody>\n    <tr>\n      <th>0</th>\n      <td>3</td>\n      <td>A020001001</td>\n      <td>1583974749</td>\n      <td>0</td>\n      <td>152.0</td>\n      <td>0.734300</td>\n      <td>0.751515</td>\n      <td>124</td>\n      <td>1.0</td>\n      <td>A020000001</td>\n      <td>1</td>\n      <td>7916</td>\n      <td>0.800000</td>\n      <td>600.0</td>\n      <td>154.753982</td>\n      <td>A020001001</td>\n      <td>0.0</td>\n    </tr>\n    <tr>\n      <th>1</th>\n      <td>3</td>\n      <td>A020001002</td>\n      <td>1583974765</td>\n      <td>1</td>\n      <td>153.0</td>\n      <td>0.735577</td>\n      <td>0.751515</td>\n      <td>124</td>\n      <td>1.0</td>\n      <td>A020000001</td>\n      <td>1</td>\n      <td>7916</td>\n      <td>0.800000</td>\n      <td>16.0</td>\n      <td>154.753982</td>\n      <td>A020001002</td>\n      <td>1.0</td>\n    </tr>\n    <tr>\n      <th>2</th>\n      <td>3</td>\n      <td>A020001003</td>\n      <td>1583974774</td>\n      <td>2</td>\n      <td>154.0</td>\n      <td>0.736842</td>\n      <td>0.751515</td>\n      <td>124</td>\n      <td>1.0</td>\n      <td>A020000001</td>\n      <td>1</td>\n      <td>7916</td>\n      <td>0.800000</td>\n      <td>9.0</td>\n      <td>154.753982</td>\n      <td>A020001003</td>\n      <td>2.0</td>\n    </tr>\n    <tr>\n      <th>3</th>\n      <td>3</td>\n      <td>A020001004</td>\n      <td>1583974819</td>\n      <td>3</td>\n      <td>155.0</td>\n      <td>0.738095</td>\n      <td>0.751515</td>\n      <td>124</td>\n      <td>1.0</td>\n      <td>A020000001</td>\n      <td>1</td>\n      <td>7916</td>\n      <td>0.800000</td>\n      <td>45.0</td>\n      <td>154.753982</td>\n      <td>A020001004</td>\n      <td>3.0</td>\n    </tr>\n    <tr>\n      <th>4</th>\n      <td>3</td>\n      <td>A020001005</td>\n      <td>1583974873</td>\n      <td>4</td>\n      <td>156.0</td>\n      <td>0.739336</td>\n      <td>0.751515</td>\n      <td>124</td>\n      <td>1.0</td>\n      <td>A020000001</td>\n      <td>0</td>\n      <td>7916</td>\n      <td>0.800000</td>\n      <td>54.0</td>\n      <td>154.753982</td>\n      <td>A020001005</td>\n      <td>4.0</td>\n    </tr>\n    <tr>\n      <th>...</th>\n      <td>...</td>\n      <td>...</td>\n      <td>...</td>\n      <td>...</td>\n      <td>...</td>\n      <td>...</td>\n      <td>...</td>\n      <td>...</td>\n      <td>...</td>\n      <td>...</td>\n      <td>...</td>\n      <td>...</td>\n      <td>...</td>\n      <td>...</td>\n      <td>...</td>\n      <td>...</td>\n      <td>...</td>\n    </tr>\n    <tr>\n      <th>260109</th>\n      <td>7439</td>\n      <td>A040197002</td>\n      <td>1597995317</td>\n      <td>1</td>\n      <td>5.0</td>\n      <td>0.833333</td>\n      <td>0.744792</td>\n      <td>143</td>\n      <td>1.0</td>\n      <td>A040000197</td>\n      <td>1</td>\n      <td>2132</td>\n      <td>1.000000</td>\n      <td>11.0</td>\n      <td>137.909561</td>\n      <td>A040197002</td>\n      <td>1.0</td>\n    </tr>\n    <tr>\n      <th>260110</th>\n      <td>7439</td>\n      <td>A040197003</td>\n      <td>1597995371</td>\n      <td>2</td>\n      <td>6.0</td>\n      <td>0.857143</td>\n      <td>0.744792</td>\n      <td>143</td>\n      <td>1.0</td>\n      <td>A040000197</td>\n      <td>1</td>\n      <td>2132</td>\n      <td>0.400000</td>\n      <td>54.0</td>\n      <td>137.909561</td>\n      <td>A040197003</td>\n      <td>2.0</td>\n    </tr>\n    <tr>\n      <th>260111</th>\n      <td>7439</td>\n      <td>A040197004</td>\n      <td>1597995541</td>\n      <td>3</td>\n      <td>7.0</td>\n      <td>0.875000</td>\n      <td>0.744792</td>\n      <td>143</td>\n      <td>1.0</td>\n      <td>A040000197</td>\n      <td>0</td>\n      <td>2132</td>\n      <td>0.600000</td>\n      <td>170.0</td>\n      <td>137.909561</td>\n      <td>A040197004</td>\n      <td>3.0</td>\n    </tr>\n    <tr>\n      <th>260112</th>\n      <td>7439</td>\n      <td>A040197005</td>\n      <td>1597995580</td>\n      <td>4</td>\n      <td>7.0</td>\n      <td>0.777778</td>\n      <td>0.744792</td>\n      <td>143</td>\n      <td>1.0</td>\n      <td>A040000197</td>\n      <td>0</td>\n      <td>2132</td>\n      <td>0.750000</td>\n      <td>39.0</td>\n      <td>137.909561</td>\n      <td>A040197005</td>\n      <td>4.0</td>\n    </tr>\n    <tr>\n      <th>260113</th>\n      <td>7439</td>\n      <td>A040197006</td>\n      <td>1597995585</td>\n      <td>5</td>\n      <td>7.0</td>\n      <td>0.700000</td>\n      <td>0.744792</td>\n      <td>143</td>\n      <td>1.0</td>\n      <td>A040000197</td>\n      <td>1</td>\n      <td>2132</td>\n      <td>0.666667</td>\n      <td>5.0</td>\n      <td>137.909561</td>\n      <td>A040197006</td>\n      <td>5.0</td>\n    </tr>\n  </tbody>\n</table>\n<p>259370 rows × 17 columns</p>\n</div>"
     },
     "execution_count": 597,
     "metadata": {},
     "output_type": "execute_result"
    }
   ],
   "source": [
    "infer_test = test_df_fe.loc[test_df_fe['answerCode'] != -1]\n",
    "infer_test"
   ],
   "metadata": {
    "collapsed": false,
    "pycharm": {
     "name": "#%%\n"
    }
   }
  },
  {
   "cell_type": "code",
   "execution_count": 598,
   "outputs": [
    {
     "name": "stderr",
     "output_type": "stream",
     "text": [
      "/tmp/ipykernel_12210/3536737570.py:11: SettingWithCopyWarning: \n",
      "A value is trying to be set on a copy of a slice from a DataFrame.\n",
      "Try using .loc[row_indexer,col_indexer] = value instead\n",
      "\n",
      "See the caveats in the documentation: https://pandas.pydata.org/pandas-docs/stable/user_guide/indexing.html#returning-a-view-versus-a-copy\n",
      "  df['mean'] = mean_scaler.fit_transform(df['mean'].values.reshape(-1, 1))\n",
      "/tmp/ipykernel_12210/3536737570.py:12: SettingWithCopyWarning: \n",
      "A value is trying to be set on a copy of a slice from a DataFrame.\n",
      "Try using .loc[row_indexer,col_indexer] = value instead\n",
      "\n",
      "See the caveats in the documentation: https://pandas.pydata.org/pandas-docs/stable/user_guide/indexing.html#returning-a-view-versus-a-copy\n",
      "  df['test_mean'] = test_mean_scalar.fit_transform(df['test_mean'].values.reshape(-1, 1))\n",
      "/tmp/ipykernel_12210/3536737570.py:13: SettingWithCopyWarning: \n",
      "A value is trying to be set on a copy of a slice from a DataFrame.\n",
      "Try using .loc[row_indexer,col_indexer] = value instead\n",
      "\n",
      "See the caveats in the documentation: https://pandas.pydata.org/pandas-docs/stable/user_guide/indexing.html#returning-a-view-versus-a-copy\n",
      "  df['Timestamp'] = tmestamp_scalar.fit_transform(df['Timestamp'].values.reshape(-1, 1))\n",
      "/tmp/ipykernel_12210/3536737570.py:14: SettingWithCopyWarning: \n",
      "A value is trying to be set on a copy of a slice from a DataFrame.\n",
      "Try using .loc[row_indexer,col_indexer] = value instead\n",
      "\n",
      "See the caveats in the documentation: https://pandas.pydata.org/pandas-docs/stable/user_guide/indexing.html#returning-a-view-versus-a-copy\n",
      "  df['test_sum'] = test_sum_scalar.fit_transform(df['test_sum'].values.reshape(-1, 1))\n",
      "/tmp/ipykernel_12210/3536737570.py:19: SettingWithCopyWarning: \n",
      "A value is trying to be set on a copy of a slice from a DataFrame.\n",
      "Try using .loc[row_indexer,col_indexer] = value instead\n",
      "\n",
      "See the caveats in the documentation: https://pandas.pydata.org/pandas-docs/stable/user_guide/indexing.html#returning-a-view-versus-a-copy\n",
      "  df['mean'] = ms.transform(df['mean'].values.reshape(-1, 1))\n",
      "/tmp/ipykernel_12210/3536737570.py:20: SettingWithCopyWarning: \n",
      "A value is trying to be set on a copy of a slice from a DataFrame.\n",
      "Try using .loc[row_indexer,col_indexer] = value instead\n",
      "\n",
      "See the caveats in the documentation: https://pandas.pydata.org/pandas-docs/stable/user_guide/indexing.html#returning-a-view-versus-a-copy\n",
      "  df['test_mean'] = tms.transform(df['test_mean'].values.reshape(-1, 1))\n",
      "/tmp/ipykernel_12210/3536737570.py:21: SettingWithCopyWarning: \n",
      "A value is trying to be set on a copy of a slice from a DataFrame.\n",
      "Try using .loc[row_indexer,col_indexer] = value instead\n",
      "\n",
      "See the caveats in the documentation: https://pandas.pydata.org/pandas-docs/stable/user_guide/indexing.html#returning-a-view-versus-a-copy\n",
      "  df['Timestamp'] = ts.transform(df['Timestamp'].values.reshape(-1, 1))\n",
      "/tmp/ipykernel_12210/3536737570.py:22: SettingWithCopyWarning: \n",
      "A value is trying to be set on a copy of a slice from a DataFrame.\n",
      "Try using .loc[row_indexer,col_indexer] = value instead\n",
      "\n",
      "See the caveats in the documentation: https://pandas.pydata.org/pandas-docs/stable/user_guide/indexing.html#returning-a-view-versus-a-copy\n",
      "  df['test_sum'] = tss.transform(df['test_sum'].values.reshape(-1, 1))\n",
      "/tmp/ipykernel_12210/3536737570.py:19: SettingWithCopyWarning: \n",
      "A value is trying to be set on a copy of a slice from a DataFrame.\n",
      "Try using .loc[row_indexer,col_indexer] = value instead\n",
      "\n",
      "See the caveats in the documentation: https://pandas.pydata.org/pandas-docs/stable/user_guide/indexing.html#returning-a-view-versus-a-copy\n",
      "  df['mean'] = ms.transform(df['mean'].values.reshape(-1, 1))\n",
      "/tmp/ipykernel_12210/3536737570.py:20: SettingWithCopyWarning: \n",
      "A value is trying to be set on a copy of a slice from a DataFrame.\n",
      "Try using .loc[row_indexer,col_indexer] = value instead\n",
      "\n",
      "See the caveats in the documentation: https://pandas.pydata.org/pandas-docs/stable/user_guide/indexing.html#returning-a-view-versus-a-copy\n",
      "  df['test_mean'] = tms.transform(df['test_mean'].values.reshape(-1, 1))\n",
      "/tmp/ipykernel_12210/3536737570.py:21: SettingWithCopyWarning: \n",
      "A value is trying to be set on a copy of a slice from a DataFrame.\n",
      "Try using .loc[row_indexer,col_indexer] = value instead\n",
      "\n",
      "See the caveats in the documentation: https://pandas.pydata.org/pandas-docs/stable/user_guide/indexing.html#returning-a-view-versus-a-copy\n",
      "  df['Timestamp'] = ts.transform(df['Timestamp'].values.reshape(-1, 1))\n",
      "/tmp/ipykernel_12210/3536737570.py:22: SettingWithCopyWarning: \n",
      "A value is trying to be set on a copy of a slice from a DataFrame.\n",
      "Try using .loc[row_indexer,col_indexer] = value instead\n",
      "\n",
      "See the caveats in the documentation: https://pandas.pydata.org/pandas-docs/stable/user_guide/indexing.html#returning-a-view-versus-a-copy\n",
      "  df['test_sum'] = tss.transform(df['test_sum'].values.reshape(-1, 1))\n"
     ]
    }
   ],
   "source": [
    "train, test = custom_train_test_split(train_df_fe)\n",
    "mean_sc, test_mean_sc, tmestamp_sc, test_sum_sc, train = scaling(train)\n",
    "test = scaling(test, mean_sc, test_mean_sc, tmestamp_sc, test_sum_sc, is_train=False)\n",
    "inference = scaling(inference, mean_sc, test_mean_sc, tmestamp_sc, test_sum_sc, is_train=False)\n",
    "infer_test = scaling(infer_test, mean_sc, test_mean_sc, tmestamp_sc, test_sum_sc, is_train=False)"
   ],
   "metadata": {
    "collapsed": false,
    "pycharm": {
     "name": "#%%\n"
    }
   }
  },
  {
   "cell_type": "code",
   "execution_count": 601,
   "outputs": [],
   "source": [
    "features = ['assessmentItemID', 'answerCode', 'user_acc', 'testId', 'test_mean',\n",
    "                'before_tag', 'diff', 'user_recent_acc', 'knowledgetag_stroke']"
   ],
   "metadata": {
    "collapsed": false,
    "pycharm": {
     "name": "#%%\n"
    }
   }
  },
  {
   "cell_type": "code",
   "execution_count": 602,
   "outputs": [
    {
     "name": "stderr",
     "output_type": "stream",
     "text": [
      "/tmp/ipykernel_12210/1152382678.py:5: SettingWithCopyWarning: \n",
      "A value is trying to be set on a copy of a slice from a DataFrame.\n",
      "Try using .loc[row_indexer,col_indexer] = value instead\n",
      "\n",
      "See the caveats in the documentation: https://pandas.pydata.org/pandas-docs/stable/user_guide/indexing.html#returning-a-view-versus-a-copy\n",
      "  train[categorical_cols] = train[categorical_cols].fillna(\"\")\n",
      "/tmp/ipykernel_12210/1152382678.py:6: SettingWithCopyWarning: \n",
      "A value is trying to be set on a copy of a slice from a DataFrame.\n",
      "Try using .loc[row_indexer,col_indexer] = value instead\n",
      "\n",
      "See the caveats in the documentation: https://pandas.pydata.org/pandas-docs/stable/user_guide/indexing.html#returning-a-view-versus-a-copy\n",
      "  train['diff'] = train['diff'].astype(int)\n",
      "/tmp/ipykernel_12210/1152382678.py:7: SettingWithCopyWarning: \n",
      "A value is trying to be set on a copy of a slice from a DataFrame.\n",
      "Try using .loc[row_indexer,col_indexer] = value instead\n",
      "\n",
      "See the caveats in the documentation: https://pandas.pydata.org/pandas-docs/stable/user_guide/indexing.html#returning-a-view-versus-a-copy\n",
      "  train['before_tag'] = train['before_tag'].astype(int)\n"
     ]
    },
    {
     "data": {
      "text/plain": "        assessmentItemID  answerCode  user_acc      testId  test_mean  \\\n0             A020172001           1  0.614726  A020000172   0.404889   \n1             A020172002           1  0.615385  A020000172   0.404889   \n2             A020172003           1  0.616041  A020000172   0.404889   \n3             A020172004           1  0.616695  A020000172   0.404889   \n4             A020172005           0  0.617347  A020000172   0.404889   \n...                  ...         ...       ...         ...        ...   \n2266581       A030071005           0  0.250000  A030000071   0.533838   \n2266582       A040165001           1  0.200000  A040000165   0.521932   \n2266583       A040165002           1  0.333333  A040000165   0.521932   \n2266584       A040165003           1  0.428571  A040000165   0.521932   \n2266585       A040165004           1  0.500000  A040000165   0.521932   \n\n         before_tag  diff  user_recent_acc  knowledgetag_stroke  \n0                 1   600              0.6                  0.0  \n1                 1     9              0.8                  1.0  \n2                 1    17              0.8                  2.0  \n3                 1    33              1.0                  3.0  \n4                 1    34              1.0                  4.0  \n...             ...   ...              ...                  ...  \n2266581           0    24              0.4                  4.0  \n2266582           1   600              0.2                  0.0  \n2266583           1    11              0.4                  1.0  \n2266584           1    46              0.0                  2.0  \n2266585           1    73              0.6                  3.0  \n\n[1812456 rows x 9 columns]",
      "text/html": "<div>\n<style scoped>\n    .dataframe tbody tr th:only-of-type {\n        vertical-align: middle;\n    }\n\n    .dataframe tbody tr th {\n        vertical-align: top;\n    }\n\n    .dataframe thead th {\n        text-align: right;\n    }\n</style>\n<table border=\"1\" class=\"dataframe\">\n  <thead>\n    <tr style=\"text-align: right;\">\n      <th></th>\n      <th>assessmentItemID</th>\n      <th>answerCode</th>\n      <th>user_acc</th>\n      <th>testId</th>\n      <th>test_mean</th>\n      <th>before_tag</th>\n      <th>diff</th>\n      <th>user_recent_acc</th>\n      <th>knowledgetag_stroke</th>\n    </tr>\n  </thead>\n  <tbody>\n    <tr>\n      <th>0</th>\n      <td>A020172001</td>\n      <td>1</td>\n      <td>0.614726</td>\n      <td>A020000172</td>\n      <td>0.404889</td>\n      <td>1</td>\n      <td>600</td>\n      <td>0.6</td>\n      <td>0.0</td>\n    </tr>\n    <tr>\n      <th>1</th>\n      <td>A020172002</td>\n      <td>1</td>\n      <td>0.615385</td>\n      <td>A020000172</td>\n      <td>0.404889</td>\n      <td>1</td>\n      <td>9</td>\n      <td>0.8</td>\n      <td>1.0</td>\n    </tr>\n    <tr>\n      <th>2</th>\n      <td>A020172003</td>\n      <td>1</td>\n      <td>0.616041</td>\n      <td>A020000172</td>\n      <td>0.404889</td>\n      <td>1</td>\n      <td>17</td>\n      <td>0.8</td>\n      <td>2.0</td>\n    </tr>\n    <tr>\n      <th>3</th>\n      <td>A020172004</td>\n      <td>1</td>\n      <td>0.616695</td>\n      <td>A020000172</td>\n      <td>0.404889</td>\n      <td>1</td>\n      <td>33</td>\n      <td>1.0</td>\n      <td>3.0</td>\n    </tr>\n    <tr>\n      <th>4</th>\n      <td>A020172005</td>\n      <td>0</td>\n      <td>0.617347</td>\n      <td>A020000172</td>\n      <td>0.404889</td>\n      <td>1</td>\n      <td>34</td>\n      <td>1.0</td>\n      <td>4.0</td>\n    </tr>\n    <tr>\n      <th>...</th>\n      <td>...</td>\n      <td>...</td>\n      <td>...</td>\n      <td>...</td>\n      <td>...</td>\n      <td>...</td>\n      <td>...</td>\n      <td>...</td>\n      <td>...</td>\n    </tr>\n    <tr>\n      <th>2266581</th>\n      <td>A030071005</td>\n      <td>0</td>\n      <td>0.250000</td>\n      <td>A030000071</td>\n      <td>0.533838</td>\n      <td>0</td>\n      <td>24</td>\n      <td>0.4</td>\n      <td>4.0</td>\n    </tr>\n    <tr>\n      <th>2266582</th>\n      <td>A040165001</td>\n      <td>1</td>\n      <td>0.200000</td>\n      <td>A040000165</td>\n      <td>0.521932</td>\n      <td>1</td>\n      <td>600</td>\n      <td>0.2</td>\n      <td>0.0</td>\n    </tr>\n    <tr>\n      <th>2266583</th>\n      <td>A040165002</td>\n      <td>1</td>\n      <td>0.333333</td>\n      <td>A040000165</td>\n      <td>0.521932</td>\n      <td>1</td>\n      <td>11</td>\n      <td>0.4</td>\n      <td>1.0</td>\n    </tr>\n    <tr>\n      <th>2266584</th>\n      <td>A040165003</td>\n      <td>1</td>\n      <td>0.428571</td>\n      <td>A040000165</td>\n      <td>0.521932</td>\n      <td>1</td>\n      <td>46</td>\n      <td>0.0</td>\n      <td>2.0</td>\n    </tr>\n    <tr>\n      <th>2266585</th>\n      <td>A040165004</td>\n      <td>1</td>\n      <td>0.500000</td>\n      <td>A040000165</td>\n      <td>0.521932</td>\n      <td>1</td>\n      <td>73</td>\n      <td>0.6</td>\n      <td>3.0</td>\n    </tr>\n  </tbody>\n</table>\n<p>1812456 rows × 9 columns</p>\n</div>"
     },
     "execution_count": 602,
     "metadata": {},
     "output_type": "execute_result"
    }
   ],
   "source": [
    "categorical_cols =  ['assessmentItemID', 'testId', 'before_tag']\n",
    "# categorical_cols =  ['assessmentItemID', 'before_tag']\n",
    "# train = train[['assessmentItemID', 'answerCode', 'user_acc', 'testId', 'test_mean', 'before_tag', 'diff', 'user_recent_acc']]\n",
    "train = train[features]\n",
    "train[categorical_cols] = train[categorical_cols].fillna(\"\")\n",
    "train['diff'] = train['diff'].astype(int)\n",
    "train['before_tag'] = train['before_tag'].astype(int)\n",
    "# train[['before_tag', 'diff']] = train[['before_tag', 'diff']].astype(int)\n",
    "# train.drop(columns=['Timestamp'], inplace=True)\n",
    "train"
   ],
   "metadata": {
    "collapsed": false,
    "pycharm": {
     "name": "#%%\n"
    }
   }
  },
  {
   "cell_type": "code",
   "execution_count": 603,
   "outputs": [],
   "source": [
    "TARGET_COL = 'answerCode'\n",
    "X_train = train.drop([TARGET_COL],axis=1)\n",
    "y_train = train[TARGET_COL]\n",
    "\n",
    "train_pool = Pool(data=X_train,label = y_train,cat_features=categorical_cols)"
   ],
   "metadata": {
    "collapsed": false,
    "pycharm": {
     "name": "#%%\n"
    }
   }
  },
  {
   "cell_type": "code",
   "execution_count": 604,
   "outputs": [],
   "source": [
    "# test_pool\n",
    "# categorical_cols =  ['assessmentItemID', 'before_tag', 'testId', 'KnowledgeTag']\n",
    "categorical_cols =  ['assessmentItemID', 'before_tag', 'testId']\n",
    "# test = test[['assessmentItemID', 'answerCode', 'user_acc', 'testId', 'test_mean', 'before_tag', 'diff', 'user_recent_acc']]\n",
    "test = test[features]\n",
    "test[categorical_cols] = test[categorical_cols].fillna(\"\")\n",
    "# test[['before_tag', 'diff']] = test[['before_tag', 'diff']].astype(int)\n",
    "test['diff'] = test['diff'].astype(int)\n",
    "test['before_tag'] = test['before_tag'].astype(int)\n",
    "# test.drop(columns=['Timestamp'], inplace=True)\n",
    "\n",
    "TARGET_COL = 'answerCode'\n",
    "X_test = test.drop([TARGET_COL],axis=1)\n",
    "y_test = test[TARGET_COL]\n",
    "\n",
    "test_pool = Pool(data=X_test,label = y_test,cat_features=categorical_cols)"
   ],
   "metadata": {
    "collapsed": false,
    "pycharm": {
     "name": "#%%\n"
    }
   }
  },
  {
   "cell_type": "code",
   "execution_count": 605,
   "outputs": [
    {
     "name": "stderr",
     "output_type": "stream",
     "text": [
      "/tmp/ipykernel_12210/3356341041.py:7: SettingWithCopyWarning: \n",
      "A value is trying to be set on a copy of a slice from a DataFrame.\n",
      "Try using .loc[row_indexer,col_indexer] = value instead\n",
      "\n",
      "See the caveats in the documentation: https://pandas.pydata.org/pandas-docs/stable/user_guide/indexing.html#returning-a-view-versus-a-copy\n",
      "  inference[categorical_cols] = inference[categorical_cols].fillna(\"\")\n",
      "/tmp/ipykernel_12210/3356341041.py:8: SettingWithCopyWarning: \n",
      "A value is trying to be set on a copy of a slice from a DataFrame.\n",
      "Try using .loc[row_indexer,col_indexer] = value instead\n",
      "\n",
      "See the caveats in the documentation: https://pandas.pydata.org/pandas-docs/stable/user_guide/indexing.html#returning-a-view-versus-a-copy\n",
      "  inference['diff'] = inference['diff'].astype(int)\n",
      "/tmp/ipykernel_12210/3356341041.py:10: SettingWithCopyWarning: \n",
      "A value is trying to be set on a copy of a slice from a DataFrame.\n",
      "Try using .loc[row_indexer,col_indexer] = value instead\n",
      "\n",
      "See the caveats in the documentation: https://pandas.pydata.org/pandas-docs/stable/user_guide/indexing.html#returning-a-view-versus-a-copy\n",
      "  inference['before_tag'] = inference['before_tag'].astype(int)\n"
     ]
    }
   ],
   "source": [
    "# infer_pool\n",
    "# df_infer = feature_engineering(df_infer)\n",
    "# categorical_cols =  ['assessmentItemID', 'before_tag', 'testId', 'KnowledgeTag']\n",
    "categorical_cols =  ['assessmentItemID','before_tag', 'testId']\n",
    "# inference = inference[['assessmentItemID', 'answerCode', 'user_acc', 'testId', 'test_mean', 'before_tag', 'diff', 'user_recent_acc']]\n",
    "inference = inference[features]\n",
    "inference[categorical_cols] = inference[categorical_cols].fillna(\"\")\n",
    "inference['diff'] = inference['diff'].astype(int)\n",
    "# inference[['before_tag', 'diff']] = inference[['before_tag', 'diff']].astype(int)\n",
    "inference['before_tag'] = inference['before_tag'].astype(int)\n",
    "# inference.drop(columns=['Timestamp'], inplace=True)\n",
    "\n",
    "TARGET_COL = 'answerCode'\n",
    "X_infer = inference.drop([TARGET_COL],axis=1)\n",
    "y_infer = inference[TARGET_COL]\n",
    "\n",
    "infer_pool = Pool(data=X_infer,label = y_infer,cat_features=categorical_cols)"
   ],
   "metadata": {
    "collapsed": false,
    "pycharm": {
     "name": "#%%\n"
    }
   }
  },
  {
   "cell_type": "code",
   "execution_count": 606,
   "outputs": [
    {
     "name": "stderr",
     "output_type": "stream",
     "text": [
      "/tmp/ipykernel_12210/3928184965.py:7: SettingWithCopyWarning: \n",
      "A value is trying to be set on a copy of a slice from a DataFrame.\n",
      "Try using .loc[row_indexer,col_indexer] = value instead\n",
      "\n",
      "See the caveats in the documentation: https://pandas.pydata.org/pandas-docs/stable/user_guide/indexing.html#returning-a-view-versus-a-copy\n",
      "  infer_test1[categorical_cols] = infer_test1[categorical_cols].fillna(\"\")\n",
      "/tmp/ipykernel_12210/3928184965.py:8: SettingWithCopyWarning: \n",
      "A value is trying to be set on a copy of a slice from a DataFrame.\n",
      "Try using .loc[row_indexer,col_indexer] = value instead\n",
      "\n",
      "See the caveats in the documentation: https://pandas.pydata.org/pandas-docs/stable/user_guide/indexing.html#returning-a-view-versus-a-copy\n",
      "  infer_test1['diff'] = infer_test1['diff'].astype(int)\n",
      "/tmp/ipykernel_12210/3928184965.py:10: SettingWithCopyWarning: \n",
      "A value is trying to be set on a copy of a slice from a DataFrame.\n",
      "Try using .loc[row_indexer,col_indexer] = value instead\n",
      "\n",
      "See the caveats in the documentation: https://pandas.pydata.org/pandas-docs/stable/user_guide/indexing.html#returning-a-view-versus-a-copy\n",
      "  infer_test1['before_tag'] = infer_test1['before_tag'].astype(int)\n"
     ]
    }
   ],
   "source": [
    "# infer_test_pool\n",
    "# df_infer = feature_engineering(df_infer)\n",
    "categorical_cols =  ['assessmentItemID', 'before_tag', 'testId']\n",
    "# categorical_cols =  ['assessmentItemID', 'before_tag', 'testId']\n",
    "# infer_test1 = infer_test[['assessmentItemID', 'answerCode', 'user_acc', 'testId', 'test_mean', 'before_tag', 'diff', 'user_recent_acc']]\n",
    "infer_test1 = infer_test[features]\n",
    "infer_test1[categorical_cols] = infer_test1[categorical_cols].fillna(\"\")\n",
    "infer_test1['diff'] = infer_test1['diff'].astype(int)\n",
    "# inference[['before_tag', 'diff']] = inference[['before_tag', 'diff']].astype(int)\n",
    "infer_test1['before_tag'] = infer_test1['before_tag'].astype(int)\n",
    "# inference.drop(columns=['Timestamp'], inplace=True)\n",
    "\n",
    "TARGET_COL = 'answerCode'\n",
    "X_infer_test = infer_test1.drop([TARGET_COL],axis=1)\n",
    "y_infer_test = infer_test1[TARGET_COL]\n",
    "\n",
    "infer_test_pool = Pool(data=X_infer_test,label = y_infer_test,cat_features=categorical_cols)"
   ],
   "metadata": {
    "collapsed": false,
    "pycharm": {
     "name": "#%%\n"
    }
   }
  },
  {
   "cell_type": "code",
   "execution_count": 607,
   "outputs": [],
   "source": [
    "params = {'iterations':5000,\n",
    "          'random_seed':63,\n",
    "          'learning_rate':0.01,\n",
    "          # 'max_depth' : 10,\n",
    "          'eval_metric' : 'AUC',\n",
    "          # 'objective' : 'CrossEntropy',\n",
    "          'loss_function':'CrossEntropy',\n",
    "          # 'custom_metric':['Logloss','AUC'],##, '\n",
    "          'early_stopping_rounds':100,\n",
    "          'use_best_model': True,\n",
    "          'task_type':\"GPU\",\n",
    "        #   'bagging_temperature':1,\n",
    "          'verbose':100}"
   ],
   "metadata": {
    "collapsed": false,
    "pycharm": {
     "name": "#%%\n"
    }
   }
  },
  {
   "cell_type": "markdown",
   "source": [
    "Catboost 시도"
   ],
   "metadata": {
    "collapsed": false,
    "pycharm": {
     "name": "#%% md\n"
    }
   }
  },
  {
   "cell_type": "code",
   "execution_count": 608,
   "outputs": [],
   "source": [
    "from sklearn.model_selection import KFold\n",
    "from sklearn.model_selection import StratifiedKFold"
   ],
   "metadata": {
    "collapsed": false,
    "pycharm": {
     "name": "#%%\n"
    }
   }
  },
  {
   "cell_type": "code",
   "execution_count": 609,
   "outputs": [],
   "source": [
    "# X_train.reset_index(inplace=True, drop=True)\n",
    "# y_Train"
   ],
   "metadata": {
    "collapsed": false,
    "pycharm": {
     "name": "#%%\n"
    }
   }
  },
  {
   "cell_type": "code",
   "execution_count": 610,
   "outputs": [
    {
     "name": "stdout",
     "output_type": "stream",
     "text": [
      "0:\ttest: 0.7882134\tbest: 0.7882134 (0)\ttotal: 70.3ms\tremaining: 5m 51s\n",
      "100:\ttest: 0.8006368\tbest: 0.8008554 (99)\ttotal: 7.2s\tremaining: 5m 49s\n",
      "200:\ttest: 0.8114860\tbest: 0.8114860 (200)\ttotal: 16.5s\tremaining: 6m 32s\n",
      "300:\ttest: 0.8154227\tbest: 0.8154339 (299)\ttotal: 25.6s\tremaining: 6m 39s\n",
      "400:\ttest: 0.8175399\tbest: 0.8175555 (396)\ttotal: 34.3s\tremaining: 6m 33s\n",
      "500:\ttest: 0.8193952\tbest: 0.8194130 (499)\ttotal: 41.2s\tremaining: 6m 9s\n",
      "600:\ttest: 0.8208445\tbest: 0.8208445 (600)\ttotal: 49.3s\tremaining: 6m\n",
      "700:\ttest: 0.8221088\tbest: 0.8221356 (699)\ttotal: 57.3s\tremaining: 5m 51s\n",
      "800:\ttest: 0.8232059\tbest: 0.8232259 (794)\ttotal: 1m 4s\tremaining: 5m 40s\n",
      "900:\ttest: 0.8238826\tbest: 0.8239027 (897)\ttotal: 1m 12s\tremaining: 5m 30s\n",
      "1000:\ttest: 0.8244535\tbest: 0.8244579 (999)\ttotal: 1m 19s\tremaining: 5m 19s\n",
      "1100:\ttest: 0.8248771\tbest: 0.8249016 (1091)\ttotal: 1m 28s\tremaining: 5m 12s\n",
      "1200:\ttest: 0.8252383\tbest: 0.8252562 (1197)\ttotal: 1m 35s\tremaining: 5m 3s\n",
      "1300:\ttest: 0.8256286\tbest: 0.8256375 (1298)\ttotal: 1m 43s\tremaining: 4m 54s\n",
      "1400:\ttest: 0.8258181\tbest: 0.8258494 (1387)\ttotal: 1m 52s\tremaining: 4m 49s\n",
      "1500:\ttest: 0.8262195\tbest: 0.8262195 (1500)\ttotal: 2m\tremaining: 4m 40s\n",
      "1600:\ttest: 0.8263087\tbest: 0.8263176 (1595)\ttotal: 2m 9s\tremaining: 4m 34s\n",
      "1700:\ttest: 0.8264737\tbest: 0.8264960 (1695)\ttotal: 2m 17s\tremaining: 4m 26s\n",
      "1800:\ttest: 0.8265807\tbest: 0.8265985 (1784)\ttotal: 2m 24s\tremaining: 4m 16s\n",
      "1900:\ttest: 0.8267970\tbest: 0.8267970 (1900)\ttotal: 2m 30s\tremaining: 4m 6s\n",
      "2000:\ttest: 0.8268996\tbest: 0.8269107 (1996)\ttotal: 2m 37s\tremaining: 3m 56s\n",
      "2100:\ttest: 0.8270066\tbest: 0.8270178 (2097)\ttotal: 2m 44s\tremaining: 3m 47s\n",
      "2200:\ttest: 0.8269954\tbest: 0.8270624 (2151)\ttotal: 2m 51s\tremaining: 3m 38s\n",
      "2300:\ttest: 0.8270913\tbest: 0.8270980 (2299)\ttotal: 2m 59s\tremaining: 3m 30s\n",
      "2400:\ttest: 0.8271649\tbest: 0.8271649 (2400)\ttotal: 3m 8s\tremaining: 3m 24s\n",
      "2500:\ttest: 0.8271672\tbest: 0.8271761 (2495)\ttotal: 3m 16s\tremaining: 3m 16s\n",
      "2600:\ttest: 0.8271203\tbest: 0.8271917 (2512)\ttotal: 3m 24s\tremaining: 3m 8s\n",
      "bestTest = 0.8271917105\n",
      "bestIteration = 2512\n",
      "Shrink model to first 2513 iterations.\n",
      "{'learn': {'CrossEntropy': 0.46095084515155127}, 'validation': {'CrossEntropy': 0.5046174383269337, 'AUC': 0.8271917104721069}}\n"
     ]
    }
   ],
   "source": [
    "model_basic = CatBoostClassifier(**params)#,learning_rate=0.1, task_type=\"GPU\",)\n",
    "# model_basic = CatBoostClassifier(verbose=50)#,learning_rate=0.1, task_type=\"GPU\",)\n",
    "model_basic.fit(train_pool, eval_set=test_pool, use_best_model=True)\n",
    "print(model_basic.get_best_score())"
   ],
   "metadata": {
    "collapsed": false,
    "pycharm": {
     "name": "#%%\n"
    }
   }
  },
  {
   "cell_type": "code",
   "execution_count": 611,
   "outputs": [
    {
     "name": "stdout",
     "output_type": "stream",
     "text": [
      "['__module__', '__doc__', '__init__', '_check_files', '_check_delimiter', '_check_column_description_type', '_check_string_feature_type', '_check_string_feature_value', '_check_pairs_type', '_check_pairs_value', '_check_data_type', '_check_data_empty', '_check_label_type', '_check_label_empty', '_check_label_shape', '_check_baseline_type', '_check_baseline_shape', '_check_weight_type', '_check_weight_shape', '_check_group_id_type', '_check_group_id_shape', '_check_group_weight_type', '_check_group_weight_shape', '_check_subgroup_id_type', '_check_subgroup_id_shape', '_check_timestamp_type', '_check_transform_tags', '_check_timestamp_shape', '_check_feature_names', '_check_thread_count', 'slice', 'set_pairs', 'set_feature_names', 'set_baseline', 'set_weight', 'set_group_id', 'set_group_weight', 'set_subgroup_id', 'set_pairs_weight', 'set_timestamp', 'save', 'quantize', '_if_pandas_to_numpy', '_label_if_pandas_to_numpy', '_read', '_init', '__dict__', '__weakref__', '__lt__', '__le__', '__eq__', '__ne__', '__gt__', '__ge__', '__new__', '__deepcopy__', '_set_label_objects_order', '_read_pool', '_init_pool', '_save', '_set_pairs', '_set_weight', '_set_group_id', '_set_group_weight', '_set_subgroup_id', '_set_pairs_weight', '_set_baseline', '_set_timestamp', '_set_feature_names', '_quantize', 'get_feature_names', 'num_row', 'num_col', 'num_pairs', 'is_quantized', 'get_features', 'has_label', 'get_label', 'get_cat_feature_indices', 'get_text_feature_indices', 'get_embedding_feature_indices', 'get_weight', 'get_group_id_hash', 'get_baseline', '_take_slice', 'save_quantization_borders', 'shape', 'is_empty_', '__hash__', '__pyx_vtable__', '__reduce__', '__setstate__', '__repr__', '__str__', '__getattribute__', '__setattr__', '__delattr__', '__reduce_ex__', '__subclasshook__', '__init_subclass__', '__format__', '__sizeof__', '__dir__', '__class__']\n"
     ]
    }
   ],
   "source": [
    "print(train_pool.__dir__())"
   ],
   "metadata": {
    "collapsed": false,
    "pycharm": {
     "name": "#%%\n"
    }
   }
  },
  {
   "cell_type": "code",
   "execution_count": 612,
   "outputs": [
    {
     "data": {
      "text/plain": "['assessmentItemID',\n 'user_acc',\n 'testId',\n 'test_mean',\n 'before_tag',\n 'diff',\n 'user_recent_acc',\n 'knowledgetag_stroke']"
     },
     "execution_count": 612,
     "metadata": {},
     "output_type": "execute_result"
    }
   ],
   "source": [
    "train_pool.get_feature_names()"
   ],
   "metadata": {
    "collapsed": false,
    "pycharm": {
     "name": "#%%\n"
    }
   }
  },
  {
   "cell_type": "code",
   "execution_count": 613,
   "outputs": [
    {
     "data": {
      "text/plain": "<Figure size 1440x720 with 1 Axes>",
      "image/png": "[encoded data removed]"
     },
     "metadata": {
      "needs_background": "light"
     },
     "output_type": "display_data"
    }
   ],
   "source": [
    "plt.figure(figsize=(20,10))\n",
    "\n",
    "importances = pd.Series(model_basic.feature_importances_, index = train_pool.get_feature_names())\n",
    "importances = importances.sort_values()\n",
    "importances.plot(kind = \"barh\")\n",
    "plt.title(\"importance in the CBClassifier Model\")\n",
    "\n",
    "plt.show()"
   ],
   "metadata": {
    "collapsed": false,
    "pycharm": {
     "name": "#%%\n"
    }
   }
  },
  {
   "cell_type": "code",
   "execution_count": 614,
   "outputs": [
    {
     "name": "stdout",
     "output_type": "stream",
     "text": [
      "train ACC : 0.7976171559475099\n",
      "test ACC : 0.7542561065877128\n",
      "test AUC : 0.8271916836875763\n",
      "test_infer AUC : 0.8420647429497254\n"
     ]
    }
   ],
   "source": [
    "print(\"train ACC :\", model_basic.score(train_pool))\n",
    "print(\"test ACC :\", model_basic.score(test_pool))\n",
    "\n",
    "pred = model_basic.predict_proba(test_pool)[:,1]\n",
    "print(\"test AUC :\", roc_auc_score(y_test, pred))\n",
    "\n",
    "pred1 = model_basic.predict_proba(infer_test_pool)[:,1]\n",
    "print(\"test_infer AUC :\", roc_auc_score(y_infer_test, pred1))"
   ],
   "metadata": {
    "collapsed": false,
    "pycharm": {
     "name": "#%%\n"
    }
   }
  },
  {
   "cell_type": "code",
   "execution_count": 615,
   "outputs": [
    {
     "name": "stdout",
     "output_type": "stream",
     "text": [
      "test set 평균, 최대값, 최소값\n",
      "0.46374160478159704\n",
      "0.9845519457815392\n",
      "0.00470912021478538\n"
     ]
    }
   ],
   "source": [
    "print(\"test set 평균, 최대값, 최소값\")\n",
    "print(pred.mean())\n",
    "print(pred.max())\n",
    "print(pred.min())"
   ],
   "metadata": {
    "collapsed": false,
    "pycharm": {
     "name": "#%%\n"
    }
   }
  },
  {
   "cell_type": "code",
   "execution_count": 616,
   "outputs": [
    {
     "data": {
      "text/plain": "array([0.74717028, 0.87427543, 0.24533961, 0.84015089, 0.32614214,\n       0.80797798, 0.05432905, 0.12613944, 0.20213856, 0.91436873])"
     },
     "execution_count": 616,
     "metadata": {},
     "output_type": "execute_result"
    }
   ],
   "source": [
    "# inference\n",
    "infer_cbc = model_basic.predict_proba(infer_pool)[:,1]\n",
    "infer_cbc[:10]"
   ],
   "metadata": {
    "collapsed": false,
    "pycharm": {
     "name": "#%%\n"
    }
   }
  },
  {
   "cell_type": "code",
   "execution_count": 617,
   "outputs": [
    {
     "name": "stdout",
     "output_type": "stream",
     "text": [
      "infer set 평균, 최대값, 최소값\n",
      "0.5015185963606372\n",
      "0.9680479412362808\n",
      "0.007322660765437063\n"
     ]
    }
   ],
   "source": [
    "print(\"infer set 평균, 최대값, 최소값\")\n",
    "print(infer_cbc.mean())\n",
    "print(infer_cbc.max())\n",
    "print(infer_cbc.min())"
   ],
   "metadata": {
    "collapsed": false,
    "pycharm": {
     "name": "#%%\n"
    }
   }
  },
  {
   "cell_type": "code",
   "execution_count": 618,
   "outputs": [
    {
     "data": {
      "text/plain": "      id  prediction\n0      0    0.747170\n1      1    0.874275\n2      2    0.245340\n3      3    0.840151\n4      4    0.326142\n..   ...         ...\n739  739    0.011272\n740  740    0.812614\n741  741    0.864281\n742  742    0.779513\n743  743    0.767503\n\n[744 rows x 2 columns]",
      "text/html": "<div>\n<style scoped>\n    .dataframe tbody tr th:only-of-type {\n        vertical-align: middle;\n    }\n\n    .dataframe tbody tr th {\n        vertical-align: top;\n    }\n\n    .dataframe thead th {\n        text-align: right;\n    }\n</style>\n<table border=\"1\" class=\"dataframe\">\n  <thead>\n    <tr style=\"text-align: right;\">\n      <th></th>\n      <th>id</th>\n      <th>prediction</th>\n    </tr>\n  </thead>\n  <tbody>\n    <tr>\n      <th>0</th>\n      <td>0</td>\n      <td>0.747170</td>\n    </tr>\n    <tr>\n      <th>1</th>\n      <td>1</td>\n      <td>0.874275</td>\n    </tr>\n    <tr>\n      <th>2</th>\n      <td>2</td>\n      <td>0.245340</td>\n    </tr>\n    <tr>\n      <th>3</th>\n      <td>3</td>\n      <td>0.840151</td>\n    </tr>\n    <tr>\n      <th>4</th>\n      <td>4</td>\n      <td>0.326142</td>\n    </tr>\n    <tr>\n      <th>...</th>\n      <td>...</td>\n      <td>...</td>\n    </tr>\n    <tr>\n      <th>739</th>\n      <td>739</td>\n      <td>0.011272</td>\n    </tr>\n    <tr>\n      <th>740</th>\n      <td>740</td>\n      <td>0.812614</td>\n    </tr>\n    <tr>\n      <th>741</th>\n      <td>741</td>\n      <td>0.864281</td>\n    </tr>\n    <tr>\n      <th>742</th>\n      <td>742</td>\n      <td>0.779513</td>\n    </tr>\n    <tr>\n      <th>743</th>\n      <td>743</td>\n      <td>0.767503</td>\n    </tr>\n  </tbody>\n</table>\n<p>744 rows × 2 columns</p>\n</div>"
     },
     "execution_count": 618,
     "metadata": {},
     "output_type": "execute_result"
    }
   ],
   "source": [
    "output = pd.DataFrame({\"id\":range(744), 'prediction':infer_cbc})\n",
    "output"
   ],
   "metadata": {
    "collapsed": false,
    "pycharm": {
     "name": "#%%\n"
    }
   }
  },
  {
   "cell_type": "code",
   "execution_count": 619,
   "outputs": [
    {
     "name": "stdout",
     "output_type": "stream",
     "text": [
      "output 저장.\n"
     ]
    }
   ],
   "source": [
    "output.to_csv(\"/opt/ml/input/data/catboost_best_temp10.csv\", index=False)\n",
    "print(\"output 저장.\")"
   ],
   "metadata": {
    "collapsed": false,
    "pycharm": {
     "name": "#%%\n"
    }
   }
  },
  {
   "cell_type": "code",
   "execution_count": 620,
   "outputs": [
    {
     "data": {
      "text/plain": "386"
     },
     "execution_count": 620,
     "metadata": {},
     "output_type": "execute_result"
    }
   ],
   "source": [
    "len(output[output.prediction > 0.5])"
   ],
   "metadata": {
    "collapsed": false,
    "pycharm": {
     "name": "#%%\n"
    }
   }
  },
  {
   "cell_type": "markdown",
   "source": [
    "## Ensemble"
   ],
   "metadata": {
    "collapsed": false,
    "pycharm": {
     "name": "#%% md\n"
    }
   }
  },
  {
   "cell_type": "code",
   "execution_count": 643,
   "outputs": [],
   "source": [
    "lgbm_out = pd.read_csv(\"/opt/ml/input/data/lgbm_best.csv\")\n",
    "# catboost_out = pd.read_csv(\"/opt/ml/input/data/catboost_best_temp6.csv\")\n",
    "catboost_out = pd.read_csv(\"/opt/ml/input/data/catboost_best_temp10.csv\")\n",
    "lstmattn_out = pd.read_csv(\"/opt/ml/input/data/lstm_gcn_tag_ensem.csv\")\n",
    "\n",
    "ensemble_out = (lgbm_out.prediction * 1 + catboost_out.prediction * 3.5 + lstmattn_out.prediction * 1.5) / 6"
   ],
   "metadata": {
    "collapsed": false,
    "pycharm": {
     "name": "#%%\n"
    }
   }
  },
  {
   "cell_type": "code",
   "execution_count": 644,
   "outputs": [
    {
     "data": {
      "text/plain": "      id  prediction\n0      0    0.766927\n1      1    0.860378\n2      2    0.257405\n3      3    0.856607\n4      4    0.372071\n..   ...         ...\n739  739    0.021122\n740  740    0.683616\n741  741    0.816782\n742  742    0.733804\n743  743    0.727997\n\n[744 rows x 2 columns]",
      "text/html": "<div>\n<style scoped>\n    .dataframe tbody tr th:only-of-type {\n        vertical-align: middle;\n    }\n\n    .dataframe tbody tr th {\n        vertical-align: top;\n    }\n\n    .dataframe thead th {\n        text-align: right;\n    }\n</style>\n<table border=\"1\" class=\"dataframe\">\n  <thead>\n    <tr style=\"text-align: right;\">\n      <th></th>\n      <th>id</th>\n      <th>prediction</th>\n    </tr>\n  </thead>\n  <tbody>\n    <tr>\n      <th>0</th>\n      <td>0</td>\n      <td>0.766927</td>\n    </tr>\n    <tr>\n      <th>1</th>\n      <td>1</td>\n      <td>0.860378</td>\n    </tr>\n    <tr>\n      <th>2</th>\n      <td>2</td>\n      <td>0.257405</td>\n    </tr>\n    <tr>\n      <th>3</th>\n      <td>3</td>\n      <td>0.856607</td>\n    </tr>\n    <tr>\n      <th>4</th>\n      <td>4</td>\n      <td>0.372071</td>\n    </tr>\n    <tr>\n      <th>...</th>\n      <td>...</td>\n      <td>...</td>\n    </tr>\n    <tr>\n      <th>739</th>\n      <td>739</td>\n      <td>0.021122</td>\n    </tr>\n    <tr>\n      <th>740</th>\n      <td>740</td>\n      <td>0.683616</td>\n    </tr>\n    <tr>\n      <th>741</th>\n      <td>741</td>\n      <td>0.816782</td>\n    </tr>\n    <tr>\n      <th>742</th>\n      <td>742</td>\n      <td>0.733804</td>\n    </tr>\n    <tr>\n      <th>743</th>\n      <td>743</td>\n      <td>0.727997</td>\n    </tr>\n  </tbody>\n</table>\n<p>744 rows × 2 columns</p>\n</div>"
     },
     "execution_count": 644,
     "metadata": {},
     "output_type": "execute_result"
    }
   ],
   "source": [
    "output = pd.DataFrame({\"id\":range(744), 'prediction':ensemble_out})\n",
    "output"
   ],
   "metadata": {
    "collapsed": false,
    "pycharm": {
     "name": "#%%\n"
    }
   }
  },
  {
   "cell_type": "code",
   "execution_count": 645,
   "outputs": [
    {
     "name": "stdout",
     "output_type": "stream",
     "text": [
      "output 저장.\n"
     ]
    }
   ],
   "source": [
    "output.to_csv(\"weighted_sum_26.csv\", index=False)\n",
    "print(\"output 저장.\")"
   ],
   "metadata": {
    "collapsed": false,
    "pycharm": {
     "name": "#%%\n"
    }
   }
  },
  {
   "cell_type": "code",
   "execution_count": 646,
   "outputs": [
    {
     "data": {
      "text/plain": "421"
     },
     "execution_count": 646,
     "metadata": {},
     "output_type": "execute_result"
    }
   ],
   "source": [
    "len(output[output.prediction > 0.5])"
   ],
   "metadata": {
    "collapsed": false,
    "pycharm": {
     "name": "#%%\n"
    }
   }
  },
  {
   "cell_type": "code",
   "execution_count": 625,
   "outputs": [
    {
     "data": {
      "text/plain": "410"
     },
     "execution_count": 625,
     "metadata": {},
     "output_type": "execute_result"
    }
   ],
   "source": [
    "ensemble_out = pd.read_csv(\"/opt/ml/input/data/output.csv\")\n",
    "len(ensemble_out[ensemble_out.prediction > 0.5])"
   ],
   "metadata": {
    "collapsed": false,
    "pycharm": {
     "name": "#%%\n"
    }
   }
  }
 ],
 "metadata": {
  "kernelspec": {
   "display_name": "Python 3",
   "language": "python",
   "name": "python3"
  },
  "language_info": {
   "codemirror_mode": {
    "name": "ipython",
    "version": 2
   },
   "file_extension": ".py",
   "mimetype": "text/x-python",
   "name": "python",
   "nbconvert_exporter": "python",
   "pygments_lexer": "ipython2",
   "version": "2.7.6"
  }
 },
 "nbformat": 4,
 "nbformat_minor": 0
}