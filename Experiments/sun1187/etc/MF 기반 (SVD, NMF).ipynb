{
 "cells": [
  {
   "cell_type": "code",
   "execution_count": 1,
   "id": "58e0f3ff",
   "metadata": {},
   "outputs": [],
   "source": [
    "import numpy as np # linear algebra\n",
    "import pandas as pd\n",
    "import random\n",
    "from scipy.sparse.linalg import svds\n",
    "from sklearn.metrics import accuracy_score, roc_auc_score"
   ]
  },
  {
   "cell_type": "markdown",
   "id": "5ecef2d3",
   "metadata": {},
   "source": [
    "### Data Load"
   ]
  },
  {
   "cell_type": "code",
   "execution_count": 3,
   "id": "85353632",
   "metadata": {},
   "outputs": [],
   "source": [
    "train_data = pd.read_csv('/opt/ml/input/data/train_data.csv')\n",
    "test_data  = pd.read_csv('/opt/ml/input/data/test_data.csv')"
   ]
  },
  {
   "cell_type": "markdown",
   "id": "e19cc451",
   "metadata": {},
   "source": [
    "### 데이터 구성\n",
    "\n",
    "- 데이터는 학습 데이터셋과 테스트 데이터셋으로 구분되어 있다.\n",
    "- 각 데이터에는 userID, assessmentItemID, testId, answerCode, Timestamp, KnowledgeTag의 정보가 있다.\n",
    "- 여기서 assessmentItemID는 문제의 고유 ID이며, answerCode는 사용자가 해당 문제의 정답을 맞췄는지 여부로, 맞췄으면 1, 틀렸으면 0으로 표기된다.\n",
    "- 기본적인 협업 필터링 적용을 위해 본 실습에서는 userID, assessmentItemID, answerCode만을 사용한다."
   ]
  },
  {
   "cell_type": "code",
   "execution_count": 4,
   "id": "d871646a",
   "metadata": {},
   "outputs": [
    {
     "name": "stdout",
     "output_type": "stream",
     "text": [
      "Train dataset\n"
     ]
    },
    {
     "data": {
      "text/html": [
       "<div>\n",
       "<style scoped>\n",
       "    .dataframe tbody tr th:only-of-type {\n",
       "        vertical-align: middle;\n",
       "    }\n",
       "\n",
       "    .dataframe tbody tr th {\n",
       "        vertical-align: top;\n",
       "    }\n",
       "\n",
       "    .dataframe thead th {\n",
       "        text-align: right;\n",
       "    }\n",
       "</style>\n",
       "<table border=\"1\" class=\"dataframe\">\n",
       "  <thead>\n",
       "    <tr style=\"text-align: right;\">\n",
       "      <th></th>\n",
       "      <th>userID</th>\n",
       "      <th>assessmentItemID</th>\n",
       "      <th>testId</th>\n",
       "      <th>answerCode</th>\n",
       "      <th>Timestamp</th>\n",
       "      <th>KnowledgeTag</th>\n",
       "    </tr>\n",
       "  </thead>\n",
       "  <tbody>\n",
       "    <tr>\n",
       "      <th>0</th>\n",
       "      <td>0</td>\n",
       "      <td>A060001001</td>\n",
       "      <td>A060000001</td>\n",
       "      <td>1</td>\n",
       "      <td>2020-03-24 00:17:11</td>\n",
       "      <td>7224</td>\n",
       "    </tr>\n",
       "    <tr>\n",
       "      <th>1</th>\n",
       "      <td>0</td>\n",
       "      <td>A060001002</td>\n",
       "      <td>A060000001</td>\n",
       "      <td>1</td>\n",
       "      <td>2020-03-24 00:17:14</td>\n",
       "      <td>7225</td>\n",
       "    </tr>\n",
       "    <tr>\n",
       "      <th>2</th>\n",
       "      <td>0</td>\n",
       "      <td>A060001003</td>\n",
       "      <td>A060000001</td>\n",
       "      <td>1</td>\n",
       "      <td>2020-03-24 00:17:22</td>\n",
       "      <td>7225</td>\n",
       "    </tr>\n",
       "    <tr>\n",
       "      <th>3</th>\n",
       "      <td>0</td>\n",
       "      <td>A060001004</td>\n",
       "      <td>A060000001</td>\n",
       "      <td>1</td>\n",
       "      <td>2020-03-24 00:17:29</td>\n",
       "      <td>7225</td>\n",
       "    </tr>\n",
       "    <tr>\n",
       "      <th>4</th>\n",
       "      <td>0</td>\n",
       "      <td>A060001005</td>\n",
       "      <td>A060000001</td>\n",
       "      <td>1</td>\n",
       "      <td>2020-03-24 00:17:36</td>\n",
       "      <td>7225</td>\n",
       "    </tr>\n",
       "  </tbody>\n",
       "</table>\n",
       "</div>"
      ],
      "text/plain": [
       "   userID assessmentItemID      testId  answerCode            Timestamp  \\\n",
       "0       0       A060001001  A060000001           1  2020-03-24 00:17:11   \n",
       "1       0       A060001002  A060000001           1  2020-03-24 00:17:14   \n",
       "2       0       A060001003  A060000001           1  2020-03-24 00:17:22   \n",
       "3       0       A060001004  A060000001           1  2020-03-24 00:17:29   \n",
       "4       0       A060001005  A060000001           1  2020-03-24 00:17:36   \n",
       "\n",
       "   KnowledgeTag  \n",
       "0          7224  \n",
       "1          7225  \n",
       "2          7225  \n",
       "3          7225  \n",
       "4          7225  "
      ]
     },
     "metadata": {},
     "output_type": "display_data"
    },
    {
     "name": "stdout",
     "output_type": "stream",
     "text": [
      " Num. Users    : 6698\n",
      " Max. UserID   : 7441\n",
      " Num. Items    : 9454\n",
      " Num. Records  : 2266586\n",
      "Test dataset\n"
     ]
    },
    {
     "data": {
      "text/html": [
       "<div>\n",
       "<style scoped>\n",
       "    .dataframe tbody tr th:only-of-type {\n",
       "        vertical-align: middle;\n",
       "    }\n",
       "\n",
       "    .dataframe tbody tr th {\n",
       "        vertical-align: top;\n",
       "    }\n",
       "\n",
       "    .dataframe thead th {\n",
       "        text-align: right;\n",
       "    }\n",
       "</style>\n",
       "<table border=\"1\" class=\"dataframe\">\n",
       "  <thead>\n",
       "    <tr style=\"text-align: right;\">\n",
       "      <th></th>\n",
       "      <th>userID</th>\n",
       "      <th>assessmentItemID</th>\n",
       "      <th>testId</th>\n",
       "      <th>answerCode</th>\n",
       "      <th>Timestamp</th>\n",
       "      <th>KnowledgeTag</th>\n",
       "    </tr>\n",
       "  </thead>\n",
       "  <tbody>\n",
       "    <tr>\n",
       "      <th>0</th>\n",
       "      <td>3</td>\n",
       "      <td>A050023001</td>\n",
       "      <td>A050000023</td>\n",
       "      <td>1</td>\n",
       "      <td>2020-01-09 10:56:31</td>\n",
       "      <td>2626</td>\n",
       "    </tr>\n",
       "    <tr>\n",
       "      <th>1</th>\n",
       "      <td>3</td>\n",
       "      <td>A050023002</td>\n",
       "      <td>A050000023</td>\n",
       "      <td>1</td>\n",
       "      <td>2020-01-09 10:56:57</td>\n",
       "      <td>2626</td>\n",
       "    </tr>\n",
       "    <tr>\n",
       "      <th>2</th>\n",
       "      <td>3</td>\n",
       "      <td>A050023003</td>\n",
       "      <td>A050000023</td>\n",
       "      <td>0</td>\n",
       "      <td>2020-01-09 10:58:31</td>\n",
       "      <td>2625</td>\n",
       "    </tr>\n",
       "    <tr>\n",
       "      <th>3</th>\n",
       "      <td>3</td>\n",
       "      <td>A050023004</td>\n",
       "      <td>A050000023</td>\n",
       "      <td>0</td>\n",
       "      <td>2020-01-09 10:58:36</td>\n",
       "      <td>2625</td>\n",
       "    </tr>\n",
       "    <tr>\n",
       "      <th>4</th>\n",
       "      <td>3</td>\n",
       "      <td>A050023006</td>\n",
       "      <td>A050000023</td>\n",
       "      <td>0</td>\n",
       "      <td>2020-01-09 10:58:43</td>\n",
       "      <td>2623</td>\n",
       "    </tr>\n",
       "  </tbody>\n",
       "</table>\n",
       "</div>"
      ],
      "text/plain": [
       "   userID assessmentItemID      testId  answerCode            Timestamp  \\\n",
       "0       3       A050023001  A050000023           1  2020-01-09 10:56:31   \n",
       "1       3       A050023002  A050000023           1  2020-01-09 10:56:57   \n",
       "2       3       A050023003  A050000023           0  2020-01-09 10:58:31   \n",
       "3       3       A050023004  A050000023           0  2020-01-09 10:58:36   \n",
       "4       3       A050023006  A050000023           0  2020-01-09 10:58:43   \n",
       "\n",
       "   KnowledgeTag  \n",
       "0          2626  \n",
       "1          2626  \n",
       "2          2625  \n",
       "3          2625  \n",
       "4          2623  "
      ]
     },
     "metadata": {},
     "output_type": "display_data"
    },
    {
     "name": "stdout",
     "output_type": "stream",
     "text": [
      " Num. Users    : 744\n",
      " Max. UserID   : 7439\n",
      " Num. Items    : 9454\n",
      " Num. Records  : 260114\n"
     ]
    }
   ],
   "source": [
    "userid, itemid = list(set(train_data.userID)), list(set(train_data.assessmentItemID))\n",
    "n_user, n_item = len(userid), len(itemid)\n",
    "\n",
    "print(f\"Train dataset\")\n",
    "display(train_data.head(5))\n",
    "print(f\" Num. Users    : {n_user}\")\n",
    "print(f\" Max. UserID   : {max(userid)}\")\n",
    "print(f\" Num. Items    : {n_item}\")\n",
    "print(f\" Num. Records  : {len(train_data)}\")\n",
    "\n",
    "userid, itemid = list(set(test_data.userID)), list(set(test_data.assessmentItemID))\n",
    "n_user, n_item = len(userid), len(itemid)\n",
    "\n",
    "print(f\"Test dataset\")\n",
    "display(test_data.head(5))\n",
    "print(f\" Num. Users    : {n_user}\")\n",
    "print(f\" Max. UserID   : {max(userid)}\")\n",
    "print(f\" Num. Items    : {n_item}\")\n",
    "print(f\" Num. Records  : {len(test_data)}\")"
   ]
  },
  {
   "cell_type": "code",
   "execution_count": 5,
   "id": "f3404796",
   "metadata": {},
   "outputs": [
    {
     "data": {
      "text/html": [
       "<div>\n",
       "<style scoped>\n",
       "    .dataframe tbody tr th:only-of-type {\n",
       "        vertical-align: middle;\n",
       "    }\n",
       "\n",
       "    .dataframe tbody tr th {\n",
       "        vertical-align: top;\n",
       "    }\n",
       "\n",
       "    .dataframe thead th {\n",
       "        text-align: right;\n",
       "    }\n",
       "</style>\n",
       "<table border=\"1\" class=\"dataframe\">\n",
       "  <thead>\n",
       "    <tr style=\"text-align: right;\">\n",
       "      <th></th>\n",
       "      <th>userID</th>\n",
       "      <th>assessmentItemID</th>\n",
       "      <th>testId</th>\n",
       "      <th>answerCode</th>\n",
       "      <th>Timestamp</th>\n",
       "      <th>KnowledgeTag</th>\n",
       "    </tr>\n",
       "  </thead>\n",
       "  <tbody>\n",
       "    <tr>\n",
       "      <th>260111</th>\n",
       "      <td>7439</td>\n",
       "      <td>A040130003</td>\n",
       "      <td>A040000130</td>\n",
       "      <td>1</td>\n",
       "      <td>2020-10-14 23:08:02</td>\n",
       "      <td>8244</td>\n",
       "    </tr>\n",
       "    <tr>\n",
       "      <th>260112</th>\n",
       "      <td>7439</td>\n",
       "      <td>A040130004</td>\n",
       "      <td>A040000130</td>\n",
       "      <td>1</td>\n",
       "      <td>2020-10-14 23:09:31</td>\n",
       "      <td>8244</td>\n",
       "    </tr>\n",
       "    <tr>\n",
       "      <th>260113</th>\n",
       "      <td>7439</td>\n",
       "      <td>A040130005</td>\n",
       "      <td>A040000130</td>\n",
       "      <td>-1</td>\n",
       "      <td>2020-10-14 23:10:03</td>\n",
       "      <td>8832</td>\n",
       "    </tr>\n",
       "  </tbody>\n",
       "</table>\n",
       "</div>"
      ],
      "text/plain": [
       "        userID assessmentItemID      testId  answerCode            Timestamp  \\\n",
       "260111    7439       A040130003  A040000130           1  2020-10-14 23:08:02   \n",
       "260112    7439       A040130004  A040000130           1  2020-10-14 23:09:31   \n",
       "260113    7439       A040130005  A040000130          -1  2020-10-14 23:10:03   \n",
       "\n",
       "        KnowledgeTag  \n",
       "260111          8244  \n",
       "260112          8244  \n",
       "260113          8832  "
      ]
     },
     "metadata": {},
     "output_type": "display_data"
    }
   ],
   "source": [
    "display(test_data.tail(3))"
   ]
  },
  {
   "cell_type": "markdown",
   "id": "c1541069",
   "metadata": {},
   "source": [
    "위와 같이 테스트 데이터셋에서는 answerCode가 -1인 경우가 나타난다. 이는 평가를 위한 것으로 해당 레코드는 제외하고 실습을 수행한다."
   ]
  },
  {
   "cell_type": "markdown",
   "id": "0a3fb752",
   "metadata": {},
   "source": [
    "### Data Preprocessing"
   ]
  },
  {
   "cell_type": "markdown",
   "id": "1bca4154",
   "metadata": {},
   "source": [
    "중복 레코드 제거\n",
    " - RS 모델에서는 시간에 따른 변화를 고려하지 않기 때문에 최종 성적만을 바탕으로 평가한다.\n",
    " - 사용자+문제항목을 Unique key로 하여 최종 레코드만을 보존하고 나머지 제거한다."
   ]
  },
  {
   "cell_type": "code",
   "execution_count": 6,
   "id": "b8181d58",
   "metadata": {},
   "outputs": [],
   "source": [
    "train_data.drop_duplicates(subset = [\"userID\", \"assessmentItemID\"],\n",
    "                     keep = \"last\", inplace = True)\n",
    "test_data.drop_duplicates(subset = [\"userID\", \"assessmentItemID\"],\n",
    "                     keep = \"last\", inplace = True)"
   ]
  },
  {
   "cell_type": "code",
   "execution_count": 8,
   "id": "59f6e31e",
   "metadata": {},
   "outputs": [
    {
     "data": {
      "text/html": [
       "<div>\n",
       "<style scoped>\n",
       "    .dataframe tbody tr th:only-of-type {\n",
       "        vertical-align: middle;\n",
       "    }\n",
       "\n",
       "    .dataframe tbody tr th {\n",
       "        vertical-align: top;\n",
       "    }\n",
       "\n",
       "    .dataframe thead th {\n",
       "        text-align: right;\n",
       "    }\n",
       "</style>\n",
       "<table border=\"1\" class=\"dataframe\">\n",
       "  <thead>\n",
       "    <tr style=\"text-align: right;\">\n",
       "      <th></th>\n",
       "      <th>userID</th>\n",
       "      <th>assessmentItemID</th>\n",
       "      <th>testId</th>\n",
       "      <th>answerCode</th>\n",
       "      <th>Timestamp</th>\n",
       "      <th>KnowledgeTag</th>\n",
       "    </tr>\n",
       "  </thead>\n",
       "  <tbody>\n",
       "    <tr>\n",
       "      <th>1035</th>\n",
       "      <td>3</td>\n",
       "      <td>A050133008</td>\n",
       "      <td>A050000133</td>\n",
       "      <td>-1</td>\n",
       "      <td>2020-10-26 13:13:57</td>\n",
       "      <td>5289</td>\n",
       "    </tr>\n",
       "    <tr>\n",
       "      <th>1706</th>\n",
       "      <td>4</td>\n",
       "      <td>A070146008</td>\n",
       "      <td>A070000146</td>\n",
       "      <td>-1</td>\n",
       "      <td>2020-12-27 02:47:54</td>\n",
       "      <td>9080</td>\n",
       "    </tr>\n",
       "    <tr>\n",
       "      <th>3023</th>\n",
       "      <td>13</td>\n",
       "      <td>A070111008</td>\n",
       "      <td>A070000111</td>\n",
       "      <td>-1</td>\n",
       "      <td>2020-12-27 04:35:09</td>\n",
       "      <td>9660</td>\n",
       "    </tr>\n",
       "    <tr>\n",
       "      <th>4283</th>\n",
       "      <td>17</td>\n",
       "      <td>A090064006</td>\n",
       "      <td>A090000064</td>\n",
       "      <td>-1</td>\n",
       "      <td>2020-10-30 05:48:37</td>\n",
       "      <td>2611</td>\n",
       "    </tr>\n",
       "    <tr>\n",
       "      <th>4670</th>\n",
       "      <td>26</td>\n",
       "      <td>A060135007</td>\n",
       "      <td>A060000135</td>\n",
       "      <td>-1</td>\n",
       "      <td>2020-10-23 11:44:18</td>\n",
       "      <td>1422</td>\n",
       "    </tr>\n",
       "    <tr>\n",
       "      <th>...</th>\n",
       "      <td>...</td>\n",
       "      <td>...</td>\n",
       "      <td>...</td>\n",
       "      <td>...</td>\n",
       "      <td>...</td>\n",
       "      <td>...</td>\n",
       "    </tr>\n",
       "    <tr>\n",
       "      <th>260052</th>\n",
       "      <td>7395</td>\n",
       "      <td>A040122005</td>\n",
       "      <td>A040000122</td>\n",
       "      <td>-1</td>\n",
       "      <td>2020-09-08 02:05:20</td>\n",
       "      <td>10615</td>\n",
       "    </tr>\n",
       "    <tr>\n",
       "      <th>260067</th>\n",
       "      <td>7404</td>\n",
       "      <td>A030111005</td>\n",
       "      <td>A030000111</td>\n",
       "      <td>-1</td>\n",
       "      <td>2020-10-13 09:49:18</td>\n",
       "      <td>7636</td>\n",
       "    </tr>\n",
       "    <tr>\n",
       "      <th>260082</th>\n",
       "      <td>7416</td>\n",
       "      <td>A050193004</td>\n",
       "      <td>A050000193</td>\n",
       "      <td>-1</td>\n",
       "      <td>2020-10-04 02:44:41</td>\n",
       "      <td>10402</td>\n",
       "    </tr>\n",
       "    <tr>\n",
       "      <th>260097</th>\n",
       "      <td>7417</td>\n",
       "      <td>A050193004</td>\n",
       "      <td>A050000193</td>\n",
       "      <td>-1</td>\n",
       "      <td>2020-09-06 13:09:15</td>\n",
       "      <td>10402</td>\n",
       "    </tr>\n",
       "    <tr>\n",
       "      <th>260113</th>\n",
       "      <td>7439</td>\n",
       "      <td>A040130005</td>\n",
       "      <td>A040000130</td>\n",
       "      <td>-1</td>\n",
       "      <td>2020-10-14 23:10:03</td>\n",
       "      <td>8832</td>\n",
       "    </tr>\n",
       "  </tbody>\n",
       "</table>\n",
       "<p>744 rows × 6 columns</p>\n",
       "</div>"
      ],
      "text/plain": [
       "        userID assessmentItemID      testId  answerCode            Timestamp  \\\n",
       "1035         3       A050133008  A050000133          -1  2020-10-26 13:13:57   \n",
       "1706         4       A070146008  A070000146          -1  2020-12-27 02:47:54   \n",
       "3023        13       A070111008  A070000111          -1  2020-12-27 04:35:09   \n",
       "4283        17       A090064006  A090000064          -1  2020-10-30 05:48:37   \n",
       "4670        26       A060135007  A060000135          -1  2020-10-23 11:44:18   \n",
       "...        ...              ...         ...         ...                  ...   \n",
       "260052    7395       A040122005  A040000122          -1  2020-09-08 02:05:20   \n",
       "260067    7404       A030111005  A030000111          -1  2020-10-13 09:49:18   \n",
       "260082    7416       A050193004  A050000193          -1  2020-10-04 02:44:41   \n",
       "260097    7417       A050193004  A050000193          -1  2020-09-06 13:09:15   \n",
       "260113    7439       A040130005  A040000130          -1  2020-10-14 23:10:03   \n",
       "\n",
       "        KnowledgeTag  \n",
       "1035            5289  \n",
       "1706            9080  \n",
       "3023            9660  \n",
       "4283            2611  \n",
       "4670            1422  \n",
       "...              ...  \n",
       "260052         10615  \n",
       "260067          7636  \n",
       "260082         10402  \n",
       "260097         10402  \n",
       "260113          8832  \n",
       "\n",
       "[744 rows x 6 columns]"
      ]
     },
     "execution_count": 8,
     "metadata": {},
     "output_type": "execute_result"
    }
   ],
   "source": [
    "test_data[test_data.answerCode == -1]\n"
   ]
  },
  {
   "cell_type": "markdown",
   "id": "b9b78bd3",
   "metadata": {},
   "source": [
    "불필요한 column 제거\n",
    "- 다음과 같이 pandas에서는 불필요한 column을 제거할 수 있다."
   ]
  },
  {
   "cell_type": "code",
   "execution_count": 9,
   "id": "64cea7f7",
   "metadata": {},
   "outputs": [
    {
     "data": {
      "text/html": [
       "<div>\n",
       "<style scoped>\n",
       "    .dataframe tbody tr th:only-of-type {\n",
       "        vertical-align: middle;\n",
       "    }\n",
       "\n",
       "    .dataframe tbody tr th {\n",
       "        vertical-align: top;\n",
       "    }\n",
       "\n",
       "    .dataframe thead th {\n",
       "        text-align: right;\n",
       "    }\n",
       "</style>\n",
       "<table border=\"1\" class=\"dataframe\">\n",
       "  <thead>\n",
       "    <tr style=\"text-align: right;\">\n",
       "      <th></th>\n",
       "      <th>userID</th>\n",
       "      <th>assessmentItemID</th>\n",
       "      <th>answerCode</th>\n",
       "    </tr>\n",
       "  </thead>\n",
       "  <tbody>\n",
       "    <tr>\n",
       "      <th>0</th>\n",
       "      <td>0</td>\n",
       "      <td>A060001001</td>\n",
       "      <td>1</td>\n",
       "    </tr>\n",
       "    <tr>\n",
       "      <th>1</th>\n",
       "      <td>0</td>\n",
       "      <td>A060001002</td>\n",
       "      <td>1</td>\n",
       "    </tr>\n",
       "    <tr>\n",
       "      <th>2</th>\n",
       "      <td>0</td>\n",
       "      <td>A060001003</td>\n",
       "      <td>1</td>\n",
       "    </tr>\n",
       "    <tr>\n",
       "      <th>3</th>\n",
       "      <td>0</td>\n",
       "      <td>A060001004</td>\n",
       "      <td>1</td>\n",
       "    </tr>\n",
       "    <tr>\n",
       "      <th>4</th>\n",
       "      <td>0</td>\n",
       "      <td>A060001005</td>\n",
       "      <td>1</td>\n",
       "    </tr>\n",
       "    <tr>\n",
       "      <th>5</th>\n",
       "      <td>0</td>\n",
       "      <td>A060001007</td>\n",
       "      <td>1</td>\n",
       "    </tr>\n",
       "    <tr>\n",
       "      <th>6</th>\n",
       "      <td>0</td>\n",
       "      <td>A060003001</td>\n",
       "      <td>0</td>\n",
       "    </tr>\n",
       "    <tr>\n",
       "      <th>7</th>\n",
       "      <td>0</td>\n",
       "      <td>A060003002</td>\n",
       "      <td>1</td>\n",
       "    </tr>\n",
       "    <tr>\n",
       "      <th>8</th>\n",
       "      <td>0</td>\n",
       "      <td>A060003003</td>\n",
       "      <td>1</td>\n",
       "    </tr>\n",
       "    <tr>\n",
       "      <th>9</th>\n",
       "      <td>0</td>\n",
       "      <td>A060003004</td>\n",
       "      <td>1</td>\n",
       "    </tr>\n",
       "  </tbody>\n",
       "</table>\n",
       "</div>"
      ],
      "text/plain": [
       "   userID assessmentItemID  answerCode\n",
       "0       0       A060001001           1\n",
       "1       0       A060001002           1\n",
       "2       0       A060001003           1\n",
       "3       0       A060001004           1\n",
       "4       0       A060001005           1\n",
       "5       0       A060001007           1\n",
       "6       0       A060003001           0\n",
       "7       0       A060003002           1\n",
       "8       0       A060003003           1\n",
       "9       0       A060003004           1"
      ]
     },
     "execution_count": 9,
     "metadata": {},
     "output_type": "execute_result"
    }
   ],
   "source": [
    "train_data.drop(['Timestamp','testId','KnowledgeTag'],\n",
    "                axis=1, inplace=True, errors='ignore')\n",
    "train_data.head(10)"
   ]
  },
  {
   "cell_type": "markdown",
   "id": "a5dc7776",
   "metadata": {},
   "source": [
    "평가 항목 제거\n",
    "- 테스트 데이터셋에서 answerCode가 -1인 항목은 최종 평가시 사용되는 항목으로 여기에선 사용할 수 없다.\n",
    "- 아래 결과에서와 같이 User, Item 수는 변화 없이 총 레코드 수만 변한다."
   ]
  },
  {
   "cell_type": "code",
   "execution_count": 10,
   "id": "57ce13ff",
   "metadata": {},
   "outputs": [
    {
     "data": {
      "text/html": [
       "<div>\n",
       "<style scoped>\n",
       "    .dataframe tbody tr th:only-of-type {\n",
       "        vertical-align: middle;\n",
       "    }\n",
       "\n",
       "    .dataframe tbody tr th {\n",
       "        vertical-align: top;\n",
       "    }\n",
       "\n",
       "    .dataframe thead th {\n",
       "        text-align: right;\n",
       "    }\n",
       "</style>\n",
       "<table border=\"1\" class=\"dataframe\">\n",
       "  <thead>\n",
       "    <tr style=\"text-align: right;\">\n",
       "      <th></th>\n",
       "      <th>userID</th>\n",
       "      <th>assessmentItemID</th>\n",
       "      <th>testId</th>\n",
       "      <th>answerCode</th>\n",
       "      <th>Timestamp</th>\n",
       "      <th>KnowledgeTag</th>\n",
       "    </tr>\n",
       "  </thead>\n",
       "  <tbody>\n",
       "    <tr>\n",
       "      <th>260108</th>\n",
       "      <td>7439</td>\n",
       "      <td>A040197006</td>\n",
       "      <td>A040000197</td>\n",
       "      <td>1</td>\n",
       "      <td>2020-08-21 07:39:45</td>\n",
       "      <td>2132</td>\n",
       "    </tr>\n",
       "    <tr>\n",
       "      <th>260109</th>\n",
       "      <td>7439</td>\n",
       "      <td>A040130001</td>\n",
       "      <td>A040000130</td>\n",
       "      <td>0</td>\n",
       "      <td>2020-10-14 23:07:23</td>\n",
       "      <td>8832</td>\n",
       "    </tr>\n",
       "    <tr>\n",
       "      <th>260110</th>\n",
       "      <td>7439</td>\n",
       "      <td>A040130002</td>\n",
       "      <td>A040000130</td>\n",
       "      <td>1</td>\n",
       "      <td>2020-10-14 23:07:41</td>\n",
       "      <td>8832</td>\n",
       "    </tr>\n",
       "    <tr>\n",
       "      <th>260111</th>\n",
       "      <td>7439</td>\n",
       "      <td>A040130003</td>\n",
       "      <td>A040000130</td>\n",
       "      <td>1</td>\n",
       "      <td>2020-10-14 23:08:02</td>\n",
       "      <td>8244</td>\n",
       "    </tr>\n",
       "    <tr>\n",
       "      <th>260112</th>\n",
       "      <td>7439</td>\n",
       "      <td>A040130004</td>\n",
       "      <td>A040000130</td>\n",
       "      <td>1</td>\n",
       "      <td>2020-10-14 23:09:31</td>\n",
       "      <td>8244</td>\n",
       "    </tr>\n",
       "  </tbody>\n",
       "</table>\n",
       "</div>"
      ],
      "text/plain": [
       "        userID assessmentItemID      testId  answerCode            Timestamp  \\\n",
       "260108    7439       A040197006  A040000197           1  2020-08-21 07:39:45   \n",
       "260109    7439       A040130001  A040000130           0  2020-10-14 23:07:23   \n",
       "260110    7439       A040130002  A040000130           1  2020-10-14 23:07:41   \n",
       "260111    7439       A040130003  A040000130           1  2020-10-14 23:08:02   \n",
       "260112    7439       A040130004  A040000130           1  2020-10-14 23:09:31   \n",
       "\n",
       "        KnowledgeTag  \n",
       "260108          2132  \n",
       "260109          8832  \n",
       "260110          8832  \n",
       "260111          8244  \n",
       "260112          8244  "
      ]
     },
     "metadata": {},
     "output_type": "display_data"
    },
    {
     "name": "stdout",
     "output_type": "stream",
     "text": [
      " Num. Users    : 744->744\n",
      " Max. UserID   : 7439\n",
      " Num. Items    : 9454->9454\n",
      " Num. Records  : 256073->255329\n"
     ]
    }
   ],
   "source": [
    "test_data_old = test_data.copy()\n",
    "n_user_old, n_item_old = n_user, n_item\n",
    "\n",
    "test_data  = test_data[test_data.answerCode>=0].copy()\n",
    "\n",
    "userid, itemid = list(set(test_data.userID)), list(set(test_data.assessmentItemID))\n",
    "n_user, n_item = len(userid), len(itemid)\n",
    "\n",
    "display(test_data.tail(5))\n",
    "print(f\" Num. Users    : {n_user}->{n_user}\")\n",
    "print(f\" Max. UserID   : {max(userid)}\")\n",
    "print(f\" Num. Items    : {n_item}->{n_item}\")\n",
    "print(f\" Num. Records  : {len(test_data_old)}->{len(test_data)}\")"
   ]
  },
  {
   "cell_type": "markdown",
   "id": "a08ab5f8",
   "metadata": {},
   "source": [
    "평가 항목 신규 생성\n",
    "- 남은 테스트 항목 중, 각 사용자별 최종 레코드를 새로운 평가 항목으로 정한다."
   ]
  },
  {
   "cell_type": "code",
   "execution_count": 11,
   "id": "797ee154",
   "metadata": {},
   "outputs": [
    {
     "data": {
      "text/html": [
       "<div>\n",
       "<style scoped>\n",
       "    .dataframe tbody tr th:only-of-type {\n",
       "        vertical-align: middle;\n",
       "    }\n",
       "\n",
       "    .dataframe tbody tr th {\n",
       "        vertical-align: top;\n",
       "    }\n",
       "\n",
       "    .dataframe thead th {\n",
       "        text-align: right;\n",
       "    }\n",
       "</style>\n",
       "<table border=\"1\" class=\"dataframe\">\n",
       "  <thead>\n",
       "    <tr style=\"text-align: right;\">\n",
       "      <th></th>\n",
       "      <th>userID</th>\n",
       "      <th>assessmentItemID</th>\n",
       "      <th>testId</th>\n",
       "      <th>answerCode</th>\n",
       "      <th>Timestamp</th>\n",
       "      <th>KnowledgeTag</th>\n",
       "    </tr>\n",
       "  </thead>\n",
       "  <tbody>\n",
       "    <tr>\n",
       "      <th>1034</th>\n",
       "      <td>3</td>\n",
       "      <td>A050133007</td>\n",
       "      <td>A050000133</td>\n",
       "      <td>0</td>\n",
       "      <td>2020-10-26 13:13:11</td>\n",
       "      <td>5289</td>\n",
       "    </tr>\n",
       "    <tr>\n",
       "      <th>1705</th>\n",
       "      <td>4</td>\n",
       "      <td>A070146007</td>\n",
       "      <td>A070000146</td>\n",
       "      <td>1</td>\n",
       "      <td>2020-12-27 02:47:31</td>\n",
       "      <td>9080</td>\n",
       "    </tr>\n",
       "    <tr>\n",
       "      <th>3022</th>\n",
       "      <td>13</td>\n",
       "      <td>A070111007</td>\n",
       "      <td>A070000111</td>\n",
       "      <td>1</td>\n",
       "      <td>2020-12-27 04:35:01</td>\n",
       "      <td>9660</td>\n",
       "    </tr>\n",
       "    <tr>\n",
       "      <th>4282</th>\n",
       "      <td>17</td>\n",
       "      <td>A090064005</td>\n",
       "      <td>A090000064</td>\n",
       "      <td>1</td>\n",
       "      <td>2020-10-30 05:47:22</td>\n",
       "      <td>2611</td>\n",
       "    </tr>\n",
       "    <tr>\n",
       "      <th>4669</th>\n",
       "      <td>26</td>\n",
       "      <td>A060135006</td>\n",
       "      <td>A060000135</td>\n",
       "      <td>0</td>\n",
       "      <td>2020-10-23 11:44:01</td>\n",
       "      <td>1422</td>\n",
       "    </tr>\n",
       "  </tbody>\n",
       "</table>\n",
       "</div>"
      ],
      "text/plain": [
       "      userID assessmentItemID      testId  answerCode            Timestamp  \\\n",
       "1034       3       A050133007  A050000133           0  2020-10-26 13:13:11   \n",
       "1705       4       A070146007  A070000146           1  2020-12-27 02:47:31   \n",
       "3022      13       A070111007  A070000111           1  2020-12-27 04:35:01   \n",
       "4282      17       A090064005  A090000064           1  2020-10-30 05:47:22   \n",
       "4669      26       A060135006  A060000135           0  2020-10-23 11:44:01   \n",
       "\n",
       "      KnowledgeTag  \n",
       "1034          5289  \n",
       "1705          9080  \n",
       "3022          9660  \n",
       "4282          2611  \n",
       "4669          1422  "
      ]
     },
     "metadata": {},
     "output_type": "display_data"
    },
    {
     "data": {
      "text/html": [
       "<div>\n",
       "<style scoped>\n",
       "    .dataframe tbody tr th:only-of-type {\n",
       "        vertical-align: middle;\n",
       "    }\n",
       "\n",
       "    .dataframe tbody tr th {\n",
       "        vertical-align: top;\n",
       "    }\n",
       "\n",
       "    .dataframe thead th {\n",
       "        text-align: right;\n",
       "    }\n",
       "</style>\n",
       "<table border=\"1\" class=\"dataframe\">\n",
       "  <thead>\n",
       "    <tr style=\"text-align: right;\">\n",
       "      <th></th>\n",
       "      <th>userID</th>\n",
       "      <th>assessmentItemID</th>\n",
       "      <th>testId</th>\n",
       "      <th>answerCode</th>\n",
       "      <th>Timestamp</th>\n",
       "      <th>KnowledgeTag</th>\n",
       "    </tr>\n",
       "  </thead>\n",
       "  <tbody>\n",
       "    <tr>\n",
       "      <th>260051</th>\n",
       "      <td>7395</td>\n",
       "      <td>A040122004</td>\n",
       "      <td>A040000122</td>\n",
       "      <td>0</td>\n",
       "      <td>2020-09-08 02:05:18</td>\n",
       "      <td>2102</td>\n",
       "    </tr>\n",
       "    <tr>\n",
       "      <th>260066</th>\n",
       "      <td>7404</td>\n",
       "      <td>A030111004</td>\n",
       "      <td>A030000111</td>\n",
       "      <td>1</td>\n",
       "      <td>2020-10-13 09:47:31</td>\n",
       "      <td>7636</td>\n",
       "    </tr>\n",
       "    <tr>\n",
       "      <th>260081</th>\n",
       "      <td>7416</td>\n",
       "      <td>A050193003</td>\n",
       "      <td>A050000193</td>\n",
       "      <td>0</td>\n",
       "      <td>2020-10-04 02:44:17</td>\n",
       "      <td>10402</td>\n",
       "    </tr>\n",
       "    <tr>\n",
       "      <th>260096</th>\n",
       "      <td>7417</td>\n",
       "      <td>A050193003</td>\n",
       "      <td>A050000193</td>\n",
       "      <td>0</td>\n",
       "      <td>2020-09-06 13:08:54</td>\n",
       "      <td>10402</td>\n",
       "    </tr>\n",
       "    <tr>\n",
       "      <th>260112</th>\n",
       "      <td>7439</td>\n",
       "      <td>A040130004</td>\n",
       "      <td>A040000130</td>\n",
       "      <td>1</td>\n",
       "      <td>2020-10-14 23:09:31</td>\n",
       "      <td>8244</td>\n",
       "    </tr>\n",
       "  </tbody>\n",
       "</table>\n",
       "</div>"
      ],
      "text/plain": [
       "        userID assessmentItemID      testId  answerCode            Timestamp  \\\n",
       "260051    7395       A040122004  A040000122           0  2020-09-08 02:05:18   \n",
       "260066    7404       A030111004  A030000111           1  2020-10-13 09:47:31   \n",
       "260081    7416       A050193003  A050000193           0  2020-10-04 02:44:17   \n",
       "260096    7417       A050193003  A050000193           0  2020-09-06 13:08:54   \n",
       "260112    7439       A040130004  A040000130           1  2020-10-14 23:09:31   \n",
       "\n",
       "        KnowledgeTag  \n",
       "260051          2102  \n",
       "260066          7636  \n",
       "260081         10402  \n",
       "260096         10402  \n",
       "260112          8244  "
      ]
     },
     "metadata": {},
     "output_type": "display_data"
    },
    {
     "name": "stdout",
     "output_type": "stream",
     "text": [
      " Num. Records  : 744\n"
     ]
    }
   ],
   "source": [
    "eval_data = test_data.copy()\n",
    "eval_data.drop_duplicates(subset = [\"userID\"],\n",
    "                     keep = \"last\", inplace = True)\n",
    "display(eval_data.head(5))\n",
    "display(eval_data.tail(5))\n",
    "print(f\" Num. Records  : {len(eval_data)}\")"
   ]
  },
  {
   "cell_type": "markdown",
   "id": "85734aee",
   "metadata": {},
   "source": [
    "평가 항목을 테스트 항목에서 제거한다."
   ]
  },
  {
   "cell_type": "code",
   "execution_count": 12,
   "id": "751b2df7",
   "metadata": {},
   "outputs": [
    {
     "data": {
      "text/html": [
       "<div>\n",
       "<style scoped>\n",
       "    .dataframe tbody tr th:only-of-type {\n",
       "        vertical-align: middle;\n",
       "    }\n",
       "\n",
       "    .dataframe tbody tr th {\n",
       "        vertical-align: top;\n",
       "    }\n",
       "\n",
       "    .dataframe thead th {\n",
       "        text-align: right;\n",
       "    }\n",
       "</style>\n",
       "<table border=\"1\" class=\"dataframe\">\n",
       "  <thead>\n",
       "    <tr style=\"text-align: right;\">\n",
       "      <th></th>\n",
       "      <th>userID</th>\n",
       "      <th>assessmentItemID</th>\n",
       "      <th>testId</th>\n",
       "      <th>answerCode</th>\n",
       "      <th>Timestamp</th>\n",
       "      <th>KnowledgeTag</th>\n",
       "    </tr>\n",
       "  </thead>\n",
       "  <tbody>\n",
       "    <tr>\n",
       "      <th>260107</th>\n",
       "      <td>7439</td>\n",
       "      <td>A040197005</td>\n",
       "      <td>A040000197</td>\n",
       "      <td>0</td>\n",
       "      <td>2020-08-21 07:39:40</td>\n",
       "      <td>2132</td>\n",
       "    </tr>\n",
       "    <tr>\n",
       "      <th>260108</th>\n",
       "      <td>7439</td>\n",
       "      <td>A040197006</td>\n",
       "      <td>A040000197</td>\n",
       "      <td>1</td>\n",
       "      <td>2020-08-21 07:39:45</td>\n",
       "      <td>2132</td>\n",
       "    </tr>\n",
       "    <tr>\n",
       "      <th>260109</th>\n",
       "      <td>7439</td>\n",
       "      <td>A040130001</td>\n",
       "      <td>A040000130</td>\n",
       "      <td>0</td>\n",
       "      <td>2020-10-14 23:07:23</td>\n",
       "      <td>8832</td>\n",
       "    </tr>\n",
       "    <tr>\n",
       "      <th>260110</th>\n",
       "      <td>7439</td>\n",
       "      <td>A040130002</td>\n",
       "      <td>A040000130</td>\n",
       "      <td>1</td>\n",
       "      <td>2020-10-14 23:07:41</td>\n",
       "      <td>8832</td>\n",
       "    </tr>\n",
       "    <tr>\n",
       "      <th>260111</th>\n",
       "      <td>7439</td>\n",
       "      <td>A040130003</td>\n",
       "      <td>A040000130</td>\n",
       "      <td>1</td>\n",
       "      <td>2020-10-14 23:08:02</td>\n",
       "      <td>8244</td>\n",
       "    </tr>\n",
       "  </tbody>\n",
       "</table>\n",
       "</div>"
      ],
      "text/plain": [
       "        userID assessmentItemID      testId  answerCode            Timestamp  \\\n",
       "260107    7439       A040197005  A040000197           0  2020-08-21 07:39:40   \n",
       "260108    7439       A040197006  A040000197           1  2020-08-21 07:39:45   \n",
       "260109    7439       A040130001  A040000130           0  2020-10-14 23:07:23   \n",
       "260110    7439       A040130002  A040000130           1  2020-10-14 23:07:41   \n",
       "260111    7439       A040130003  A040000130           1  2020-10-14 23:08:02   \n",
       "\n",
       "        KnowledgeTag  \n",
       "260107          2132  \n",
       "260108          2132  \n",
       "260109          8832  \n",
       "260110          8832  \n",
       "260111          8244  "
      ]
     },
     "metadata": {},
     "output_type": "display_data"
    },
    {
     "name": "stdout",
     "output_type": "stream",
     "text": [
      " Num. Records  : 254585\n"
     ]
    }
   ],
   "source": [
    "test_data.drop(index=eval_data.index, inplace=True, errors='ignore')\n",
    "display(test_data.tail(5))\n",
    "print(f\" Num. Records  : {len(test_data)}\")"
   ]
  },
  {
   "cell_type": "markdown",
   "id": "e77aa92f",
   "metadata": {},
   "source": [
    "사용자 - 문제항목 관계를 pivot 테이블로 변경\n",
    " - 각 사용자별로 해당 문제를 맞췄는지 여부를 matrix 형태로 변경\n",
    " - 해당 문제를 푼 적이 없는 경우 0.5(예시)으로 설정"
   ]
  },
  {
   "cell_type": "code",
   "execution_count": 13,
   "id": "da1b5895",
   "metadata": {},
   "outputs": [
    {
     "data": {
      "text/html": [
       "<div>\n",
       "<style scoped>\n",
       "    .dataframe tbody tr th:only-of-type {\n",
       "        vertical-align: middle;\n",
       "    }\n",
       "\n",
       "    .dataframe tbody tr th {\n",
       "        vertical-align: top;\n",
       "    }\n",
       "\n",
       "    .dataframe thead th {\n",
       "        text-align: right;\n",
       "    }\n",
       "</style>\n",
       "<table border=\"1\" class=\"dataframe\">\n",
       "  <thead>\n",
       "    <tr style=\"text-align: right;\">\n",
       "      <th>assessmentItemID</th>\n",
       "      <th>A010001001</th>\n",
       "      <th>A010001002</th>\n",
       "      <th>A010001003</th>\n",
       "      <th>A010001004</th>\n",
       "      <th>A010001005</th>\n",
       "      <th>A010002001</th>\n",
       "      <th>A010002002</th>\n",
       "      <th>A010002003</th>\n",
       "      <th>A010002004</th>\n",
       "      <th>A010002005</th>\n",
       "      <th>...</th>\n",
       "      <th>A090073003</th>\n",
       "      <th>A090073004</th>\n",
       "      <th>A090073005</th>\n",
       "      <th>A090073006</th>\n",
       "      <th>A090074001</th>\n",
       "      <th>A090074002</th>\n",
       "      <th>A090074003</th>\n",
       "      <th>A090074004</th>\n",
       "      <th>A090074005</th>\n",
       "      <th>A090074006</th>\n",
       "    </tr>\n",
       "    <tr>\n",
       "      <th>userID</th>\n",
       "      <th></th>\n",
       "      <th></th>\n",
       "      <th></th>\n",
       "      <th></th>\n",
       "      <th></th>\n",
       "      <th></th>\n",
       "      <th></th>\n",
       "      <th></th>\n",
       "      <th></th>\n",
       "      <th></th>\n",
       "      <th></th>\n",
       "      <th></th>\n",
       "      <th></th>\n",
       "      <th></th>\n",
       "      <th></th>\n",
       "      <th></th>\n",
       "      <th></th>\n",
       "      <th></th>\n",
       "      <th></th>\n",
       "      <th></th>\n",
       "      <th></th>\n",
       "    </tr>\n",
       "  </thead>\n",
       "  <tbody>\n",
       "    <tr>\n",
       "      <th>0</th>\n",
       "      <td>0.5</td>\n",
       "      <td>0.5</td>\n",
       "      <td>0.5</td>\n",
       "      <td>0.5</td>\n",
       "      <td>0.5</td>\n",
       "      <td>0.5</td>\n",
       "      <td>0.5</td>\n",
       "      <td>0.5</td>\n",
       "      <td>0.5</td>\n",
       "      <td>0.5</td>\n",
       "      <td>...</td>\n",
       "      <td>0.5</td>\n",
       "      <td>0.5</td>\n",
       "      <td>0.5</td>\n",
       "      <td>0.5</td>\n",
       "      <td>0.5</td>\n",
       "      <td>0.5</td>\n",
       "      <td>0.5</td>\n",
       "      <td>0.5</td>\n",
       "      <td>0.5</td>\n",
       "      <td>0.5</td>\n",
       "    </tr>\n",
       "    <tr>\n",
       "      <th>1</th>\n",
       "      <td>0.5</td>\n",
       "      <td>0.5</td>\n",
       "      <td>0.5</td>\n",
       "      <td>0.5</td>\n",
       "      <td>0.5</td>\n",
       "      <td>0.5</td>\n",
       "      <td>0.5</td>\n",
       "      <td>0.5</td>\n",
       "      <td>0.5</td>\n",
       "      <td>0.5</td>\n",
       "      <td>...</td>\n",
       "      <td>1.0</td>\n",
       "      <td>1.0</td>\n",
       "      <td>1.0</td>\n",
       "      <td>1.0</td>\n",
       "      <td>0.0</td>\n",
       "      <td>1.0</td>\n",
       "      <td>1.0</td>\n",
       "      <td>1.0</td>\n",
       "      <td>1.0</td>\n",
       "      <td>1.0</td>\n",
       "    </tr>\n",
       "    <tr>\n",
       "      <th>2</th>\n",
       "      <td>0.5</td>\n",
       "      <td>0.5</td>\n",
       "      <td>0.5</td>\n",
       "      <td>0.5</td>\n",
       "      <td>0.5</td>\n",
       "      <td>0.5</td>\n",
       "      <td>0.5</td>\n",
       "      <td>0.5</td>\n",
       "      <td>0.5</td>\n",
       "      <td>0.5</td>\n",
       "      <td>...</td>\n",
       "      <td>0.5</td>\n",
       "      <td>0.5</td>\n",
       "      <td>0.5</td>\n",
       "      <td>0.5</td>\n",
       "      <td>0.5</td>\n",
       "      <td>0.5</td>\n",
       "      <td>0.5</td>\n",
       "      <td>0.5</td>\n",
       "      <td>0.5</td>\n",
       "      <td>0.5</td>\n",
       "    </tr>\n",
       "    <tr>\n",
       "      <th>5</th>\n",
       "      <td>0.5</td>\n",
       "      <td>0.5</td>\n",
       "      <td>0.5</td>\n",
       "      <td>0.5</td>\n",
       "      <td>0.5</td>\n",
       "      <td>0.5</td>\n",
       "      <td>0.5</td>\n",
       "      <td>0.5</td>\n",
       "      <td>0.5</td>\n",
       "      <td>0.5</td>\n",
       "      <td>...</td>\n",
       "      <td>0.5</td>\n",
       "      <td>0.5</td>\n",
       "      <td>0.5</td>\n",
       "      <td>0.5</td>\n",
       "      <td>0.5</td>\n",
       "      <td>0.5</td>\n",
       "      <td>0.5</td>\n",
       "      <td>0.5</td>\n",
       "      <td>0.5</td>\n",
       "      <td>0.5</td>\n",
       "    </tr>\n",
       "    <tr>\n",
       "      <th>6</th>\n",
       "      <td>0.5</td>\n",
       "      <td>0.5</td>\n",
       "      <td>0.5</td>\n",
       "      <td>0.5</td>\n",
       "      <td>0.5</td>\n",
       "      <td>0.5</td>\n",
       "      <td>0.5</td>\n",
       "      <td>0.5</td>\n",
       "      <td>0.5</td>\n",
       "      <td>0.5</td>\n",
       "      <td>...</td>\n",
       "      <td>0.5</td>\n",
       "      <td>0.5</td>\n",
       "      <td>0.5</td>\n",
       "      <td>0.5</td>\n",
       "      <td>0.5</td>\n",
       "      <td>0.5</td>\n",
       "      <td>0.5</td>\n",
       "      <td>0.5</td>\n",
       "      <td>0.5</td>\n",
       "      <td>0.5</td>\n",
       "    </tr>\n",
       "  </tbody>\n",
       "</table>\n",
       "<p>5 rows × 9454 columns</p>\n",
       "</div>"
      ],
      "text/plain": [
       "assessmentItemID  A010001001  A010001002  A010001003  A010001004  A010001005  \\\n",
       "userID                                                                         \n",
       "0                        0.5         0.5         0.5         0.5         0.5   \n",
       "1                        0.5         0.5         0.5         0.5         0.5   \n",
       "2                        0.5         0.5         0.5         0.5         0.5   \n",
       "5                        0.5         0.5         0.5         0.5         0.5   \n",
       "6                        0.5         0.5         0.5         0.5         0.5   \n",
       "\n",
       "assessmentItemID  A010002001  A010002002  A010002003  A010002004  A010002005  \\\n",
       "userID                                                                         \n",
       "0                        0.5         0.5         0.5         0.5         0.5   \n",
       "1                        0.5         0.5         0.5         0.5         0.5   \n",
       "2                        0.5         0.5         0.5         0.5         0.5   \n",
       "5                        0.5         0.5         0.5         0.5         0.5   \n",
       "6                        0.5         0.5         0.5         0.5         0.5   \n",
       "\n",
       "assessmentItemID  ...  A090073003  A090073004  A090073005  A090073006  \\\n",
       "userID            ...                                                   \n",
       "0                 ...         0.5         0.5         0.5         0.5   \n",
       "1                 ...         1.0         1.0         1.0         1.0   \n",
       "2                 ...         0.5         0.5         0.5         0.5   \n",
       "5                 ...         0.5         0.5         0.5         0.5   \n",
       "6                 ...         0.5         0.5         0.5         0.5   \n",
       "\n",
       "assessmentItemID  A090074001  A090074002  A090074003  A090074004  A090074005  \\\n",
       "userID                                                                         \n",
       "0                        0.5         0.5         0.5         0.5         0.5   \n",
       "1                        0.0         1.0         1.0         1.0         1.0   \n",
       "2                        0.5         0.5         0.5         0.5         0.5   \n",
       "5                        0.5         0.5         0.5         0.5         0.5   \n",
       "6                        0.5         0.5         0.5         0.5         0.5   \n",
       "\n",
       "assessmentItemID  A090074006  \n",
       "userID                        \n",
       "0                        0.5  \n",
       "1                        1.0  \n",
       "2                        0.5  \n",
       "5                        0.5  \n",
       "6                        0.5  \n",
       "\n",
       "[5 rows x 9454 columns]"
      ]
     },
     "metadata": {},
     "output_type": "display_data"
    },
    {
     "name": "stdout",
     "output_type": "stream",
     "text": [
      "Result Shape is (6698, 9454)\n"
     ]
    }
   ],
   "source": [
    "matrix_train = train_data.pivot_table('answerCode', index='userID', columns='assessmentItemID')\n",
    "matrix_train.fillna(0.5, inplace=True)\n",
    "display(matrix_train.head(5))\n",
    "print(f\"Result Shape is {matrix_train.shape}\")"
   ]
  },
  {
   "cell_type": "markdown",
   "id": "034ae9cb",
   "metadata": {},
   "source": [
    "## 🎯 SVD 분석"
   ]
  },
  {
   "cell_type": "markdown",
   "id": "ef842686",
   "metadata": {},
   "source": [
    "### 데이터 인덱스 매핑 생성"
   ]
  },
  {
   "cell_type": "markdown",
   "id": "fe7b42e9",
   "metadata": {},
   "source": [
    "사용자/문제항목 ID와 table상에서의 index를 매칭시키기 위한 lookup table을 dictionary 형태로 생성"
   ]
  },
  {
   "cell_type": "code",
   "execution_count": 14,
   "id": "df1ddbc3",
   "metadata": {},
   "outputs": [],
   "source": [
    "user_id2idx = {v:i for i,v in enumerate(matrix_train.index)}\n",
    "user_idx2id = {i:v for i,v in enumerate(matrix_train.index)}\n",
    "\n",
    "item_id2idx = {v:i for i,v in enumerate(matrix_train.columns)}\n",
    "item_idx2id = {i:v for i,v in enumerate(matrix_train.columns)}"
   ]
  },
  {
   "cell_type": "markdown",
   "id": "340d0c40",
   "metadata": {},
   "source": [
    "### S"
   ]
  },
  {
   "cell_type": "markdown",
   "id": "84a4e4d7",
   "metadata": {},
   "source": [
    "사용자 - 문제항목의 pivot table을 normalize된 matrix로 변경\n",
    "\n",
    "$A = ${User - Item 간의 value를 저장하는 matrix}\n",
    "\n",
    "$A = R^{n_{user} \\times n_{item}}$"
   ]
  },
  {
   "cell_type": "code",
   "execution_count": 15,
   "id": "f163ddac",
   "metadata": {},
   "outputs": [
    {
     "data": {
      "text/html": [
       "<div>\n",
       "<style scoped>\n",
       "    .dataframe tbody tr th:only-of-type {\n",
       "        vertical-align: middle;\n",
       "    }\n",
       "\n",
       "    .dataframe tbody tr th {\n",
       "        vertical-align: top;\n",
       "    }\n",
       "\n",
       "    .dataframe thead th {\n",
       "        text-align: right;\n",
       "    }\n",
       "</style>\n",
       "<table border=\"1\" class=\"dataframe\">\n",
       "  <thead>\n",
       "    <tr style=\"text-align: right;\">\n",
       "      <th>assessmentItemID</th>\n",
       "      <th>A010001001</th>\n",
       "      <th>A010001002</th>\n",
       "      <th>A010001003</th>\n",
       "      <th>A010001004</th>\n",
       "      <th>A010001005</th>\n",
       "      <th>A010002001</th>\n",
       "      <th>A010002002</th>\n",
       "      <th>A010002003</th>\n",
       "      <th>A010002004</th>\n",
       "      <th>A010002005</th>\n",
       "      <th>...</th>\n",
       "      <th>A090073003</th>\n",
       "      <th>A090073004</th>\n",
       "      <th>A090073005</th>\n",
       "      <th>A090073006</th>\n",
       "      <th>A090074001</th>\n",
       "      <th>A090074002</th>\n",
       "      <th>A090074003</th>\n",
       "      <th>A090074004</th>\n",
       "      <th>A090074005</th>\n",
       "      <th>A090074006</th>\n",
       "    </tr>\n",
       "  </thead>\n",
       "  <tbody>\n",
       "    <tr>\n",
       "      <th>0</th>\n",
       "      <td>-0.010313</td>\n",
       "      <td>-0.010313</td>\n",
       "      <td>-0.010313</td>\n",
       "      <td>-0.010313</td>\n",
       "      <td>-0.010313</td>\n",
       "      <td>-0.010313</td>\n",
       "      <td>-0.010313</td>\n",
       "      <td>-0.010313</td>\n",
       "      <td>-0.010313</td>\n",
       "      <td>-0.010313</td>\n",
       "      <td>...</td>\n",
       "      <td>-0.010313</td>\n",
       "      <td>-0.010313</td>\n",
       "      <td>-0.010313</td>\n",
       "      <td>-0.010313</td>\n",
       "      <td>-0.010313</td>\n",
       "      <td>-0.010313</td>\n",
       "      <td>-0.010313</td>\n",
       "      <td>-0.010313</td>\n",
       "      <td>-0.010313</td>\n",
       "      <td>-0.010313</td>\n",
       "    </tr>\n",
       "    <tr>\n",
       "      <th>1</th>\n",
       "      <td>-0.033584</td>\n",
       "      <td>-0.033584</td>\n",
       "      <td>-0.033584</td>\n",
       "      <td>-0.033584</td>\n",
       "      <td>-0.033584</td>\n",
       "      <td>-0.033584</td>\n",
       "      <td>-0.033584</td>\n",
       "      <td>-0.033584</td>\n",
       "      <td>-0.033584</td>\n",
       "      <td>-0.033584</td>\n",
       "      <td>...</td>\n",
       "      <td>0.466416</td>\n",
       "      <td>0.466416</td>\n",
       "      <td>0.466416</td>\n",
       "      <td>0.466416</td>\n",
       "      <td>-0.533584</td>\n",
       "      <td>0.466416</td>\n",
       "      <td>0.466416</td>\n",
       "      <td>0.466416</td>\n",
       "      <td>0.466416</td>\n",
       "      <td>0.466416</td>\n",
       "    </tr>\n",
       "    <tr>\n",
       "      <th>2</th>\n",
       "      <td>-0.003279</td>\n",
       "      <td>-0.003279</td>\n",
       "      <td>-0.003279</td>\n",
       "      <td>-0.003279</td>\n",
       "      <td>-0.003279</td>\n",
       "      <td>-0.003279</td>\n",
       "      <td>-0.003279</td>\n",
       "      <td>-0.003279</td>\n",
       "      <td>-0.003279</td>\n",
       "      <td>-0.003279</td>\n",
       "      <td>...</td>\n",
       "      <td>-0.003279</td>\n",
       "      <td>-0.003279</td>\n",
       "      <td>-0.003279</td>\n",
       "      <td>-0.003279</td>\n",
       "      <td>-0.003279</td>\n",
       "      <td>-0.003279</td>\n",
       "      <td>-0.003279</td>\n",
       "      <td>-0.003279</td>\n",
       "      <td>-0.003279</td>\n",
       "      <td>-0.003279</td>\n",
       "    </tr>\n",
       "    <tr>\n",
       "      <th>3</th>\n",
       "      <td>-0.026074</td>\n",
       "      <td>-0.026074</td>\n",
       "      <td>-0.026074</td>\n",
       "      <td>-0.026074</td>\n",
       "      <td>-0.026074</td>\n",
       "      <td>-0.026074</td>\n",
       "      <td>-0.026074</td>\n",
       "      <td>-0.026074</td>\n",
       "      <td>-0.026074</td>\n",
       "      <td>-0.026074</td>\n",
       "      <td>...</td>\n",
       "      <td>-0.026074</td>\n",
       "      <td>-0.026074</td>\n",
       "      <td>-0.026074</td>\n",
       "      <td>-0.026074</td>\n",
       "      <td>-0.026074</td>\n",
       "      <td>-0.026074</td>\n",
       "      <td>-0.026074</td>\n",
       "      <td>-0.026074</td>\n",
       "      <td>-0.026074</td>\n",
       "      <td>-0.026074</td>\n",
       "    </tr>\n",
       "    <tr>\n",
       "      <th>4</th>\n",
       "      <td>0.006717</td>\n",
       "      <td>0.006717</td>\n",
       "      <td>0.006717</td>\n",
       "      <td>0.006717</td>\n",
       "      <td>0.006717</td>\n",
       "      <td>0.006717</td>\n",
       "      <td>0.006717</td>\n",
       "      <td>0.006717</td>\n",
       "      <td>0.006717</td>\n",
       "      <td>0.006717</td>\n",
       "      <td>...</td>\n",
       "      <td>0.006717</td>\n",
       "      <td>0.006717</td>\n",
       "      <td>0.006717</td>\n",
       "      <td>0.006717</td>\n",
       "      <td>0.006717</td>\n",
       "      <td>0.006717</td>\n",
       "      <td>0.006717</td>\n",
       "      <td>0.006717</td>\n",
       "      <td>0.006717</td>\n",
       "      <td>0.006717</td>\n",
       "    </tr>\n",
       "  </tbody>\n",
       "</table>\n",
       "<p>5 rows × 9454 columns</p>\n",
       "</div>"
      ],
      "text/plain": [
       "assessmentItemID  A010001001  A010001002  A010001003  A010001004  A010001005  \\\n",
       "0                  -0.010313   -0.010313   -0.010313   -0.010313   -0.010313   \n",
       "1                  -0.033584   -0.033584   -0.033584   -0.033584   -0.033584   \n",
       "2                  -0.003279   -0.003279   -0.003279   -0.003279   -0.003279   \n",
       "3                  -0.026074   -0.026074   -0.026074   -0.026074   -0.026074   \n",
       "4                   0.006717    0.006717    0.006717    0.006717    0.006717   \n",
       "\n",
       "assessmentItemID  A010002001  A010002002  A010002003  A010002004  A010002005  \\\n",
       "0                  -0.010313   -0.010313   -0.010313   -0.010313   -0.010313   \n",
       "1                  -0.033584   -0.033584   -0.033584   -0.033584   -0.033584   \n",
       "2                  -0.003279   -0.003279   -0.003279   -0.003279   -0.003279   \n",
       "3                  -0.026074   -0.026074   -0.026074   -0.026074   -0.026074   \n",
       "4                   0.006717    0.006717    0.006717    0.006717    0.006717   \n",
       "\n",
       "assessmentItemID  ...  A090073003  A090073004  A090073005  A090073006  \\\n",
       "0                 ...   -0.010313   -0.010313   -0.010313   -0.010313   \n",
       "1                 ...    0.466416    0.466416    0.466416    0.466416   \n",
       "2                 ...   -0.003279   -0.003279   -0.003279   -0.003279   \n",
       "3                 ...   -0.026074   -0.026074   -0.026074   -0.026074   \n",
       "4                 ...    0.006717    0.006717    0.006717    0.006717   \n",
       "\n",
       "assessmentItemID  A090074001  A090074002  A090074003  A090074004  A090074005  \\\n",
       "0                  -0.010313   -0.010313   -0.010313   -0.010313   -0.010313   \n",
       "1                  -0.533584    0.466416    0.466416    0.466416    0.466416   \n",
       "2                  -0.003279   -0.003279   -0.003279   -0.003279   -0.003279   \n",
       "3                  -0.026074   -0.026074   -0.026074   -0.026074   -0.026074   \n",
       "4                   0.006717    0.006717    0.006717    0.006717    0.006717   \n",
       "\n",
       "assessmentItemID  A090074006  \n",
       "0                  -0.010313  \n",
       "1                   0.466416  \n",
       "2                  -0.003279  \n",
       "3                  -0.026074  \n",
       "4                   0.006717  \n",
       "\n",
       "[5 rows x 9454 columns]"
      ]
     },
     "metadata": {},
     "output_type": "display_data"
    }
   ],
   "source": [
    "A = matrix_train.values\n",
    "a_mean = np.mean(A, axis=1)\n",
    "Am = A - a_mean.reshape(-1,1)\n",
    "display(pd.DataFrame(Am, columns=matrix_train.columns).head())"
   ]
  },
  {
   "cell_type": "markdown",
   "id": "75f5f6c9",
   "metadata": {},
   "source": [
    "위 matrix를 바탕으로 SVD 분석 수행\n",
    "\n",
    "SVD\n",
    " - Target matrix $A$에 대해 $A = U \\Sigma V$ 인 $U, \\Sigma, V$ 를 구함\n",
    " - 여기서 $U, \\Sigma, V$ 는 아래와 같음\n",
    "   - $U = R^{ n_{user} \\times n_{factor} }$\n",
    "   - $\\Sigma = R^{ n_{factor} \\times n_{factor} }$ 인 대각행렬\n",
    "   - $V = R^{ n_{factor} \\times n_{item} }$"
   ]
  },
  {
   "cell_type": "code",
   "execution_count": 16,
   "id": "8f3f1577",
   "metadata": {},
   "outputs": [
    {
     "name": "stdout",
     "output_type": "stream",
     "text": [
      "U=(6698, 12), sigma=(12,), V=(12, 9454)\n",
      "Singular Vlaues : [ 55.84676263  58.08435018  58.50497257  61.71803668  69.91786616\n",
      "  73.61657956  76.9598095   78.04681812  82.45156947  85.45001842\n",
      "  91.51120585 101.4153135 ]\n"
     ]
    }
   ],
   "source": [
    "U, sigma, V = svds(Am, k=12)\n",
    "print(f\"U={U.shape}, sigma={sigma.shape}, V={V.shape}\")\n",
    "print(f\"Singular Vlaues : {sigma}\")"
   ]
  },
  {
   "cell_type": "markdown",
   "id": "ae1516e0",
   "metadata": {},
   "source": [
    "추론을 위해 predict matrix 복원\n",
    " - 처음 pivot table의 값을 SVD로 구한 matrix를 통해 복원했을 때, 두 행렬 사이의 오차 (restore error) 는 0에 가까울수록 SVD가 올바르게 구해짐"
   ]
  },
  {
   "cell_type": "code",
   "execution_count": 17,
   "id": "1ae2a142",
   "metadata": {},
   "outputs": [
    {
     "name": "stdout",
     "output_type": "stream",
     "text": [
      "Restore Error : 0.007568071517679344\n"
     ]
    }
   ],
   "source": [
    "Sigma = np.diag(sigma)\n",
    "A_pred = U @ Sigma @ V + a_mean.reshape(-1,1)\n",
    "restore_error = np.sum(np.square(A_pred - A)) /A_pred.size\n",
    "print(f\"Restore Error : {restore_error}\")"
   ]
  },
  {
   "cell_type": "code",
   "execution_count": 25,
   "id": "eb3363b6",
   "metadata": {},
   "outputs": [
    {
     "data": {
      "text/plain": [
       "(6698, 9454)"
      ]
     },
     "execution_count": 25,
     "metadata": {},
     "output_type": "execute_result"
    }
   ],
   "source": [
    "A_pred.shape"
   ]
  },
  {
   "cell_type": "markdown",
   "id": "b08e8b00",
   "metadata": {},
   "source": [
    "## 🎯 예측 및 평가"
   ]
  },
  {
   "cell_type": "markdown",
   "id": "8df8ec58",
   "metadata": {},
   "source": [
    "### 학습 데이터 재현 평가"
   ]
  },
  {
   "cell_type": "markdown",
   "id": "38e60cd5",
   "metadata": {},
   "source": [
    "예측 함수 정의"
   ]
  },
  {
   "cell_type": "code",
   "execution_count": 21,
   "id": "49a99609",
   "metadata": {},
   "outputs": [],
   "source": [
    "def predict(userid, itemid):\n",
    "    useridx = user_id2idx[userid]\n",
    "    itemidx = item_id2idx[itemid]\n",
    "    \n",
    "    return A_pred[useridx, itemidx]"
   ]
  },
  {
   "cell_type": "markdown",
   "id": "44899550",
   "metadata": {},
   "source": [
    "학습에 사용한 데이터를 얼마나 잘 예측하는지 평가"
   ]
  },
  {
   "cell_type": "code",
   "execution_count": 26,
   "id": "045c38b6",
   "metadata": {},
   "outputs": [
    {
     "name": "stdout",
     "output_type": "stream",
     "text": [
      "Train data prediction\n",
      " - Accuracy = 75.92%\n",
      " - ROC-AUC  = 78.02%\n"
     ]
    }
   ],
   "source": [
    "a_prob = [predict(u,i) for u,i in zip(train_data.userID, train_data.assessmentItemID)]\n",
    "a_pred = [round(v) for v in a_prob] \n",
    "a_true = train_data.answerCode\n",
    "\n",
    "print(\"Train data prediction\")\n",
    "print(f\" - Accuracy = {100*accuracy_score(a_true, a_pred):.2f}%\")\n",
    "print(f\" - ROC-AUC  = {100*roc_auc_score(a_true, a_prob):.2f}%\")\n"
   ]
  },
  {
   "cell_type": "code",
   "execution_count": 37,
   "id": "bb9da7e9",
   "metadata": {},
   "outputs": [],
   "source": [
    "def svd_apply(k_value):\n",
    "    U, sigma, V = svds(Am, k=k_value)\n",
    "    print(f\"U={U.shape}, sigma={sigma.shape}, V={V.shape}\")\n",
    "    #print(f\"Singular Vlaues : {sigma}\")\n",
    "\n",
    "    Sigma = np.diag(sigma)\n",
    "    A_pred = U @ Sigma @ V + a_mean.reshape(-1,1)\n",
    "    restore_error = np.sum(np.square(A_pred - A)) /A_pred.size\n",
    "    print(f\"Restore Error : {restore_error}\")\n",
    "\n",
    "    a_prob = [predict(u,i) for u,i in zip(train_data.userID, train_data.assessmentItemID)]\n",
    "    a_pred = [round(v) for v in a_prob] \n",
    "    a_true = train_data.answerCode\n",
    "\n",
    "    print(\"Train data prediction\")\n",
    "    print(f\" - Accuracy = {100*accuracy_score(a_true, a_pred):.4f}%\")\n",
    "    print(f\" - ROC-AUC  = {100*roc_auc_score(a_true, a_prob):.4f}%\")\n"
   ]
  },
  {
   "cell_type": "code",
   "execution_count": 47,
   "id": "5beb8047",
   "metadata": {},
   "outputs": [
    {
     "name": "stdout",
     "output_type": "stream",
     "text": [
      "U=(6698, 500), sigma=(500,), V=(500, 9454)\n",
      "Restore Error : 0.00407137324373639\n",
      "Train data prediction\n",
      " - Accuracy = 75.9245%\n",
      " - ROC-AUC  = 78.0223%\n"
     ]
    }
   ],
   "source": [
    "svd_apply(500)"
   ]
  },
  {
   "cell_type": "code",
   "execution_count": 46,
   "id": "2ae2180b",
   "metadata": {},
   "outputs": [
    {
     "name": "stdout",
     "output_type": "stream",
     "text": [
      "U=(6698, 300), sigma=(300,), V=(300, 9454)\n",
      "Restore Error : 0.00484295924655304\n",
      "Train data prediction\n",
      " - Accuracy = 75.9245%\n",
      " - ROC-AUC  = 78.0223%\n"
     ]
    }
   ],
   "source": [
    "svd_apply(300)"
   ]
  },
  {
   "cell_type": "code",
   "execution_count": 45,
   "id": "0de7835f",
   "metadata": {},
   "outputs": [
    {
     "name": "stdout",
     "output_type": "stream",
     "text": [
      "U=(6698, 100), sigma=(100,), V=(100, 9454)\n",
      "Restore Error : 0.005976612449808684\n",
      "Train data prediction\n",
      " - Accuracy = 75.9245%\n",
      " - ROC-AUC  = 78.0223%\n"
     ]
    }
   ],
   "source": [
    "svd_apply(100)"
   ]
  },
  {
   "cell_type": "code",
   "execution_count": 38,
   "id": "0b7c93de",
   "metadata": {},
   "outputs": [
    {
     "name": "stdout",
     "output_type": "stream",
     "text": [
      "U=(6698, 70), sigma=(70,), V=(70, 9454)\n",
      "Restore Error : 0.006270176965598044\n",
      "Train data prediction\n",
      " - Accuracy = 75.9245%\n",
      " - ROC-AUC  = 78.0223%\n"
     ]
    }
   ],
   "source": [
    "svd_apply(70)"
   ]
  },
  {
   "cell_type": "code",
   "execution_count": 39,
   "id": "f162017a",
   "metadata": {},
   "outputs": [
    {
     "name": "stdout",
     "output_type": "stream",
     "text": [
      "U=(6698, 50), sigma=(50,), V=(50, 9454)\n",
      "Restore Error : 0.006544577822317343\n",
      "Train data prediction\n",
      " - Accuracy = 75.9245%\n",
      " - ROC-AUC  = 78.0223%\n"
     ]
    }
   ],
   "source": [
    "svd_apply(50)"
   ]
  },
  {
   "cell_type": "code",
   "execution_count": 40,
   "id": "a097f85d",
   "metadata": {},
   "outputs": [
    {
     "name": "stdout",
     "output_type": "stream",
     "text": [
      "U=(6698, 30), sigma=(30,), V=(30, 9454)\n",
      "Restore Error : 0.006950405075311236\n",
      "Train data prediction\n",
      " - Accuracy = 75.9245%\n",
      " - ROC-AUC  = 78.0223%\n"
     ]
    }
   ],
   "source": [
    "svd_apply(30)"
   ]
  },
  {
   "cell_type": "code",
   "execution_count": 41,
   "id": "90219e45",
   "metadata": {},
   "outputs": [
    {
     "name": "stdout",
     "output_type": "stream",
     "text": [
      "U=(6698, 20), sigma=(20,), V=(20, 9454)\n",
      "Restore Error : 0.007246007776531348\n",
      "Train data prediction\n",
      " - Accuracy = 75.9245%\n",
      " - ROC-AUC  = 78.0223%\n"
     ]
    }
   ],
   "source": [
    "svd_apply(20)"
   ]
  },
  {
   "cell_type": "code",
   "execution_count": 42,
   "id": "ce8af31b",
   "metadata": {},
   "outputs": [
    {
     "name": "stdout",
     "output_type": "stream",
     "text": [
      "U=(6698, 12), sigma=(12,), V=(12, 9454)\n",
      "Restore Error : 0.007568071517679345\n",
      "Train data prediction\n",
      " - Accuracy = 75.9245%\n",
      " - ROC-AUC  = 78.0223%\n"
     ]
    }
   ],
   "source": [
    "svd_apply(12)"
   ]
  },
  {
   "cell_type": "code",
   "execution_count": 43,
   "id": "cfcb3468",
   "metadata": {},
   "outputs": [
    {
     "name": "stdout",
     "output_type": "stream",
     "text": [
      "U=(6698, 10), sigma=(10,), V=(10, 9454)\n",
      "Restore Error : 0.00767060398938558\n",
      "Train data prediction\n",
      " - Accuracy = 75.9245%\n",
      " - ROC-AUC  = 78.0223%\n"
     ]
    }
   ],
   "source": [
    "svd_apply(10)"
   ]
  },
  {
   "cell_type": "code",
   "execution_count": 44,
   "id": "9baeaebc",
   "metadata": {},
   "outputs": [
    {
     "name": "stdout",
     "output_type": "stream",
     "text": [
      "U=(6698, 5), sigma=(5,), V=(5, 9454)\n",
      "Restore Error : 0.008041128268997298\n",
      "Train data prediction\n",
      " - Accuracy = 75.9245%\n",
      " - ROC-AUC  = 78.0223%\n"
     ]
    }
   ],
   "source": [
    "svd_apply(5)"
   ]
  },
  {
   "cell_type": "markdown",
   "id": "de8d6f17",
   "metadata": {},
   "source": [
    "위 코드에서는 이미 학습된 사용자에 대해서만 추론값을 계산 가능하다.\n",
    "\n",
    "- 테스트 데이터의 사용자는 학습 데이터셋에 존재하지 않는다.\n",
    "- 따라서 해당 사용자의 값을 가져올 수 없기에 키 에러가 발생한다."
   ]
  },
  {
   "cell_type": "code",
   "execution_count": 17,
   "id": "11699a0f",
   "metadata": {},
   "outputs": [
    {
     "name": "stdout",
     "output_type": "stream",
     "text": [
      "Error Occurs!!\n"
     ]
    }
   ],
   "source": [
    "try:\n",
    "    a_prob = [predict(u,i) for u,i in zip(test_data.userID, test_data.assessmentItemID)]\n",
    "    a_pred = [round(v) for v in a_prob]\n",
    "    a_true = test_data.answerCode\n",
    "\n",
    "    print(\"Test data prediction\")\n",
    "    print(f\" - Accuracy = {100*accuracy_score(a_true, a_pred):.2f}%\")\n",
    "    print(f\" - ROC-AUC  = {100*roc_auc_score(a_true, a_prob):.2f}%\")\n",
    "except:\n",
    "    print(\"Error Occurs!!\")"
   ]
  },
  {
   "cell_type": "markdown",
   "id": "33b997a0",
   "metadata": {},
   "source": [
    "### 테스트 데이터 재현 평가"
   ]
  },
  {
   "cell_type": "markdown",
   "id": "d059f479",
   "metadata": {},
   "source": [
    "학습되지 않은 사용자에 대해서도 문제를 푼 데이터가 존재할 경우 이를 바탕으로 추론 가능하다.\n",
    "\n",
    "$B = $ {학습되지 않은 사용자에 대한 User - Item 간 value 행렬}\n",
    "\n",
    "$ A = U \\Sigma V$ 일때 factor matrx $A_{factor} = R^{n_{user} \\times n_{factor}}$ 인 $A_{factor}$ 는\n",
    "- $A_{factor} \\Sigma V = A$\n",
    "- $A_{factor} = A {(\\Sigma V)}^+ = A V^T \\Sigma^+  $ ($U, V$ 는 직교행렬)\n",
    "\n",
    "$ B_{pred} \\approx B_{factor} \\Sigma V  = B V^T \\Sigma^+ \\Sigma V$"
   ]
  },
  {
   "cell_type": "code",
   "execution_count": 51,
   "id": "409b8b83",
   "metadata": {},
   "outputs": [
    {
     "data": {
      "text/plain": [
       "array([ 55.84676263,  58.08435018,  58.50497257,  61.71803668,\n",
       "        69.91786616,  73.61657956,  76.9598095 ,  78.04681812,\n",
       "        82.45156947,  85.45001842,  91.51120585, 101.4153135 ])"
      ]
     },
     "execution_count": 51,
     "metadata": {},
     "output_type": "execute_result"
    }
   ],
   "source": [
    "sigma"
   ]
  },
  {
   "cell_type": "code",
   "execution_count": 50,
   "id": "c8184164",
   "metadata": {},
   "outputs": [],
   "source": [
    "def predict2(matrix, userid, itemid, user_id2idx, item_id2idx):\n",
    "    \n",
    "    Sigma_i = np.diag(1/sigma)\n",
    "    pred_matrix = V.T @ Sigma_i @ Sigma @ V\n",
    "    \n",
    "    B = matrix\n",
    "    B_mean = np.mean(B, axis=1)\n",
    "    Bm = B - B_mean.reshape(-1,1)\n",
    "\n",
    "    B_pred =  B @ pred_matrix + B_mean.reshape(-1,1)\n",
    "\n",
    "    ret = [B_pred[user_id2idx[u], item_id2idx[i]] for u,i in zip(userid, itemid)]\n",
    "    return ret"
   ]
  },
  {
   "cell_type": "markdown",
   "id": "30acc85f",
   "metadata": {},
   "source": [
    "학습 데이터 재현 성공률"
   ]
  },
  {
   "cell_type": "code",
   "execution_count": 19,
   "id": "e213f71d",
   "metadata": {},
   "outputs": [
    {
     "name": "stdout",
     "output_type": "stream",
     "text": [
      "Train data prediction\n",
      " - Accuracy = 75.92%\n",
      " - ROC-AUC  = 78.02%\n"
     ]
    }
   ],
   "source": [
    "a_prob = predict2(matrix_train.values, train_data.userID, train_data.assessmentItemID, user_id2idx, item_id2idx)\n",
    "a_true = train_data.answerCode\n",
    "a_pred = [round(v) for v in a_prob]\n",
    "\n",
    "print(\"Train data prediction\")\n",
    "print(f\" - Accuracy = {100*accuracy_score(a_true, a_pred):.2f}%\")\n",
    "print(f\" - ROC-AUC  = {100*roc_auc_score(a_true, a_prob):.2f}%\")"
   ]
  },
  {
   "cell_type": "code",
   "execution_count": 55,
   "id": "e2184fca",
   "metadata": {},
   "outputs": [],
   "source": [
    "def predict3(V, sigma, matrix, userid, itemid, user_id2idx, item_id2idx):\n",
    "    \n",
    "    Sigma_i = np.diag(1/sigma)\n",
    "    Sigma = np.diag(sigma)\n",
    "    pred_matrix = V.T @ Sigma_i @ Sigma @ V\n",
    "    \n",
    "    B = matrix\n",
    "    B_mean = np.mean(B, axis=1)\n",
    "    Bm = B - B_mean.reshape(-1,1)\n",
    "\n",
    "    B_pred =  B @ pred_matrix + B_mean.reshape(-1,1)\n",
    "\n",
    "    ret = [B_pred[user_id2idx[u], item_id2idx[i]] for u,i in zip(userid, itemid)]\n",
    "    return ret\n",
    "    \n",
    "def train_svd_for_test(k_value):\n",
    "    U, sigma, V = svds(Am, k=k_value)\n",
    "    print(f\"U={U.shape}, sigma={sigma.shape}, V={V.shape}\")\n",
    "    #print(f\"Singular Vlaues : {sigma}\")\n",
    "\n",
    "    a_prob = predict3(V, sigma, matrix_train.values, train_data.userID, train_data.assessmentItemID, user_id2idx, item_id2idx)\n",
    "    a_true = train_data.answerCode\n",
    "    a_pred = [round(v) for v in a_prob]\n",
    "\n",
    "\n",
    "    print(\"Train data prediction\")\n",
    "    print(f\" - Accuracy = {100*accuracy_score(a_true, a_pred):.2f}%\")\n",
    "    print(f\" - ROC-AUC  = {100*roc_auc_score(a_true, a_prob):.2f}%\")\n"
   ]
  },
  {
   "cell_type": "code",
   "execution_count": 56,
   "id": "99319827",
   "metadata": {},
   "outputs": [
    {
     "name": "stdout",
     "output_type": "stream",
     "text": [
      "U=(6698, 300), sigma=(300,), V=(300, 9454)\n",
      "Train data prediction\n",
      " - Accuracy = 86.92%\n",
      " - ROC-AUC  = 93.31%\n"
     ]
    }
   ],
   "source": [
    "train_svd_for_test(300)"
   ]
  },
  {
   "cell_type": "code",
   "execution_count": 57,
   "id": "fe38118b",
   "metadata": {},
   "outputs": [
    {
     "name": "stdout",
     "output_type": "stream",
     "text": [
      "U=(6698, 12), sigma=(12,), V=(12, 9454)\n",
      "Train data prediction\n",
      " - Accuracy = 75.92%\n",
      " - ROC-AUC  = 78.02%\n"
     ]
    }
   ],
   "source": [
    "train_svd_for_test(12)"
   ]
  },
  {
   "cell_type": "code",
   "execution_count": 58,
   "id": "549f9a72",
   "metadata": {},
   "outputs": [
    {
     "name": "stdout",
     "output_type": "stream",
     "text": [
      "U=(6698, 3), sigma=(3,), V=(3, 9454)\n",
      "Train data prediction\n",
      " - Accuracy = 72.76%\n",
      " - ROC-AUC  = 73.50%\n"
     ]
    }
   ],
   "source": [
    "train_svd_for_test(3)"
   ]
  },
  {
   "cell_type": "markdown",
   "id": "aff4d252",
   "metadata": {},
   "source": [
    "테스트 데이터 재현 성공률"
   ]
  },
  {
   "cell_type": "code",
   "execution_count": 64,
   "id": "c79e9778",
   "metadata": {},
   "outputs": [
    {
     "name": "stdout",
     "output_type": "stream",
     "text": [
      "Test data prediction\n",
      " - Accuracy = 98.33%\n",
      " - ROC-AUC  = 99.86%\n"
     ]
    }
   ],
   "source": [
    "# item_id2idx는 train에서 사용한 것을 다시 사용한다.\n",
    "userid = sorted(list(set([u for u in test_data.userID])))\n",
    "user_id2idx_test = {v:i for i,v in enumerate(userid)}\n",
    "\n",
    "matrix_test = 0.5*np.ones((len(userid), len(item_id2idx)))\n",
    "for user,item,a in zip(test_data.userID, test_data.assessmentItemID, test_data.answerCode):\n",
    "    user,item = user_id2idx_test[user],item_id2idx[item]\n",
    "    matrix_test[user,item] = a\n",
    "\n",
    "B = matrix_test\n",
    "b_mean = np.mean(B, axis=1)\n",
    "Bm = B - b_mean.reshape(-1,1)\n",
    "\n",
    "# 성능 측정\n",
    "U, sigma, V = svds(Bm, k=300)\n",
    "a_prob = predict3(V, sigma, matrix_test, test_data.userID, test_data.assessmentItemID, user_id2idx_test, item_id2idx)\n",
    "a_true = test_data.answerCode\n",
    "a_pred = [round(v) for v in a_prob] \n",
    "\n",
    "print(\"Test data prediction\")\n",
    "print(f\" - Accuracy = {100*accuracy_score(a_true, a_pred):.2f}%\")\n",
    "print(f\" - ROC-AUC  = {100*roc_auc_score(a_true, a_prob):.2f}%\")"
   ]
  },
  {
   "cell_type": "markdown",
   "id": "93c846ba",
   "metadata": {},
   "source": [
    "### 테스트 평가 데이터 재현 평가"
   ]
  },
  {
   "cell_type": "markdown",
   "id": "8bdb6f3c",
   "metadata": {},
   "source": [
    "테스트 데이터 기반 선별된 평가항목 추론"
   ]
  },
  {
   "cell_type": "code",
   "execution_count": 65,
   "id": "0ca44cbb",
   "metadata": {},
   "outputs": [
    {
     "name": "stdout",
     "output_type": "stream",
     "text": [
      "Test data prediction\n",
      " - Accuracy = 67.61%\n",
      " - ROC-AUC  = 73.25%\n"
     ]
    }
   ],
   "source": [
    "U, sigma, V = svds(Bm, k=300)\n",
    "a_prob = predict3(V, sigma, matrix_test, eval_data.userID, eval_data.assessmentItemID, user_id2idx_test, item_id2idx)\n",
    "a_true = eval_data.answerCode\n",
    "a_pred = [round(v) for v in a_prob] \n",
    "\n",
    "print(\"Test data prediction\")\n",
    "print(f\" - Accuracy = {100*accuracy_score(a_true, a_pred):.2f}%\")\n",
    "print(f\" - ROC-AUC  = {100*roc_auc_score(a_true, a_prob):.2f}%\")"
   ]
  },
  {
   "cell_type": "code",
   "execution_count": 48,
   "id": "f63a4693",
   "metadata": {},
   "outputs": [
    {
     "data": {
      "text/plain": [
       "2220633"
      ]
     },
     "execution_count": 48,
     "metadata": {},
     "output_type": "execute_result"
    }
   ],
   "source": [
    "len(a_pred)"
   ]
  },
  {
   "cell_type": "code",
   "execution_count": 66,
   "id": "4cd13462",
   "metadata": {},
   "outputs": [
    {
     "data": {
      "text/html": [
       "<div>\n",
       "<style scoped>\n",
       "    .dataframe tbody tr th:only-of-type {\n",
       "        vertical-align: middle;\n",
       "    }\n",
       "\n",
       "    .dataframe tbody tr th {\n",
       "        vertical-align: top;\n",
       "    }\n",
       "\n",
       "    .dataframe thead th {\n",
       "        text-align: right;\n",
       "    }\n",
       "</style>\n",
       "<table border=\"1\" class=\"dataframe\">\n",
       "  <thead>\n",
       "    <tr style=\"text-align: right;\">\n",
       "      <th></th>\n",
       "      <th>userID</th>\n",
       "      <th>assessmentItemID</th>\n",
       "      <th>testId</th>\n",
       "      <th>answerCode</th>\n",
       "      <th>Timestamp</th>\n",
       "      <th>KnowledgeTag</th>\n",
       "    </tr>\n",
       "  </thead>\n",
       "  <tbody>\n",
       "    <tr>\n",
       "      <th>1035</th>\n",
       "      <td>3</td>\n",
       "      <td>A050133008</td>\n",
       "      <td>A050000133</td>\n",
       "      <td>-1</td>\n",
       "      <td>2020-10-26 13:13:57</td>\n",
       "      <td>5289</td>\n",
       "    </tr>\n",
       "    <tr>\n",
       "      <th>1706</th>\n",
       "      <td>4</td>\n",
       "      <td>A070146008</td>\n",
       "      <td>A070000146</td>\n",
       "      <td>-1</td>\n",
       "      <td>2020-12-27 02:47:54</td>\n",
       "      <td>9080</td>\n",
       "    </tr>\n",
       "    <tr>\n",
       "      <th>3023</th>\n",
       "      <td>13</td>\n",
       "      <td>A070111008</td>\n",
       "      <td>A070000111</td>\n",
       "      <td>-1</td>\n",
       "      <td>2020-12-27 04:35:09</td>\n",
       "      <td>9660</td>\n",
       "    </tr>\n",
       "    <tr>\n",
       "      <th>4283</th>\n",
       "      <td>17</td>\n",
       "      <td>A090064006</td>\n",
       "      <td>A090000064</td>\n",
       "      <td>-1</td>\n",
       "      <td>2020-10-30 05:48:37</td>\n",
       "      <td>2611</td>\n",
       "    </tr>\n",
       "    <tr>\n",
       "      <th>4670</th>\n",
       "      <td>26</td>\n",
       "      <td>A060135007</td>\n",
       "      <td>A060000135</td>\n",
       "      <td>-1</td>\n",
       "      <td>2020-10-23 11:44:18</td>\n",
       "      <td>1422</td>\n",
       "    </tr>\n",
       "    <tr>\n",
       "      <th>...</th>\n",
       "      <td>...</td>\n",
       "      <td>...</td>\n",
       "      <td>...</td>\n",
       "      <td>...</td>\n",
       "      <td>...</td>\n",
       "      <td>...</td>\n",
       "    </tr>\n",
       "    <tr>\n",
       "      <th>260052</th>\n",
       "      <td>7395</td>\n",
       "      <td>A040122005</td>\n",
       "      <td>A040000122</td>\n",
       "      <td>-1</td>\n",
       "      <td>2020-09-08 02:05:20</td>\n",
       "      <td>10615</td>\n",
       "    </tr>\n",
       "    <tr>\n",
       "      <th>260067</th>\n",
       "      <td>7404</td>\n",
       "      <td>A030111005</td>\n",
       "      <td>A030000111</td>\n",
       "      <td>-1</td>\n",
       "      <td>2020-10-13 09:49:18</td>\n",
       "      <td>7636</td>\n",
       "    </tr>\n",
       "    <tr>\n",
       "      <th>260082</th>\n",
       "      <td>7416</td>\n",
       "      <td>A050193004</td>\n",
       "      <td>A050000193</td>\n",
       "      <td>-1</td>\n",
       "      <td>2020-10-04 02:44:41</td>\n",
       "      <td>10402</td>\n",
       "    </tr>\n",
       "    <tr>\n",
       "      <th>260097</th>\n",
       "      <td>7417</td>\n",
       "      <td>A050193004</td>\n",
       "      <td>A050000193</td>\n",
       "      <td>-1</td>\n",
       "      <td>2020-09-06 13:09:15</td>\n",
       "      <td>10402</td>\n",
       "    </tr>\n",
       "    <tr>\n",
       "      <th>260113</th>\n",
       "      <td>7439</td>\n",
       "      <td>A040130005</td>\n",
       "      <td>A040000130</td>\n",
       "      <td>-1</td>\n",
       "      <td>2020-10-14 23:10:03</td>\n",
       "      <td>8832</td>\n",
       "    </tr>\n",
       "  </tbody>\n",
       "</table>\n",
       "<p>744 rows × 6 columns</p>\n",
       "</div>"
      ],
      "text/plain": [
       "        userID assessmentItemID      testId  answerCode            Timestamp  \\\n",
       "1035         3       A050133008  A050000133          -1  2020-10-26 13:13:57   \n",
       "1706         4       A070146008  A070000146          -1  2020-12-27 02:47:54   \n",
       "3023        13       A070111008  A070000111          -1  2020-12-27 04:35:09   \n",
       "4283        17       A090064006  A090000064          -1  2020-10-30 05:48:37   \n",
       "4670        26       A060135007  A060000135          -1  2020-10-23 11:44:18   \n",
       "...        ...              ...         ...         ...                  ...   \n",
       "260052    7395       A040122005  A040000122          -1  2020-09-08 02:05:20   \n",
       "260067    7404       A030111005  A030000111          -1  2020-10-13 09:49:18   \n",
       "260082    7416       A050193004  A050000193          -1  2020-10-04 02:44:41   \n",
       "260097    7417       A050193004  A050000193          -1  2020-09-06 13:09:15   \n",
       "260113    7439       A040130005  A040000130          -1  2020-10-14 23:10:03   \n",
       "\n",
       "        KnowledgeTag  \n",
       "1035            5289  \n",
       "1706            9080  \n",
       "3023            9660  \n",
       "4283            2611  \n",
       "4670            1422  \n",
       "...              ...  \n",
       "260052         10615  \n",
       "260067          7636  \n",
       "260082         10402  \n",
       "260097         10402  \n",
       "260113          8832  \n",
       "\n",
       "[744 rows x 6 columns]"
      ]
     },
     "execution_count": 66,
     "metadata": {},
     "output_type": "execute_result"
    }
   ],
   "source": [
    "fin_test_data = test_data_old[test_data_old.answerCode == -1]\n",
    "fin_test_data"
   ]
  },
  {
   "cell_type": "code",
   "execution_count": 67,
   "id": "413bcc44",
   "metadata": {},
   "outputs": [
    {
     "data": {
      "text/html": [
       "<div>\n",
       "<style scoped>\n",
       "    .dataframe tbody tr th:only-of-type {\n",
       "        vertical-align: middle;\n",
       "    }\n",
       "\n",
       "    .dataframe tbody tr th {\n",
       "        vertical-align: top;\n",
       "    }\n",
       "\n",
       "    .dataframe thead th {\n",
       "        text-align: right;\n",
       "    }\n",
       "</style>\n",
       "<table border=\"1\" class=\"dataframe\">\n",
       "  <thead>\n",
       "    <tr style=\"text-align: right;\">\n",
       "      <th></th>\n",
       "      <th>userID</th>\n",
       "      <th>assessmentItemID</th>\n",
       "      <th>testId</th>\n",
       "      <th>answerCode</th>\n",
       "      <th>Timestamp</th>\n",
       "      <th>KnowledgeTag</th>\n",
       "    </tr>\n",
       "  </thead>\n",
       "  <tbody>\n",
       "    <tr>\n",
       "      <th>1034</th>\n",
       "      <td>3</td>\n",
       "      <td>A050133007</td>\n",
       "      <td>A050000133</td>\n",
       "      <td>0</td>\n",
       "      <td>2020-10-26 13:13:11</td>\n",
       "      <td>5289</td>\n",
       "    </tr>\n",
       "    <tr>\n",
       "      <th>1705</th>\n",
       "      <td>4</td>\n",
       "      <td>A070146007</td>\n",
       "      <td>A070000146</td>\n",
       "      <td>1</td>\n",
       "      <td>2020-12-27 02:47:31</td>\n",
       "      <td>9080</td>\n",
       "    </tr>\n",
       "    <tr>\n",
       "      <th>3022</th>\n",
       "      <td>13</td>\n",
       "      <td>A070111007</td>\n",
       "      <td>A070000111</td>\n",
       "      <td>1</td>\n",
       "      <td>2020-12-27 04:35:01</td>\n",
       "      <td>9660</td>\n",
       "    </tr>\n",
       "    <tr>\n",
       "      <th>4282</th>\n",
       "      <td>17</td>\n",
       "      <td>A090064005</td>\n",
       "      <td>A090000064</td>\n",
       "      <td>1</td>\n",
       "      <td>2020-10-30 05:47:22</td>\n",
       "      <td>2611</td>\n",
       "    </tr>\n",
       "    <tr>\n",
       "      <th>4669</th>\n",
       "      <td>26</td>\n",
       "      <td>A060135006</td>\n",
       "      <td>A060000135</td>\n",
       "      <td>0</td>\n",
       "      <td>2020-10-23 11:44:01</td>\n",
       "      <td>1422</td>\n",
       "    </tr>\n",
       "    <tr>\n",
       "      <th>...</th>\n",
       "      <td>...</td>\n",
       "      <td>...</td>\n",
       "      <td>...</td>\n",
       "      <td>...</td>\n",
       "      <td>...</td>\n",
       "      <td>...</td>\n",
       "    </tr>\n",
       "    <tr>\n",
       "      <th>260051</th>\n",
       "      <td>7395</td>\n",
       "      <td>A040122004</td>\n",
       "      <td>A040000122</td>\n",
       "      <td>0</td>\n",
       "      <td>2020-09-08 02:05:18</td>\n",
       "      <td>2102</td>\n",
       "    </tr>\n",
       "    <tr>\n",
       "      <th>260066</th>\n",
       "      <td>7404</td>\n",
       "      <td>A030111004</td>\n",
       "      <td>A030000111</td>\n",
       "      <td>1</td>\n",
       "      <td>2020-10-13 09:47:31</td>\n",
       "      <td>7636</td>\n",
       "    </tr>\n",
       "    <tr>\n",
       "      <th>260081</th>\n",
       "      <td>7416</td>\n",
       "      <td>A050193003</td>\n",
       "      <td>A050000193</td>\n",
       "      <td>0</td>\n",
       "      <td>2020-10-04 02:44:17</td>\n",
       "      <td>10402</td>\n",
       "    </tr>\n",
       "    <tr>\n",
       "      <th>260096</th>\n",
       "      <td>7417</td>\n",
       "      <td>A050193003</td>\n",
       "      <td>A050000193</td>\n",
       "      <td>0</td>\n",
       "      <td>2020-09-06 13:08:54</td>\n",
       "      <td>10402</td>\n",
       "    </tr>\n",
       "    <tr>\n",
       "      <th>260112</th>\n",
       "      <td>7439</td>\n",
       "      <td>A040130004</td>\n",
       "      <td>A040000130</td>\n",
       "      <td>1</td>\n",
       "      <td>2020-10-14 23:09:31</td>\n",
       "      <td>8244</td>\n",
       "    </tr>\n",
       "  </tbody>\n",
       "</table>\n",
       "<p>744 rows × 6 columns</p>\n",
       "</div>"
      ],
      "text/plain": [
       "        userID assessmentItemID      testId  answerCode            Timestamp  \\\n",
       "1034         3       A050133007  A050000133           0  2020-10-26 13:13:11   \n",
       "1705         4       A070146007  A070000146           1  2020-12-27 02:47:31   \n",
       "3022        13       A070111007  A070000111           1  2020-12-27 04:35:01   \n",
       "4282        17       A090064005  A090000064           1  2020-10-30 05:47:22   \n",
       "4669        26       A060135006  A060000135           0  2020-10-23 11:44:01   \n",
       "...        ...              ...         ...         ...                  ...   \n",
       "260051    7395       A040122004  A040000122           0  2020-09-08 02:05:18   \n",
       "260066    7404       A030111004  A030000111           1  2020-10-13 09:47:31   \n",
       "260081    7416       A050193003  A050000193           0  2020-10-04 02:44:17   \n",
       "260096    7417       A050193003  A050000193           0  2020-09-06 13:08:54   \n",
       "260112    7439       A040130004  A040000130           1  2020-10-14 23:09:31   \n",
       "\n",
       "        KnowledgeTag  \n",
       "1034            5289  \n",
       "1705            9080  \n",
       "3022            9660  \n",
       "4282            2611  \n",
       "4669            1422  \n",
       "...              ...  \n",
       "260051          2102  \n",
       "260066          7636  \n",
       "260081         10402  \n",
       "260096         10402  \n",
       "260112          8244  \n",
       "\n",
       "[744 rows x 6 columns]"
      ]
     },
     "execution_count": 67,
     "metadata": {},
     "output_type": "execute_result"
    }
   ],
   "source": [
    "eval_data"
   ]
  },
  {
   "cell_type": "code",
   "execution_count": 68,
   "id": "a5cc1531",
   "metadata": {},
   "outputs": [
    {
     "name": "stdout",
     "output_type": "stream",
     "text": [
      "Test data prediction\n"
     ]
    }
   ],
   "source": [
    "a_prob = predict3(V, sigma, matrix_test, fin_test_data.userID, fin_test_data.assessmentItemID, user_id2idx_test, item_id2idx)\n",
    "#a_true = eval_data.answerCode\n",
    "a_pred = [round(v) for v in a_prob] \n",
    "\n",
    "print(\"Test data prediction\")\n",
    "#print(f\" - Accuracy = {100*accuracy_score(a_true, a_pred):.2f}%\")\n",
    "#print(f\" - ROC-AUC  = {100*roc_auc_score(a_true, a_prob):.2f}%\")"
   ]
  },
  {
   "cell_type": "code",
   "execution_count": 71,
   "id": "b45bb9e4",
   "metadata": {},
   "outputs": [
    {
     "data": {
      "text/plain": [
       "744"
      ]
     },
     "execution_count": 71,
     "metadata": {},
     "output_type": "execute_result"
    }
   ],
   "source": [
    "len(a_prob)\n"
   ]
  },
  {
   "cell_type": "code",
   "execution_count": 74,
   "id": "74d65266",
   "metadata": {},
   "outputs": [
    {
     "data": {
      "text/html": [
       "<div>\n",
       "<style scoped>\n",
       "    .dataframe tbody tr th:only-of-type {\n",
       "        vertical-align: middle;\n",
       "    }\n",
       "\n",
       "    .dataframe tbody tr th {\n",
       "        vertical-align: top;\n",
       "    }\n",
       "\n",
       "    .dataframe thead th {\n",
       "        text-align: right;\n",
       "    }\n",
       "</style>\n",
       "<table border=\"1\" class=\"dataframe\">\n",
       "  <thead>\n",
       "    <tr style=\"text-align: right;\">\n",
       "      <th></th>\n",
       "      <th>id</th>\n",
       "      <th>prediction</th>\n",
       "    </tr>\n",
       "  </thead>\n",
       "  <tbody>\n",
       "    <tr>\n",
       "      <th>0</th>\n",
       "      <td>0</td>\n",
       "      <td>0.5</td>\n",
       "    </tr>\n",
       "    <tr>\n",
       "      <th>1</th>\n",
       "      <td>1</td>\n",
       "      <td>0.5</td>\n",
       "    </tr>\n",
       "    <tr>\n",
       "      <th>2</th>\n",
       "      <td>2</td>\n",
       "      <td>0.5</td>\n",
       "    </tr>\n",
       "    <tr>\n",
       "      <th>3</th>\n",
       "      <td>3</td>\n",
       "      <td>0.5</td>\n",
       "    </tr>\n",
       "    <tr>\n",
       "      <th>4</th>\n",
       "      <td>4</td>\n",
       "      <td>0.5</td>\n",
       "    </tr>\n",
       "    <tr>\n",
       "      <th>...</th>\n",
       "      <td>...</td>\n",
       "      <td>...</td>\n",
       "    </tr>\n",
       "    <tr>\n",
       "      <th>739</th>\n",
       "      <td>739</td>\n",
       "      <td>0.5</td>\n",
       "    </tr>\n",
       "    <tr>\n",
       "      <th>740</th>\n",
       "      <td>740</td>\n",
       "      <td>0.5</td>\n",
       "    </tr>\n",
       "    <tr>\n",
       "      <th>741</th>\n",
       "      <td>741</td>\n",
       "      <td>0.5</td>\n",
       "    </tr>\n",
       "    <tr>\n",
       "      <th>742</th>\n",
       "      <td>742</td>\n",
       "      <td>0.5</td>\n",
       "    </tr>\n",
       "    <tr>\n",
       "      <th>743</th>\n",
       "      <td>743</td>\n",
       "      <td>0.5</td>\n",
       "    </tr>\n",
       "  </tbody>\n",
       "</table>\n",
       "<p>744 rows × 2 columns</p>\n",
       "</div>"
      ],
      "text/plain": [
       "      id  prediction\n",
       "0      0         0.5\n",
       "1      1         0.5\n",
       "2      2         0.5\n",
       "3      3         0.5\n",
       "4      4         0.5\n",
       "..   ...         ...\n",
       "739  739         0.5\n",
       "740  740         0.5\n",
       "741  741         0.5\n",
       "742  742         0.5\n",
       "743  743         0.5\n",
       "\n",
       "[744 rows x 2 columns]"
      ]
     },
     "execution_count": 74,
     "metadata": {},
     "output_type": "execute_result"
    }
   ],
   "source": [
    "submit = pd.read_csv('/opt/ml/input/data/sample_submission.csv')\n",
    "submit"
   ]
  },
  {
   "cell_type": "code",
   "execution_count": 75,
   "id": "47dc373d",
   "metadata": {},
   "outputs": [
    {
     "data": {
      "text/html": [
       "<div>\n",
       "<style scoped>\n",
       "    .dataframe tbody tr th:only-of-type {\n",
       "        vertical-align: middle;\n",
       "    }\n",
       "\n",
       "    .dataframe tbody tr th {\n",
       "        vertical-align: top;\n",
       "    }\n",
       "\n",
       "    .dataframe thead th {\n",
       "        text-align: right;\n",
       "    }\n",
       "</style>\n",
       "<table border=\"1\" class=\"dataframe\">\n",
       "  <thead>\n",
       "    <tr style=\"text-align: right;\">\n",
       "      <th></th>\n",
       "      <th>id</th>\n",
       "      <th>prediction</th>\n",
       "    </tr>\n",
       "  </thead>\n",
       "  <tbody>\n",
       "    <tr>\n",
       "      <th>0</th>\n",
       "      <td>0</td>\n",
       "      <td>0.491703</td>\n",
       "    </tr>\n",
       "    <tr>\n",
       "      <th>1</th>\n",
       "      <td>1</td>\n",
       "      <td>0.514357</td>\n",
       "    </tr>\n",
       "    <tr>\n",
       "      <th>2</th>\n",
       "      <td>2</td>\n",
       "      <td>0.495379</td>\n",
       "    </tr>\n",
       "    <tr>\n",
       "      <th>3</th>\n",
       "      <td>3</td>\n",
       "      <td>0.522067</td>\n",
       "    </tr>\n",
       "    <tr>\n",
       "      <th>4</th>\n",
       "      <td>4</td>\n",
       "      <td>0.523577</td>\n",
       "    </tr>\n",
       "    <tr>\n",
       "      <th>...</th>\n",
       "      <td>...</td>\n",
       "      <td>...</td>\n",
       "    </tr>\n",
       "    <tr>\n",
       "      <th>739</th>\n",
       "      <td>739</td>\n",
       "      <td>0.501367</td>\n",
       "    </tr>\n",
       "    <tr>\n",
       "      <th>740</th>\n",
       "      <td>740</td>\n",
       "      <td>0.490454</td>\n",
       "    </tr>\n",
       "    <tr>\n",
       "      <th>741</th>\n",
       "      <td>741</td>\n",
       "      <td>0.515057</td>\n",
       "    </tr>\n",
       "    <tr>\n",
       "      <th>742</th>\n",
       "      <td>742</td>\n",
       "      <td>0.512841</td>\n",
       "    </tr>\n",
       "    <tr>\n",
       "      <th>743</th>\n",
       "      <td>743</td>\n",
       "      <td>0.509023</td>\n",
       "    </tr>\n",
       "  </tbody>\n",
       "</table>\n",
       "<p>744 rows × 2 columns</p>\n",
       "</div>"
      ],
      "text/plain": [
       "      id  prediction\n",
       "0      0    0.491703\n",
       "1      1    0.514357\n",
       "2      2    0.495379\n",
       "3      3    0.522067\n",
       "4      4    0.523577\n",
       "..   ...         ...\n",
       "739  739    0.501367\n",
       "740  740    0.490454\n",
       "741  741    0.515057\n",
       "742  742    0.512841\n",
       "743  743    0.509023\n",
       "\n",
       "[744 rows x 2 columns]"
      ]
     },
     "execution_count": 75,
     "metadata": {},
     "output_type": "execute_result"
    }
   ],
   "source": [
    "submit = pd.read_csv('/opt/ml/input/data/sample_submission.csv')\n",
    "submit.prediction = a_prob\n",
    "submit"
   ]
  },
  {
   "cell_type": "code",
   "execution_count": 76,
   "id": "dd63ffd3",
   "metadata": {},
   "outputs": [],
   "source": [
    "submit.to_csv('mf.csv')"
   ]
  },
  {
   "cell_type": "code",
   "execution_count": null,
   "id": "b750780f",
   "metadata": {},
   "outputs": [],
   "source": []
  },
  {
   "cell_type": "code",
   "execution_count": null,
   "id": "df4b6bd2",
   "metadata": {},
   "outputs": [],
   "source": []
  },
  {
   "cell_type": "code",
   "execution_count": 84,
   "id": "b8caa51e",
   "metadata": {},
   "outputs": [],
   "source": [
    "from sklearn.decomposition import NMF\n",
    "\n",
    "def predict_nmf(comp_value, matrix, userid, itemid, user_id2idx, item_id2idx):\n",
    "    X = matrix_train.values\n",
    "    nmf = NMF(n_components=comp_value)\n",
    "    nmf.fit(X)\n",
    "\n",
    "    X = matrix\n",
    "    X_pred = nmf.inverse_transform(nmf.transform(X))\n",
    "\n",
    "    ret = [X_pred[user_id2idx[u], item_id2idx[i]] for u,i in zip(userid, itemid)]\n",
    "    return ret"
   ]
  },
  {
   "cell_type": "code",
   "execution_count": 85,
   "id": "1bc9a143",
   "metadata": {},
   "outputs": [
    {
     "name": "stderr",
     "output_type": "stream",
     "text": [
      "/opt/conda/envs/dkt/lib/python3.9/site-packages/sklearn/decomposition/_nmf.py:289: FutureWarning: The 'init' value, when 'init=None' and n_components is less than n_samples and n_features, will be changed from 'nndsvd' to 'nndsvda' in 1.1 (renaming of 0.26).\n",
      "  warnings.warn(\n",
      "/opt/conda/envs/dkt/lib/python3.9/site-packages/sklearn/decomposition/_nmf.py:1637: ConvergenceWarning: Maximum number of iterations 200 reached. Increase it to improve convergence.\n",
      "  warnings.warn(\n"
     ]
    },
    {
     "name": "stdout",
     "output_type": "stream",
     "text": [
      "Test data prediction\n",
      " - Accuracy = 75.62%\n",
      " - ROC-AUC  = 77.29%\n"
     ]
    }
   ],
   "source": [
    "comp_value = 12\n",
    "\n",
    "# item_id2idx는 train에서 사용한 것을 다시 사용한다.\n",
    "userid = sorted(list(set([u for u in test_data.userID])))\n",
    "user_id2idx_test = {v:i for i,v in enumerate(userid)}\n",
    "\n",
    "matrix_test = 0.5*np.ones((len(userid), len(item_id2idx)))\n",
    "for user,item,a in zip(test_data.userID, test_data.assessmentItemID, test_data.answerCode):\n",
    "    user,item = user_id2idx_test[user],item_id2idx[item]\n",
    "    matrix_test[user,item] = a\n",
    "\n",
    "# 성능 측정\n",
    "a_prob = predict_nmf(comp_value, matrix_test, test_data.userID, test_data.assessmentItemID, user_id2idx_test, item_id2idx)\n",
    "a_true = test_data.answerCode\n",
    "a_pred = [round(v) for v in a_prob] \n",
    "\n",
    "print(\"Test data prediction\")\n",
    "print(f\" - Accuracy = {100*accuracy_score(a_true, a_pred):.2f}%\")\n",
    "print(f\" - ROC-AUC  = {100*roc_auc_score(a_true, a_prob):.2f}%\")"
   ]
  },
  {
   "cell_type": "code",
   "execution_count": 86,
   "id": "89a0c6f7",
   "metadata": {},
   "outputs": [
    {
     "name": "stderr",
     "output_type": "stream",
     "text": [
      "/opt/conda/envs/dkt/lib/python3.9/site-packages/sklearn/decomposition/_nmf.py:289: FutureWarning: The 'init' value, when 'init=None' and n_components is less than n_samples and n_features, will be changed from 'nndsvd' to 'nndsvda' in 1.1 (renaming of 0.26).\n",
      "  warnings.warn(\n",
      "/opt/conda/envs/dkt/lib/python3.9/site-packages/sklearn/decomposition/_nmf.py:1637: ConvergenceWarning: Maximum number of iterations 200 reached. Increase it to improve convergence.\n",
      "  warnings.warn(\n"
     ]
    },
    {
     "name": "stdout",
     "output_type": "stream",
     "text": [
      "Test data prediction\n",
      " - Accuracy = 73.09%\n",
      " - ROC-AUC  = 74.48%\n"
     ]
    }
   ],
   "source": [
    "comp_value = 3\n",
    "\n",
    "# item_id2idx는 train에서 사용한 것을 다시 사용한다.\n",
    "userid = sorted(list(set([u for u in test_data.userID])))\n",
    "user_id2idx_test = {v:i for i,v in enumerate(userid)}\n",
    "\n",
    "matrix_test = 0.5*np.ones((len(userid), len(item_id2idx)))\n",
    "for user,item,a in zip(test_data.userID, test_data.assessmentItemID, test_data.answerCode):\n",
    "    user,item = user_id2idx_test[user],item_id2idx[item]\n",
    "    matrix_test[user,item] = a\n",
    "\n",
    "# 성능 측정\n",
    "a_prob = predict_nmf(comp_value, matrix_test, test_data.userID, test_data.assessmentItemID, user_id2idx_test, item_id2idx)\n",
    "a_true = test_data.answerCode\n",
    "a_pred = [round(v) for v in a_prob] \n",
    "\n",
    "print(\"Test data prediction\")\n",
    "print(f\" - Accuracy = {100*accuracy_score(a_true, a_pred):.2f}%\")\n",
    "print(f\" - ROC-AUC  = {100*roc_auc_score(a_true, a_prob):.2f}%\")"
   ]
  },
  {
   "cell_type": "code",
   "execution_count": 87,
   "id": "eb812dba",
   "metadata": {},
   "outputs": [
    {
     "name": "stderr",
     "output_type": "stream",
     "text": [
      "/opt/conda/envs/dkt/lib/python3.9/site-packages/sklearn/decomposition/_nmf.py:289: FutureWarning: The 'init' value, when 'init=None' and n_components is less than n_samples and n_features, will be changed from 'nndsvd' to 'nndsvda' in 1.1 (renaming of 0.26).\n",
      "  warnings.warn(\n",
      "/opt/conda/envs/dkt/lib/python3.9/site-packages/sklearn/decomposition/_nmf.py:1637: ConvergenceWarning: Maximum number of iterations 200 reached. Increase it to improve convergence.\n",
      "  warnings.warn(\n",
      "/opt/conda/envs/dkt/lib/python3.9/site-packages/sklearn/decomposition/_nmf.py:1637: ConvergenceWarning: Maximum number of iterations 200 reached. Increase it to improve convergence.\n",
      "  warnings.warn(\n"
     ]
    },
    {
     "name": "stdout",
     "output_type": "stream",
     "text": [
      "Test data prediction\n",
      " - Accuracy = 77.78%\n",
      " - ROC-AUC  = 81.36%\n"
     ]
    }
   ],
   "source": [
    "comp_value = 50\n",
    "\n",
    "# item_id2idx는 train에서 사용한 것을 다시 사용한다.\n",
    "userid = sorted(list(set([u for u in test_data.userID])))\n",
    "user_id2idx_test = {v:i for i,v in enumerate(userid)}\n",
    "\n",
    "matrix_test = 0.5*np.ones((len(userid), len(item_id2idx)))\n",
    "for user,item,a in zip(test_data.userID, test_data.assessmentItemID, test_data.answerCode):\n",
    "    user,item = user_id2idx_test[user],item_id2idx[item]\n",
    "    matrix_test[user,item] = a\n",
    "\n",
    "# 성능 측정\n",
    "a_prob = predict_nmf(comp_value, matrix_test, test_data.userID, test_data.assessmentItemID, user_id2idx_test, item_id2idx)\n",
    "a_true = test_data.answerCode\n",
    "a_pred = [round(v) for v in a_prob] \n",
    "\n",
    "print(\"Test data prediction\")\n",
    "print(f\" - Accuracy = {100*accuracy_score(a_true, a_pred):.2f}%\")\n",
    "print(f\" - ROC-AUC  = {100*roc_auc_score(a_true, a_prob):.2f}%\")"
   ]
  },
  {
   "cell_type": "code",
   "execution_count": 88,
   "id": "58116af8",
   "metadata": {},
   "outputs": [
    {
     "name": "stderr",
     "output_type": "stream",
     "text": [
      "/opt/conda/envs/dkt/lib/python3.9/site-packages/sklearn/decomposition/_nmf.py:289: FutureWarning: The 'init' value, when 'init=None' and n_components is less than n_samples and n_features, will be changed from 'nndsvd' to 'nndsvda' in 1.1 (renaming of 0.26).\n",
      "  warnings.warn(\n",
      "/opt/conda/envs/dkt/lib/python3.9/site-packages/sklearn/decomposition/_nmf.py:1637: ConvergenceWarning: Maximum number of iterations 200 reached. Increase it to improve convergence.\n",
      "  warnings.warn(\n",
      "/opt/conda/envs/dkt/lib/python3.9/site-packages/sklearn/decomposition/_nmf.py:1637: ConvergenceWarning: Maximum number of iterations 200 reached. Increase it to improve convergence.\n",
      "  warnings.warn(\n"
     ]
    },
    {
     "name": "stdout",
     "output_type": "stream",
     "text": [
      "Test data prediction\n",
      " - Accuracy = 78.82%\n",
      " - ROC-AUC  = 83.11%\n"
     ]
    }
   ],
   "source": [
    "comp_value = 100\n",
    "\n",
    "# item_id2idx는 train에서 사용한 것을 다시 사용한다.\n",
    "userid = sorted(list(set([u for u in test_data.userID])))\n",
    "user_id2idx_test = {v:i for i,v in enumerate(userid)}\n",
    "\n",
    "matrix_test = 0.5*np.ones((len(userid), len(item_id2idx)))\n",
    "for user,item,a in zip(test_data.userID, test_data.assessmentItemID, test_data.answerCode):\n",
    "    user,item = user_id2idx_test[user],item_id2idx[item]\n",
    "    matrix_test[user,item] = a\n",
    "\n",
    "# 성능 측정\n",
    "a_prob = predict_nmf(comp_value, matrix_test, test_data.userID, test_data.assessmentItemID, user_id2idx_test, item_id2idx)\n",
    "a_true = test_data.answerCode\n",
    "a_pred = [round(v) for v in a_prob] \n",
    "\n",
    "print(\"Test data prediction\")\n",
    "print(f\" - Accuracy = {100*accuracy_score(a_true, a_pred):.2f}%\")\n",
    "print(f\" - ROC-AUC  = {100*roc_auc_score(a_true, a_prob):.2f}%\")"
   ]
  },
  {
   "cell_type": "code",
   "execution_count": 91,
   "id": "e283478e",
   "metadata": {},
   "outputs": [
    {
     "name": "stderr",
     "output_type": "stream",
     "text": [
      "/opt/conda/envs/dkt/lib/python3.9/site-packages/sklearn/decomposition/_nmf.py:289: FutureWarning: The 'init' value, when 'init=None' and n_components is less than n_samples and n_features, will be changed from 'nndsvd' to 'nndsvda' in 1.1 (renaming of 0.26).\n",
      "  warnings.warn(\n",
      "/opt/conda/envs/dkt/lib/python3.9/site-packages/sklearn/decomposition/_nmf.py:1637: ConvergenceWarning: Maximum number of iterations 200 reached. Increase it to improve convergence.\n",
      "  warnings.warn(\n"
     ]
    },
    {
     "name": "stdout",
     "output_type": "stream",
     "text": [
      "Test data prediction\n"
     ]
    }
   ],
   "source": [
    "comp_value = 100\n",
    "\n",
    "# item_id2idx는 train에서 사용한 것을 다시 사용한다.\n",
    "userid = sorted(list(set([u for u in fin_test_data.userID])))\n",
    "user_id2idx_test = {v:i for i,v in enumerate(userid)}\n",
    "\n",
    "matrix_test = 0.5*np.ones((len(userid), len(item_id2idx)))\n",
    "for user,item,a in zip(fin_test_data.userID, fin_test_data.assessmentItemID, fin_test_data.answerCode):\n",
    "    user,item = user_id2idx_test[user],item_id2idx[item]\n",
    "    matrix_test[user,item] = 0.5\n",
    "\n",
    "# 성능 측정\n",
    "a_prob = predict_nmf(comp_value, matrix_test, fin_test_data.userID, fin_test_data.assessmentItemID, user_id2idx_test, item_id2idx)\n",
    "a_pred = [round(v) for v in a_prob] \n",
    "\n",
    "print(\"Test data prediction\")\n",
    "#print(f\" - Accuracy = {100*accuracy_score(a_true, a_pred):.2f}%\")\n",
    "#print(f\" - ROC-AUC  = {100*roc_auc_score(a_true, a_prob):.2f}%\")"
   ]
  },
  {
   "cell_type": "code",
   "execution_count": 94,
   "id": "15c0ead9",
   "metadata": {},
   "outputs": [
    {
     "data": {
      "text/plain": [
       "744"
      ]
     },
     "execution_count": 94,
     "metadata": {},
     "output_type": "execute_result"
    }
   ],
   "source": [
    "len(a_prob)"
   ]
  },
  {
   "cell_type": "code",
   "execution_count": 95,
   "id": "42830a43",
   "metadata": {},
   "outputs": [
    {
     "data": {
      "text/html": [
       "<div>\n",
       "<style scoped>\n",
       "    .dataframe tbody tr th:only-of-type {\n",
       "        vertical-align: middle;\n",
       "    }\n",
       "\n",
       "    .dataframe tbody tr th {\n",
       "        vertical-align: top;\n",
       "    }\n",
       "\n",
       "    .dataframe thead th {\n",
       "        text-align: right;\n",
       "    }\n",
       "</style>\n",
       "<table border=\"1\" class=\"dataframe\">\n",
       "  <thead>\n",
       "    <tr style=\"text-align: right;\">\n",
       "      <th></th>\n",
       "      <th>id</th>\n",
       "      <th>prediction</th>\n",
       "    </tr>\n",
       "  </thead>\n",
       "  <tbody>\n",
       "    <tr>\n",
       "      <th>0</th>\n",
       "      <td>0</td>\n",
       "      <td>0.499035</td>\n",
       "    </tr>\n",
       "    <tr>\n",
       "      <th>1</th>\n",
       "      <td>1</td>\n",
       "      <td>0.500940</td>\n",
       "    </tr>\n",
       "    <tr>\n",
       "      <th>2</th>\n",
       "      <td>2</td>\n",
       "      <td>0.501699</td>\n",
       "    </tr>\n",
       "    <tr>\n",
       "      <th>3</th>\n",
       "      <td>3</td>\n",
       "      <td>0.501253</td>\n",
       "    </tr>\n",
       "    <tr>\n",
       "      <th>4</th>\n",
       "      <td>4</td>\n",
       "      <td>0.500417</td>\n",
       "    </tr>\n",
       "    <tr>\n",
       "      <th>...</th>\n",
       "      <td>...</td>\n",
       "      <td>...</td>\n",
       "    </tr>\n",
       "    <tr>\n",
       "      <th>739</th>\n",
       "      <td>739</td>\n",
       "      <td>0.495091</td>\n",
       "    </tr>\n",
       "    <tr>\n",
       "      <th>740</th>\n",
       "      <td>740</td>\n",
       "      <td>0.501149</td>\n",
       "    </tr>\n",
       "    <tr>\n",
       "      <th>741</th>\n",
       "      <td>741</td>\n",
       "      <td>0.505622</td>\n",
       "    </tr>\n",
       "    <tr>\n",
       "      <th>742</th>\n",
       "      <td>742</td>\n",
       "      <td>0.505622</td>\n",
       "    </tr>\n",
       "    <tr>\n",
       "      <th>743</th>\n",
       "      <td>743</td>\n",
       "      <td>0.500536</td>\n",
       "    </tr>\n",
       "  </tbody>\n",
       "</table>\n",
       "<p>744 rows × 2 columns</p>\n",
       "</div>"
      ],
      "text/plain": [
       "      id  prediction\n",
       "0      0    0.499035\n",
       "1      1    0.500940\n",
       "2      2    0.501699\n",
       "3      3    0.501253\n",
       "4      4    0.500417\n",
       "..   ...         ...\n",
       "739  739    0.495091\n",
       "740  740    0.501149\n",
       "741  741    0.505622\n",
       "742  742    0.505622\n",
       "743  743    0.500536\n",
       "\n",
       "[744 rows x 2 columns]"
      ]
     },
     "execution_count": 95,
     "metadata": {},
     "output_type": "execute_result"
    }
   ],
   "source": [
    "submit = pd.read_csv('/opt/ml/input/data/sample_submission.csv')\n",
    "submit.prediction = a_prob\n",
    "submit"
   ]
  },
  {
   "cell_type": "code",
   "execution_count": 96,
   "id": "61288797",
   "metadata": {},
   "outputs": [],
   "source": [
    "submit.to_csv('nmf.csv')"
   ]
  },
  {
   "cell_type": "code",
   "execution_count": 97,
   "id": "d99e7d5d",
   "metadata": {},
   "outputs": [
    {
     "data": {
      "text/html": [
       "<div>\n",
       "<style scoped>\n",
       "    .dataframe tbody tr th:only-of-type {\n",
       "        vertical-align: middle;\n",
       "    }\n",
       "\n",
       "    .dataframe tbody tr th {\n",
       "        vertical-align: top;\n",
       "    }\n",
       "\n",
       "    .dataframe thead th {\n",
       "        text-align: right;\n",
       "    }\n",
       "</style>\n",
       "<table border=\"1\" class=\"dataframe\">\n",
       "  <thead>\n",
       "    <tr style=\"text-align: right;\">\n",
       "      <th></th>\n",
       "      <th>Unnamed: 0</th>\n",
       "      <th>id</th>\n",
       "      <th>prediction</th>\n",
       "    </tr>\n",
       "  </thead>\n",
       "  <tbody>\n",
       "    <tr>\n",
       "      <th>0</th>\n",
       "      <td>0</td>\n",
       "      <td>0</td>\n",
       "      <td>0.491703</td>\n",
       "    </tr>\n",
       "    <tr>\n",
       "      <th>1</th>\n",
       "      <td>1</td>\n",
       "      <td>1</td>\n",
       "      <td>0.514357</td>\n",
       "    </tr>\n",
       "    <tr>\n",
       "      <th>2</th>\n",
       "      <td>2</td>\n",
       "      <td>2</td>\n",
       "      <td>0.495379</td>\n",
       "    </tr>\n",
       "    <tr>\n",
       "      <th>3</th>\n",
       "      <td>3</td>\n",
       "      <td>3</td>\n",
       "      <td>0.522067</td>\n",
       "    </tr>\n",
       "    <tr>\n",
       "      <th>4</th>\n",
       "      <td>4</td>\n",
       "      <td>4</td>\n",
       "      <td>0.523577</td>\n",
       "    </tr>\n",
       "    <tr>\n",
       "      <th>...</th>\n",
       "      <td>...</td>\n",
       "      <td>...</td>\n",
       "      <td>...</td>\n",
       "    </tr>\n",
       "    <tr>\n",
       "      <th>739</th>\n",
       "      <td>739</td>\n",
       "      <td>739</td>\n",
       "      <td>0.501367</td>\n",
       "    </tr>\n",
       "    <tr>\n",
       "      <th>740</th>\n",
       "      <td>740</td>\n",
       "      <td>740</td>\n",
       "      <td>0.490454</td>\n",
       "    </tr>\n",
       "    <tr>\n",
       "      <th>741</th>\n",
       "      <td>741</td>\n",
       "      <td>741</td>\n",
       "      <td>0.515057</td>\n",
       "    </tr>\n",
       "    <tr>\n",
       "      <th>742</th>\n",
       "      <td>742</td>\n",
       "      <td>742</td>\n",
       "      <td>0.512841</td>\n",
       "    </tr>\n",
       "    <tr>\n",
       "      <th>743</th>\n",
       "      <td>743</td>\n",
       "      <td>743</td>\n",
       "      <td>0.509023</td>\n",
       "    </tr>\n",
       "  </tbody>\n",
       "</table>\n",
       "<p>744 rows × 3 columns</p>\n",
       "</div>"
      ],
      "text/plain": [
       "     Unnamed: 0   id  prediction\n",
       "0             0    0    0.491703\n",
       "1             1    1    0.514357\n",
       "2             2    2    0.495379\n",
       "3             3    3    0.522067\n",
       "4             4    4    0.523577\n",
       "..          ...  ...         ...\n",
       "739         739  739    0.501367\n",
       "740         740  740    0.490454\n",
       "741         741  741    0.515057\n",
       "742         742  742    0.512841\n",
       "743         743  743    0.509023\n",
       "\n",
       "[744 rows x 3 columns]"
      ]
     },
     "execution_count": 97,
     "metadata": {},
     "output_type": "execute_result"
    }
   ],
   "source": [
    "svd = pd.read_csv('mf.csv')\n",
    "svd"
   ]
  },
  {
   "cell_type": "code",
   "execution_count": null,
   "id": "8b3ac2bd",
   "metadata": {},
   "outputs": [],
   "source": []
  }
 ],
 "metadata": {
  "kernelspec": {
   "display_name": "Python 3 (ipykernel)",
   "language": "python",
   "name": "python3"
  },
  "language_info": {
   "codemirror_mode": {
    "name": "ipython",
    "version": 3
   },
   "file_extension": ".py",
   "mimetype": "text/x-python",
   "name": "python",
   "nbconvert_exporter": "python",
   "pygments_lexer": "ipython3",
   "version": "3.9.12"
  }
 },
 "nbformat": 4,
 "nbformat_minor": 5
}
