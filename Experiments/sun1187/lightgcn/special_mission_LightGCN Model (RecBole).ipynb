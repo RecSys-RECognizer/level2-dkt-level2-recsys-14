{
 "cells": [
  {
   "cell_type": "markdown",
   "id": "686f4f64",
   "metadata": {},
   "source": [
    "Reference : https://lsjsj92.tistory.com/568"
   ]
  },
  {
   "cell_type": "markdown",
   "id": "d9a684ba",
   "metadata": {},
   "source": [
    "# LightGCN 기반 DKT 문제 분석\n",
    "- 🦆 개요 (Overview)\n",
    "- ⚙️ RecBole 라이브러리 설명\n",
    "- ⚙️ 환경 설정 및 전처리 (Environment Setting & Preprocessing)\n",
    "- 🎯 LightGCN 학습\n",
    "- 🎯 예측 및 평가"
   ]
  },
  {
   "cell_type": "markdown",
   "id": "04dbef1b",
   "metadata": {},
   "source": [
    "## 🦆개요 (Overview)\n",
    "\n",
    "### DKT, RS, MF Review\n",
    "\n",
    "- 미션 8 내용 참조\n",
    "- DKT (Deep Knowledge Tracing) : 사용자의 학습 수준을 추적하기 위한 문제로, 주로 문제에 대해 대상자가 풀 수 있을지 여부를 예측하는 문제\n",
    "- RS (Recommendation System) : 사용자에게 아이템을 추천하는 문제로, 아이템에 대한 사용자의 선호여부, 선호도 (취향) 를 예측. '선호'를 문제를 맞출 가능성으로 보면 DKT 문제로 치환 가능\n",
    "\n",
    "### GNN (Graph Neural Network)\n",
    "\n",
    "- 그래프를 분석하기 위한 딥러닝 (DL)의 일종\n",
    "- 그래프 (G)는 노드(node, vertex) (V) 와 링크(edge, link)(E)로 구성 (G=(V,E))\n",
    "- 그래프에는 노드와 링크 각각에 feature가 존재\n",
    "- GNN에서는 복잡한 그래프의 구조를 임배딩을 통한 추상적인 벡터로 표현하며, 이를 위해 Aggrigation기법을 적용\n",
    "  - CNN ispired : CNN에서 인접 셀의 값을 참조하여 feature를 구하기 위해 Convolution 기법을 사용하듯, GNN에서도 인접 노드의 값을 참조하여 feature를 구하기 위해 Aggrigation 기법을 사용\n",
    "  - Aggrigation : 인접 노드의 feature를 가중합을 구하는 등의 방식으로 그래프의 데이터를 규합하는 방법. 반복적으로 Aggrigation 연산을 수행함으로서 멀리에 있는 노드를 포함한 네트워크 구조를 추상화 할 수 있음\n",
    "  - Node Embedding : Aggrigation 을 통해 노드 자체의 feature 뿐만이 아니라 주변의 연결 구조까지 추상화하여 표현\n",
    "- GNN의 활용 : Node classification, Graph classification, link prediction 등\n",
    "\n",
    "### GNN 기반 협업 필터링\n",
    "\n",
    "- 협업 필터링에서 선호 여부를 링크의 존재, 또는 선호도를 링크의 feature로 가정할 수 있음\n",
    "- 이 경우, 사용자와 아이템이 노드가 되며 이를 연결하는 선호 여부를 링크로 모델링할 수 있음\n",
    "\n",
    "### GNN을 통한 DKT 문제\n",
    "\n",
    "- DKT 에서의 문제를 풀 수 있는지 여부의 문제는 binary 문제이며, 이를 링크가 존재하는지 여부를 판별하는 link prediction으로 예측할 수 있음\n",
    "- 단, MF 방식과 마찬가지로 협업 필터링 접근방법에 기반한 방식이므로 동일하게 시간에 따른 변화가 없음을 전제로 하여 시간 요소를 고려하기 어려움\n",
    "\n",
    "### 실습 진행 내용\n",
    "\n",
    "- 환경 설정 및 전처리 : DKT 문제의 데이터를 협업 필터링에 맞는 형태로 변형하는 방법 설명"
   ]
  },
  {
   "cell_type": "markdown",
   "id": "1fc3ad01",
   "metadata": {},
   "source": [
    "## ⚙️ RecBole 라이브러리"
   ]
  },
  {
   "cell_type": "markdown",
   "id": "1fce05f8",
   "metadata": {},
   "source": [
    "### [RecBole](https://github.com/RUCAIBox/RecBole)\n",
    "- PyTorch기반 추천 시스템 알고리즘 통합 라이브러리 ([문서](https://recbole.io/docs/))\n",
    "- 다양한 추천 시스템 알고리즘 포함\n",
    "- 여기에서는 라이브러리에 구현되어 있는 [LightGCN](https://github.com/RUCAIBox/RecBole/blob/master/recbole/model/general_recommender/lightgcn.py) 알고리즘 사용\n",
    "\n",
    "### [파일 형식](https://recbole.io/docs/user_guide/usage/running_new_dataset.html)\n",
    "- 새로운 데이터를 적용하기 위해서는 Data loader를 구현하거나 라이브러리에서 정의한 형식에 맞춰 데이터 파일을 생성하는 방법이 있음\n",
    "- 여기에서는 기존 데이터를 변환하여 데이터 파일을 생성하도록 함"
   ]
  },
  {
   "cell_type": "markdown",
   "id": "7e77c3d7",
   "metadata": {},
   "source": [
    "데이터 설정 파일 (data.yaml)\n",
    "\n",
    "```yaml\n",
    "USER_ID_FIELD: user_id\n",
    "ITEM_ID_FIELD: item_id\n",
    "RATING_FIELD: rating\n",
    "TIME_FIELD: timestamp\n",
    "\n",
    "load_col:\n",
    "    inter: [user_id, item_id, rating, timestamp]\n",
    "\n",
    "user_inter_num_interval: \"[0,inf)\"\n",
    "item_inter_num_interval: \"[0,inf)\"\n",
    "val_interval:\n",
    "    rating: \"[0,1]\"\n",
    "    timestamp: \"[97830000, inf)\"\n",
    "```\n",
    "\n",
    "- 사용자, 아이템(문제) 간의 링크만 구현\n",
    "- rating은 정답을 맞출 수 있을지의 유무 만으로 0 또는 1로 설정\n",
    "- 설정 파일에서 데이터 파일의 seprator 등 설정 가능 (기본적으론 tab)\n",
    "\n",
    "```\n",
    "user_id:token\titem_id:token\trating:float\ttimestamp:float\n",
    "0\t12796\t1\t1584976631\n",
    "0\t12797\t1\t1584976634\n",
    "0\t12798\t1\t1584976642\n",
    "0\t12799\t1\t1584976649\n",
    "0\t12800\t1\t1584976656\n",
    "0\t12801\t1\t1584976667\n",
    "0\t12809\t0\t1585169523\n",
    "0\t12810\t1\t1585169530\n",
    "0\t12811\t1\t1585169594\n",
    "0\t12812\t1\t1585169609\n",
    "0\t12813\t1\t1585169628\n",
    "0\t12814\t1\t1585169635\n",
    "0\t12815\t1\t1585169651\n",
    "```"
   ]
  },
  {
   "cell_type": "markdown",
   "id": "c7b9389a",
   "metadata": {},
   "source": [
    "## ⚙️ 환경 설정 및 전처리 (Environment Setting & Preprocessing)"
   ]
  },
  {
   "cell_type": "markdown",
   "id": "0d632e31",
   "metadata": {},
   "source": [
    "### Install module\n",
    "\n",
    "- Recbole 모듈 설치"
   ]
  },
  {
   "cell_type": "code",
   "execution_count": 1,
   "id": "c4c08fe9",
   "metadata": {},
   "outputs": [
    {
     "name": "stdout",
     "output_type": "stream",
     "text": [
      "Collecting recbole\n",
      "  Downloading recbole-1.0.1-py3-none-any.whl (2.0 MB)\n",
      "\u001b[K     |████████████████████████████████| 2.0 MB 22.4 MB/s eta 0:00:01\n",
      "\u001b[?25hRequirement already satisfied: torch>=1.7.0 in /opt/conda/envs/dkt/lib/python3.9/site-packages (from recbole) (1.11.0)\n",
      "Requirement already satisfied: pyyaml>=5.1.0 in /opt/conda/envs/dkt/lib/python3.9/site-packages (from recbole) (6.0)\n",
      "Requirement already satisfied: numpy>=1.17.2 in /opt/conda/envs/dkt/lib/python3.9/site-packages (from recbole) (1.22.3)\n",
      "Requirement already satisfied: tqdm>=4.48.2 in /opt/conda/envs/dkt/lib/python3.9/site-packages (from recbole) (4.64.0)\n",
      "Requirement already satisfied: scikit-learn>=0.23.2 in /opt/conda/envs/dkt/lib/python3.9/site-packages (from recbole) (1.0.2)\n",
      "Requirement already satisfied: pandas>=1.0.5 in /opt/conda/envs/dkt/lib/python3.9/site-packages (from recbole) (1.4.2)\n",
      "Collecting scipy==1.6.0\n",
      "  Downloading scipy-1.6.0-cp39-cp39-manylinux1_x86_64.whl (27.3 MB)\n",
      "\u001b[K     |████████████████████████████████| 27.3 MB 77.5 MB/s eta 0:00:01\n",
      "\u001b[?25hCollecting colorlog==4.7.2\n",
      "  Downloading colorlog-4.7.2-py2.py3-none-any.whl (10 kB)\n",
      "Collecting tensorboard>=2.5.0\n",
      "  Downloading tensorboard-2.8.0-py3-none-any.whl (5.8 MB)\n",
      "\u001b[K     |████████████████████████████████| 5.8 MB 74.7 MB/s eta 0:00:01\n",
      "\u001b[?25hCollecting colorama==0.4.4\n",
      "  Downloading colorama-0.4.4-py2.py3-none-any.whl (16 kB)\n",
      "Requirement already satisfied: python-dateutil>=2.8.1 in /opt/conda/envs/dkt/lib/python3.9/site-packages (from pandas>=1.0.5->recbole) (2.8.2)\n",
      "Requirement already satisfied: pytz>=2020.1 in /opt/conda/envs/dkt/lib/python3.9/site-packages (from pandas>=1.0.5->recbole) (2022.1)\n",
      "Requirement already satisfied: six>=1.5 in /opt/conda/envs/dkt/lib/python3.9/site-packages (from python-dateutil>=2.8.1->pandas>=1.0.5->recbole) (1.16.0)\n",
      "Requirement already satisfied: threadpoolctl>=2.0.0 in /opt/conda/envs/dkt/lib/python3.9/site-packages (from scikit-learn>=0.23.2->recbole) (3.1.0)\n",
      "Requirement already satisfied: joblib>=0.11 in /opt/conda/envs/dkt/lib/python3.9/site-packages (from scikit-learn>=0.23.2->recbole) (1.1.0)\n",
      "Requirement already satisfied: wheel>=0.26 in /opt/conda/envs/dkt/lib/python3.9/site-packages (from tensorboard>=2.5.0->recbole) (0.37.1)\n",
      "Collecting tensorboard-data-server<0.7.0,>=0.6.0\n",
      "  Downloading tensorboard_data_server-0.6.1-py3-none-manylinux2010_x86_64.whl (4.9 MB)\n",
      "\u001b[K     |████████████████████████████████| 4.9 MB 81.2 MB/s eta 0:00:01\n",
      "\u001b[?25hCollecting werkzeug>=0.11.15\n",
      "  Using cached Werkzeug-2.1.1-py3-none-any.whl (224 kB)\n",
      "Collecting tensorboard-plugin-wit>=1.6.0\n",
      "  Downloading tensorboard_plugin_wit-1.8.1-py3-none-any.whl (781 kB)\n",
      "\u001b[K     |████████████████████████████████| 781 kB 87.6 MB/s eta 0:00:01\n",
      "\u001b[?25hCollecting google-auth-oauthlib<0.5,>=0.4.1\n",
      "  Downloading google_auth_oauthlib-0.4.6-py2.py3-none-any.whl (18 kB)\n",
      "Collecting absl-py>=0.4\n",
      "  Downloading absl_py-1.0.0-py3-none-any.whl (126 kB)\n",
      "\u001b[K     |████████████████████████████████| 126 kB 99.0 MB/s eta 0:00:01\n",
      "\u001b[?25hRequirement already satisfied: requests<3,>=2.21.0 in /opt/conda/envs/dkt/lib/python3.9/site-packages (from tensorboard>=2.5.0->recbole) (2.27.1)\n",
      "Collecting grpcio>=1.24.3\n",
      "  Downloading grpcio-1.44.0-cp39-cp39-manylinux_2_17_x86_64.manylinux2014_x86_64.whl (4.3 MB)\n",
      "\u001b[K     |████████████████████████████████| 4.3 MB 67.5 MB/s eta 0:00:01\n",
      "\u001b[?25hCollecting google-auth<3,>=1.6.3\n",
      "  Downloading google_auth-2.6.6-py2.py3-none-any.whl (156 kB)\n",
      "\u001b[K     |████████████████████████████████| 156 kB 92.4 MB/s eta 0:00:01\n",
      "\u001b[?25hCollecting markdown>=2.6.8\n",
      "  Downloading Markdown-3.3.6-py3-none-any.whl (97 kB)\n",
      "\u001b[K     |████████████████████████████████| 97 kB 15.7 MB/s eta 0:00:01\n",
      "\u001b[?25hRequirement already satisfied: protobuf>=3.6.0 in /opt/conda/envs/dkt/lib/python3.9/site-packages (from tensorboard>=2.5.0->recbole) (3.20.1)\n",
      "Requirement already satisfied: setuptools>=41.0.0 in /opt/conda/envs/dkt/lib/python3.9/site-packages (from tensorboard>=2.5.0->recbole) (61.2.0)\n",
      "Collecting pyasn1-modules>=0.2.1\n",
      "  Downloading pyasn1_modules-0.2.8-py2.py3-none-any.whl (155 kB)\n",
      "\u001b[K     |████████████████████████████████| 155 kB 99.4 MB/s eta 0:00:01\n",
      "\u001b[?25hCollecting rsa<5,>=3.1.4\n",
      "  Downloading rsa-4.8-py3-none-any.whl (39 kB)\n",
      "Collecting cachetools<6.0,>=2.0.0\n",
      "  Downloading cachetools-5.0.0-py3-none-any.whl (9.1 kB)\n",
      "Collecting requests-oauthlib>=0.7.0\n",
      "  Downloading requests_oauthlib-1.3.1-py2.py3-none-any.whl (23 kB)\n",
      "Collecting importlib-metadata>=4.4\n",
      "  Downloading importlib_metadata-4.11.3-py3-none-any.whl (18 kB)\n",
      "Collecting zipp>=0.5\n",
      "  Using cached zipp-3.8.0-py3-none-any.whl (5.4 kB)\n",
      "Collecting pyasn1<0.5.0,>=0.4.6\n",
      "  Downloading pyasn1-0.4.8-py2.py3-none-any.whl (77 kB)\n",
      "\u001b[K     |████████████████████████████████| 77 kB 14.1 MB/s eta 0:00:01\n",
      "\u001b[?25hRequirement already satisfied: charset-normalizer~=2.0.0 in /opt/conda/envs/dkt/lib/python3.9/site-packages (from requests<3,>=2.21.0->tensorboard>=2.5.0->recbole) (2.0.12)\n",
      "Requirement already satisfied: urllib3<1.27,>=1.21.1 in /opt/conda/envs/dkt/lib/python3.9/site-packages (from requests<3,>=2.21.0->tensorboard>=2.5.0->recbole) (1.26.9)\n",
      "Requirement already satisfied: idna<4,>=2.5 in /opt/conda/envs/dkt/lib/python3.9/site-packages (from requests<3,>=2.21.0->tensorboard>=2.5.0->recbole) (3.3)\n",
      "Requirement already satisfied: certifi>=2017.4.17 in /opt/conda/envs/dkt/lib/python3.9/site-packages (from requests<3,>=2.21.0->tensorboard>=2.5.0->recbole) (2021.10.8)\n",
      "Collecting oauthlib>=3.0.0\n",
      "  Downloading oauthlib-3.2.0-py3-none-any.whl (151 kB)\n",
      "\u001b[K     |████████████████████████████████| 151 kB 89.0 MB/s eta 0:00:01\n",
      "\u001b[?25hRequirement already satisfied: typing-extensions in /opt/conda/envs/dkt/lib/python3.9/site-packages (from torch>=1.7.0->recbole) (4.2.0)\n",
      "Installing collected packages: pyasn1, zipp, rsa, pyasn1-modules, oauthlib, cachetools, requests-oauthlib, importlib-metadata, google-auth, werkzeug, tensorboard-plugin-wit, tensorboard-data-server, scipy, markdown, grpcio, google-auth-oauthlib, absl-py, tensorboard, colorlog, colorama, recbole\n",
      "  Attempting uninstall: scipy\n",
      "    Found existing installation: scipy 1.8.0\n",
      "    Uninstalling scipy-1.8.0:\n",
      "      Successfully uninstalled scipy-1.8.0\n",
      "Successfully installed absl-py-1.0.0 cachetools-5.0.0 colorama-0.4.4 colorlog-4.7.2 google-auth-2.6.6 google-auth-oauthlib-0.4.6 grpcio-1.44.0 importlib-metadata-4.11.3 markdown-3.3.6 oauthlib-3.2.0 pyasn1-0.4.8 pyasn1-modules-0.2.8 recbole-1.0.1 requests-oauthlib-1.3.1 rsa-4.8 scipy-1.6.0 tensorboard-2.8.0 tensorboard-data-server-0.6.1 tensorboard-plugin-wit-1.8.1 werkzeug-2.1.1 zipp-3.8.0\n",
      "\u001b[33mWARNING: Running pip as the 'root' user can result in broken permissions and conflicting behaviour with the system package manager. It is recommended to use a virtual environment instead: https://pip.pypa.io/warnings/venv\u001b[0m\n"
     ]
    }
   ],
   "source": [
    "!pip install recbole"
   ]
  },
  {
   "cell_type": "markdown",
   "id": "6225c180",
   "metadata": {},
   "source": [
    "### Loading Library\n",
    "- 위에서 언급한 Recbole 함수를 로드"
   ]
  },
  {
   "cell_type": "code",
   "execution_count": 2,
   "id": "58e0f3ff",
   "metadata": {},
   "outputs": [],
   "source": [
    "from logging import getLogger\n",
    "import os\n",
    "import json\n",
    "import pandas as pd\n",
    "import time, datetime\n",
    "\n",
    "from recbole.model.general_recommender.lightgcn import LightGCN\n",
    "\n",
    "from recbole.config import Config\n",
    "from recbole.data import create_dataset, data_preparation\n",
    "from recbole.utils import init_logger, get_trainer, init_seed, set_color\n",
    "\n",
    "from recbole.config import Config\n",
    "from recbole.data import create_dataset\n",
    "\n",
    "from sklearn.metrics import accuracy_score, roc_auc_score\n",
    "\n",
    "import torch"
   ]
  },
  {
   "cell_type": "markdown",
   "id": "b688038e",
   "metadata": {},
   "source": [
    "### 데이터 로드"
   ]
  },
  {
   "cell_type": "code",
   "execution_count": 3,
   "id": "85353632",
   "metadata": {},
   "outputs": [],
   "source": [
    "train_data = pd.read_csv('/opt/ml/input/data/train_data.csv')\n",
    "test_data  = pd.read_csv('/opt/ml/input/data/test_data.csv')"
   ]
  },
  {
   "cell_type": "markdown",
   "id": "283c5ad5",
   "metadata": {},
   "source": [
    "데이터 통합\n",
    "- GNN에서 학습되지 않은 노드에 대해 계산 할 수 없음\n",
    "- 기존 데이터셋에서 테스트 데이터셋의 사용자는 학습 데이터셋에 포함되어 있지 않음\n",
    "- 이에 따라 모든 데이터를 통합하여 사용하도록 함"
   ]
  },
  {
   "cell_type": "code",
   "execution_count": 4,
   "id": "306834c3",
   "metadata": {},
   "outputs": [],
   "source": [
    "data = pd.concat([train_data, test_data])"
   ]
  },
  {
   "cell_type": "markdown",
   "id": "e36a8535",
   "metadata": {},
   "source": [
    "### 데이터 구성\n",
    "\n",
    "- 데이터는 학습 데이터셋과 테스트 데이터셋으로 구분되어 있다.\n",
    "- 각 데이터에는 userID, assessmentItemID, testId, answerCode, Timestamp, KnowledgeTag의 정보가 있다.\n",
    "- 여기서 assessmentItemID는 문제의 고유 ID이며, answerCode는 사용자가 해당 문제의 정답을 맞췄는지 여부로, 맞췄으면 1, 틀렸으면 0으로 표기된다.\n",
    "- 기본적인 협업 필터링 적용을 위해 본 실습에서는 userID, assessmentItemID, answerCode만을 사용한다."
   ]
  },
  {
   "cell_type": "code",
   "execution_count": 5,
   "id": "c83fd2ba",
   "metadata": {},
   "outputs": [
    {
     "name": "stdout",
     "output_type": "stream",
     "text": [
      "Train dataset\n"
     ]
    },
    {
     "data": {
      "text/html": [
       "<div>\n",
       "<style scoped>\n",
       "    .dataframe tbody tr th:only-of-type {\n",
       "        vertical-align: middle;\n",
       "    }\n",
       "\n",
       "    .dataframe tbody tr th {\n",
       "        vertical-align: top;\n",
       "    }\n",
       "\n",
       "    .dataframe thead th {\n",
       "        text-align: right;\n",
       "    }\n",
       "</style>\n",
       "<table border=\"1\" class=\"dataframe\">\n",
       "  <thead>\n",
       "    <tr style=\"text-align: right;\">\n",
       "      <th></th>\n",
       "      <th>userID</th>\n",
       "      <th>assessmentItemID</th>\n",
       "      <th>testId</th>\n",
       "      <th>answerCode</th>\n",
       "      <th>Timestamp</th>\n",
       "      <th>KnowledgeTag</th>\n",
       "    </tr>\n",
       "  </thead>\n",
       "  <tbody>\n",
       "    <tr>\n",
       "      <th>0</th>\n",
       "      <td>0</td>\n",
       "      <td>A060001001</td>\n",
       "      <td>A060000001</td>\n",
       "      <td>1</td>\n",
       "      <td>2020-03-24 00:17:11</td>\n",
       "      <td>7224</td>\n",
       "    </tr>\n",
       "    <tr>\n",
       "      <th>1</th>\n",
       "      <td>0</td>\n",
       "      <td>A060001002</td>\n",
       "      <td>A060000001</td>\n",
       "      <td>1</td>\n",
       "      <td>2020-03-24 00:17:14</td>\n",
       "      <td>7225</td>\n",
       "    </tr>\n",
       "    <tr>\n",
       "      <th>2</th>\n",
       "      <td>0</td>\n",
       "      <td>A060001003</td>\n",
       "      <td>A060000001</td>\n",
       "      <td>1</td>\n",
       "      <td>2020-03-24 00:17:22</td>\n",
       "      <td>7225</td>\n",
       "    </tr>\n",
       "    <tr>\n",
       "      <th>3</th>\n",
       "      <td>0</td>\n",
       "      <td>A060001004</td>\n",
       "      <td>A060000001</td>\n",
       "      <td>1</td>\n",
       "      <td>2020-03-24 00:17:29</td>\n",
       "      <td>7225</td>\n",
       "    </tr>\n",
       "    <tr>\n",
       "      <th>4</th>\n",
       "      <td>0</td>\n",
       "      <td>A060001005</td>\n",
       "      <td>A060000001</td>\n",
       "      <td>1</td>\n",
       "      <td>2020-03-24 00:17:36</td>\n",
       "      <td>7225</td>\n",
       "    </tr>\n",
       "  </tbody>\n",
       "</table>\n",
       "</div>"
      ],
      "text/plain": [
       "   userID assessmentItemID      testId  answerCode            Timestamp  \\\n",
       "0       0       A060001001  A060000001           1  2020-03-24 00:17:11   \n",
       "1       0       A060001002  A060000001           1  2020-03-24 00:17:14   \n",
       "2       0       A060001003  A060000001           1  2020-03-24 00:17:22   \n",
       "3       0       A060001004  A060000001           1  2020-03-24 00:17:29   \n",
       "4       0       A060001005  A060000001           1  2020-03-24 00:17:36   \n",
       "\n",
       "   KnowledgeTag  \n",
       "0          7224  \n",
       "1          7225  \n",
       "2          7225  \n",
       "3          7225  \n",
       "4          7225  "
      ]
     },
     "metadata": {},
     "output_type": "display_data"
    },
    {
     "name": "stdout",
     "output_type": "stream",
     "text": [
      " Num. Users    : 7442\n",
      " Max. UserID   : 7441\n",
      " Num. Items    : 9454\n",
      " Num. Records  : 2266586\n"
     ]
    }
   ],
   "source": [
    "userid, itemid = list(set(data.userID)), list(set(data.assessmentItemID))\n",
    "n_user, n_item = len(userid), len(itemid)\n",
    "\n",
    "print(f\"Train dataset\")\n",
    "display(data.head(5))\n",
    "print(f\" Num. Users    : {n_user}\")\n",
    "print(f\" Max. UserID   : {max(userid)}\")\n",
    "print(f\" Num. Items    : {n_item}\")\n",
    "print(f\" Num. Records  : {len(train_data)}\")"
   ]
  },
  {
   "cell_type": "markdown",
   "id": "0a3fb752",
   "metadata": {},
   "source": [
    "### 데이터 전처리"
   ]
  },
  {
   "cell_type": "markdown",
   "id": "1bca4154",
   "metadata": {},
   "source": [
    "중복 레코드 제거\n",
    " - RS 모델에서는 시간에 따른 변화를 고려하지 않기 때문에 최종 성적만을 바탕으로 평가한다.\n",
    " - 사용자+문제항목을 Unique key로 하여 최종 레코드만을 보존하고 나머지 제거한다."
   ]
  },
  {
   "cell_type": "code",
   "execution_count": 8,
   "id": "b8181d58",
   "metadata": {},
   "outputs": [],
   "source": [
    "data.drop_duplicates(subset = [\"userID\", \"assessmentItemID\"],\n",
    "                     keep = \"last\", inplace = True)"
   ]
  },
  {
   "cell_type": "markdown",
   "id": "a5dc7776",
   "metadata": {},
   "source": [
    "평가 항목 제거\n",
    "- 테스트 데이터셋에서 answerCode가 -1인 항목은 최종 평가시 사용되는 항목으로 여기에선 사용할 수 없다.\n",
    "- 아래 결과에서와 같이 User, Item 수는 변화 없이 총 레코드 수만 변한다."
   ]
  },
  {
   "cell_type": "code",
   "execution_count": 10,
   "id": "43a792fb",
   "metadata": {},
   "outputs": [
    {
     "data": {
      "text/html": [
       "<div>\n",
       "<style scoped>\n",
       "    .dataframe tbody tr th:only-of-type {\n",
       "        vertical-align: middle;\n",
       "    }\n",
       "\n",
       "    .dataframe tbody tr th {\n",
       "        vertical-align: top;\n",
       "    }\n",
       "\n",
       "    .dataframe thead th {\n",
       "        text-align: right;\n",
       "    }\n",
       "</style>\n",
       "<table border=\"1\" class=\"dataframe\">\n",
       "  <thead>\n",
       "    <tr style=\"text-align: right;\">\n",
       "      <th></th>\n",
       "      <th>userID</th>\n",
       "      <th>assessmentItemID</th>\n",
       "      <th>testId</th>\n",
       "      <th>answerCode</th>\n",
       "      <th>Timestamp</th>\n",
       "      <th>KnowledgeTag</th>\n",
       "    </tr>\n",
       "  </thead>\n",
       "  <tbody>\n",
       "    <tr>\n",
       "      <th>260108</th>\n",
       "      <td>7439</td>\n",
       "      <td>A040197006</td>\n",
       "      <td>A040000197</td>\n",
       "      <td>1</td>\n",
       "      <td>2020-08-21 07:39:45</td>\n",
       "      <td>2132</td>\n",
       "    </tr>\n",
       "    <tr>\n",
       "      <th>260109</th>\n",
       "      <td>7439</td>\n",
       "      <td>A040130001</td>\n",
       "      <td>A040000130</td>\n",
       "      <td>0</td>\n",
       "      <td>2020-10-14 23:07:23</td>\n",
       "      <td>8832</td>\n",
       "    </tr>\n",
       "    <tr>\n",
       "      <th>260110</th>\n",
       "      <td>7439</td>\n",
       "      <td>A040130002</td>\n",
       "      <td>A040000130</td>\n",
       "      <td>1</td>\n",
       "      <td>2020-10-14 23:07:41</td>\n",
       "      <td>8832</td>\n",
       "    </tr>\n",
       "    <tr>\n",
       "      <th>260111</th>\n",
       "      <td>7439</td>\n",
       "      <td>A040130003</td>\n",
       "      <td>A040000130</td>\n",
       "      <td>1</td>\n",
       "      <td>2020-10-14 23:08:02</td>\n",
       "      <td>8244</td>\n",
       "    </tr>\n",
       "    <tr>\n",
       "      <th>260112</th>\n",
       "      <td>7439</td>\n",
       "      <td>A040130004</td>\n",
       "      <td>A040000130</td>\n",
       "      <td>1</td>\n",
       "      <td>2020-10-14 23:09:31</td>\n",
       "      <td>8244</td>\n",
       "    </tr>\n",
       "  </tbody>\n",
       "</table>\n",
       "</div>"
      ],
      "text/plain": [
       "        userID assessmentItemID      testId  answerCode            Timestamp  \\\n",
       "260108    7439       A040197006  A040000197           1  2020-08-21 07:39:45   \n",
       "260109    7439       A040130001  A040000130           0  2020-10-14 23:07:23   \n",
       "260110    7439       A040130002  A040000130           1  2020-10-14 23:07:41   \n",
       "260111    7439       A040130003  A040000130           1  2020-10-14 23:08:02   \n",
       "260112    7439       A040130004  A040000130           1  2020-10-14 23:09:31   \n",
       "\n",
       "        KnowledgeTag  \n",
       "260108          2132  \n",
       "260109          8832  \n",
       "260110          8832  \n",
       "260111          8244  \n",
       "260112          8244  "
      ]
     },
     "metadata": {},
     "output_type": "display_data"
    },
    {
     "name": "stdout",
     "output_type": "stream",
     "text": [
      " Num. Users    : 7442->7442\n",
      " Max. UserID   : 7441\n",
      " Num. Items    : 9454->9454\n",
      " Num. Records  : 2476706->2475962\n"
     ]
    }
   ],
   "source": [
    "data_old = data.copy()\n",
    "n_user_old, n_item_old = n_user, n_item\n",
    "\n",
    "data  = data[data.answerCode>=0].copy()\n",
    "\n",
    "userid, itemid = list(set(data.userID)), list(set(data.assessmentItemID))\n",
    "n_user, n_item = len(userid), len(itemid)\n",
    "\n",
    "display(data.tail(5))\n",
    "print(f\" Num. Users    : {n_user}->{n_user}\")\n",
    "print(f\" Max. UserID   : {max(userid)}\")\n",
    "print(f\" Num. Items    : {n_item}->{n_item}\")\n",
    "print(f\" Num. Records  : {len(data_old)}->{len(data)}\")"
   ]
  },
  {
   "cell_type": "markdown",
   "id": "168bbb34",
   "metadata": {},
   "source": [
    "평가 항목 신규 생성\n",
    "- 남은 테스트 항목 중, 각 사용자별 최종 레코드를 새로운 평가 항목으로 정한다."
   ]
  },
  {
   "cell_type": "code",
   "execution_count": 11,
   "id": "797ee154",
   "metadata": {},
   "outputs": [
    {
     "data": {
      "text/html": [
       "<div>\n",
       "<style scoped>\n",
       "    .dataframe tbody tr th:only-of-type {\n",
       "        vertical-align: middle;\n",
       "    }\n",
       "\n",
       "    .dataframe tbody tr th {\n",
       "        vertical-align: top;\n",
       "    }\n",
       "\n",
       "    .dataframe thead th {\n",
       "        text-align: right;\n",
       "    }\n",
       "</style>\n",
       "<table border=\"1\" class=\"dataframe\">\n",
       "  <thead>\n",
       "    <tr style=\"text-align: right;\">\n",
       "      <th></th>\n",
       "      <th>userID</th>\n",
       "      <th>assessmentItemID</th>\n",
       "      <th>testId</th>\n",
       "      <th>answerCode</th>\n",
       "      <th>Timestamp</th>\n",
       "      <th>KnowledgeTag</th>\n",
       "    </tr>\n",
       "  </thead>\n",
       "  <tbody>\n",
       "    <tr>\n",
       "      <th>744</th>\n",
       "      <td>0</td>\n",
       "      <td>A080129006</td>\n",
       "      <td>A080000129</td>\n",
       "      <td>0</td>\n",
       "      <td>2020-12-23 03:40:19</td>\n",
       "      <td>2725</td>\n",
       "    </tr>\n",
       "    <tr>\n",
       "      <th>1677</th>\n",
       "      <td>1</td>\n",
       "      <td>A090074006</td>\n",
       "      <td>A090000074</td>\n",
       "      <td>1</td>\n",
       "      <td>2020-11-13 02:47:20</td>\n",
       "      <td>2648</td>\n",
       "    </tr>\n",
       "    <tr>\n",
       "      <th>1953</th>\n",
       "      <td>2</td>\n",
       "      <td>A050139007</td>\n",
       "      <td>A050000139</td>\n",
       "      <td>0</td>\n",
       "      <td>2020-10-20 11:32:26</td>\n",
       "      <td>428</td>\n",
       "    </tr>\n",
       "    <tr>\n",
       "      <th>2786</th>\n",
       "      <td>5</td>\n",
       "      <td>A080138007</td>\n",
       "      <td>A080000138</td>\n",
       "      <td>1</td>\n",
       "      <td>2020-12-11 22:48:28</td>\n",
       "      <td>8431</td>\n",
       "    </tr>\n",
       "    <tr>\n",
       "      <th>3707</th>\n",
       "      <td>6</td>\n",
       "      <td>A030145005</td>\n",
       "      <td>A030000145</td>\n",
       "      <td>0</td>\n",
       "      <td>2020-10-26 09:52:14</td>\n",
       "      <td>7817</td>\n",
       "    </tr>\n",
       "  </tbody>\n",
       "</table>\n",
       "</div>"
      ],
      "text/plain": [
       "      userID assessmentItemID      testId  answerCode            Timestamp  \\\n",
       "744        0       A080129006  A080000129           0  2020-12-23 03:40:19   \n",
       "1677       1       A090074006  A090000074           1  2020-11-13 02:47:20   \n",
       "1953       2       A050139007  A050000139           0  2020-10-20 11:32:26   \n",
       "2786       5       A080138007  A080000138           1  2020-12-11 22:48:28   \n",
       "3707       6       A030145005  A030000145           0  2020-10-26 09:52:14   \n",
       "\n",
       "      KnowledgeTag  \n",
       "744           2725  \n",
       "1677          2648  \n",
       "1953           428  \n",
       "2786          8431  \n",
       "3707          7817  "
      ]
     },
     "metadata": {},
     "output_type": "display_data"
    },
    {
     "data": {
      "text/html": [
       "<div>\n",
       "<style scoped>\n",
       "    .dataframe tbody tr th:only-of-type {\n",
       "        vertical-align: middle;\n",
       "    }\n",
       "\n",
       "    .dataframe tbody tr th {\n",
       "        vertical-align: top;\n",
       "    }\n",
       "\n",
       "    .dataframe thead th {\n",
       "        text-align: right;\n",
       "    }\n",
       "</style>\n",
       "<table border=\"1\" class=\"dataframe\">\n",
       "  <thead>\n",
       "    <tr style=\"text-align: right;\">\n",
       "      <th></th>\n",
       "      <th>userID</th>\n",
       "      <th>assessmentItemID</th>\n",
       "      <th>testId</th>\n",
       "      <th>answerCode</th>\n",
       "      <th>Timestamp</th>\n",
       "      <th>KnowledgeTag</th>\n",
       "    </tr>\n",
       "  </thead>\n",
       "  <tbody>\n",
       "    <tr>\n",
       "      <th>260051</th>\n",
       "      <td>7395</td>\n",
       "      <td>A040122004</td>\n",
       "      <td>A040000122</td>\n",
       "      <td>0</td>\n",
       "      <td>2020-09-08 02:05:18</td>\n",
       "      <td>2102</td>\n",
       "    </tr>\n",
       "    <tr>\n",
       "      <th>260066</th>\n",
       "      <td>7404</td>\n",
       "      <td>A030111004</td>\n",
       "      <td>A030000111</td>\n",
       "      <td>1</td>\n",
       "      <td>2020-10-13 09:47:31</td>\n",
       "      <td>7636</td>\n",
       "    </tr>\n",
       "    <tr>\n",
       "      <th>260081</th>\n",
       "      <td>7416</td>\n",
       "      <td>A050193003</td>\n",
       "      <td>A050000193</td>\n",
       "      <td>0</td>\n",
       "      <td>2020-10-04 02:44:17</td>\n",
       "      <td>10402</td>\n",
       "    </tr>\n",
       "    <tr>\n",
       "      <th>260096</th>\n",
       "      <td>7417</td>\n",
       "      <td>A050193003</td>\n",
       "      <td>A050000193</td>\n",
       "      <td>0</td>\n",
       "      <td>2020-09-06 13:08:54</td>\n",
       "      <td>10402</td>\n",
       "    </tr>\n",
       "    <tr>\n",
       "      <th>260112</th>\n",
       "      <td>7439</td>\n",
       "      <td>A040130004</td>\n",
       "      <td>A040000130</td>\n",
       "      <td>1</td>\n",
       "      <td>2020-10-14 23:09:31</td>\n",
       "      <td>8244</td>\n",
       "    </tr>\n",
       "  </tbody>\n",
       "</table>\n",
       "</div>"
      ],
      "text/plain": [
       "        userID assessmentItemID      testId  answerCode            Timestamp  \\\n",
       "260051    7395       A040122004  A040000122           0  2020-09-08 02:05:18   \n",
       "260066    7404       A030111004  A030000111           1  2020-10-13 09:47:31   \n",
       "260081    7416       A050193003  A050000193           0  2020-10-04 02:44:17   \n",
       "260096    7417       A050193003  A050000193           0  2020-09-06 13:08:54   \n",
       "260112    7439       A040130004  A040000130           1  2020-10-14 23:09:31   \n",
       "\n",
       "        KnowledgeTag  \n",
       "260051          2102  \n",
       "260066          7636  \n",
       "260081         10402  \n",
       "260096         10402  \n",
       "260112          8244  "
      ]
     },
     "metadata": {},
     "output_type": "display_data"
    },
    {
     "name": "stdout",
     "output_type": "stream",
     "text": [
      " Num. Records  : 7442\n"
     ]
    }
   ],
   "source": [
    "eval_data = data.copy()\n",
    "eval_data.drop_duplicates(subset = [\"userID\"],\n",
    "                     keep = \"last\", inplace = True)\n",
    "display(eval_data.head(5))\n",
    "display(eval_data.tail(5))\n",
    "print(f\" Num. Records  : {len(eval_data)}\")"
   ]
  },
  {
   "cell_type": "markdown",
   "id": "104d2350",
   "metadata": {},
   "source": [
    "평가 항목을 테스트 항목에서 제거한다."
   ]
  },
  {
   "cell_type": "code",
   "execution_count": 12,
   "id": "7e7a8bac",
   "metadata": {},
   "outputs": [
    {
     "data": {
      "text/html": [
       "<div>\n",
       "<style scoped>\n",
       "    .dataframe tbody tr th:only-of-type {\n",
       "        vertical-align: middle;\n",
       "    }\n",
       "\n",
       "    .dataframe tbody tr th {\n",
       "        vertical-align: top;\n",
       "    }\n",
       "\n",
       "    .dataframe thead th {\n",
       "        text-align: right;\n",
       "    }\n",
       "</style>\n",
       "<table border=\"1\" class=\"dataframe\">\n",
       "  <thead>\n",
       "    <tr style=\"text-align: right;\">\n",
       "      <th></th>\n",
       "      <th>userID</th>\n",
       "      <th>assessmentItemID</th>\n",
       "      <th>testId</th>\n",
       "      <th>answerCode</th>\n",
       "      <th>Timestamp</th>\n",
       "      <th>KnowledgeTag</th>\n",
       "    </tr>\n",
       "  </thead>\n",
       "  <tbody>\n",
       "    <tr>\n",
       "      <th>260107</th>\n",
       "      <td>7439</td>\n",
       "      <td>A040197005</td>\n",
       "      <td>A040000197</td>\n",
       "      <td>0</td>\n",
       "      <td>2020-08-21 07:39:40</td>\n",
       "      <td>2132</td>\n",
       "    </tr>\n",
       "    <tr>\n",
       "      <th>260108</th>\n",
       "      <td>7439</td>\n",
       "      <td>A040197006</td>\n",
       "      <td>A040000197</td>\n",
       "      <td>1</td>\n",
       "      <td>2020-08-21 07:39:45</td>\n",
       "      <td>2132</td>\n",
       "    </tr>\n",
       "    <tr>\n",
       "      <th>260109</th>\n",
       "      <td>7439</td>\n",
       "      <td>A040130001</td>\n",
       "      <td>A040000130</td>\n",
       "      <td>0</td>\n",
       "      <td>2020-10-14 23:07:23</td>\n",
       "      <td>8832</td>\n",
       "    </tr>\n",
       "    <tr>\n",
       "      <th>260110</th>\n",
       "      <td>7439</td>\n",
       "      <td>A040130002</td>\n",
       "      <td>A040000130</td>\n",
       "      <td>1</td>\n",
       "      <td>2020-10-14 23:07:41</td>\n",
       "      <td>8832</td>\n",
       "    </tr>\n",
       "    <tr>\n",
       "      <th>260111</th>\n",
       "      <td>7439</td>\n",
       "      <td>A040130003</td>\n",
       "      <td>A040000130</td>\n",
       "      <td>1</td>\n",
       "      <td>2020-10-14 23:08:02</td>\n",
       "      <td>8244</td>\n",
       "    </tr>\n",
       "  </tbody>\n",
       "</table>\n",
       "</div>"
      ],
      "text/plain": [
       "        userID assessmentItemID      testId  answerCode            Timestamp  \\\n",
       "260107    7439       A040197005  A040000197           0  2020-08-21 07:39:40   \n",
       "260108    7439       A040197006  A040000197           1  2020-08-21 07:39:45   \n",
       "260109    7439       A040130001  A040000130           0  2020-10-14 23:07:23   \n",
       "260110    7439       A040130002  A040000130           1  2020-10-14 23:07:41   \n",
       "260111    7439       A040130003  A040000130           1  2020-10-14 23:08:02   \n",
       "\n",
       "        KnowledgeTag  \n",
       "260107          2132  \n",
       "260108          2132  \n",
       "260109          8832  \n",
       "260110          8832  \n",
       "260111          8244  "
      ]
     },
     "metadata": {},
     "output_type": "display_data"
    },
    {
     "name": "stdout",
     "output_type": "stream",
     "text": [
      " Num. Records  : 2467499\n"
     ]
    }
   ],
   "source": [
    "data.drop(index=eval_data.index, inplace=True, errors='ignore')\n",
    "display(data.tail(5))\n",
    "print(f\" Num. Records  : {len(data)}\")"
   ]
  },
  {
   "cell_type": "markdown",
   "id": "e77aa92f",
   "metadata": {},
   "source": [
    "### 데이터 파일 변환\n",
    "- 기존 데이터 파일을 recbole 데이터 파일로 변환"
   ]
  },
  {
   "cell_type": "markdown",
   "id": "48955e38",
   "metadata": {},
   "source": [
    "사용자, 아이템 ID를 index로 변환"
   ]
  },
  {
   "cell_type": "code",
   "execution_count": 13,
   "id": "da1b5895",
   "metadata": {},
   "outputs": [],
   "source": [
    "userid, itemid = sorted(list(set(data.userID))), sorted(list(set(data.assessmentItemID)))\n",
    "n_user, n_item = len(userid), len(itemid)\n",
    "\n",
    "userid_2_index = {v:i        for i,v in enumerate(userid)}\n",
    "itemid_2_index = {v:i+n_user for i,v in enumerate(itemid)}\n",
    "id_2_index = dict(userid_2_index, **itemid_2_index)"
   ]
  },
  {
   "cell_type": "markdown",
   "id": "d489b763",
   "metadata": {},
   "source": [
    "데이터 설정 파일 내용 정의"
   ]
  },
  {
   "cell_type": "code",
   "execution_count": 15,
   "id": "10c30c8d",
   "metadata": {},
   "outputs": [],
   "source": [
    "yamldata = \"\"\"\n",
    "USER_ID_FIELD: user_id\n",
    "ITEM_ID_FIELD: item_id\n",
    "RATING_FIELD: rating\n",
    "TIME_FIELD: timestamp\n",
    "\n",
    "load_col:\n",
    "    inter: [user_id, item_id, rating, timestamp]\n",
    "\n",
    "user_inter_num_interval: \"[0,inf)\"\n",
    "item_inter_num_interval: \"[0,inf)\"\n",
    "val_interval:\n",
    "    rating: \"[0,1]\"\n",
    "    timestamp: \"[97830000, inf)\"\n",
    "\"\"\""
   ]
  },
  {
   "cell_type": "markdown",
   "id": "abda220f",
   "metadata": {},
   "source": [
    "학습데이터 저장"
   ]
  },
  {
   "cell_type": "code",
   "execution_count": 16,
   "id": "ba936814",
   "metadata": {},
   "outputs": [
    {
     "name": "stdout",
     "output_type": "stream",
     "text": [
      "Processing Start\n",
      "Processing Complete\n",
      "Dump Start\n",
      "Dump Complete\n"
     ]
    }
   ],
   "source": [
    "outpath = f\"dataset/train_data\"\n",
    "outfile = f\"dataset/train_data/train_data.inter\"\n",
    "yamlfile = f\"train_data.yaml\"\n",
    "\n",
    "os.makedirs(outpath, exist_ok=True)\n",
    "\n",
    "print(\"Processing Start\")\n",
    "inter_table = []\n",
    "for user, item, acode, tstamp in zip(data.userID, data.assessmentItemID, data.answerCode, data.Timestamp):\n",
    "    uid, iid = id_2_index[user], id_2_index[item]\n",
    "    tval = int(time.mktime(datetime.datetime.strptime(tstamp, \"%Y-%m-%d %H:%M:%S\").timetuple()))\n",
    "    inter_table.append( [uid, iid, max(acode,0), tval] )\n",
    "\n",
    "print(\"Processing Complete\")\n",
    "\n",
    "print(\"Dump Start\")\n",
    "# 데이터 설정 파일 저장\n",
    "with open(yamlfile, \"w\") as f:\n",
    "    f.write(yamldata) \n",
    "\n",
    "# 데이터 파일 저장\n",
    "with open(outfile, \"w\") as f:\n",
    "    # write header\n",
    "    f.write(\"user_id:token\\titem_id:token\\trating:float\\ttimestamp:float\\n\")\n",
    "    for row in inter_table:\n",
    "        f.write(\"\\t\".join([str(x) for x in row])+\"\\n\")\n",
    "\n",
    "print(\"Dump Complete\")"
   ]
  },
  {
   "cell_type": "markdown",
   "id": "6b704c7c",
   "metadata": {},
   "source": [
    "평가 데이터 저장"
   ]
  },
  {
   "cell_type": "code",
   "execution_count": 17,
   "id": "53345c44",
   "metadata": {},
   "outputs": [
    {
     "name": "stdout",
     "output_type": "stream",
     "text": [
      "Processing Start\n",
      "Processing Complete\n",
      "Dump Start\n",
      "Dump Complete\n"
     ]
    }
   ],
   "source": [
    "outpath = f\"dataset/test_data\"\n",
    "outfile = f\"dataset/test_data/test_data.inter\"\n",
    "yamlfile = f\"test_data.yaml\"\n",
    "\n",
    "os.makedirs(outpath, exist_ok=True)\n",
    "\n",
    "print(\"Processing Start\")\n",
    "inter_table = []\n",
    "for user, item, acode, tstamp in zip(eval_data.userID, eval_data.assessmentItemID, eval_data.answerCode, eval_data.Timestamp):\n",
    "    uid, iid = id_2_index[user], id_2_index[item]\n",
    "    tval = int(time.mktime(datetime.datetime.strptime(tstamp, \"%Y-%m-%d %H:%M:%S\").timetuple()))\n",
    "    inter_table.append( [uid, iid, max(acode,0), tval] )\n",
    "\n",
    "print(\"Processing Complete\")\n",
    "\n",
    "print(\"Dump Start\")\n",
    "# 데이터 설정 파일 저장\n",
    "with open(yamlfile, \"w\") as f:\n",
    "    f.write(yamldata) \n",
    "\n",
    "# 데이터 파일 저장\n",
    "with open(outfile, \"w\") as f:\n",
    "    # write header\n",
    "    f.write(\"user_id:token\\titem_id:token\\trating:float\\ttimestamp:float\\n\")\n",
    "    for row in inter_table:\n",
    "        f.write(\"\\t\".join([str(x) for x in row])+\"\\n\")\n",
    "\n",
    "print(\"Dump Complete\")"
   ]
  },
  {
   "cell_type": "markdown",
   "id": "034ae9cb",
   "metadata": {},
   "source": [
    "## 🎯 LightGCN 학습"
   ]
  },
  {
   "cell_type": "markdown",
   "id": "4a486f71",
   "metadata": {},
   "source": [
    "### 로거 생성"
   ]
  },
  {
   "cell_type": "code",
   "execution_count": 18,
   "id": "db7fc24f",
   "metadata": {},
   "outputs": [],
   "source": [
    "logger = getLogger()"
   ]
  },
  {
   "cell_type": "markdown",
   "id": "f8070421",
   "metadata": {},
   "source": [
    "### 설정 인스턴스 생성"
   ]
  },
  {
   "cell_type": "code",
   "execution_count": 40,
   "id": "234249f6",
   "metadata": {},
   "outputs": [
    {
     "name": "stderr",
     "output_type": "stream",
     "text": [
      "27 Apr 04:33    INFO  \n",
      "General Hyper Parameters:\n",
      "gpu_id = 0\n",
      "use_gpu = True\n",
      "seed = 2020\n",
      "state = INFO\n",
      "reproducibility = True\n",
      "data_path = dataset/train_data\n",
      "checkpoint_dir = saved\n",
      "show_progress = False\n",
      "save_dataset = False\n",
      "dataset_save_path = None\n",
      "save_dataloaders = False\n",
      "dataloaders_save_path = None\n",
      "log_wandb = False\n",
      "\n",
      "Training Hyper Parameters:\n",
      "epochs = 1\n",
      "train_batch_size = 2048\n",
      "learner = adam\n",
      "learning_rate = 0.001\n",
      "neg_sampling = {'uniform': 1}\n",
      "eval_step = 1\n",
      "stopping_step = 10\n",
      "clip_grad_norm = None\n",
      "weight_decay = 0.0\n",
      "loss_decimal_place = 4\n",
      "\n",
      "Evaluation Hyper Parameters:\n",
      "eval_args = {'split': {'RS': [0.8, 0.1, 0.1]}, 'group_by': 'user', 'order': 'RO', 'mode': 'full'}\n",
      "repeatable = False\n",
      "metrics = ['Recall', 'MRR', 'NDCG', 'Hit', 'Precision']\n",
      "topk = [10]\n",
      "valid_metric = MRR@10\n",
      "valid_metric_bigger = True\n",
      "eval_batch_size = 4096\n",
      "metric_decimal_place = 4\n",
      "\n",
      "Dataset Hyper Parameters:\n",
      "field_separator = \t\n",
      "seq_separator =  \n",
      "USER_ID_FIELD = user_id\n",
      "ITEM_ID_FIELD = item_id\n",
      "RATING_FIELD = rating\n",
      "TIME_FIELD = timestamp\n",
      "seq_len = None\n",
      "LABEL_FIELD = label\n",
      "threshold = None\n",
      "NEG_PREFIX = neg_\n",
      "load_col = {'inter': ['user_id', 'item_id', 'rating', 'timestamp']}\n",
      "unload_col = None\n",
      "unused_col = None\n",
      "additional_feat_suffix = None\n",
      "rm_dup_inter = None\n",
      "val_interval = {'rating': '[0,1]', 'timestamp': '[97830000, inf)'}\n",
      "filter_inter_by_user_or_item = True\n",
      "user_inter_num_interval = [0,inf)\n",
      "item_inter_num_interval = [0,inf)\n",
      "alias_of_user_id = None\n",
      "alias_of_item_id = None\n",
      "alias_of_entity_id = None\n",
      "alias_of_relation_id = None\n",
      "preload_weight = None\n",
      "normalize_field = None\n",
      "normalize_all = None\n",
      "ITEM_LIST_LENGTH_FIELD = item_length\n",
      "LIST_SUFFIX = _list\n",
      "MAX_ITEM_LIST_LENGTH = 50\n",
      "POSITION_FIELD = position_id\n",
      "HEAD_ENTITY_ID_FIELD = head_id\n",
      "TAIL_ENTITY_ID_FIELD = tail_id\n",
      "RELATION_ID_FIELD = relation_id\n",
      "ENTITY_ID_FIELD = entity_id\n",
      "benchmark_filename = None\n",
      "\n",
      "Other Hyper Parameters: \n",
      "wandb_project = recbole\n",
      "require_pow = False\n",
      "embedding_size = 64\n",
      "n_layers = 2\n",
      "reg_weight = 1e-05\n",
      "MODEL_TYPE = ModelType.GENERAL\n",
      "MODEL_INPUT_TYPE = InputType.PAIRWISE\n",
      "eval_type = EvaluatorType.RANKING\n",
      "device = cuda\n",
      "train_neg_sample_args = {'strategy': 'by', 'by': 1, 'distribution': 'uniform', 'dynamic': 'none'}\n",
      "eval_neg_sample_args = {'strategy': 'full', 'distribution': 'uniform'}\n",
      "\n",
      "\n"
     ]
    }
   ],
   "source": [
    "# configurations initialization\n",
    "config = Config(model='LightGCN', dataset=\"train_data\", config_file_list=[f'train_data.yaml'])\n",
    "config['epochs'] = 1\n",
    "config['show_progress'] = False\n",
    "config['device'] = \"cuda\" if torch.cuda.is_available() else \"cpu\"\n",
    "init_seed(config['seed'], config['reproducibility'])\n",
    "# logger initialization\n",
    "init_logger(config)\n",
    "\n",
    "logger.info(config)"
   ]
  },
  {
   "cell_type": "markdown",
   "id": "bcc0c436",
   "metadata": {},
   "source": [
    "### 데이터 로드"
   ]
  },
  {
   "cell_type": "code",
   "execution_count": 41,
   "id": "d219c5bb",
   "metadata": {},
   "outputs": [
    {
     "name": "stderr",
     "output_type": "stream",
     "text": [
      "27 Apr 04:33    INFO  train_data\n",
      "The number of users: 7443\n",
      "Average actions of users: 331.5639613007256\n",
      "The number of items: 9455\n",
      "Average actions of items: 261.00052887666595\n",
      "The number of inters: 2467499\n",
      "The sparsity of the dataset: 96.49371322882392%\n",
      "Remain Fields: ['user_id', 'item_id', 'rating', 'timestamp']\n",
      "27 Apr 04:33    INFO  [Training]: train_batch_size = [2048] negative sampling: [{'uniform': 1}]\n",
      "27 Apr 04:33    INFO  [Evaluation]: eval_batch_size = [4096] eval_args: [{'split': {'RS': [0.8, 0.1, 0.1]}, 'group_by': 'user', 'order': 'RO', 'mode': 'full'}]\n"
     ]
    }
   ],
   "source": [
    "# dataset filtering\n",
    "dataset = create_dataset(config)\n",
    "logger.info(dataset)\n",
    "\n",
    "# dataset splitting\n",
    "train_data, valid_data, test_data = data_preparation(config, dataset)"
   ]
  },
  {
   "cell_type": "markdown",
   "id": "1c454256",
   "metadata": {},
   "source": [
    "### 모델 인스턴스 생성"
   ]
  },
  {
   "cell_type": "code",
   "execution_count": 42,
   "id": "df1ddbc3",
   "metadata": {},
   "outputs": [
    {
     "name": "stderr",
     "output_type": "stream",
     "text": [
      "27 Apr 04:33    INFO  LightGCN(\n",
      "  (user_embedding): Embedding(7443, 64)\n",
      "  (item_embedding): Embedding(9455, 64)\n",
      "  (mf_loss): BPRLoss()\n",
      "  (reg_loss): EmbLoss()\n",
      ")\n",
      "Trainable parameters: 1081472\n"
     ]
    }
   ],
   "source": [
    "# model loading and initialization\n",
    "init_seed(config['seed'], config['reproducibility'])\n",
    "model = LightGCN(config, train_data.dataset).to(config['device'])\n",
    "logger.info(model)"
   ]
  },
  {
   "cell_type": "markdown",
   "id": "9d463cbb",
   "metadata": {},
   "source": [
    "### 모델 학습"
   ]
  },
  {
   "cell_type": "code",
   "execution_count": 43,
   "id": "7c7972e5",
   "metadata": {},
   "outputs": [
    {
     "name": "stderr",
     "output_type": "stream",
     "text": [
      "27 Apr 04:34    INFO  epoch 0 training [time: 32.97s, train loss: 356.7059]\n",
      "27 Apr 04:34    INFO  epoch 0 evaluating [time: 6.48s, valid_score: 0.147800]\n",
      "27 Apr 04:34    INFO  valid result: \n",
      "recall@10 : 0.0173    mrr@10 : 0.1478    ndcg@10 : 0.0768    hit@10 : 0.3175    precision@10 : 0.0748\n",
      "27 Apr 04:34    INFO  Saving current: saved/LightGCN-Apr-27-2022_04-33-47.pth\n"
     ]
    }
   ],
   "source": [
    "# trainer loading and initialization\n",
    "trainer = get_trainer(config['MODEL_TYPE'], config['model'])(config, model)\n",
    "\n",
    "# model training\n",
    "best_valid_score, best_valid_result = trainer.fit(\n",
    "    train_data, valid_data, saved=True, show_progress=config['show_progress']\n",
    ")"
   ]
  },
  {
   "cell_type": "markdown",
   "id": "d5672f22",
   "metadata": {},
   "source": [
    "### 학습 결과 출력"
   ]
  },
  {
   "cell_type": "code",
   "execution_count": 44,
   "id": "b6452ec1",
   "metadata": {},
   "outputs": [
    {
     "name": "stderr",
     "output_type": "stream",
     "text": [
      "27 Apr 04:34    INFO  Loading model structure and parameters from saved/LightGCN-Apr-27-2022_04-33-47.pth\n",
      "27 Apr 04:34    INFO  best valid : OrderedDict([('recall@10', 0.0173), ('mrr@10', 0.1478), ('ndcg@10', 0.0768), ('hit@10', 0.3175), ('precision@10', 0.0748)])\n",
      "27 Apr 04:34    INFO  test result: OrderedDict([('recall@10', 0.0231), ('mrr@10', 0.1754), ('ndcg@10', 0.1103), ('hit@10', 0.3248), ('precision@10', 0.1071)])\n"
     ]
    },
    {
     "name": "stdout",
     "output_type": "stream",
     "text": [
      "{\n",
      "    \"best_valid_score\": 0.1478,\n",
      "    \"valid_score_bigger\": true,\n",
      "    \"best_valid_result\": {\n",
      "        \"recall@10\": 0.0173,\n",
      "        \"mrr@10\": 0.1478,\n",
      "        \"ndcg@10\": 0.0768,\n",
      "        \"hit@10\": 0.3175,\n",
      "        \"precision@10\": 0.0748\n",
      "    },\n",
      "    \"test_result\": {\n",
      "        \"recall@10\": 0.0231,\n",
      "        \"mrr@10\": 0.1754,\n",
      "        \"ndcg@10\": 0.1103,\n",
      "        \"hit@10\": 0.3248,\n",
      "        \"precision@10\": 0.1071\n",
      "    }\n",
      "}\n"
     ]
    }
   ],
   "source": [
    "# model evaluation\n",
    "test_result = trainer.evaluate(test_data, load_best_model=\"True\", show_progress=config['show_progress'])\n",
    "\n",
    "logger.info(set_color('best valid ', 'yellow') + f': {best_valid_result}')\n",
    "logger.info(set_color('test result', 'yellow') + f': {test_result}')\n",
    "\n",
    "result = {\n",
    "    'best_valid_score': best_valid_score,\n",
    "    'valid_score_bigger': config['valid_metric_bigger'],\n",
    "    'best_valid_result': best_valid_result,\n",
    "    'test_result': test_result\n",
    "}\n",
    "\n",
    "print(json.dumps(result, indent=4))"
   ]
  },
  {
   "cell_type": "markdown",
   "id": "b08e8b00",
   "metadata": {},
   "source": [
    "## 🎯 예측 및 평가"
   ]
  },
  {
   "cell_type": "markdown",
   "id": "babd4113",
   "metadata": {},
   "source": [
    "### 테스트 데이터 로드"
   ]
  },
  {
   "cell_type": "code",
   "execution_count": 45,
   "id": "0ca44cbb",
   "metadata": {},
   "outputs": [
    {
     "name": "stderr",
     "output_type": "stream",
     "text": [
      "27 Apr 04:34    INFO  test_data\n",
      "The number of users: 7443\n",
      "Average actions of users: 1.0\n",
      "The number of items: 1498\n",
      "Average actions of items: 4.97127588510354\n",
      "The number of inters: 7442\n",
      "The sparsity of the dataset: 99.93325329468806%\n",
      "Remain Fields: ['user_id', 'item_id', 'rating', 'timestamp']\n"
     ]
    }
   ],
   "source": [
    "# configurations initialization\n",
    "config = Config(model='LightGCN', dataset=\"test_data\", config_file_list=[f'test_data.yaml'])\n",
    "config['epochs'] = 1\n",
    "init_seed(config['seed'], config['reproducibility'])\n",
    "# logger initialization\n",
    "init_logger(config)\n",
    "\n",
    "# dataset filtering\n",
    "test_dataset = create_dataset(config)\n",
    "logger.info(test_dataset)"
   ]
  },
  {
   "cell_type": "markdown",
   "id": "2d5efa36",
   "metadata": {},
   "source": [
    "### 테스트 예측 및 평가"
   ]
  },
  {
   "cell_type": "code",
   "execution_count": 46,
   "id": "97536a76",
   "metadata": {},
   "outputs": [
    {
     "name": "stdout",
     "output_type": "stream",
     "text": [
      "Test data prediction\n",
      " - Accuracy = 32.88%\n",
      " - ROC-AUC  = 49.91%\n"
     ]
    }
   ],
   "source": [
    "# 성능 측정\n",
    "a_prob = model.predict(test_dataset).tolist()\n",
    "a_true = [val for val in test_dataset.inter_feat[\"rating\"]]\n",
    "a_pred = [round(v) for v in a_prob] \n",
    "\n",
    "print(\"Test data prediction\")\n",
    "print(f\" - Accuracy = {100*accuracy_score(a_true, a_pred):.2f}%\")\n",
    "print(f\" - ROC-AUC  = {100*roc_auc_score(a_true, a_prob):.2f}%\")"
   ]
  },
  {
   "cell_type": "markdown",
   "id": "e4a18a09",
   "metadata": {},
   "source": [
    "## Inference"
   ]
  },
  {
   "cell_type": "code",
   "execution_count": 66,
   "id": "07fbf862",
   "metadata": {},
   "outputs": [
    {
     "name": "stderr",
     "output_type": "stream",
     "text": [
      "/tmp/ipykernel_42659/4121924495.py:2: SettingWithCopyWarning: \n",
      "A value is trying to be set on a copy of a slice from a DataFrame.\n",
      "Try using .loc[row_indexer,col_indexer] = value instead\n",
      "\n",
      "See the caveats in the documentation: https://pandas.pydata.org/pandas-docs/stable/user_guide/indexing.html#returning-a-view-versus-a-copy\n",
      "  infer_df.answerCode = 0.5\n"
     ]
    },
    {
     "data": {
      "text/html": [
       "<div>\n",
       "<style scoped>\n",
       "    .dataframe tbody tr th:only-of-type {\n",
       "        vertical-align: middle;\n",
       "    }\n",
       "\n",
       "    .dataframe tbody tr th {\n",
       "        vertical-align: top;\n",
       "    }\n",
       "\n",
       "    .dataframe thead th {\n",
       "        text-align: right;\n",
       "    }\n",
       "</style>\n",
       "<table border=\"1\" class=\"dataframe\">\n",
       "  <thead>\n",
       "    <tr style=\"text-align: right;\">\n",
       "      <th></th>\n",
       "      <th>userID</th>\n",
       "      <th>assessmentItemID</th>\n",
       "      <th>testId</th>\n",
       "      <th>answerCode</th>\n",
       "      <th>Timestamp</th>\n",
       "      <th>KnowledgeTag</th>\n",
       "    </tr>\n",
       "  </thead>\n",
       "  <tbody>\n",
       "    <tr>\n",
       "      <th>1035</th>\n",
       "      <td>3</td>\n",
       "      <td>A050133008</td>\n",
       "      <td>A050000133</td>\n",
       "      <td>0.5</td>\n",
       "      <td>2020-10-26 13:13:57</td>\n",
       "      <td>5289</td>\n",
       "    </tr>\n",
       "    <tr>\n",
       "      <th>1706</th>\n",
       "      <td>4</td>\n",
       "      <td>A070146008</td>\n",
       "      <td>A070000146</td>\n",
       "      <td>0.5</td>\n",
       "      <td>2020-12-27 02:47:54</td>\n",
       "      <td>9080</td>\n",
       "    </tr>\n",
       "    <tr>\n",
       "      <th>3023</th>\n",
       "      <td>13</td>\n",
       "      <td>A070111008</td>\n",
       "      <td>A070000111</td>\n",
       "      <td>0.5</td>\n",
       "      <td>2020-12-27 04:35:09</td>\n",
       "      <td>9660</td>\n",
       "    </tr>\n",
       "    <tr>\n",
       "      <th>4283</th>\n",
       "      <td>17</td>\n",
       "      <td>A090064006</td>\n",
       "      <td>A090000064</td>\n",
       "      <td>0.5</td>\n",
       "      <td>2020-10-30 05:48:37</td>\n",
       "      <td>2611</td>\n",
       "    </tr>\n",
       "    <tr>\n",
       "      <th>4670</th>\n",
       "      <td>26</td>\n",
       "      <td>A060135007</td>\n",
       "      <td>A060000135</td>\n",
       "      <td>0.5</td>\n",
       "      <td>2020-10-23 11:44:18</td>\n",
       "      <td>1422</td>\n",
       "    </tr>\n",
       "    <tr>\n",
       "      <th>...</th>\n",
       "      <td>...</td>\n",
       "      <td>...</td>\n",
       "      <td>...</td>\n",
       "      <td>...</td>\n",
       "      <td>...</td>\n",
       "      <td>...</td>\n",
       "    </tr>\n",
       "    <tr>\n",
       "      <th>260052</th>\n",
       "      <td>7395</td>\n",
       "      <td>A040122005</td>\n",
       "      <td>A040000122</td>\n",
       "      <td>0.5</td>\n",
       "      <td>2020-09-08 02:05:20</td>\n",
       "      <td>10615</td>\n",
       "    </tr>\n",
       "    <tr>\n",
       "      <th>260067</th>\n",
       "      <td>7404</td>\n",
       "      <td>A030111005</td>\n",
       "      <td>A030000111</td>\n",
       "      <td>0.5</td>\n",
       "      <td>2020-10-13 09:49:18</td>\n",
       "      <td>7636</td>\n",
       "    </tr>\n",
       "    <tr>\n",
       "      <th>260082</th>\n",
       "      <td>7416</td>\n",
       "      <td>A050193004</td>\n",
       "      <td>A050000193</td>\n",
       "      <td>0.5</td>\n",
       "      <td>2020-10-04 02:44:41</td>\n",
       "      <td>10402</td>\n",
       "    </tr>\n",
       "    <tr>\n",
       "      <th>260097</th>\n",
       "      <td>7417</td>\n",
       "      <td>A050193004</td>\n",
       "      <td>A050000193</td>\n",
       "      <td>0.5</td>\n",
       "      <td>2020-09-06 13:09:15</td>\n",
       "      <td>10402</td>\n",
       "    </tr>\n",
       "    <tr>\n",
       "      <th>260113</th>\n",
       "      <td>7439</td>\n",
       "      <td>A040130005</td>\n",
       "      <td>A040000130</td>\n",
       "      <td>0.5</td>\n",
       "      <td>2020-10-14 23:10:03</td>\n",
       "      <td>8832</td>\n",
       "    </tr>\n",
       "  </tbody>\n",
       "</table>\n",
       "<p>744 rows × 6 columns</p>\n",
       "</div>"
      ],
      "text/plain": [
       "        userID assessmentItemID      testId  answerCode            Timestamp  \\\n",
       "1035         3       A050133008  A050000133         0.5  2020-10-26 13:13:57   \n",
       "1706         4       A070146008  A070000146         0.5  2020-12-27 02:47:54   \n",
       "3023        13       A070111008  A070000111         0.5  2020-12-27 04:35:09   \n",
       "4283        17       A090064006  A090000064         0.5  2020-10-30 05:48:37   \n",
       "4670        26       A060135007  A060000135         0.5  2020-10-23 11:44:18   \n",
       "...        ...              ...         ...         ...                  ...   \n",
       "260052    7395       A040122005  A040000122         0.5  2020-09-08 02:05:20   \n",
       "260067    7404       A030111005  A030000111         0.5  2020-10-13 09:49:18   \n",
       "260082    7416       A050193004  A050000193         0.5  2020-10-04 02:44:41   \n",
       "260097    7417       A050193004  A050000193         0.5  2020-09-06 13:09:15   \n",
       "260113    7439       A040130005  A040000130         0.5  2020-10-14 23:10:03   \n",
       "\n",
       "        KnowledgeTag  \n",
       "1035            5289  \n",
       "1706            9080  \n",
       "3023            9660  \n",
       "4283            2611  \n",
       "4670            1422  \n",
       "...              ...  \n",
       "260052         10615  \n",
       "260067          7636  \n",
       "260082         10402  \n",
       "260097         10402  \n",
       "260113          8832  \n",
       "\n",
       "[744 rows x 6 columns]"
      ]
     },
     "execution_count": 66,
     "metadata": {},
     "output_type": "execute_result"
    }
   ],
   "source": [
    "infer_df = data_old[data_old.answerCode == -1]\n",
    "infer_df.answerCode = 0.5\n",
    "infer_df"
   ]
  },
  {
   "cell_type": "code",
   "execution_count": 67,
   "id": "e1bcdf31",
   "metadata": {},
   "outputs": [
    {
     "name": "stdout",
     "output_type": "stream",
     "text": [
      "Processing Start\n",
      "Processing Complete\n",
      "Dump Start\n",
      "Dump Complete\n"
     ]
    }
   ],
   "source": [
    "outpath = f\"dataset/inference_data\"\n",
    "outfile = f\"dataset/inference_data/inference_data.inter\"\n",
    "yamlfile = f\"inference_data.yaml\"\n",
    "\n",
    "os.makedirs(outpath, exist_ok=True)\n",
    "\n",
    "print(\"Processing Start\")\n",
    "inter_table = []\n",
    "for user, item, acode, tstamp in zip(infer_df.userID, infer_df.assessmentItemID, infer_df.answerCode, infer_df.Timestamp):\n",
    "    uid, iid = id_2_index[user], id_2_index[item]\n",
    "    tval = int(time.mktime(datetime.datetime.strptime(tstamp, \"%Y-%m-%d %H:%M:%S\").timetuple()))\n",
    "    inter_table.append( [uid, iid, max(acode,0), tval] )\n",
    "\n",
    "print(\"Processing Complete\")\n",
    "\n",
    "print(\"Dump Start\")\n",
    "# 데이터 설정 파일 저장\n",
    "with open(yamlfile, \"w\") as f:\n",
    "    f.write(yamldata) \n",
    "\n",
    "# 데이터 파일 저장\n",
    "with open(outfile, \"w\") as f:\n",
    "    # write header\n",
    "    f.write(\"user_id:token\\titem_id:token\\trating:float\\ttimestamp:float\\n\")\n",
    "    for row in inter_table:\n",
    "        f.write(\"\\t\".join([str(x) for x in row])+\"\\n\")\n",
    "\n",
    "print(\"Dump Complete\")"
   ]
  },
  {
   "cell_type": "code",
   "execution_count": 68,
   "id": "47191c93",
   "metadata": {},
   "outputs": [
    {
     "name": "stderr",
     "output_type": "stream",
     "text": [
      "27 Apr 04:42    INFO  inference_data\n",
      "The number of users: 745\n",
      "Average actions of users: 1.0\n",
      "The number of items: 445\n",
      "Average actions of items: 1.6756756756756757\n",
      "The number of inters: 744\n",
      "The sparsity of the dataset: 99.77558253525375%\n",
      "Remain Fields: ['user_id', 'item_id', 'rating', 'timestamp']\n"
     ]
    }
   ],
   "source": [
    "# configurations initialization\n",
    "config = Config(model='LightGCN', dataset=\"inference_data\", config_file_list=[f'inference_data.yaml'])\n",
    "config['epochs'] = 1\n",
    "init_seed(config['seed'], config['reproducibility'])\n",
    "# logger initialization\n",
    "init_logger(config)\n",
    "\n",
    "# dataset filtering\n",
    "infer_dataset = create_dataset(config)\n",
    "logger.info(infer_dataset)"
   ]
  },
  {
   "cell_type": "code",
   "execution_count": 69,
   "id": "177d6c97",
   "metadata": {},
   "outputs": [],
   "source": [
    "# 성능 측정\n",
    "a_prob = model.predict(infer_dataset).tolist()\n",
    "#a_true = [val for val in infer_dataset.inter_feat[\"rating\"]]\n",
    "a_pred = [round(v) for v in a_prob] \n",
    "\n",
    "#print(\"Test data prediction\")\n",
    "#print(f\" - Accuracy = {100*accuracy_score(a_true, a_pred):.2f}%\")\n",
    "#print(f\" - ROC-AUC  = {100*roc_auc_score(a_true, a_prob):.2f}%\")"
   ]
  },
  {
   "cell_type": "code",
   "execution_count": 77,
   "id": "d7211863",
   "metadata": {},
   "outputs": [
    {
     "data": {
      "text/plain": [
       "5.834097862243652"
      ]
     },
     "execution_count": 77,
     "metadata": {},
     "output_type": "execute_result"
    }
   ],
   "source": [
    "max_v = max(a_prob)\n",
    "max_v"
   ]
  },
  {
   "cell_type": "code",
   "execution_count": 78,
   "id": "b56581f9",
   "metadata": {},
   "outputs": [
    {
     "data": {
      "text/plain": [
       "-2.2850594520568848"
      ]
     },
     "execution_count": 78,
     "metadata": {},
     "output_type": "execute_result"
    }
   ],
   "source": [
    "min_v = min(a_prob)\n",
    "min_v"
   ]
  },
  {
   "cell_type": "code",
   "execution_count": 80,
   "id": "d1a66962",
   "metadata": {},
   "outputs": [],
   "source": [
    "result = []\n",
    "for x in a_prob:\n",
    "    result.append((x - min_v) / (max_v - min_v))\n"
   ]
  },
  {
   "cell_type": "code",
   "execution_count": 84,
   "id": "f3baae80",
   "metadata": {},
   "outputs": [
    {
     "data": {
      "text/html": [
       "<div>\n",
       "<style scoped>\n",
       "    .dataframe tbody tr th:only-of-type {\n",
       "        vertical-align: middle;\n",
       "    }\n",
       "\n",
       "    .dataframe tbody tr th {\n",
       "        vertical-align: top;\n",
       "    }\n",
       "\n",
       "    .dataframe thead th {\n",
       "        text-align: right;\n",
       "    }\n",
       "</style>\n",
       "<table border=\"1\" class=\"dataframe\">\n",
       "  <thead>\n",
       "    <tr style=\"text-align: right;\">\n",
       "      <th></th>\n",
       "      <th>id</th>\n",
       "      <th>prediction</th>\n",
       "    </tr>\n",
       "  </thead>\n",
       "  <tbody>\n",
       "    <tr>\n",
       "      <th>0</th>\n",
       "      <td>0</td>\n",
       "      <td>0.5</td>\n",
       "    </tr>\n",
       "    <tr>\n",
       "      <th>1</th>\n",
       "      <td>1</td>\n",
       "      <td>0.5</td>\n",
       "    </tr>\n",
       "    <tr>\n",
       "      <th>2</th>\n",
       "      <td>2</td>\n",
       "      <td>0.5</td>\n",
       "    </tr>\n",
       "    <tr>\n",
       "      <th>3</th>\n",
       "      <td>3</td>\n",
       "      <td>0.5</td>\n",
       "    </tr>\n",
       "    <tr>\n",
       "      <th>4</th>\n",
       "      <td>4</td>\n",
       "      <td>0.5</td>\n",
       "    </tr>\n",
       "    <tr>\n",
       "      <th>...</th>\n",
       "      <td>...</td>\n",
       "      <td>...</td>\n",
       "    </tr>\n",
       "    <tr>\n",
       "      <th>739</th>\n",
       "      <td>739</td>\n",
       "      <td>0.5</td>\n",
       "    </tr>\n",
       "    <tr>\n",
       "      <th>740</th>\n",
       "      <td>740</td>\n",
       "      <td>0.5</td>\n",
       "    </tr>\n",
       "    <tr>\n",
       "      <th>741</th>\n",
       "      <td>741</td>\n",
       "      <td>0.5</td>\n",
       "    </tr>\n",
       "    <tr>\n",
       "      <th>742</th>\n",
       "      <td>742</td>\n",
       "      <td>0.5</td>\n",
       "    </tr>\n",
       "    <tr>\n",
       "      <th>743</th>\n",
       "      <td>743</td>\n",
       "      <td>0.5</td>\n",
       "    </tr>\n",
       "  </tbody>\n",
       "</table>\n",
       "<p>744 rows × 2 columns</p>\n",
       "</div>"
      ],
      "text/plain": [
       "      id  prediction\n",
       "0      0         0.5\n",
       "1      1         0.5\n",
       "2      2         0.5\n",
       "3      3         0.5\n",
       "4      4         0.5\n",
       "..   ...         ...\n",
       "739  739         0.5\n",
       "740  740         0.5\n",
       "741  741         0.5\n",
       "742  742         0.5\n",
       "743  743         0.5\n",
       "\n",
       "[744 rows x 2 columns]"
      ]
     },
     "execution_count": 84,
     "metadata": {},
     "output_type": "execute_result"
    }
   ],
   "source": [
    "submit = pd.read_csv('/opt/ml/input/data/sample_submission.csv')\n",
    "submit"
   ]
  },
  {
   "cell_type": "code",
   "execution_count": 85,
   "id": "c3fe01b6",
   "metadata": {},
   "outputs": [],
   "source": [
    "submit.prediction = result"
   ]
  },
  {
   "cell_type": "code",
   "execution_count": 89,
   "id": "ee6e13b7",
   "metadata": {},
   "outputs": [],
   "source": [
    "submit.to_csv('recbole_lightgcn.csv')"
   ]
  },
  {
   "cell_type": "code",
   "execution_count": null,
   "id": "1c406488",
   "metadata": {},
   "outputs": [],
   "source": []
  }
 ],
 "metadata": {
  "kernelspec": {
   "display_name": "Python 3 (ipykernel)",
   "language": "python",
   "name": "python3"
  },
  "language_info": {
   "codemirror_mode": {
    "name": "ipython",
    "version": 3
   },
   "file_extension": ".py",
   "mimetype": "text/x-python",
   "name": "python",
   "nbconvert_exporter": "python",
   "pygments_lexer": "ipython3",
   "version": "3.9.12"
  }
 },
 "nbformat": 4,
 "nbformat_minor": 5
}
