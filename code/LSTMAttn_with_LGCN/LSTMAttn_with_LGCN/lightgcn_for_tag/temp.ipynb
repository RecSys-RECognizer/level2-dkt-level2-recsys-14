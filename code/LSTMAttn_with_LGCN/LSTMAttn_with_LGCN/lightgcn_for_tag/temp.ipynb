{
 "cells": [
  {
   "cell_type": "code",
   "execution_count": 56,
   "metadata": {},
   "outputs": [],
   "source": [
    "import pickle\n",
    "import pandas as pd"
   ]
  },
  {
   "cell_type": "code",
   "execution_count": 57,
   "metadata": {},
   "outputs": [],
   "source": [
    "te= pd.read_csv('/opt/ml/input/data/new_test_data.csv')\n",
    "tr= pd.read_csv('/opt/ml/input/data/new_train_data.csv')"
   ]
  },
  {
   "cell_type": "code",
   "execution_count": 33,
   "metadata": {},
   "outputs": [],
   "source": [
    "with open('/opt/ml/input/code/dkt/dkt/lightgcn_for_tag/tag2index.pickle', 'rb') as fr:\n",
    "    id2idx = pickle.load(fr)"
   ]
  },
  {
   "cell_type": "code",
   "execution_count": 34,
   "metadata": {},
   "outputs": [
    {
     "data": {
      "text/plain": [
       "8354"
      ]
     },
     "execution_count": 34,
     "metadata": {},
     "output_type": "execute_result"
    }
   ],
   "source": [
    "len(id2idx)"
   ]
  },
  {
   "cell_type": "code",
   "execution_count": 37,
   "metadata": {},
   "outputs": [
    {
     "data": {
      "text/plain": [
       "8354"
      ]
     },
     "execution_count": 37,
     "metadata": {},
     "output_type": "execute_result"
    }
   ],
   "source": [
    "tt.userID.nunique() + 912"
   ]
  },
  {
   "cell_type": "code",
   "execution_count": 6,
   "metadata": {},
   "outputs": [],
   "source": [
    "tr=pd.read_csv('/opt/ml/input/data/train_data.csv')\n",
    "te= pd.read_csv('/opt/ml/input/data/test_data.csv')"
   ]
  },
  {
   "cell_type": "code",
   "execution_count": 8,
   "metadata": {},
   "outputs": [],
   "source": [
    "tt= pd.concat([tr,te], axis=0)"
   ]
  },
  {
   "cell_type": "code",
   "execution_count": 9,
   "metadata": {},
   "outputs": [
    {
     "data": {
      "text/plain": [
       "912"
      ]
     },
     "execution_count": 9,
     "metadata": {},
     "output_type": "execute_result"
    }
   ],
   "source": [
    "tt.KnowledgeTag.nunique()"
   ]
  },
  {
   "cell_type": "code",
   "execution_count": 21,
   "metadata": {},
   "outputs": [
    {
     "data": {
      "text/plain": [
       "912"
      ]
     },
     "execution_count": 21,
     "metadata": {},
     "output_type": "execute_result"
    }
   ],
   "source": [
    "tr.KnowledgeTag.nunique()"
   ]
  },
  {
   "cell_type": "code",
   "execution_count": 22,
   "metadata": {},
   "outputs": [
    {
     "data": {
      "text/plain": [
       "7442"
      ]
     },
     "execution_count": 22,
     "metadata": {},
     "output_type": "execute_result"
    }
   ],
   "source": [
    "tt.userID.nunique()"
   ]
  },
  {
   "cell_type": "code",
   "execution_count": 23,
   "metadata": {},
   "outputs": [
    {
     "data": {
      "text/plain": [
       "6698"
      ]
     },
     "execution_count": 23,
     "metadata": {},
     "output_type": "execute_result"
    }
   ],
   "source": [
    "tr.userID.nunique()"
   ]
  },
  {
   "cell_type": "code",
   "execution_count": 15,
   "metadata": {},
   "outputs": [],
   "source": [
    "tt= tt.astype({'KnowledgeTag':'str'})"
   ]
  },
  {
   "cell_type": "code",
   "execution_count": 16,
   "metadata": {},
   "outputs": [
    {
     "data": {
      "text/plain": [
       "0         7224\n",
       "1         7225\n",
       "2         7225\n",
       "3         7225\n",
       "4         7225\n",
       "          ... \n",
       "260109    8832\n",
       "260110    8832\n",
       "260111    8244\n",
       "260112    8244\n",
       "260113    8832\n",
       "Name: KnowledgeTag, Length: 2526700, dtype: object"
      ]
     },
     "execution_count": 16,
     "metadata": {},
     "output_type": "execute_result"
    }
   ],
   "source": [
    "tt.KnowledgeTag"
   ]
  },
  {
   "cell_type": "code",
   "execution_count": 17,
   "metadata": {},
   "outputs": [
    {
     "data": {
      "text/plain": [
       "0"
      ]
     },
     "execution_count": 17,
     "metadata": {},
     "output_type": "execute_result"
    }
   ],
   "source": [
    "sum(tr.answerCode==-1)"
   ]
  },
  {
   "cell_type": "code",
   "execution_count": 18,
   "metadata": {},
   "outputs": [
    {
     "data": {
      "text/plain": [
       "744"
      ]
     },
     "execution_count": 18,
     "metadata": {},
     "output_type": "execute_result"
    }
   ],
   "source": [
    "sum(te.answerCode==-1)"
   ]
  },
  {
   "cell_type": "code",
   "execution_count": 31,
   "metadata": {},
   "outputs": [
    {
     "data": {
      "text/html": [
       "<div>\n",
       "<style scoped>\n",
       "    .dataframe tbody tr th:only-of-type {\n",
       "        vertical-align: middle;\n",
       "    }\n",
       "\n",
       "    .dataframe tbody tr th {\n",
       "        vertical-align: top;\n",
       "    }\n",
       "\n",
       "    .dataframe thead th {\n",
       "        text-align: right;\n",
       "    }\n",
       "</style>\n",
       "<table border=\"1\" class=\"dataframe\">\n",
       "  <thead>\n",
       "    <tr style=\"text-align: right;\">\n",
       "      <th></th>\n",
       "      <th>userID</th>\n",
       "      <th>assessmentItemID</th>\n",
       "      <th>testId</th>\n",
       "      <th>answerCode</th>\n",
       "      <th>Timestamp</th>\n",
       "      <th>KnowledgeTag</th>\n",
       "    </tr>\n",
       "  </thead>\n",
       "  <tbody>\n",
       "    <tr>\n",
       "      <th>0</th>\n",
       "      <td>0</td>\n",
       "      <td>A060001001</td>\n",
       "      <td>A060000001</td>\n",
       "      <td>1</td>\n",
       "      <td>2020-03-24 00:17:11</td>\n",
       "      <td>7224</td>\n",
       "    </tr>\n",
       "    <tr>\n",
       "      <th>5</th>\n",
       "      <td>0</td>\n",
       "      <td>A060001007</td>\n",
       "      <td>A060000001</td>\n",
       "      <td>1</td>\n",
       "      <td>2020-03-24 00:17:47</td>\n",
       "      <td>7225</td>\n",
       "    </tr>\n",
       "    <tr>\n",
       "      <th>12</th>\n",
       "      <td>0</td>\n",
       "      <td>A060003007</td>\n",
       "      <td>A060000003</td>\n",
       "      <td>1</td>\n",
       "      <td>2020-03-26 05:54:11</td>\n",
       "      <td>7226</td>\n",
       "    </tr>\n",
       "    <tr>\n",
       "      <th>18</th>\n",
       "      <td>0</td>\n",
       "      <td>A060005006</td>\n",
       "      <td>A060000005</td>\n",
       "      <td>0</td>\n",
       "      <td>2020-03-31 05:05:14</td>\n",
       "      <td>7227</td>\n",
       "    </tr>\n",
       "    <tr>\n",
       "      <th>19</th>\n",
       "      <td>0</td>\n",
       "      <td>A060005007</td>\n",
       "      <td>A060000005</td>\n",
       "      <td>1</td>\n",
       "      <td>2020-03-31 05:05:48</td>\n",
       "      <td>7228</td>\n",
       "    </tr>\n",
       "    <tr>\n",
       "      <th>...</th>\n",
       "      <td>...</td>\n",
       "      <td>...</td>\n",
       "      <td>...</td>\n",
       "      <td>...</td>\n",
       "      <td>...</td>\n",
       "      <td>...</td>\n",
       "    </tr>\n",
       "    <tr>\n",
       "      <th>260097</th>\n",
       "      <td>7417</td>\n",
       "      <td>A050193004</td>\n",
       "      <td>A050000193</td>\n",
       "      <td>-1</td>\n",
       "      <td>2020-09-06 13:09:15</td>\n",
       "      <td>10402</td>\n",
       "    </tr>\n",
       "    <tr>\n",
       "      <th>260102</th>\n",
       "      <td>7439</td>\n",
       "      <td>A040003005</td>\n",
       "      <td>A040000003</td>\n",
       "      <td>0</td>\n",
       "      <td>2020-01-14 08:39:48</td>\n",
       "      <td>7268</td>\n",
       "    </tr>\n",
       "    <tr>\n",
       "      <th>260108</th>\n",
       "      <td>7439</td>\n",
       "      <td>A040197006</td>\n",
       "      <td>A040000197</td>\n",
       "      <td>1</td>\n",
       "      <td>2020-08-21 07:39:45</td>\n",
       "      <td>2132</td>\n",
       "    </tr>\n",
       "    <tr>\n",
       "      <th>260112</th>\n",
       "      <td>7439</td>\n",
       "      <td>A040130004</td>\n",
       "      <td>A040000130</td>\n",
       "      <td>1</td>\n",
       "      <td>2020-10-14 23:09:31</td>\n",
       "      <td>8244</td>\n",
       "    </tr>\n",
       "    <tr>\n",
       "      <th>260113</th>\n",
       "      <td>7439</td>\n",
       "      <td>A040130005</td>\n",
       "      <td>A040000130</td>\n",
       "      <td>-1</td>\n",
       "      <td>2020-10-14 23:10:03</td>\n",
       "      <td>8832</td>\n",
       "    </tr>\n",
       "  </tbody>\n",
       "</table>\n",
       "<p>492354 rows × 6 columns</p>\n",
       "</div>"
      ],
      "text/plain": [
       "        userID assessmentItemID      testId  answerCode            Timestamp  \\\n",
       "0            0       A060001001  A060000001           1  2020-03-24 00:17:11   \n",
       "5            0       A060001007  A060000001           1  2020-03-24 00:17:47   \n",
       "12           0       A060003007  A060000003           1  2020-03-26 05:54:11   \n",
       "18           0       A060005006  A060000005           0  2020-03-31 05:05:14   \n",
       "19           0       A060005007  A060000005           1  2020-03-31 05:05:48   \n",
       "...        ...              ...         ...         ...                  ...   \n",
       "260097    7417       A050193004  A050000193          -1  2020-09-06 13:09:15   \n",
       "260102    7439       A040003005  A040000003           0  2020-01-14 08:39:48   \n",
       "260108    7439       A040197006  A040000197           1  2020-08-21 07:39:45   \n",
       "260112    7439       A040130004  A040000130           1  2020-10-14 23:09:31   \n",
       "260113    7439       A040130005  A040000130          -1  2020-10-14 23:10:03   \n",
       "\n",
       "       KnowledgeTag  \n",
       "0              7224  \n",
       "5              7225  \n",
       "12             7226  \n",
       "18             7227  \n",
       "19             7228  \n",
       "...             ...  \n",
       "260097        10402  \n",
       "260102         7268  \n",
       "260108         2132  \n",
       "260112         8244  \n",
       "260113         8832  \n",
       "\n",
       "[492354 rows x 6 columns]"
      ]
     },
     "execution_count": 31,
     "metadata": {},
     "output_type": "execute_result"
    }
   ],
   "source": [
    "tt.drop_duplicates(\n",
    "        subset=[\"userID\", \"KnowledgeTag\"], keep=\"last\")"
   ]
  },
  {
   "cell_type": "code",
   "execution_count": 48,
   "metadata": {},
   "outputs": [],
   "source": [
    "import time\n",
    "from datetime import datetime"
   ]
  },
  {
   "cell_type": "code",
   "execution_count": 49,
   "metadata": {},
   "outputs": [],
   "source": [
    "def convert_time(s):\n",
    "    timestamp = time.mktime(\n",
    "        datetime.strptime(s, \"%Y-%m-%d %H:%M:%S\").timetuple()\n",
    "    )\n",
    "    return int(timestamp)\n",
    "\n",
    "tr[\"Timestamp\"] = tr[\"Timestamp\"].apply(convert_time)"
   ]
  },
  {
   "cell_type": "code",
   "execution_count": 50,
   "metadata": {},
   "outputs": [
    {
     "data": {
      "text/html": [
       "<div>\n",
       "<style scoped>\n",
       "    .dataframe tbody tr th:only-of-type {\n",
       "        vertical-align: middle;\n",
       "    }\n",
       "\n",
       "    .dataframe tbody tr th {\n",
       "        vertical-align: top;\n",
       "    }\n",
       "\n",
       "    .dataframe thead th {\n",
       "        text-align: right;\n",
       "    }\n",
       "</style>\n",
       "<table border=\"1\" class=\"dataframe\">\n",
       "  <thead>\n",
       "    <tr style=\"text-align: right;\">\n",
       "      <th></th>\n",
       "      <th>userID</th>\n",
       "      <th>assessmentItemID</th>\n",
       "      <th>testId</th>\n",
       "      <th>answerCode</th>\n",
       "      <th>Timestamp</th>\n",
       "      <th>KnowledgeTag</th>\n",
       "    </tr>\n",
       "  </thead>\n",
       "  <tbody>\n",
       "    <tr>\n",
       "      <th>0</th>\n",
       "      <td>0</td>\n",
       "      <td>A060001001</td>\n",
       "      <td>A060000001</td>\n",
       "      <td>1</td>\n",
       "      <td>1585009031</td>\n",
       "      <td>7224</td>\n",
       "    </tr>\n",
       "    <tr>\n",
       "      <th>1</th>\n",
       "      <td>0</td>\n",
       "      <td>A060001002</td>\n",
       "      <td>A060000001</td>\n",
       "      <td>1</td>\n",
       "      <td>1585009034</td>\n",
       "      <td>7225</td>\n",
       "    </tr>\n",
       "    <tr>\n",
       "      <th>2</th>\n",
       "      <td>0</td>\n",
       "      <td>A060001003</td>\n",
       "      <td>A060000001</td>\n",
       "      <td>1</td>\n",
       "      <td>1585009042</td>\n",
       "      <td>7225</td>\n",
       "    </tr>\n",
       "    <tr>\n",
       "      <th>3</th>\n",
       "      <td>0</td>\n",
       "      <td>A060001004</td>\n",
       "      <td>A060000001</td>\n",
       "      <td>1</td>\n",
       "      <td>1585009049</td>\n",
       "      <td>7225</td>\n",
       "    </tr>\n",
       "    <tr>\n",
       "      <th>4</th>\n",
       "      <td>0</td>\n",
       "      <td>A060001005</td>\n",
       "      <td>A060000001</td>\n",
       "      <td>1</td>\n",
       "      <td>1585009056</td>\n",
       "      <td>7225</td>\n",
       "    </tr>\n",
       "    <tr>\n",
       "      <th>...</th>\n",
       "      <td>...</td>\n",
       "      <td>...</td>\n",
       "      <td>...</td>\n",
       "      <td>...</td>\n",
       "      <td>...</td>\n",
       "      <td>...</td>\n",
       "    </tr>\n",
       "    <tr>\n",
       "      <th>2266581</th>\n",
       "      <td>7441</td>\n",
       "      <td>A030071005</td>\n",
       "      <td>A030000071</td>\n",
       "      <td>0</td>\n",
       "      <td>1591339821</td>\n",
       "      <td>438</td>\n",
       "    </tr>\n",
       "    <tr>\n",
       "      <th>2266582</th>\n",
       "      <td>7441</td>\n",
       "      <td>A040165001</td>\n",
       "      <td>A040000165</td>\n",
       "      <td>1</td>\n",
       "      <td>1597971999</td>\n",
       "      <td>8836</td>\n",
       "    </tr>\n",
       "    <tr>\n",
       "      <th>2266583</th>\n",
       "      <td>7441</td>\n",
       "      <td>A040165002</td>\n",
       "      <td>A040000165</td>\n",
       "      <td>1</td>\n",
       "      <td>1597972010</td>\n",
       "      <td>8836</td>\n",
       "    </tr>\n",
       "    <tr>\n",
       "      <th>2266584</th>\n",
       "      <td>7441</td>\n",
       "      <td>A040165003</td>\n",
       "      <td>A040000165</td>\n",
       "      <td>1</td>\n",
       "      <td>1597972056</td>\n",
       "      <td>8836</td>\n",
       "    </tr>\n",
       "    <tr>\n",
       "      <th>2266585</th>\n",
       "      <td>7441</td>\n",
       "      <td>A040165004</td>\n",
       "      <td>A040000165</td>\n",
       "      <td>1</td>\n",
       "      <td>1597972129</td>\n",
       "      <td>8836</td>\n",
       "    </tr>\n",
       "  </tbody>\n",
       "</table>\n",
       "<p>2266586 rows × 6 columns</p>\n",
       "</div>"
      ],
      "text/plain": [
       "         userID assessmentItemID      testId  answerCode   Timestamp  \\\n",
       "0             0       A060001001  A060000001           1  1585009031   \n",
       "1             0       A060001002  A060000001           1  1585009034   \n",
       "2             0       A060001003  A060000001           1  1585009042   \n",
       "3             0       A060001004  A060000001           1  1585009049   \n",
       "4             0       A060001005  A060000001           1  1585009056   \n",
       "...         ...              ...         ...         ...         ...   \n",
       "2266581    7441       A030071005  A030000071           0  1591339821   \n",
       "2266582    7441       A040165001  A040000165           1  1597971999   \n",
       "2266583    7441       A040165002  A040000165           1  1597972010   \n",
       "2266584    7441       A040165003  A040000165           1  1597972056   \n",
       "2266585    7441       A040165004  A040000165           1  1597972129   \n",
       "\n",
       "         KnowledgeTag  \n",
       "0                7224  \n",
       "1                7225  \n",
       "2                7225  \n",
       "3                7225  \n",
       "4                7225  \n",
       "...               ...  \n",
       "2266581           438  \n",
       "2266582          8836  \n",
       "2266583          8836  \n",
       "2266584          8836  \n",
       "2266585          8836  \n",
       "\n",
       "[2266586 rows x 6 columns]"
      ]
     },
     "execution_count": 50,
     "metadata": {},
     "output_type": "execute_result"
    }
   ],
   "source": [
    "tr"
   ]
  },
  {
   "cell_type": "code",
   "execution_count": 51,
   "metadata": {},
   "outputs": [],
   "source": [
    "tr['diff'] =tr.sort_values(['userID','Timestamp']).groupby('userID')['Timestamp'].diff(periods=-1).apply(abs)"
   ]
  },
  {
   "cell_type": "code",
   "execution_count": 55,
   "metadata": {},
   "outputs": [
    {
     "data": {
      "text/plain": [
       "0           True\n",
       "1           True\n",
       "2           True\n",
       "3           True\n",
       "4           True\n",
       "           ...  \n",
       "2266581     True\n",
       "2266582     True\n",
       "2266583     True\n",
       "2266584     True\n",
       "2266585    False\n",
       "Name: diff, Length: 2266586, dtype: bool"
      ]
     },
     "execution_count": 55,
     "metadata": {},
     "output_type": "execute_result"
    }
   ],
   "source": [
    "tr['diff'] > 0"
   ]
  },
  {
   "cell_type": "code",
   "execution_count": 53,
   "metadata": {},
   "outputs": [
    {
     "data": {
      "text/html": [
       "<div>\n",
       "<style scoped>\n",
       "    .dataframe tbody tr th:only-of-type {\n",
       "        vertical-align: middle;\n",
       "    }\n",
       "\n",
       "    .dataframe tbody tr th {\n",
       "        vertical-align: top;\n",
       "    }\n",
       "\n",
       "    .dataframe thead th {\n",
       "        text-align: right;\n",
       "    }\n",
       "</style>\n",
       "<table border=\"1\" class=\"dataframe\">\n",
       "  <thead>\n",
       "    <tr style=\"text-align: right;\">\n",
       "      <th></th>\n",
       "      <th>userID</th>\n",
       "      <th>assessmentItemID</th>\n",
       "      <th>testId</th>\n",
       "      <th>answerCode</th>\n",
       "      <th>Timestamp</th>\n",
       "      <th>KnowledgeTag</th>\n",
       "      <th>diff</th>\n",
       "    </tr>\n",
       "  </thead>\n",
       "  <tbody>\n",
       "    <tr>\n",
       "      <th>0</th>\n",
       "      <td>0</td>\n",
       "      <td>A060001001</td>\n",
       "      <td>A060000001</td>\n",
       "      <td>1</td>\n",
       "      <td>1585009031</td>\n",
       "      <td>7224</td>\n",
       "      <td>3.0</td>\n",
       "    </tr>\n",
       "    <tr>\n",
       "      <th>1</th>\n",
       "      <td>0</td>\n",
       "      <td>A060001002</td>\n",
       "      <td>A060000001</td>\n",
       "      <td>1</td>\n",
       "      <td>1585009034</td>\n",
       "      <td>7225</td>\n",
       "      <td>8.0</td>\n",
       "    </tr>\n",
       "    <tr>\n",
       "      <th>2</th>\n",
       "      <td>0</td>\n",
       "      <td>A060001003</td>\n",
       "      <td>A060000001</td>\n",
       "      <td>1</td>\n",
       "      <td>1585009042</td>\n",
       "      <td>7225</td>\n",
       "      <td>7.0</td>\n",
       "    </tr>\n",
       "    <tr>\n",
       "      <th>3</th>\n",
       "      <td>0</td>\n",
       "      <td>A060001004</td>\n",
       "      <td>A060000001</td>\n",
       "      <td>1</td>\n",
       "      <td>1585009049</td>\n",
       "      <td>7225</td>\n",
       "      <td>7.0</td>\n",
       "    </tr>\n",
       "    <tr>\n",
       "      <th>4</th>\n",
       "      <td>0</td>\n",
       "      <td>A060001005</td>\n",
       "      <td>A060000001</td>\n",
       "      <td>1</td>\n",
       "      <td>1585009056</td>\n",
       "      <td>7225</td>\n",
       "      <td>11.0</td>\n",
       "    </tr>\n",
       "    <tr>\n",
       "      <th>...</th>\n",
       "      <td>...</td>\n",
       "      <td>...</td>\n",
       "      <td>...</td>\n",
       "      <td>...</td>\n",
       "      <td>...</td>\n",
       "      <td>...</td>\n",
       "      <td>...</td>\n",
       "    </tr>\n",
       "    <tr>\n",
       "      <th>2266581</th>\n",
       "      <td>7441</td>\n",
       "      <td>A030071005</td>\n",
       "      <td>A030000071</td>\n",
       "      <td>0</td>\n",
       "      <td>1591339821</td>\n",
       "      <td>438</td>\n",
       "      <td>6632178.0</td>\n",
       "    </tr>\n",
       "    <tr>\n",
       "      <th>2266582</th>\n",
       "      <td>7441</td>\n",
       "      <td>A040165001</td>\n",
       "      <td>A040000165</td>\n",
       "      <td>1</td>\n",
       "      <td>1597971999</td>\n",
       "      <td>8836</td>\n",
       "      <td>11.0</td>\n",
       "    </tr>\n",
       "    <tr>\n",
       "      <th>2266583</th>\n",
       "      <td>7441</td>\n",
       "      <td>A040165002</td>\n",
       "      <td>A040000165</td>\n",
       "      <td>1</td>\n",
       "      <td>1597972010</td>\n",
       "      <td>8836</td>\n",
       "      <td>46.0</td>\n",
       "    </tr>\n",
       "    <tr>\n",
       "      <th>2266584</th>\n",
       "      <td>7441</td>\n",
       "      <td>A040165003</td>\n",
       "      <td>A040000165</td>\n",
       "      <td>1</td>\n",
       "      <td>1597972056</td>\n",
       "      <td>8836</td>\n",
       "      <td>73.0</td>\n",
       "    </tr>\n",
       "    <tr>\n",
       "      <th>2266585</th>\n",
       "      <td>7441</td>\n",
       "      <td>A040165004</td>\n",
       "      <td>A040000165</td>\n",
       "      <td>1</td>\n",
       "      <td>1597972129</td>\n",
       "      <td>8836</td>\n",
       "      <td>NaN</td>\n",
       "    </tr>\n",
       "  </tbody>\n",
       "</table>\n",
       "<p>2266586 rows × 7 columns</p>\n",
       "</div>"
      ],
      "text/plain": [
       "         userID assessmentItemID      testId  answerCode   Timestamp  \\\n",
       "0             0       A060001001  A060000001           1  1585009031   \n",
       "1             0       A060001002  A060000001           1  1585009034   \n",
       "2             0       A060001003  A060000001           1  1585009042   \n",
       "3             0       A060001004  A060000001           1  1585009049   \n",
       "4             0       A060001005  A060000001           1  1585009056   \n",
       "...         ...              ...         ...         ...         ...   \n",
       "2266581    7441       A030071005  A030000071           0  1591339821   \n",
       "2266582    7441       A040165001  A040000165           1  1597971999   \n",
       "2266583    7441       A040165002  A040000165           1  1597972010   \n",
       "2266584    7441       A040165003  A040000165           1  1597972056   \n",
       "2266585    7441       A040165004  A040000165           1  1597972129   \n",
       "\n",
       "         KnowledgeTag       diff  \n",
       "0                7224        3.0  \n",
       "1                7225        8.0  \n",
       "2                7225        7.0  \n",
       "3                7225        7.0  \n",
       "4                7225       11.0  \n",
       "...               ...        ...  \n",
       "2266581           438  6632178.0  \n",
       "2266582          8836       11.0  \n",
       "2266583          8836       46.0  \n",
       "2266584          8836       73.0  \n",
       "2266585          8836        NaN  \n",
       "\n",
       "[2266586 rows x 7 columns]"
      ]
     },
     "execution_count": 53,
     "metadata": {},
     "output_type": "execute_result"
    }
   ],
   "source": [
    "user_start_pos = tr['diff'] > 0\n",
    "train_df_temp['previous_answer_count'] = train_df_temp.groupby('userID')['answerCode'].cumsum().shift(fill_value=0)\n",
    "train_df_temp['shift_previous_answer_count'] = train_df_temp.groupby('userID')['answerCode'].cumsum().shift(fill_value=0)\n",
    "train_df_temp.loc[user_start_pos, ['previous_answer_count', 'shift_previous_answer_count']] = 0\n",
    "train_df_temp['shift_previous_answer_count'] = train_df_temp['shift_previous_answer_count'].shift(shift_size)\n",
    "train_df_temp['temp'] = len(train_df_temp) * [1]\n",
    "train_df_temp['previous_problem_count'] = train_df_temp.groupby('userID')['temp'].cumsum().shift(fill_value=0)\n",
    "train_df_temp['previous_problem_count'] = train_df_temp['previous_problem_count'].apply(lambda x: shift_size if x > shift_size else x)\n",
    "train_df_temp.loc[user_start_pos, ['previous_problem_count']] = 0\n",
    "\n",
    "train_df_temp['shift_previous_answer_count'] = train_df_temp.apply(lambda x: 0 if x['previous_problem_count'] < shift_size else x['shift_previous_answer_count'], axis=1)\n",
    "train_df_temp['count'] = train_df_temp['previous_answer_count'] - train_df_temp['shift_previous_answer_count']\n",
    "train_df['user_recent_acc'] = (train_df_temp['count'] / train_df_temp['previous_problem_count']).fillna(0)"
   ]
  },
  {
   "cell_type": "code",
   "execution_count": null,
   "metadata": {},
   "outputs": [],
   "source": []
  }
 ],
 "metadata": {
  "kernelspec": {
   "display_name": "Python 3.8.5 ('base')",
   "language": "python",
   "name": "python3"
  },
  "language_info": {
   "codemirror_mode": {
    "name": "ipython",
    "version": 3
   },
   "file_extension": ".py",
   "mimetype": "text/x-python",
   "name": "python",
   "nbconvert_exporter": "python",
   "pygments_lexer": "ipython3",
   "version": "3.8.5"
  },
  "orig_nbformat": 4,
  "vscode": {
   "interpreter": {
    "hash": "d4d1e4263499bec80672ea0156c357c1ee493ec2b1c70f0acce89fc37c4a6abe"
   }
  }
 },
 "nbformat": 4,
 "nbformat_minor": 2
}
